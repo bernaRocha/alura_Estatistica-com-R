{
  "cells": [
    {
      "cell_type": "markdown",
      "metadata": {
        "id": "WvMflodMjQKe"
      },
      "source": [
        "***\n",
        "# <font color=green size=10>CURSO DE ESTATÍSTICA - PARTE 1</font>\n",
        "***"
      ]
    },
    {
      "cell_type": "markdown",
      "metadata": {
        "id": "cVgsZ_E3jQKg"
      },
      "source": [
        "# <font color=green>1 CONHECENDO OS DADOS</font>\n",
        "***"
      ]
    },
    {
      "cell_type": "markdown",
      "metadata": {
        "id": "TDjqYYNojQKh"
      },
      "source": [
        "## <font color=green>1.1 Dataset do projeto</font>\n",
        "***"
      ]
    },
    {
      "cell_type": "markdown",
      "metadata": {
        "id": "iN1gIbaKjQKh"
      },
      "source": [
        "### Pesquisa Nacional por Amostra de Domicílios - 2015\n",
        "\n",
        "A <b>Pesquisa Nacional por Amostra de Domicílios - PNAD</b> investiga anualmente, de forma permanente, características gerais da população, de educação, trabalho, rendimento e habitação e outras, com periodicidade variável, de acordo com as necessidades de informação para o país, como as características sobre migração, fecundidade, nupcialidade, saúde, segurança alimentar, entre outros temas. O levantamento dessas estatísticas constitui, ao longo dos 49 anos de realização da pesquisa, um importante instrumento para formulação, validação e avaliação de políticas orientadas para o desenvolvimento socioeconômico e a melhoria das condições de vida no Brasil."
      ]
    },
    {
      "cell_type": "markdown",
      "metadata": {
        "id": "U6V7br1RjQKi"
      },
      "source": [
        "### Fonte dos Dados\n",
        "\n",
        "https://ww2.ibge.gov.br/home/estatistica/populacao/trabalhoerendimento/pnad2015/microdados.shtm"
      ]
    },
    {
      "cell_type": "markdown",
      "metadata": {
        "id": "r0Fe_qnzjQKj"
      },
      "source": [
        "### Variáveis utilizadas\n",
        "\n",
        "> ### Renda\n",
        "> ***\n",
        "\n",
        "Rendimento mensal do trabalho principal para pessoas de 10 anos ou mais de idade.\n",
        "\n",
        "> ### Idade\n",
        "> ***\n",
        "\n",
        "Idade do morador na data de referência em anos.\n",
        "\n",
        "> ### Altura (elaboração própria)\n",
        "> ***\n",
        "\n",
        "Altura do morador em metros.\n",
        "\n",
        "> ### UF\n",
        "> ***\n",
        "\n",
        "|Código|Descrição|\n",
        "|---|---|\n",
        "|11|Rondônia|\n",
        "|12|Acre|\n",
        "|13|Amazonas|\n",
        "|14|Roraima|\n",
        "|15|Pará|\n",
        "|16|Amapá|\n",
        "|17|Tocantins|\n",
        "|21|Maranhão|\n",
        "|22|Piauí|\n",
        "|23|Ceará|\n",
        "|24|Rio Grande do Norte|\n",
        "|25|Paraíba|\n",
        "|26|Pernambuco|\n",
        "|27|Alagoas|\n",
        "|28|Sergipe|\n",
        "|29|Bahia|\n",
        "|31|Minas Gerais|\n",
        "|32|Espírito Santo|\n",
        "|33|Rio de Janeiro|\n",
        "|35|São Paulo|\n",
        "|41|Paraná|\n",
        "|42|Santa Catarina|\n",
        "|43|Rio Grande do Sul|\n",
        "|50|Mato Grosso do Sul|\n",
        "|51|Mato Grosso|\n",
        "|52|Goiás|\n",
        "|53|Distrito Federal|\n",
        "\n",
        "> ### Sexo\t\n",
        "> ***\n",
        "\n",
        "|Código|Descrição|\n",
        "|---|---|\n",
        "|0|Masculino|\n",
        "|1|Feminino|\n",
        "\n",
        "> ### Anos de Estudo\n",
        "> ***\n",
        "\n",
        "|Código|Descrição|\n",
        "|---|---|\n",
        "|1|Sem instrução e menos de 1 ano|\n",
        "|2|1 ano|\n",
        "|3|2 anos|\n",
        "|4|3 anos|\n",
        "|5|4 anos|\n",
        "|6|5 anos|\n",
        "|7|6 anos|\n",
        "|8|7 anos|\n",
        "|9|8 anos|\n",
        "|10|9 anos|\n",
        "|11|10 anos|\n",
        "|12|11 anos|\n",
        "|13|12 anos|\n",
        "|14|13 anos|\n",
        "|15|14 anos|\n",
        "|16|15 anos ou mais|\n",
        "|17|Não determinados| \n",
        "||Não aplicável|\n",
        "\n",
        "> ### Cor\n",
        "> ***\n",
        "\n",
        "|Código|Descrição|\n",
        "|---|---|\n",
        "|0|Indígena|\n",
        "|2|Branca|\n",
        "|4|Preta|\n",
        "|6|Amarela|\n",
        "|8|Parda|\n",
        "|9|Sem declaração|"
      ]
    },
    {
      "cell_type": "markdown",
      "metadata": {
        "id": "OK1IQH5cX7Gb"
      },
      "source": [
        "#### <font color='red'>Observação</font>\n",
        "***\n",
        "> Os seguintes tratamentos foram realizados nos dados originais:\n",
        "> 1. Foram eliminados os registros onde a <b>Renda</b> era inválida (999 999 999 999);\n",
        "> 2. Foram eliminados os registros onde a <b>Renda</b> era missing;\n",
        "> 3. Foram considerados somente os registros das <b>Pessoas de Referência</b> de cada domicílio (responsável pelo domicílio)."
      ]
    },
    {
      "cell_type": "markdown",
      "metadata": {
        "id": "UiiIIKlBrpKL"
      },
      "source": [
        "### R (informações básicas)"
      ]
    },
    {
      "cell_type": "code",
      "execution_count": null,
      "metadata": {
        "colab": {
          "base_uri": "https://localhost:8080/",
          "height": 469
        },
        "id": "j5AO5kj3rpKM",
        "outputId": "52b1f811-005b-4b08-b149-595764c1e199"
      },
      "outputs": [
        {
          "data": {
            "text/plain": [
              "R version 4.2.1 (2022-06-23)\n",
              "Platform: x86_64-pc-linux-gnu (64-bit)\n",
              "Running under: Ubuntu 18.04.6 LTS\n",
              "\n",
              "Matrix products: default\n",
              "BLAS:   /usr/lib/x86_64-linux-gnu/openblas/libblas.so.3\n",
              "LAPACK: /usr/lib/x86_64-linux-gnu/libopenblasp-r0.2.20.so\n",
              "\n",
              "locale:\n",
              " [1] LC_CTYPE=en_US.UTF-8       LC_NUMERIC=C              \n",
              " [3] LC_TIME=en_US.UTF-8        LC_COLLATE=en_US.UTF-8    \n",
              " [5] LC_MONETARY=en_US.UTF-8    LC_MESSAGES=en_US.UTF-8   \n",
              " [7] LC_PAPER=en_US.UTF-8       LC_NAME=C                 \n",
              " [9] LC_ADDRESS=C               LC_TELEPHONE=C            \n",
              "[11] LC_MEASUREMENT=en_US.UTF-8 LC_IDENTIFICATION=C       \n",
              "\n",
              "attached base packages:\n",
              "[1] stats     graphics  grDevices utils     datasets  methods   base     \n",
              "\n",
              "loaded via a namespace (and not attached):\n",
              " [1] fansi_1.0.3     crayon_1.5.2    digest_0.6.29   utf8_1.2.2     \n",
              " [5] IRdisplay_1.1   repr_1.1.4      lifecycle_1.0.3 jsonlite_1.8.2 \n",
              " [9] evaluate_0.17   pillar_1.8.1    rlang_1.0.6     cli_3.4.1      \n",
              "[13] uuid_1.1-0      vctrs_0.4.2     IRkernel_1.3    tools_4.2.1    \n",
              "[17] glue_1.6.2      fastmap_1.1.0   compiler_4.2.1  base64enc_0.1-3\n",
              "[21] pbdZMQ_0.3-8    htmltools_0.5.3"
            ]
          },
          "metadata": {},
          "output_type": "display_data"
        }
      ],
      "source": [
        "sessionInfo()"
      ]
    },
    {
      "cell_type": "markdown",
      "metadata": {
        "id": "ywOEh4n3rpKO"
      },
      "source": [
        "### Importando bibliotecas \n",
        "#### A bilioteca dplyr\n",
        "https://www.rdocumentation.org/packages/dplyr"
      ]
    },
    {
      "cell_type": "code",
      "execution_count": null,
      "metadata": {
        "colab": {
          "base_uri": "https://localhost:8080/"
        },
        "id": "KE4BtdtmrpKO",
        "outputId": "45e5b7cb-ad96-4052-9ab7-2d716a6473a1",
        "scrolled": false
      },
      "outputs": [
        {
          "name": "stderr",
          "output_type": "stream",
          "text": [
            "\n",
            "Attaching package: ‘dplyr’\n",
            "\n",
            "\n",
            "The following objects are masked from ‘package:stats’:\n",
            "\n",
            "    filter, lag\n",
            "\n",
            "\n",
            "The following objects are masked from ‘package:base’:\n",
            "\n",
            "    intersect, setdiff, setequal, union\n",
            "\n",
            "\n"
          ]
        }
      ],
      "source": [
        "library(dplyr)\n",
        "# ajuda com pacotes"
      ]
    },
    {
      "cell_type": "markdown",
      "metadata": {
        "id": "KSEynzHCrpKP"
      },
      "source": [
        "### <font color=red>Documentações:\n",
        "\n",
        "- [**select**](https://www.rdocumentation.org/packages/dplyr/versions/0.7.8/topics/select)\n",
        "- [**arrange**](https://www.rdocumentation.org/packages/dplyr/versions/0.7.8/topics/arrange)\n",
        "- [**read.csv**](https://www.rdocumentation.org/packages/utils/versions/3.6.1/topics/read.table)\n",
        "- [**head**](https://www.rdocumentation.org/packages/utils/versions/3.6.1/topics/head)"
      ]
    },
    {
      "cell_type": "markdown",
      "metadata": {
        "id": "GYGFhB8wrpKP"
      },
      "source": [
        "### Acessando a ajuda"
      ]
    },
    {
      "cell_type": "code",
      "execution_count": null,
      "metadata": {
        "id": "gc5bslDqrpKQ"
      },
      "outputs": [],
      "source": [
        "?select\n",
        "# ? comando"
      ]
    },
    {
      "cell_type": "code",
      "execution_count": null,
      "metadata": {
        "id": "B2il0xt8rpKQ"
      },
      "outputs": [],
      "source": [
        "?arrange"
      ]
    },
    {
      "cell_type": "markdown",
      "metadata": {
        "id": "8Rw70V6ojQKk"
      },
      "source": [
        "---\n",
        "### Importando o dataset do projeto"
      ]
    },
    {
      "cell_type": "code",
      "execution_count": null,
      "metadata": {
        "id": "8QgOpE-wjQKl"
      },
      "outputs": [],
      "source": [
        "# pode ser = OU <-\n",
        "dados <- read.csv('dados.csv')"
      ]
    },
    {
      "cell_type": "code",
      "execution_count": null,
      "metadata": {
        "colab": {
          "base_uri": "https://localhost:8080/",
          "height": 1000
        },
        "id": "ufRZ7TLwjQKo",
        "outputId": "5abaa004-8287-41e8-bd02-d9f93c8a2fde",
        "scrolled": true
      },
      "outputs": [
        {
          "data": {
            "text/html": [
              "<table class=\"dataframe\">\n",
              "<caption>A data.frame: 76840 × 7</caption>\n",
              "<thead>\n",
              "\t<tr><th scope=col>UF</th><th scope=col>Sexo</th><th scope=col>Idade</th><th scope=col>Cor</th><th scope=col>Anos.de.Estudo</th><th scope=col>Renda</th><th scope=col>Altura</th></tr>\n",
              "\t<tr><th scope=col>&lt;int&gt;</th><th scope=col>&lt;int&gt;</th><th scope=col>&lt;int&gt;</th><th scope=col>&lt;int&gt;</th><th scope=col>&lt;int&gt;</th><th scope=col>&lt;int&gt;</th><th scope=col>&lt;dbl&gt;</th></tr>\n",
              "</thead>\n",
              "<tbody>\n",
              "\t<tr><td>11</td><td>0</td><td>23</td><td>8</td><td>12</td><td> 800</td><td>1.603808</td></tr>\n",
              "\t<tr><td>11</td><td>1</td><td>23</td><td>2</td><td>12</td><td>1150</td><td>1.739790</td></tr>\n",
              "\t<tr><td>11</td><td>1</td><td>35</td><td>8</td><td>15</td><td> 880</td><td>1.760444</td></tr>\n",
              "\t<tr><td>11</td><td>0</td><td>46</td><td>2</td><td> 6</td><td>3500</td><td>1.783158</td></tr>\n",
              "\t<tr><td>11</td><td>1</td><td>47</td><td>8</td><td> 9</td><td> 150</td><td>1.690631</td></tr>\n",
              "\t<tr><td>11</td><td>1</td><td>34</td><td>8</td><td>12</td><td> 790</td><td>1.637906</td></tr>\n",
              "\t<tr><td>11</td><td>0</td><td>57</td><td>8</td><td>12</td><td>3150</td><td>1.570078</td></tr>\n",
              "\t<tr><td>11</td><td>1</td><td>60</td><td>8</td><td>12</td><td>1700</td><td>1.608495</td></tr>\n",
              "\t<tr><td>11</td><td>1</td><td>50</td><td>4</td><td>14</td><td>1800</td><td>1.780329</td></tr>\n",
              "\t<tr><td>11</td><td>0</td><td>26</td><td>8</td><td>12</td><td>1150</td><td>1.793203</td></tr>\n",
              "\t<tr><td>11</td><td>1</td><td>46</td><td>8</td><td>12</td><td>3000</td><td>1.787003</td></tr>\n",
              "\t<tr><td>11</td><td>1</td><td>49</td><td>8</td><td> 6</td><td>2500</td><td>1.712912</td></tr>\n",
              "\t<tr><td>11</td><td>1</td><td>52</td><td>2</td><td> 6</td><td>1200</td><td>1.736442</td></tr>\n",
              "\t<tr><td>11</td><td>0</td><td>38</td><td>8</td><td>12</td><td>2000</td><td>1.750827</td></tr>\n",
              "\t<tr><td>11</td><td>0</td><td>45</td><td>2</td><td>12</td><td>2000</td><td>1.780450</td></tr>\n",
              "\t<tr><td>11</td><td>0</td><td>34</td><td>2</td><td>16</td><td>6000</td><td>1.711825</td></tr>\n",
              "\t<tr><td>11</td><td>1</td><td>43</td><td>8</td><td>10</td><td>1050</td><td>1.789012</td></tr>\n",
              "\t<tr><td>11</td><td>0</td><td>53</td><td>8</td><td>16</td><td>7000</td><td>1.673665</td></tr>\n",
              "\t<tr><td>11</td><td>0</td><td>57</td><td>2</td><td>12</td><td>2000</td><td>1.715138</td></tr>\n",
              "\t<tr><td>11</td><td>1</td><td>62</td><td>8</td><td>12</td><td>1150</td><td>1.765973</td></tr>\n",
              "\t<tr><td>11</td><td>0</td><td>69</td><td>8</td><td> 1</td><td>3030</td><td>1.746351</td></tr>\n",
              "\t<tr><td>11</td><td>1</td><td>41</td><td>8</td><td>16</td><td>4000</td><td>1.660873</td></tr>\n",
              "\t<tr><td>11</td><td>0</td><td>34</td><td>8</td><td> 5</td><td> 788</td><td>1.746048</td></tr>\n",
              "\t<tr><td>11</td><td>0</td><td>25</td><td>8</td><td>12</td><td>1000</td><td>1.726496</td></tr>\n",
              "\t<tr><td>11</td><td>0</td><td>33</td><td>8</td><td> 9</td><td> 800</td><td>1.778914</td></tr>\n",
              "\t<tr><td>11</td><td>1</td><td>44</td><td>8</td><td> 5</td><td> 788</td><td>1.668638</td></tr>\n",
              "\t<tr><td>11</td><td>0</td><td>33</td><td>2</td><td>16</td><td>1600</td><td>1.783771</td></tr>\n",
              "\t<tr><td>11</td><td>0</td><td>65</td><td>2</td><td>12</td><td>1700</td><td>1.873445</td></tr>\n",
              "\t<tr><td>11</td><td>0</td><td>33</td><td>8</td><td>14</td><td>2000</td><td>1.890250</td></tr>\n",
              "\t<tr><td>11</td><td>0</td><td>32</td><td>8</td><td>12</td><td>2400</td><td>1.660204</td></tr>\n",
              "\t<tr><td>⋮</td><td>⋮</td><td>⋮</td><td>⋮</td><td>⋮</td><td>⋮</td><td>⋮</td></tr>\n",
              "\t<tr><td>53</td><td>0</td><td>34</td><td>4</td><td>12</td><td> 2500</td><td>1.802241</td></tr>\n",
              "\t<tr><td>53</td><td>1</td><td>57</td><td>2</td><td>11</td><td> 1000</td><td>1.823047</td></tr>\n",
              "\t<tr><td>53</td><td>1</td><td>32</td><td>4</td><td>12</td><td>  788</td><td>1.681405</td></tr>\n",
              "\t<tr><td>53</td><td>0</td><td>35</td><td>4</td><td> 9</td><td> 2100</td><td>1.671112</td></tr>\n",
              "\t<tr><td>53</td><td>1</td><td>49</td><td>8</td><td>12</td><td> 5260</td><td>1.799319</td></tr>\n",
              "\t<tr><td>53</td><td>0</td><td>51</td><td>8</td><td> 1</td><td> 5000</td><td>1.599400</td></tr>\n",
              "\t<tr><td>53</td><td>0</td><td>37</td><td>8</td><td>12</td><td>  950</td><td>1.620497</td></tr>\n",
              "\t<tr><td>53</td><td>0</td><td>47</td><td>8</td><td>12</td><td> 1109</td><td>1.920274</td></tr>\n",
              "\t<tr><td>53</td><td>0</td><td>27</td><td>8</td><td>10</td><td>  850</td><td>1.793074</td></tr>\n",
              "\t<tr><td>53</td><td>1</td><td>49</td><td>8</td><td> 9</td><td>  788</td><td>1.695710</td></tr>\n",
              "\t<tr><td>53</td><td>1</td><td>27</td><td>8</td><td>12</td><td>  866</td><td>1.729035</td></tr>\n",
              "\t<tr><td>53</td><td>0</td><td>20</td><td>2</td><td> 8</td><td> 1300</td><td>1.660409</td></tr>\n",
              "\t<tr><td>53</td><td>0</td><td>49</td><td>8</td><td>12</td><td> 8700</td><td>1.775182</td></tr>\n",
              "\t<tr><td>53</td><td>0</td><td>43</td><td>8</td><td>10</td><td> 5000</td><td>1.584493</td></tr>\n",
              "\t<tr><td>53</td><td>0</td><td>64</td><td>2</td><td>12</td><td> 5000</td><td>1.717452</td></tr>\n",
              "\t<tr><td>53</td><td>0</td><td>55</td><td>2</td><td>16</td><td>13000</td><td>1.729995</td></tr>\n",
              "\t<tr><td>53</td><td>0</td><td>39</td><td>2</td><td>12</td><td> 6000</td><td>1.739046</td></tr>\n",
              "\t<tr><td>53</td><td>1</td><td>41</td><td>2</td><td>16</td><td>10000</td><td>1.696208</td></tr>\n",
              "\t<tr><td>53</td><td>0</td><td>62</td><td>2</td><td>16</td><td>10000</td><td>1.817097</td></tr>\n",
              "\t<tr><td>53</td><td>0</td><td>42</td><td>8</td><td>12</td><td>32000</td><td>1.788923</td></tr>\n",
              "\t<tr><td>53</td><td>0</td><td>62</td><td>2</td><td>16</td><td> 3500</td><td>1.725379</td></tr>\n",
              "\t<tr><td>53</td><td>1</td><td>44</td><td>2</td><td>16</td><td>30000</td><td>1.783962</td></tr>\n",
              "\t<tr><td>53</td><td>1</td><td>49</td><td>2</td><td>12</td><td> 5000</td><td>1.757146</td></tr>\n",
              "\t<tr><td>53</td><td>0</td><td>30</td><td>4</td><td> 6</td><td> 1900</td><td>1.662560</td></tr>\n",
              "\t<tr><td>53</td><td>1</td><td>35</td><td>4</td><td> 1</td><td> 1100</td><td>1.741089</td></tr>\n",
              "\t<tr><td>53</td><td>1</td><td>46</td><td>2</td><td>11</td><td>  812</td><td>1.687030</td></tr>\n",
              "\t<tr><td>53</td><td>0</td><td>30</td><td>4</td><td> 7</td><td> 1500</td><td>1.792934</td></tr>\n",
              "\t<tr><td>53</td><td>0</td><td>32</td><td>8</td><td>12</td><td> 1300</td><td>1.830587</td></tr>\n",
              "\t<tr><td>53</td><td>0</td><td>57</td><td>8</td><td> 4</td><td> 1500</td><td>1.726344</td></tr>\n",
              "\t<tr><td>53</td><td>0</td><td>38</td><td>8</td><td> 4</td><td>  900</td><td>1.658305</td></tr>\n",
              "</tbody>\n",
              "</table>\n"
            ],
            "text/latex": [
              "A data.frame: 76840 × 7\n",
              "\\begin{tabular}{lllllll}\n",
              " UF & Sexo & Idade & Cor & Anos.de.Estudo & Renda & Altura\\\\\n",
              " <int> & <int> & <int> & <int> & <int> & <int> & <dbl>\\\\\n",
              "\\hline\n",
              "\t 11 & 0 & 23 & 8 & 12 &  800 & 1.603808\\\\\n",
              "\t 11 & 1 & 23 & 2 & 12 & 1150 & 1.739790\\\\\n",
              "\t 11 & 1 & 35 & 8 & 15 &  880 & 1.760444\\\\\n",
              "\t 11 & 0 & 46 & 2 &  6 & 3500 & 1.783158\\\\\n",
              "\t 11 & 1 & 47 & 8 &  9 &  150 & 1.690631\\\\\n",
              "\t 11 & 1 & 34 & 8 & 12 &  790 & 1.637906\\\\\n",
              "\t 11 & 0 & 57 & 8 & 12 & 3150 & 1.570078\\\\\n",
              "\t 11 & 1 & 60 & 8 & 12 & 1700 & 1.608495\\\\\n",
              "\t 11 & 1 & 50 & 4 & 14 & 1800 & 1.780329\\\\\n",
              "\t 11 & 0 & 26 & 8 & 12 & 1150 & 1.793203\\\\\n",
              "\t 11 & 1 & 46 & 8 & 12 & 3000 & 1.787003\\\\\n",
              "\t 11 & 1 & 49 & 8 &  6 & 2500 & 1.712912\\\\\n",
              "\t 11 & 1 & 52 & 2 &  6 & 1200 & 1.736442\\\\\n",
              "\t 11 & 0 & 38 & 8 & 12 & 2000 & 1.750827\\\\\n",
              "\t 11 & 0 & 45 & 2 & 12 & 2000 & 1.780450\\\\\n",
              "\t 11 & 0 & 34 & 2 & 16 & 6000 & 1.711825\\\\\n",
              "\t 11 & 1 & 43 & 8 & 10 & 1050 & 1.789012\\\\\n",
              "\t 11 & 0 & 53 & 8 & 16 & 7000 & 1.673665\\\\\n",
              "\t 11 & 0 & 57 & 2 & 12 & 2000 & 1.715138\\\\\n",
              "\t 11 & 1 & 62 & 8 & 12 & 1150 & 1.765973\\\\\n",
              "\t 11 & 0 & 69 & 8 &  1 & 3030 & 1.746351\\\\\n",
              "\t 11 & 1 & 41 & 8 & 16 & 4000 & 1.660873\\\\\n",
              "\t 11 & 0 & 34 & 8 &  5 &  788 & 1.746048\\\\\n",
              "\t 11 & 0 & 25 & 8 & 12 & 1000 & 1.726496\\\\\n",
              "\t 11 & 0 & 33 & 8 &  9 &  800 & 1.778914\\\\\n",
              "\t 11 & 1 & 44 & 8 &  5 &  788 & 1.668638\\\\\n",
              "\t 11 & 0 & 33 & 2 & 16 & 1600 & 1.783771\\\\\n",
              "\t 11 & 0 & 65 & 2 & 12 & 1700 & 1.873445\\\\\n",
              "\t 11 & 0 & 33 & 8 & 14 & 2000 & 1.890250\\\\\n",
              "\t 11 & 0 & 32 & 8 & 12 & 2400 & 1.660204\\\\\n",
              "\t ⋮ & ⋮ & ⋮ & ⋮ & ⋮ & ⋮ & ⋮\\\\\n",
              "\t 53 & 0 & 34 & 4 & 12 &  2500 & 1.802241\\\\\n",
              "\t 53 & 1 & 57 & 2 & 11 &  1000 & 1.823047\\\\\n",
              "\t 53 & 1 & 32 & 4 & 12 &   788 & 1.681405\\\\\n",
              "\t 53 & 0 & 35 & 4 &  9 &  2100 & 1.671112\\\\\n",
              "\t 53 & 1 & 49 & 8 & 12 &  5260 & 1.799319\\\\\n",
              "\t 53 & 0 & 51 & 8 &  1 &  5000 & 1.599400\\\\\n",
              "\t 53 & 0 & 37 & 8 & 12 &   950 & 1.620497\\\\\n",
              "\t 53 & 0 & 47 & 8 & 12 &  1109 & 1.920274\\\\\n",
              "\t 53 & 0 & 27 & 8 & 10 &   850 & 1.793074\\\\\n",
              "\t 53 & 1 & 49 & 8 &  9 &   788 & 1.695710\\\\\n",
              "\t 53 & 1 & 27 & 8 & 12 &   866 & 1.729035\\\\\n",
              "\t 53 & 0 & 20 & 2 &  8 &  1300 & 1.660409\\\\\n",
              "\t 53 & 0 & 49 & 8 & 12 &  8700 & 1.775182\\\\\n",
              "\t 53 & 0 & 43 & 8 & 10 &  5000 & 1.584493\\\\\n",
              "\t 53 & 0 & 64 & 2 & 12 &  5000 & 1.717452\\\\\n",
              "\t 53 & 0 & 55 & 2 & 16 & 13000 & 1.729995\\\\\n",
              "\t 53 & 0 & 39 & 2 & 12 &  6000 & 1.739046\\\\\n",
              "\t 53 & 1 & 41 & 2 & 16 & 10000 & 1.696208\\\\\n",
              "\t 53 & 0 & 62 & 2 & 16 & 10000 & 1.817097\\\\\n",
              "\t 53 & 0 & 42 & 8 & 12 & 32000 & 1.788923\\\\\n",
              "\t 53 & 0 & 62 & 2 & 16 &  3500 & 1.725379\\\\\n",
              "\t 53 & 1 & 44 & 2 & 16 & 30000 & 1.783962\\\\\n",
              "\t 53 & 1 & 49 & 2 & 12 &  5000 & 1.757146\\\\\n",
              "\t 53 & 0 & 30 & 4 &  6 &  1900 & 1.662560\\\\\n",
              "\t 53 & 1 & 35 & 4 &  1 &  1100 & 1.741089\\\\\n",
              "\t 53 & 1 & 46 & 2 & 11 &   812 & 1.687030\\\\\n",
              "\t 53 & 0 & 30 & 4 &  7 &  1500 & 1.792934\\\\\n",
              "\t 53 & 0 & 32 & 8 & 12 &  1300 & 1.830587\\\\\n",
              "\t 53 & 0 & 57 & 8 &  4 &  1500 & 1.726344\\\\\n",
              "\t 53 & 0 & 38 & 8 &  4 &   900 & 1.658305\\\\\n",
              "\\end{tabular}\n"
            ],
            "text/markdown": [
              "\n",
              "A data.frame: 76840 × 7\n",
              "\n",
              "| UF &lt;int&gt; | Sexo &lt;int&gt; | Idade &lt;int&gt; | Cor &lt;int&gt; | Anos.de.Estudo &lt;int&gt; | Renda &lt;int&gt; | Altura &lt;dbl&gt; |\n",
              "|---|---|---|---|---|---|---|\n",
              "| 11 | 0 | 23 | 8 | 12 |  800 | 1.603808 |\n",
              "| 11 | 1 | 23 | 2 | 12 | 1150 | 1.739790 |\n",
              "| 11 | 1 | 35 | 8 | 15 |  880 | 1.760444 |\n",
              "| 11 | 0 | 46 | 2 |  6 | 3500 | 1.783158 |\n",
              "| 11 | 1 | 47 | 8 |  9 |  150 | 1.690631 |\n",
              "| 11 | 1 | 34 | 8 | 12 |  790 | 1.637906 |\n",
              "| 11 | 0 | 57 | 8 | 12 | 3150 | 1.570078 |\n",
              "| 11 | 1 | 60 | 8 | 12 | 1700 | 1.608495 |\n",
              "| 11 | 1 | 50 | 4 | 14 | 1800 | 1.780329 |\n",
              "| 11 | 0 | 26 | 8 | 12 | 1150 | 1.793203 |\n",
              "| 11 | 1 | 46 | 8 | 12 | 3000 | 1.787003 |\n",
              "| 11 | 1 | 49 | 8 |  6 | 2500 | 1.712912 |\n",
              "| 11 | 1 | 52 | 2 |  6 | 1200 | 1.736442 |\n",
              "| 11 | 0 | 38 | 8 | 12 | 2000 | 1.750827 |\n",
              "| 11 | 0 | 45 | 2 | 12 | 2000 | 1.780450 |\n",
              "| 11 | 0 | 34 | 2 | 16 | 6000 | 1.711825 |\n",
              "| 11 | 1 | 43 | 8 | 10 | 1050 | 1.789012 |\n",
              "| 11 | 0 | 53 | 8 | 16 | 7000 | 1.673665 |\n",
              "| 11 | 0 | 57 | 2 | 12 | 2000 | 1.715138 |\n",
              "| 11 | 1 | 62 | 8 | 12 | 1150 | 1.765973 |\n",
              "| 11 | 0 | 69 | 8 |  1 | 3030 | 1.746351 |\n",
              "| 11 | 1 | 41 | 8 | 16 | 4000 | 1.660873 |\n",
              "| 11 | 0 | 34 | 8 |  5 |  788 | 1.746048 |\n",
              "| 11 | 0 | 25 | 8 | 12 | 1000 | 1.726496 |\n",
              "| 11 | 0 | 33 | 8 |  9 |  800 | 1.778914 |\n",
              "| 11 | 1 | 44 | 8 |  5 |  788 | 1.668638 |\n",
              "| 11 | 0 | 33 | 2 | 16 | 1600 | 1.783771 |\n",
              "| 11 | 0 | 65 | 2 | 12 | 1700 | 1.873445 |\n",
              "| 11 | 0 | 33 | 8 | 14 | 2000 | 1.890250 |\n",
              "| 11 | 0 | 32 | 8 | 12 | 2400 | 1.660204 |\n",
              "| ⋮ | ⋮ | ⋮ | ⋮ | ⋮ | ⋮ | ⋮ |\n",
              "| 53 | 0 | 34 | 4 | 12 |  2500 | 1.802241 |\n",
              "| 53 | 1 | 57 | 2 | 11 |  1000 | 1.823047 |\n",
              "| 53 | 1 | 32 | 4 | 12 |   788 | 1.681405 |\n",
              "| 53 | 0 | 35 | 4 |  9 |  2100 | 1.671112 |\n",
              "| 53 | 1 | 49 | 8 | 12 |  5260 | 1.799319 |\n",
              "| 53 | 0 | 51 | 8 |  1 |  5000 | 1.599400 |\n",
              "| 53 | 0 | 37 | 8 | 12 |   950 | 1.620497 |\n",
              "| 53 | 0 | 47 | 8 | 12 |  1109 | 1.920274 |\n",
              "| 53 | 0 | 27 | 8 | 10 |   850 | 1.793074 |\n",
              "| 53 | 1 | 49 | 8 |  9 |   788 | 1.695710 |\n",
              "| 53 | 1 | 27 | 8 | 12 |   866 | 1.729035 |\n",
              "| 53 | 0 | 20 | 2 |  8 |  1300 | 1.660409 |\n",
              "| 53 | 0 | 49 | 8 | 12 |  8700 | 1.775182 |\n",
              "| 53 | 0 | 43 | 8 | 10 |  5000 | 1.584493 |\n",
              "| 53 | 0 | 64 | 2 | 12 |  5000 | 1.717452 |\n",
              "| 53 | 0 | 55 | 2 | 16 | 13000 | 1.729995 |\n",
              "| 53 | 0 | 39 | 2 | 12 |  6000 | 1.739046 |\n",
              "| 53 | 1 | 41 | 2 | 16 | 10000 | 1.696208 |\n",
              "| 53 | 0 | 62 | 2 | 16 | 10000 | 1.817097 |\n",
              "| 53 | 0 | 42 | 8 | 12 | 32000 | 1.788923 |\n",
              "| 53 | 0 | 62 | 2 | 16 |  3500 | 1.725379 |\n",
              "| 53 | 1 | 44 | 2 | 16 | 30000 | 1.783962 |\n",
              "| 53 | 1 | 49 | 2 | 12 |  5000 | 1.757146 |\n",
              "| 53 | 0 | 30 | 4 |  6 |  1900 | 1.662560 |\n",
              "| 53 | 1 | 35 | 4 |  1 |  1100 | 1.741089 |\n",
              "| 53 | 1 | 46 | 2 | 11 |   812 | 1.687030 |\n",
              "| 53 | 0 | 30 | 4 |  7 |  1500 | 1.792934 |\n",
              "| 53 | 0 | 32 | 8 | 12 |  1300 | 1.830587 |\n",
              "| 53 | 0 | 57 | 8 |  4 |  1500 | 1.726344 |\n",
              "| 53 | 0 | 38 | 8 |  4 |   900 | 1.658305 |\n",
              "\n"
            ],
            "text/plain": [
              "      UF Sexo Idade Cor Anos.de.Estudo Renda Altura  \n",
              "1     11 0    23    8   12              800  1.603808\n",
              "2     11 1    23    2   12             1150  1.739790\n",
              "3     11 1    35    8   15              880  1.760444\n",
              "4     11 0    46    2    6             3500  1.783158\n",
              "5     11 1    47    8    9              150  1.690631\n",
              "6     11 1    34    8   12              790  1.637906\n",
              "7     11 0    57    8   12             3150  1.570078\n",
              "8     11 1    60    8   12             1700  1.608495\n",
              "9     11 1    50    4   14             1800  1.780329\n",
              "10    11 0    26    8   12             1150  1.793203\n",
              "11    11 1    46    8   12             3000  1.787003\n",
              "12    11 1    49    8    6             2500  1.712912\n",
              "13    11 1    52    2    6             1200  1.736442\n",
              "14    11 0    38    8   12             2000  1.750827\n",
              "15    11 0    45    2   12             2000  1.780450\n",
              "16    11 0    34    2   16             6000  1.711825\n",
              "17    11 1    43    8   10             1050  1.789012\n",
              "18    11 0    53    8   16             7000  1.673665\n",
              "19    11 0    57    2   12             2000  1.715138\n",
              "20    11 1    62    8   12             1150  1.765973\n",
              "21    11 0    69    8    1             3030  1.746351\n",
              "22    11 1    41    8   16             4000  1.660873\n",
              "23    11 0    34    8    5              788  1.746048\n",
              "24    11 0    25    8   12             1000  1.726496\n",
              "25    11 0    33    8    9              800  1.778914\n",
              "26    11 1    44    8    5              788  1.668638\n",
              "27    11 0    33    2   16             1600  1.783771\n",
              "28    11 0    65    2   12             1700  1.873445\n",
              "29    11 0    33    8   14             2000  1.890250\n",
              "30    11 0    32    8   12             2400  1.660204\n",
              "⋮     ⋮  ⋮    ⋮     ⋮   ⋮              ⋮     ⋮       \n",
              "76811 53 0    34    4   12              2500 1.802241\n",
              "76812 53 1    57    2   11              1000 1.823047\n",
              "76813 53 1    32    4   12               788 1.681405\n",
              "76814 53 0    35    4    9              2100 1.671112\n",
              "76815 53 1    49    8   12              5260 1.799319\n",
              "76816 53 0    51    8    1              5000 1.599400\n",
              "76817 53 0    37    8   12               950 1.620497\n",
              "76818 53 0    47    8   12              1109 1.920274\n",
              "76819 53 0    27    8   10               850 1.793074\n",
              "76820 53 1    49    8    9               788 1.695710\n",
              "76821 53 1    27    8   12               866 1.729035\n",
              "76822 53 0    20    2    8              1300 1.660409\n",
              "76823 53 0    49    8   12              8700 1.775182\n",
              "76824 53 0    43    8   10              5000 1.584493\n",
              "76825 53 0    64    2   12              5000 1.717452\n",
              "76826 53 0    55    2   16             13000 1.729995\n",
              "76827 53 0    39    2   12              6000 1.739046\n",
              "76828 53 1    41    2   16             10000 1.696208\n",
              "76829 53 0    62    2   16             10000 1.817097\n",
              "76830 53 0    42    8   12             32000 1.788923\n",
              "76831 53 0    62    2   16              3500 1.725379\n",
              "76832 53 1    44    2   16             30000 1.783962\n",
              "76833 53 1    49    2   12              5000 1.757146\n",
              "76834 53 0    30    4    6              1900 1.662560\n",
              "76835 53 1    35    4    1              1100 1.741089\n",
              "76836 53 1    46    2   11               812 1.687030\n",
              "76837 53 0    30    4    7              1500 1.792934\n",
              "76838 53 0    32    8   12              1300 1.830587\n",
              "76839 53 0    57    8    4              1500 1.726344\n",
              "76840 53 0    38    8    4               900 1.658305"
            ]
          },
          "metadata": {},
          "output_type": "display_data"
        }
      ],
      "source": [
        "dados"
      ]
    },
    {
      "cell_type": "code",
      "execution_count": null,
      "metadata": {
        "colab": {
          "base_uri": "https://localhost:8080/",
          "height": 412
        },
        "id": "GsC_WhLFjQKq",
        "outputId": "1e78ec18-4c18-4033-cd1e-64c4e17061c6",
        "scrolled": false
      },
      "outputs": [
        {
          "data": {
            "text/html": [
              "<table class=\"dataframe\">\n",
              "<caption>A data.frame: 10 × 7</caption>\n",
              "<thead>\n",
              "\t<tr><th></th><th scope=col>UF</th><th scope=col>Sexo</th><th scope=col>Idade</th><th scope=col>Cor</th><th scope=col>Anos.de.Estudo</th><th scope=col>Renda</th><th scope=col>Altura</th></tr>\n",
              "\t<tr><th></th><th scope=col>&lt;int&gt;</th><th scope=col>&lt;int&gt;</th><th scope=col>&lt;int&gt;</th><th scope=col>&lt;int&gt;</th><th scope=col>&lt;int&gt;</th><th scope=col>&lt;int&gt;</th><th scope=col>&lt;dbl&gt;</th></tr>\n",
              "</thead>\n",
              "<tbody>\n",
              "\t<tr><th scope=row>1</th><td>11</td><td>0</td><td>23</td><td>8</td><td>12</td><td> 800</td><td>1.603808</td></tr>\n",
              "\t<tr><th scope=row>2</th><td>11</td><td>1</td><td>23</td><td>2</td><td>12</td><td>1150</td><td>1.739790</td></tr>\n",
              "\t<tr><th scope=row>3</th><td>11</td><td>1</td><td>35</td><td>8</td><td>15</td><td> 880</td><td>1.760444</td></tr>\n",
              "\t<tr><th scope=row>4</th><td>11</td><td>0</td><td>46</td><td>2</td><td> 6</td><td>3500</td><td>1.783158</td></tr>\n",
              "\t<tr><th scope=row>5</th><td>11</td><td>1</td><td>47</td><td>8</td><td> 9</td><td> 150</td><td>1.690631</td></tr>\n",
              "\t<tr><th scope=row>6</th><td>11</td><td>1</td><td>34</td><td>8</td><td>12</td><td> 790</td><td>1.637906</td></tr>\n",
              "\t<tr><th scope=row>7</th><td>11</td><td>0</td><td>57</td><td>8</td><td>12</td><td>3150</td><td>1.570078</td></tr>\n",
              "\t<tr><th scope=row>8</th><td>11</td><td>1</td><td>60</td><td>8</td><td>12</td><td>1700</td><td>1.608495</td></tr>\n",
              "\t<tr><th scope=row>9</th><td>11</td><td>1</td><td>50</td><td>4</td><td>14</td><td>1800</td><td>1.780329</td></tr>\n",
              "\t<tr><th scope=row>10</th><td>11</td><td>0</td><td>26</td><td>8</td><td>12</td><td>1150</td><td>1.793203</td></tr>\n",
              "</tbody>\n",
              "</table>\n"
            ],
            "text/latex": [
              "A data.frame: 10 × 7\n",
              "\\begin{tabular}{r|lllllll}\n",
              "  & UF & Sexo & Idade & Cor & Anos.de.Estudo & Renda & Altura\\\\\n",
              "  & <int> & <int> & <int> & <int> & <int> & <int> & <dbl>\\\\\n",
              "\\hline\n",
              "\t1 & 11 & 0 & 23 & 8 & 12 &  800 & 1.603808\\\\\n",
              "\t2 & 11 & 1 & 23 & 2 & 12 & 1150 & 1.739790\\\\\n",
              "\t3 & 11 & 1 & 35 & 8 & 15 &  880 & 1.760444\\\\\n",
              "\t4 & 11 & 0 & 46 & 2 &  6 & 3500 & 1.783158\\\\\n",
              "\t5 & 11 & 1 & 47 & 8 &  9 &  150 & 1.690631\\\\\n",
              "\t6 & 11 & 1 & 34 & 8 & 12 &  790 & 1.637906\\\\\n",
              "\t7 & 11 & 0 & 57 & 8 & 12 & 3150 & 1.570078\\\\\n",
              "\t8 & 11 & 1 & 60 & 8 & 12 & 1700 & 1.608495\\\\\n",
              "\t9 & 11 & 1 & 50 & 4 & 14 & 1800 & 1.780329\\\\\n",
              "\t10 & 11 & 0 & 26 & 8 & 12 & 1150 & 1.793203\\\\\n",
              "\\end{tabular}\n"
            ],
            "text/markdown": [
              "\n",
              "A data.frame: 10 × 7\n",
              "\n",
              "| <!--/--> | UF &lt;int&gt; | Sexo &lt;int&gt; | Idade &lt;int&gt; | Cor &lt;int&gt; | Anos.de.Estudo &lt;int&gt; | Renda &lt;int&gt; | Altura &lt;dbl&gt; |\n",
              "|---|---|---|---|---|---|---|---|\n",
              "| 1 | 11 | 0 | 23 | 8 | 12 |  800 | 1.603808 |\n",
              "| 2 | 11 | 1 | 23 | 2 | 12 | 1150 | 1.739790 |\n",
              "| 3 | 11 | 1 | 35 | 8 | 15 |  880 | 1.760444 |\n",
              "| 4 | 11 | 0 | 46 | 2 |  6 | 3500 | 1.783158 |\n",
              "| 5 | 11 | 1 | 47 | 8 |  9 |  150 | 1.690631 |\n",
              "| 6 | 11 | 1 | 34 | 8 | 12 |  790 | 1.637906 |\n",
              "| 7 | 11 | 0 | 57 | 8 | 12 | 3150 | 1.570078 |\n",
              "| 8 | 11 | 1 | 60 | 8 | 12 | 1700 | 1.608495 |\n",
              "| 9 | 11 | 1 | 50 | 4 | 14 | 1800 | 1.780329 |\n",
              "| 10 | 11 | 0 | 26 | 8 | 12 | 1150 | 1.793203 |\n",
              "\n"
            ],
            "text/plain": [
              "   UF Sexo Idade Cor Anos.de.Estudo Renda Altura  \n",
              "1  11 0    23    8   12              800  1.603808\n",
              "2  11 1    23    2   12             1150  1.739790\n",
              "3  11 1    35    8   15              880  1.760444\n",
              "4  11 0    46    2    6             3500  1.783158\n",
              "5  11 1    47    8    9              150  1.690631\n",
              "6  11 1    34    8   12              790  1.637906\n",
              "7  11 0    57    8   12             3150  1.570078\n",
              "8  11 1    60    8   12             1700  1.608495\n",
              "9  11 1    50    4   14             1800  1.780329\n",
              "10 11 0    26    8   12             1150  1.793203"
            ]
          },
          "metadata": {},
          "output_type": "display_data"
        }
      ],
      "source": [
        "head(dados, 10)"
      ]
    },
    {
      "cell_type": "markdown",
      "metadata": {
        "id": "E3Mx0tVqjQKs"
      },
      "source": [
        "## <font color=green>1.2 Tipos de dados</font>\n",
        "***"
      ]
    },
    {
      "cell_type": "markdown",
      "metadata": {
        "id": "oB4TCBFojQKt"
      },
      "source": [
        "### Variáveis qualitativas ordinais\n",
        "\n",
        "► Variáveis que podem ser ordenadas ou hierarquizardas"
      ]
    },
    {
      "cell_type": "markdown",
      "metadata": {
        "id": "_hLSoHYGrpKT"
      },
      "source": [
        "### <font color=red>Documentações:\n",
        "\n",
        "- [**select**](https://www.rdocumentation.org/packages/dplyr/versions/0.7.8/topics/select)\n",
        "- [**unique**](https://www.rdocumentation.org/packages/base/versions/3.6.1/topics/unique)\n",
        "- [**arrange**](https://www.rdocumentation.org/packages/dplyr/versions/0.7.8/topics/arrange)\n",
        "- [**c**](https://www.rdocumentation.org/packages/base/versions/3.6.1/topics/c)\n",
        "- [**sprintf**](https://www.rdocumentation.org/packages/base/versions/3.6.1/topics/sprintf)\n",
        "- [**glue**](https://www.rdocumentation.org/packages/glue/versions/1.3.1/topics/glue)\n",
        "- [**min e max**](https://www.rdocumentation.org/packages/base/versions/3.6.1/topics/Extremes)"
      ]
    },
    {
      "cell_type": "code",
      "execution_count": null,
      "metadata": {
        "colab": {
          "base_uri": "https://localhost:8080/",
          "height": 255
        },
        "id": "tAMo-8DtrpKT",
        "outputId": "9b20a9a1-4b3b-41c7-b41c-50e979f9631b",
        "scrolled": true
      },
      "outputs": [
        {
          "data": {
            "text/html": [
              "<table class=\"dataframe\">\n",
              "<caption>A data.frame: 5 × 7</caption>\n",
              "<thead>\n",
              "\t<tr><th></th><th scope=col>UF</th><th scope=col>Sexo</th><th scope=col>Idade</th><th scope=col>Cor</th><th scope=col>Anos.de.Estudo</th><th scope=col>Renda</th><th scope=col>Altura</th></tr>\n",
              "\t<tr><th></th><th scope=col>&lt;int&gt;</th><th scope=col>&lt;int&gt;</th><th scope=col>&lt;int&gt;</th><th scope=col>&lt;int&gt;</th><th scope=col>&lt;int&gt;</th><th scope=col>&lt;int&gt;</th><th scope=col>&lt;dbl&gt;</th></tr>\n",
              "</thead>\n",
              "<tbody>\n",
              "\t<tr><th scope=row>1</th><td>11</td><td>0</td><td>23</td><td>8</td><td>12</td><td> 800</td><td>1.603808</td></tr>\n",
              "\t<tr><th scope=row>2</th><td>11</td><td>1</td><td>23</td><td>2</td><td>12</td><td>1150</td><td>1.739790</td></tr>\n",
              "\t<tr><th scope=row>3</th><td>11</td><td>1</td><td>35</td><td>8</td><td>15</td><td> 880</td><td>1.760444</td></tr>\n",
              "\t<tr><th scope=row>4</th><td>11</td><td>0</td><td>46</td><td>2</td><td> 6</td><td>3500</td><td>1.783158</td></tr>\n",
              "\t<tr><th scope=row>5</th><td>11</td><td>1</td><td>47</td><td>8</td><td> 9</td><td> 150</td><td>1.690631</td></tr>\n",
              "</tbody>\n",
              "</table>\n"
            ],
            "text/latex": [
              "A data.frame: 5 × 7\n",
              "\\begin{tabular}{r|lllllll}\n",
              "  & UF & Sexo & Idade & Cor & Anos.de.Estudo & Renda & Altura\\\\\n",
              "  & <int> & <int> & <int> & <int> & <int> & <int> & <dbl>\\\\\n",
              "\\hline\n",
              "\t1 & 11 & 0 & 23 & 8 & 12 &  800 & 1.603808\\\\\n",
              "\t2 & 11 & 1 & 23 & 2 & 12 & 1150 & 1.739790\\\\\n",
              "\t3 & 11 & 1 & 35 & 8 & 15 &  880 & 1.760444\\\\\n",
              "\t4 & 11 & 0 & 46 & 2 &  6 & 3500 & 1.783158\\\\\n",
              "\t5 & 11 & 1 & 47 & 8 &  9 &  150 & 1.690631\\\\\n",
              "\\end{tabular}\n"
            ],
            "text/markdown": [
              "\n",
              "A data.frame: 5 × 7\n",
              "\n",
              "| <!--/--> | UF &lt;int&gt; | Sexo &lt;int&gt; | Idade &lt;int&gt; | Cor &lt;int&gt; | Anos.de.Estudo &lt;int&gt; | Renda &lt;int&gt; | Altura &lt;dbl&gt; |\n",
              "|---|---|---|---|---|---|---|---|\n",
              "| 1 | 11 | 0 | 23 | 8 | 12 |  800 | 1.603808 |\n",
              "| 2 | 11 | 1 | 23 | 2 | 12 | 1150 | 1.739790 |\n",
              "| 3 | 11 | 1 | 35 | 8 | 15 |  880 | 1.760444 |\n",
              "| 4 | 11 | 0 | 46 | 2 |  6 | 3500 | 1.783158 |\n",
              "| 5 | 11 | 1 | 47 | 8 |  9 |  150 | 1.690631 |\n",
              "\n"
            ],
            "text/plain": [
              "  UF Sexo Idade Cor Anos.de.Estudo Renda Altura  \n",
              "1 11 0    23    8   12              800  1.603808\n",
              "2 11 1    23    2   12             1150  1.739790\n",
              "3 11 1    35    8   15              880  1.760444\n",
              "4 11 0    46    2    6             3500  1.783158\n",
              "5 11 1    47    8    9              150  1.690631"
            ]
          },
          "metadata": {},
          "output_type": "display_data"
        }
      ],
      "source": [
        "head(dados, 5)"
      ]
    },
    {
      "cell_type": "code",
      "execution_count": null,
      "metadata": {
        "colab": {
          "base_uri": "https://localhost:8080/",
          "height": 1000
        },
        "id": "sgncrvuvrpKT",
        "outputId": "3aa0f5b6-8f98-4cf1-a3c5-401c2d88cc0c",
        "scrolled": true
      },
      "outputs": [
        {
          "data": {
            "text/html": [
              "<table class=\"dataframe\">\n",
              "<caption>A data.frame: 76840 × 1</caption>\n",
              "<thead>\n",
              "\t<tr><th scope=col>Anos.de.Estudo</th></tr>\n",
              "\t<tr><th scope=col>&lt;int&gt;</th></tr>\n",
              "</thead>\n",
              "<tbody>\n",
              "\t<tr><td>12</td></tr>\n",
              "\t<tr><td>12</td></tr>\n",
              "\t<tr><td>15</td></tr>\n",
              "\t<tr><td> 6</td></tr>\n",
              "\t<tr><td> 9</td></tr>\n",
              "\t<tr><td>12</td></tr>\n",
              "\t<tr><td>12</td></tr>\n",
              "\t<tr><td>12</td></tr>\n",
              "\t<tr><td>14</td></tr>\n",
              "\t<tr><td>12</td></tr>\n",
              "\t<tr><td>12</td></tr>\n",
              "\t<tr><td> 6</td></tr>\n",
              "\t<tr><td> 6</td></tr>\n",
              "\t<tr><td>12</td></tr>\n",
              "\t<tr><td>12</td></tr>\n",
              "\t<tr><td>16</td></tr>\n",
              "\t<tr><td>10</td></tr>\n",
              "\t<tr><td>16</td></tr>\n",
              "\t<tr><td>12</td></tr>\n",
              "\t<tr><td>12</td></tr>\n",
              "\t<tr><td> 1</td></tr>\n",
              "\t<tr><td>16</td></tr>\n",
              "\t<tr><td> 5</td></tr>\n",
              "\t<tr><td>12</td></tr>\n",
              "\t<tr><td> 9</td></tr>\n",
              "\t<tr><td> 5</td></tr>\n",
              "\t<tr><td>16</td></tr>\n",
              "\t<tr><td>12</td></tr>\n",
              "\t<tr><td>14</td></tr>\n",
              "\t<tr><td>12</td></tr>\n",
              "\t<tr><td>⋮</td></tr>\n",
              "\t<tr><td>12</td></tr>\n",
              "\t<tr><td>11</td></tr>\n",
              "\t<tr><td>12</td></tr>\n",
              "\t<tr><td> 9</td></tr>\n",
              "\t<tr><td>12</td></tr>\n",
              "\t<tr><td> 1</td></tr>\n",
              "\t<tr><td>12</td></tr>\n",
              "\t<tr><td>12</td></tr>\n",
              "\t<tr><td>10</td></tr>\n",
              "\t<tr><td> 9</td></tr>\n",
              "\t<tr><td>12</td></tr>\n",
              "\t<tr><td> 8</td></tr>\n",
              "\t<tr><td>12</td></tr>\n",
              "\t<tr><td>10</td></tr>\n",
              "\t<tr><td>12</td></tr>\n",
              "\t<tr><td>16</td></tr>\n",
              "\t<tr><td>12</td></tr>\n",
              "\t<tr><td>16</td></tr>\n",
              "\t<tr><td>16</td></tr>\n",
              "\t<tr><td>12</td></tr>\n",
              "\t<tr><td>16</td></tr>\n",
              "\t<tr><td>16</td></tr>\n",
              "\t<tr><td>12</td></tr>\n",
              "\t<tr><td> 6</td></tr>\n",
              "\t<tr><td> 1</td></tr>\n",
              "\t<tr><td>11</td></tr>\n",
              "\t<tr><td> 7</td></tr>\n",
              "\t<tr><td>12</td></tr>\n",
              "\t<tr><td> 4</td></tr>\n",
              "\t<tr><td> 4</td></tr>\n",
              "</tbody>\n",
              "</table>\n"
            ],
            "text/latex": [
              "A data.frame: 76840 × 1\n",
              "\\begin{tabular}{l}\n",
              " Anos.de.Estudo\\\\\n",
              " <int>\\\\\n",
              "\\hline\n",
              "\t 12\\\\\n",
              "\t 12\\\\\n",
              "\t 15\\\\\n",
              "\t  6\\\\\n",
              "\t  9\\\\\n",
              "\t 12\\\\\n",
              "\t 12\\\\\n",
              "\t 12\\\\\n",
              "\t 14\\\\\n",
              "\t 12\\\\\n",
              "\t 12\\\\\n",
              "\t  6\\\\\n",
              "\t  6\\\\\n",
              "\t 12\\\\\n",
              "\t 12\\\\\n",
              "\t 16\\\\\n",
              "\t 10\\\\\n",
              "\t 16\\\\\n",
              "\t 12\\\\\n",
              "\t 12\\\\\n",
              "\t  1\\\\\n",
              "\t 16\\\\\n",
              "\t  5\\\\\n",
              "\t 12\\\\\n",
              "\t  9\\\\\n",
              "\t  5\\\\\n",
              "\t 16\\\\\n",
              "\t 12\\\\\n",
              "\t 14\\\\\n",
              "\t 12\\\\\n",
              "\t ⋮\\\\\n",
              "\t 12\\\\\n",
              "\t 11\\\\\n",
              "\t 12\\\\\n",
              "\t  9\\\\\n",
              "\t 12\\\\\n",
              "\t  1\\\\\n",
              "\t 12\\\\\n",
              "\t 12\\\\\n",
              "\t 10\\\\\n",
              "\t  9\\\\\n",
              "\t 12\\\\\n",
              "\t  8\\\\\n",
              "\t 12\\\\\n",
              "\t 10\\\\\n",
              "\t 12\\\\\n",
              "\t 16\\\\\n",
              "\t 12\\\\\n",
              "\t 16\\\\\n",
              "\t 16\\\\\n",
              "\t 12\\\\\n",
              "\t 16\\\\\n",
              "\t 16\\\\\n",
              "\t 12\\\\\n",
              "\t  6\\\\\n",
              "\t  1\\\\\n",
              "\t 11\\\\\n",
              "\t  7\\\\\n",
              "\t 12\\\\\n",
              "\t  4\\\\\n",
              "\t  4\\\\\n",
              "\\end{tabular}\n"
            ],
            "text/markdown": [
              "\n",
              "A data.frame: 76840 × 1\n",
              "\n",
              "| Anos.de.Estudo &lt;int&gt; |\n",
              "|---|\n",
              "| 12 |\n",
              "| 12 |\n",
              "| 15 |\n",
              "|  6 |\n",
              "|  9 |\n",
              "| 12 |\n",
              "| 12 |\n",
              "| 12 |\n",
              "| 14 |\n",
              "| 12 |\n",
              "| 12 |\n",
              "|  6 |\n",
              "|  6 |\n",
              "| 12 |\n",
              "| 12 |\n",
              "| 16 |\n",
              "| 10 |\n",
              "| 16 |\n",
              "| 12 |\n",
              "| 12 |\n",
              "|  1 |\n",
              "| 16 |\n",
              "|  5 |\n",
              "| 12 |\n",
              "|  9 |\n",
              "|  5 |\n",
              "| 16 |\n",
              "| 12 |\n",
              "| 14 |\n",
              "| 12 |\n",
              "| ⋮ |\n",
              "| 12 |\n",
              "| 11 |\n",
              "| 12 |\n",
              "|  9 |\n",
              "| 12 |\n",
              "|  1 |\n",
              "| 12 |\n",
              "| 12 |\n",
              "| 10 |\n",
              "|  9 |\n",
              "| 12 |\n",
              "|  8 |\n",
              "| 12 |\n",
              "| 10 |\n",
              "| 12 |\n",
              "| 16 |\n",
              "| 12 |\n",
              "| 16 |\n",
              "| 16 |\n",
              "| 12 |\n",
              "| 16 |\n",
              "| 16 |\n",
              "| 12 |\n",
              "|  6 |\n",
              "|  1 |\n",
              "| 11 |\n",
              "|  7 |\n",
              "| 12 |\n",
              "|  4 |\n",
              "|  4 |\n",
              "\n"
            ],
            "text/plain": [
              "      Anos.de.Estudo\n",
              "1     12            \n",
              "2     12            \n",
              "3     15            \n",
              "4      6            \n",
              "5      9            \n",
              "6     12            \n",
              "7     12            \n",
              "8     12            \n",
              "9     14            \n",
              "10    12            \n",
              "11    12            \n",
              "12     6            \n",
              "13     6            \n",
              "14    12            \n",
              "15    12            \n",
              "16    16            \n",
              "17    10            \n",
              "18    16            \n",
              "19    12            \n",
              "20    12            \n",
              "21     1            \n",
              "22    16            \n",
              "23     5            \n",
              "24    12            \n",
              "25     9            \n",
              "26     5            \n",
              "27    16            \n",
              "28    12            \n",
              "29    14            \n",
              "30    12            \n",
              "⋮     ⋮             \n",
              "76811 12            \n",
              "76812 11            \n",
              "76813 12            \n",
              "76814  9            \n",
              "76815 12            \n",
              "76816  1            \n",
              "76817 12            \n",
              "76818 12            \n",
              "76819 10            \n",
              "76820  9            \n",
              "76821 12            \n",
              "76822  8            \n",
              "76823 12            \n",
              "76824 10            \n",
              "76825 12            \n",
              "76826 16            \n",
              "76827 12            \n",
              "76828 16            \n",
              "76829 16            \n",
              "76830 12            \n",
              "76831 16            \n",
              "76832 16            \n",
              "76833 12            \n",
              "76834  6            \n",
              "76835  1            \n",
              "76836 11            \n",
              "76837  7            \n",
              "76838 12            \n",
              "76839  4            \n",
              "76840  4            "
            ]
          },
          "metadata": {},
          "output_type": "display_data"
        }
      ],
      "source": [
        "select(dados, Anos.de.Estudo)"
      ]
    },
    {
      "cell_type": "code",
      "execution_count": null,
      "metadata": {
        "colab": {
          "base_uri": "https://localhost:8080/",
          "height": 631
        },
        "id": "FMe4pyymrpKT",
        "outputId": "3c46fed5-1437-4fcf-84e4-ac009ede3e7d",
        "scrolled": true
      },
      "outputs": [
        {
          "data": {
            "text/html": [
              "<table class=\"dataframe\">\n",
              "<caption>A data.frame: 17 × 1</caption>\n",
              "<thead>\n",
              "\t<tr><th></th><th scope=col>Anos.de.Estudo</th></tr>\n",
              "\t<tr><th></th><th scope=col>&lt;int&gt;</th></tr>\n",
              "</thead>\n",
              "<tbody>\n",
              "\t<tr><th scope=row>1</th><td>12</td></tr>\n",
              "\t<tr><th scope=row>3</th><td>15</td></tr>\n",
              "\t<tr><th scope=row>4</th><td> 6</td></tr>\n",
              "\t<tr><th scope=row>5</th><td> 9</td></tr>\n",
              "\t<tr><th scope=row>9</th><td>14</td></tr>\n",
              "\t<tr><th scope=row>16</th><td>16</td></tr>\n",
              "\t<tr><th scope=row>17</th><td>10</td></tr>\n",
              "\t<tr><th scope=row>21</th><td> 1</td></tr>\n",
              "\t<tr><th scope=row>23</th><td> 5</td></tr>\n",
              "\t<tr><th scope=row>37</th><td> 7</td></tr>\n",
              "\t<tr><th scope=row>38</th><td> 3</td></tr>\n",
              "\t<tr><th scope=row>44</th><td> 2</td></tr>\n",
              "\t<tr><th scope=row>50</th><td> 4</td></tr>\n",
              "\t<tr><th scope=row>51</th><td> 8</td></tr>\n",
              "\t<tr><th scope=row>63</th><td>11</td></tr>\n",
              "\t<tr><th scope=row>75</th><td>17</td></tr>\n",
              "\t<tr><th scope=row>161</th><td>13</td></tr>\n",
              "</tbody>\n",
              "</table>\n"
            ],
            "text/latex": [
              "A data.frame: 17 × 1\n",
              "\\begin{tabular}{r|l}\n",
              "  & Anos.de.Estudo\\\\\n",
              "  & <int>\\\\\n",
              "\\hline\n",
              "\t1 & 12\\\\\n",
              "\t3 & 15\\\\\n",
              "\t4 &  6\\\\\n",
              "\t5 &  9\\\\\n",
              "\t9 & 14\\\\\n",
              "\t16 & 16\\\\\n",
              "\t17 & 10\\\\\n",
              "\t21 &  1\\\\\n",
              "\t23 &  5\\\\\n",
              "\t37 &  7\\\\\n",
              "\t38 &  3\\\\\n",
              "\t44 &  2\\\\\n",
              "\t50 &  4\\\\\n",
              "\t51 &  8\\\\\n",
              "\t63 & 11\\\\\n",
              "\t75 & 17\\\\\n",
              "\t161 & 13\\\\\n",
              "\\end{tabular}\n"
            ],
            "text/markdown": [
              "\n",
              "A data.frame: 17 × 1\n",
              "\n",
              "| <!--/--> | Anos.de.Estudo &lt;int&gt; |\n",
              "|---|---|\n",
              "| 1 | 12 |\n",
              "| 3 | 15 |\n",
              "| 4 |  6 |\n",
              "| 5 |  9 |\n",
              "| 9 | 14 |\n",
              "| 16 | 16 |\n",
              "| 17 | 10 |\n",
              "| 21 |  1 |\n",
              "| 23 |  5 |\n",
              "| 37 |  7 |\n",
              "| 38 |  3 |\n",
              "| 44 |  2 |\n",
              "| 50 |  4 |\n",
              "| 51 |  8 |\n",
              "| 63 | 11 |\n",
              "| 75 | 17 |\n",
              "| 161 | 13 |\n",
              "\n"
            ],
            "text/plain": [
              "    Anos.de.Estudo\n",
              "1   12            \n",
              "3   15            \n",
              "4    6            \n",
              "5    9            \n",
              "9   14            \n",
              "16  16            \n",
              "17  10            \n",
              "21   1            \n",
              "23   5            \n",
              "37   7            \n",
              "38   3            \n",
              "44   2            \n",
              "50   4            \n",
              "51   8            \n",
              "63  11            \n",
              "75  17            \n",
              "161 13            "
            ]
          },
          "metadata": {},
          "output_type": "display_data"
        }
      ],
      "source": [
        "unique(select(dados, Anos.de.Estudo))"
      ]
    },
    {
      "cell_type": "code",
      "execution_count": null,
      "metadata": {
        "colab": {
          "base_uri": "https://localhost:8080/",
          "height": 649
        },
        "id": "9iwAMX0qrpKU",
        "outputId": "c8d983f1-e234-40be-f0dc-785774822e8c",
        "scrolled": true
      },
      "outputs": [
        {
          "data": {
            "text/html": [
              "<table class=\"dataframe\">\n",
              "<caption>A data.frame: 17 × 1</caption>\n",
              "<thead>\n",
              "\t<tr><th scope=col>Anos.de.Estudo</th></tr>\n",
              "\t<tr><th scope=col>&lt;int&gt;</th></tr>\n",
              "</thead>\n",
              "<tbody>\n",
              "\t<tr><td> 1</td></tr>\n",
              "\t<tr><td> 2</td></tr>\n",
              "\t<tr><td> 3</td></tr>\n",
              "\t<tr><td> 4</td></tr>\n",
              "\t<tr><td> 5</td></tr>\n",
              "\t<tr><td> 6</td></tr>\n",
              "\t<tr><td> 7</td></tr>\n",
              "\t<tr><td> 8</td></tr>\n",
              "\t<tr><td> 9</td></tr>\n",
              "\t<tr><td>10</td></tr>\n",
              "\t<tr><td>11</td></tr>\n",
              "\t<tr><td>12</td></tr>\n",
              "\t<tr><td>13</td></tr>\n",
              "\t<tr><td>14</td></tr>\n",
              "\t<tr><td>15</td></tr>\n",
              "\t<tr><td>16</td></tr>\n",
              "\t<tr><td>17</td></tr>\n",
              "</tbody>\n",
              "</table>\n"
            ],
            "text/latex": [
              "A data.frame: 17 × 1\n",
              "\\begin{tabular}{l}\n",
              " Anos.de.Estudo\\\\\n",
              " <int>\\\\\n",
              "\\hline\n",
              "\t  1\\\\\n",
              "\t  2\\\\\n",
              "\t  3\\\\\n",
              "\t  4\\\\\n",
              "\t  5\\\\\n",
              "\t  6\\\\\n",
              "\t  7\\\\\n",
              "\t  8\\\\\n",
              "\t  9\\\\\n",
              "\t 10\\\\\n",
              "\t 11\\\\\n",
              "\t 12\\\\\n",
              "\t 13\\\\\n",
              "\t 14\\\\\n",
              "\t 15\\\\\n",
              "\t 16\\\\\n",
              "\t 17\\\\\n",
              "\\end{tabular}\n"
            ],
            "text/markdown": [
              "\n",
              "A data.frame: 17 × 1\n",
              "\n",
              "| Anos.de.Estudo &lt;int&gt; |\n",
              "|---|\n",
              "|  1 |\n",
              "|  2 |\n",
              "|  3 |\n",
              "|  4 |\n",
              "|  5 |\n",
              "|  6 |\n",
              "|  7 |\n",
              "|  8 |\n",
              "|  9 |\n",
              "| 10 |\n",
              "| 11 |\n",
              "| 12 |\n",
              "| 13 |\n",
              "| 14 |\n",
              "| 15 |\n",
              "| 16 |\n",
              "| 17 |\n",
              "\n"
            ],
            "text/plain": [
              "   Anos.de.Estudo\n",
              "1   1            \n",
              "2   2            \n",
              "3   3            \n",
              "4   4            \n",
              "5   5            \n",
              "6   6            \n",
              "7   7            \n",
              "8   8            \n",
              "9   9            \n",
              "10 10            \n",
              "11 11            \n",
              "12 12            \n",
              "13 13            \n",
              "14 14            \n",
              "15 15            \n",
              "16 16            \n",
              "17 17            "
            ]
          },
          "metadata": {},
          "output_type": "display_data"
        }
      ],
      "source": [
        "arrange(unique(select(dados, Anos.de.Estudo)), Anos.de.Estudo)"
      ]
    },
    {
      "cell_type": "code",
      "execution_count": null,
      "metadata": {
        "colab": {
          "base_uri": "https://localhost:8080/",
          "height": 1000
        },
        "id": "hdAfbltarpKU",
        "outputId": "413e75c3-a178-4dbd-89dc-160a7cfe14c3"
      },
      "outputs": [
        {
          "data": {
            "text/html": [
              "<table class=\"dataframe\">\n",
              "<caption>A data.frame: 76840 × 7</caption>\n",
              "<thead>\n",
              "\t<tr><th scope=col>UF</th><th scope=col>Sexo</th><th scope=col>Idade</th><th scope=col>Cor</th><th scope=col>Anos.de.Estudo</th><th scope=col>Renda</th><th scope=col>Altura</th></tr>\n",
              "\t<tr><th scope=col>&lt;int&gt;</th><th scope=col>&lt;int&gt;</th><th scope=col>&lt;int&gt;</th><th scope=col>&lt;int&gt;</th><th scope=col>&lt;int&gt;</th><th scope=col>&lt;int&gt;</th><th scope=col>&lt;dbl&gt;</th></tr>\n",
              "</thead>\n",
              "<tbody>\n",
              "\t<tr><td>11</td><td>0</td><td>69</td><td>8</td><td>1</td><td> 3030</td><td>1.746351</td></tr>\n",
              "\t<tr><td>11</td><td>0</td><td>30</td><td>8</td><td>1</td><td>  920</td><td>1.685591</td></tr>\n",
              "\t<tr><td>11</td><td>0</td><td>62</td><td>8</td><td>1</td><td> 1300</td><td>1.632130</td></tr>\n",
              "\t<tr><td>11</td><td>0</td><td>44</td><td>2</td><td>1</td><td>  800</td><td>1.701975</td></tr>\n",
              "\t<tr><td>11</td><td>0</td><td>73</td><td>8</td><td>1</td><td>    0</td><td>1.799846</td></tr>\n",
              "\t<tr><td>11</td><td>0</td><td>60</td><td>4</td><td>1</td><td> 1400</td><td>1.650203</td></tr>\n",
              "\t<tr><td>11</td><td>0</td><td>46</td><td>2</td><td>1</td><td> 2000</td><td>1.713904</td></tr>\n",
              "\t<tr><td>11</td><td>1</td><td>46</td><td>8</td><td>1</td><td>  550</td><td>1.591341</td></tr>\n",
              "\t<tr><td>11</td><td>1</td><td>49</td><td>8</td><td>1</td><td> 1200</td><td>1.632011</td></tr>\n",
              "\t<tr><td>11</td><td>0</td><td>67</td><td>4</td><td>1</td><td> 1500</td><td>1.763905</td></tr>\n",
              "\t<tr><td>11</td><td>1</td><td>66</td><td>2</td><td>1</td><td> 1600</td><td>1.826378</td></tr>\n",
              "\t<tr><td>11</td><td>1</td><td>54</td><td>8</td><td>1</td><td>  400</td><td>1.738933</td></tr>\n",
              "\t<tr><td>11</td><td>0</td><td>73</td><td>2</td><td>1</td><td> 1000</td><td>1.553526</td></tr>\n",
              "\t<tr><td>11</td><td>0</td><td>41</td><td>4</td><td>1</td><td> 3000</td><td>1.778036</td></tr>\n",
              "\t<tr><td>11</td><td>0</td><td>50</td><td>8</td><td>1</td><td> 1000</td><td>1.743165</td></tr>\n",
              "\t<tr><td>11</td><td>0</td><td>53</td><td>8</td><td>1</td><td> 1400</td><td>1.554162</td></tr>\n",
              "\t<tr><td>11</td><td>0</td><td>55</td><td>8</td><td>1</td><td> 1000</td><td>1.727907</td></tr>\n",
              "\t<tr><td>11</td><td>0</td><td>31</td><td>4</td><td>1</td><td> 1000</td><td>1.758268</td></tr>\n",
              "\t<tr><td>11</td><td>0</td><td>48</td><td>2</td><td>1</td><td> 2000</td><td>1.607342</td></tr>\n",
              "\t<tr><td>11</td><td>0</td><td>41</td><td>2</td><td>1</td><td>  250</td><td>1.811848</td></tr>\n",
              "\t<tr><td>11</td><td>0</td><td>67</td><td>8</td><td>1</td><td> 1000</td><td>1.644000</td></tr>\n",
              "\t<tr><td>11</td><td>0</td><td>77</td><td>8</td><td>1</td><td>  250</td><td>1.791421</td></tr>\n",
              "\t<tr><td>11</td><td>0</td><td>58</td><td>2</td><td>1</td><td>10000</td><td>1.722839</td></tr>\n",
              "\t<tr><td>11</td><td>0</td><td>52</td><td>8</td><td>1</td><td> 2500</td><td>1.753328</td></tr>\n",
              "\t<tr><td>11</td><td>0</td><td>59</td><td>2</td><td>1</td><td>  788</td><td>1.784692</td></tr>\n",
              "\t<tr><td>11</td><td>1</td><td>43</td><td>8</td><td>1</td><td>  600</td><td>1.610422</td></tr>\n",
              "\t<tr><td>11</td><td>0</td><td>39</td><td>8</td><td>1</td><td>  788</td><td>1.587157</td></tr>\n",
              "\t<tr><td>11</td><td>1</td><td>45</td><td>8</td><td>1</td><td> 1800</td><td>1.709539</td></tr>\n",
              "\t<tr><td>11</td><td>0</td><td>69</td><td>2</td><td>1</td><td>  850</td><td>1.699978</td></tr>\n",
              "\t<tr><td>11</td><td>0</td><td>54</td><td>8</td><td>1</td><td> 1500</td><td>1.793829</td></tr>\n",
              "\t<tr><td>⋮</td><td>⋮</td><td>⋮</td><td>⋮</td><td>⋮</td><td>⋮</td><td>⋮</td></tr>\n",
              "\t<tr><td>42</td><td>1</td><td>43</td><td>8</td><td>17</td><td> 788</td><td>1.653642</td></tr>\n",
              "\t<tr><td>42</td><td>0</td><td>43</td><td>2</td><td>17</td><td>1500</td><td>1.583222</td></tr>\n",
              "\t<tr><td>43</td><td>1</td><td>60</td><td>4</td><td>17</td><td> 789</td><td>1.582891</td></tr>\n",
              "\t<tr><td>43</td><td>0</td><td>30</td><td>2</td><td>17</td><td>1500</td><td>1.708427</td></tr>\n",
              "\t<tr><td>43</td><td>0</td><td>31</td><td>2</td><td>17</td><td>1700</td><td>1.697618</td></tr>\n",
              "\t<tr><td>43</td><td>1</td><td>24</td><td>2</td><td>17</td><td> 788</td><td>1.700905</td></tr>\n",
              "\t<tr><td>43</td><td>1</td><td>46</td><td>2</td><td>17</td><td>1500</td><td>1.716169</td></tr>\n",
              "\t<tr><td>43</td><td>1</td><td>21</td><td>4</td><td>17</td><td>1000</td><td>1.744484</td></tr>\n",
              "\t<tr><td>43</td><td>1</td><td>46</td><td>2</td><td>17</td><td> 650</td><td>1.787453</td></tr>\n",
              "\t<tr><td>50</td><td>0</td><td>33</td><td>8</td><td>17</td><td> 750</td><td>1.582066</td></tr>\n",
              "\t<tr><td>50</td><td>1</td><td>51</td><td>8</td><td>17</td><td> 280</td><td>1.713965</td></tr>\n",
              "\t<tr><td>50</td><td>0</td><td>30</td><td>2</td><td>17</td><td>3600</td><td>1.710480</td></tr>\n",
              "\t<tr><td>50</td><td>0</td><td>22</td><td>2</td><td>17</td><td> 878</td><td>1.892150</td></tr>\n",
              "\t<tr><td>50</td><td>0</td><td>29</td><td>8</td><td>17</td><td> 500</td><td>1.673561</td></tr>\n",
              "\t<tr><td>51</td><td>0</td><td>36</td><td>8</td><td>17</td><td>1000</td><td>1.616403</td></tr>\n",
              "\t<tr><td>51</td><td>0</td><td>53</td><td>8</td><td>17</td><td> 900</td><td>1.835207</td></tr>\n",
              "\t<tr><td>51</td><td>1</td><td>47</td><td>8</td><td>17</td><td>1200</td><td>1.582322</td></tr>\n",
              "\t<tr><td>51</td><td>1</td><td>39</td><td>8</td><td>17</td><td>1000</td><td>1.821217</td></tr>\n",
              "\t<tr><td>52</td><td>1</td><td>48</td><td>8</td><td>17</td><td> 930</td><td>1.760413</td></tr>\n",
              "\t<tr><td>52</td><td>1</td><td>29</td><td>4</td><td>17</td><td>1500</td><td>1.657153</td></tr>\n",
              "\t<tr><td>52</td><td>1</td><td>31</td><td>8</td><td>17</td><td> 788</td><td>1.711202</td></tr>\n",
              "\t<tr><td>52</td><td>1</td><td>35</td><td>8</td><td>17</td><td> 788</td><td>1.655922</td></tr>\n",
              "\t<tr><td>52</td><td>0</td><td>18</td><td>2</td><td>17</td><td>1500</td><td>1.603257</td></tr>\n",
              "\t<tr><td>53</td><td>0</td><td>19</td><td>8</td><td>17</td><td>1100</td><td>1.689439</td></tr>\n",
              "\t<tr><td>53</td><td>1</td><td>40</td><td>2</td><td>17</td><td> 840</td><td>1.779406</td></tr>\n",
              "\t<tr><td>53</td><td>1</td><td>56</td><td>8</td><td>17</td><td> 300</td><td>1.662716</td></tr>\n",
              "\t<tr><td>53</td><td>1</td><td>22</td><td>2</td><td>17</td><td> 788</td><td>1.697261</td></tr>\n",
              "\t<tr><td>53</td><td>1</td><td>45</td><td>4</td><td>17</td><td>1200</td><td>1.637250</td></tr>\n",
              "\t<tr><td>53</td><td>1</td><td>58</td><td>4</td><td>17</td><td>3000</td><td>1.751843</td></tr>\n",
              "\t<tr><td>53</td><td>1</td><td>36</td><td>8</td><td>17</td><td>1200</td><td>1.630678</td></tr>\n",
              "</tbody>\n",
              "</table>\n"
            ],
            "text/latex": [
              "A data.frame: 76840 × 7\n",
              "\\begin{tabular}{lllllll}\n",
              " UF & Sexo & Idade & Cor & Anos.de.Estudo & Renda & Altura\\\\\n",
              " <int> & <int> & <int> & <int> & <int> & <int> & <dbl>\\\\\n",
              "\\hline\n",
              "\t 11 & 0 & 69 & 8 & 1 &  3030 & 1.746351\\\\\n",
              "\t 11 & 0 & 30 & 8 & 1 &   920 & 1.685591\\\\\n",
              "\t 11 & 0 & 62 & 8 & 1 &  1300 & 1.632130\\\\\n",
              "\t 11 & 0 & 44 & 2 & 1 &   800 & 1.701975\\\\\n",
              "\t 11 & 0 & 73 & 8 & 1 &     0 & 1.799846\\\\\n",
              "\t 11 & 0 & 60 & 4 & 1 &  1400 & 1.650203\\\\\n",
              "\t 11 & 0 & 46 & 2 & 1 &  2000 & 1.713904\\\\\n",
              "\t 11 & 1 & 46 & 8 & 1 &   550 & 1.591341\\\\\n",
              "\t 11 & 1 & 49 & 8 & 1 &  1200 & 1.632011\\\\\n",
              "\t 11 & 0 & 67 & 4 & 1 &  1500 & 1.763905\\\\\n",
              "\t 11 & 1 & 66 & 2 & 1 &  1600 & 1.826378\\\\\n",
              "\t 11 & 1 & 54 & 8 & 1 &   400 & 1.738933\\\\\n",
              "\t 11 & 0 & 73 & 2 & 1 &  1000 & 1.553526\\\\\n",
              "\t 11 & 0 & 41 & 4 & 1 &  3000 & 1.778036\\\\\n",
              "\t 11 & 0 & 50 & 8 & 1 &  1000 & 1.743165\\\\\n",
              "\t 11 & 0 & 53 & 8 & 1 &  1400 & 1.554162\\\\\n",
              "\t 11 & 0 & 55 & 8 & 1 &  1000 & 1.727907\\\\\n",
              "\t 11 & 0 & 31 & 4 & 1 &  1000 & 1.758268\\\\\n",
              "\t 11 & 0 & 48 & 2 & 1 &  2000 & 1.607342\\\\\n",
              "\t 11 & 0 & 41 & 2 & 1 &   250 & 1.811848\\\\\n",
              "\t 11 & 0 & 67 & 8 & 1 &  1000 & 1.644000\\\\\n",
              "\t 11 & 0 & 77 & 8 & 1 &   250 & 1.791421\\\\\n",
              "\t 11 & 0 & 58 & 2 & 1 & 10000 & 1.722839\\\\\n",
              "\t 11 & 0 & 52 & 8 & 1 &  2500 & 1.753328\\\\\n",
              "\t 11 & 0 & 59 & 2 & 1 &   788 & 1.784692\\\\\n",
              "\t 11 & 1 & 43 & 8 & 1 &   600 & 1.610422\\\\\n",
              "\t 11 & 0 & 39 & 8 & 1 &   788 & 1.587157\\\\\n",
              "\t 11 & 1 & 45 & 8 & 1 &  1800 & 1.709539\\\\\n",
              "\t 11 & 0 & 69 & 2 & 1 &   850 & 1.699978\\\\\n",
              "\t 11 & 0 & 54 & 8 & 1 &  1500 & 1.793829\\\\\n",
              "\t ⋮ & ⋮ & ⋮ & ⋮ & ⋮ & ⋮ & ⋮\\\\\n",
              "\t 42 & 1 & 43 & 8 & 17 &  788 & 1.653642\\\\\n",
              "\t 42 & 0 & 43 & 2 & 17 & 1500 & 1.583222\\\\\n",
              "\t 43 & 1 & 60 & 4 & 17 &  789 & 1.582891\\\\\n",
              "\t 43 & 0 & 30 & 2 & 17 & 1500 & 1.708427\\\\\n",
              "\t 43 & 0 & 31 & 2 & 17 & 1700 & 1.697618\\\\\n",
              "\t 43 & 1 & 24 & 2 & 17 &  788 & 1.700905\\\\\n",
              "\t 43 & 1 & 46 & 2 & 17 & 1500 & 1.716169\\\\\n",
              "\t 43 & 1 & 21 & 4 & 17 & 1000 & 1.744484\\\\\n",
              "\t 43 & 1 & 46 & 2 & 17 &  650 & 1.787453\\\\\n",
              "\t 50 & 0 & 33 & 8 & 17 &  750 & 1.582066\\\\\n",
              "\t 50 & 1 & 51 & 8 & 17 &  280 & 1.713965\\\\\n",
              "\t 50 & 0 & 30 & 2 & 17 & 3600 & 1.710480\\\\\n",
              "\t 50 & 0 & 22 & 2 & 17 &  878 & 1.892150\\\\\n",
              "\t 50 & 0 & 29 & 8 & 17 &  500 & 1.673561\\\\\n",
              "\t 51 & 0 & 36 & 8 & 17 & 1000 & 1.616403\\\\\n",
              "\t 51 & 0 & 53 & 8 & 17 &  900 & 1.835207\\\\\n",
              "\t 51 & 1 & 47 & 8 & 17 & 1200 & 1.582322\\\\\n",
              "\t 51 & 1 & 39 & 8 & 17 & 1000 & 1.821217\\\\\n",
              "\t 52 & 1 & 48 & 8 & 17 &  930 & 1.760413\\\\\n",
              "\t 52 & 1 & 29 & 4 & 17 & 1500 & 1.657153\\\\\n",
              "\t 52 & 1 & 31 & 8 & 17 &  788 & 1.711202\\\\\n",
              "\t 52 & 1 & 35 & 8 & 17 &  788 & 1.655922\\\\\n",
              "\t 52 & 0 & 18 & 2 & 17 & 1500 & 1.603257\\\\\n",
              "\t 53 & 0 & 19 & 8 & 17 & 1100 & 1.689439\\\\\n",
              "\t 53 & 1 & 40 & 2 & 17 &  840 & 1.779406\\\\\n",
              "\t 53 & 1 & 56 & 8 & 17 &  300 & 1.662716\\\\\n",
              "\t 53 & 1 & 22 & 2 & 17 &  788 & 1.697261\\\\\n",
              "\t 53 & 1 & 45 & 4 & 17 & 1200 & 1.637250\\\\\n",
              "\t 53 & 1 & 58 & 4 & 17 & 3000 & 1.751843\\\\\n",
              "\t 53 & 1 & 36 & 8 & 17 & 1200 & 1.630678\\\\\n",
              "\\end{tabular}\n"
            ],
            "text/markdown": [
              "\n",
              "A data.frame: 76840 × 7\n",
              "\n",
              "| UF &lt;int&gt; | Sexo &lt;int&gt; | Idade &lt;int&gt; | Cor &lt;int&gt; | Anos.de.Estudo &lt;int&gt; | Renda &lt;int&gt; | Altura &lt;dbl&gt; |\n",
              "|---|---|---|---|---|---|---|\n",
              "| 11 | 0 | 69 | 8 | 1 |  3030 | 1.746351 |\n",
              "| 11 | 0 | 30 | 8 | 1 |   920 | 1.685591 |\n",
              "| 11 | 0 | 62 | 8 | 1 |  1300 | 1.632130 |\n",
              "| 11 | 0 | 44 | 2 | 1 |   800 | 1.701975 |\n",
              "| 11 | 0 | 73 | 8 | 1 |     0 | 1.799846 |\n",
              "| 11 | 0 | 60 | 4 | 1 |  1400 | 1.650203 |\n",
              "| 11 | 0 | 46 | 2 | 1 |  2000 | 1.713904 |\n",
              "| 11 | 1 | 46 | 8 | 1 |   550 | 1.591341 |\n",
              "| 11 | 1 | 49 | 8 | 1 |  1200 | 1.632011 |\n",
              "| 11 | 0 | 67 | 4 | 1 |  1500 | 1.763905 |\n",
              "| 11 | 1 | 66 | 2 | 1 |  1600 | 1.826378 |\n",
              "| 11 | 1 | 54 | 8 | 1 |   400 | 1.738933 |\n",
              "| 11 | 0 | 73 | 2 | 1 |  1000 | 1.553526 |\n",
              "| 11 | 0 | 41 | 4 | 1 |  3000 | 1.778036 |\n",
              "| 11 | 0 | 50 | 8 | 1 |  1000 | 1.743165 |\n",
              "| 11 | 0 | 53 | 8 | 1 |  1400 | 1.554162 |\n",
              "| 11 | 0 | 55 | 8 | 1 |  1000 | 1.727907 |\n",
              "| 11 | 0 | 31 | 4 | 1 |  1000 | 1.758268 |\n",
              "| 11 | 0 | 48 | 2 | 1 |  2000 | 1.607342 |\n",
              "| 11 | 0 | 41 | 2 | 1 |   250 | 1.811848 |\n",
              "| 11 | 0 | 67 | 8 | 1 |  1000 | 1.644000 |\n",
              "| 11 | 0 | 77 | 8 | 1 |   250 | 1.791421 |\n",
              "| 11 | 0 | 58 | 2 | 1 | 10000 | 1.722839 |\n",
              "| 11 | 0 | 52 | 8 | 1 |  2500 | 1.753328 |\n",
              "| 11 | 0 | 59 | 2 | 1 |   788 | 1.784692 |\n",
              "| 11 | 1 | 43 | 8 | 1 |   600 | 1.610422 |\n",
              "| 11 | 0 | 39 | 8 | 1 |   788 | 1.587157 |\n",
              "| 11 | 1 | 45 | 8 | 1 |  1800 | 1.709539 |\n",
              "| 11 | 0 | 69 | 2 | 1 |   850 | 1.699978 |\n",
              "| 11 | 0 | 54 | 8 | 1 |  1500 | 1.793829 |\n",
              "| ⋮ | ⋮ | ⋮ | ⋮ | ⋮ | ⋮ | ⋮ |\n",
              "| 42 | 1 | 43 | 8 | 17 |  788 | 1.653642 |\n",
              "| 42 | 0 | 43 | 2 | 17 | 1500 | 1.583222 |\n",
              "| 43 | 1 | 60 | 4 | 17 |  789 | 1.582891 |\n",
              "| 43 | 0 | 30 | 2 | 17 | 1500 | 1.708427 |\n",
              "| 43 | 0 | 31 | 2 | 17 | 1700 | 1.697618 |\n",
              "| 43 | 1 | 24 | 2 | 17 |  788 | 1.700905 |\n",
              "| 43 | 1 | 46 | 2 | 17 | 1500 | 1.716169 |\n",
              "| 43 | 1 | 21 | 4 | 17 | 1000 | 1.744484 |\n",
              "| 43 | 1 | 46 | 2 | 17 |  650 | 1.787453 |\n",
              "| 50 | 0 | 33 | 8 | 17 |  750 | 1.582066 |\n",
              "| 50 | 1 | 51 | 8 | 17 |  280 | 1.713965 |\n",
              "| 50 | 0 | 30 | 2 | 17 | 3600 | 1.710480 |\n",
              "| 50 | 0 | 22 | 2 | 17 |  878 | 1.892150 |\n",
              "| 50 | 0 | 29 | 8 | 17 |  500 | 1.673561 |\n",
              "| 51 | 0 | 36 | 8 | 17 | 1000 | 1.616403 |\n",
              "| 51 | 0 | 53 | 8 | 17 |  900 | 1.835207 |\n",
              "| 51 | 1 | 47 | 8 | 17 | 1200 | 1.582322 |\n",
              "| 51 | 1 | 39 | 8 | 17 | 1000 | 1.821217 |\n",
              "| 52 | 1 | 48 | 8 | 17 |  930 | 1.760413 |\n",
              "| 52 | 1 | 29 | 4 | 17 | 1500 | 1.657153 |\n",
              "| 52 | 1 | 31 | 8 | 17 |  788 | 1.711202 |\n",
              "| 52 | 1 | 35 | 8 | 17 |  788 | 1.655922 |\n",
              "| 52 | 0 | 18 | 2 | 17 | 1500 | 1.603257 |\n",
              "| 53 | 0 | 19 | 8 | 17 | 1100 | 1.689439 |\n",
              "| 53 | 1 | 40 | 2 | 17 |  840 | 1.779406 |\n",
              "| 53 | 1 | 56 | 8 | 17 |  300 | 1.662716 |\n",
              "| 53 | 1 | 22 | 2 | 17 |  788 | 1.697261 |\n",
              "| 53 | 1 | 45 | 4 | 17 | 1200 | 1.637250 |\n",
              "| 53 | 1 | 58 | 4 | 17 | 3000 | 1.751843 |\n",
              "| 53 | 1 | 36 | 8 | 17 | 1200 | 1.630678 |\n",
              "\n"
            ],
            "text/plain": [
              "      UF Sexo Idade Cor Anos.de.Estudo Renda Altura  \n",
              "1     11 0    69    8   1               3030 1.746351\n",
              "2     11 0    30    8   1                920 1.685591\n",
              "3     11 0    62    8   1               1300 1.632130\n",
              "4     11 0    44    2   1                800 1.701975\n",
              "5     11 0    73    8   1                  0 1.799846\n",
              "6     11 0    60    4   1               1400 1.650203\n",
              "7     11 0    46    2   1               2000 1.713904\n",
              "8     11 1    46    8   1                550 1.591341\n",
              "9     11 1    49    8   1               1200 1.632011\n",
              "10    11 0    67    4   1               1500 1.763905\n",
              "11    11 1    66    2   1               1600 1.826378\n",
              "12    11 1    54    8   1                400 1.738933\n",
              "13    11 0    73    2   1               1000 1.553526\n",
              "14    11 0    41    4   1               3000 1.778036\n",
              "15    11 0    50    8   1               1000 1.743165\n",
              "16    11 0    53    8   1               1400 1.554162\n",
              "17    11 0    55    8   1               1000 1.727907\n",
              "18    11 0    31    4   1               1000 1.758268\n",
              "19    11 0    48    2   1               2000 1.607342\n",
              "20    11 0    41    2   1                250 1.811848\n",
              "21    11 0    67    8   1               1000 1.644000\n",
              "22    11 0    77    8   1                250 1.791421\n",
              "23    11 0    58    2   1              10000 1.722839\n",
              "24    11 0    52    8   1               2500 1.753328\n",
              "25    11 0    59    2   1                788 1.784692\n",
              "26    11 1    43    8   1                600 1.610422\n",
              "27    11 0    39    8   1                788 1.587157\n",
              "28    11 1    45    8   1               1800 1.709539\n",
              "29    11 0    69    2   1                850 1.699978\n",
              "30    11 0    54    8   1               1500 1.793829\n",
              "⋮     ⋮  ⋮    ⋮     ⋮   ⋮              ⋮     ⋮       \n",
              "76811 42 1    43    8   17              788  1.653642\n",
              "76812 42 0    43    2   17             1500  1.583222\n",
              "76813 43 1    60    4   17              789  1.582891\n",
              "76814 43 0    30    2   17             1500  1.708427\n",
              "76815 43 0    31    2   17             1700  1.697618\n",
              "76816 43 1    24    2   17              788  1.700905\n",
              "76817 43 1    46    2   17             1500  1.716169\n",
              "76818 43 1    21    4   17             1000  1.744484\n",
              "76819 43 1    46    2   17              650  1.787453\n",
              "76820 50 0    33    8   17              750  1.582066\n",
              "76821 50 1    51    8   17              280  1.713965\n",
              "76822 50 0    30    2   17             3600  1.710480\n",
              "76823 50 0    22    2   17              878  1.892150\n",
              "76824 50 0    29    8   17              500  1.673561\n",
              "76825 51 0    36    8   17             1000  1.616403\n",
              "76826 51 0    53    8   17              900  1.835207\n",
              "76827 51 1    47    8   17             1200  1.582322\n",
              "76828 51 1    39    8   17             1000  1.821217\n",
              "76829 52 1    48    8   17              930  1.760413\n",
              "76830 52 1    29    4   17             1500  1.657153\n",
              "76831 52 1    31    8   17              788  1.711202\n",
              "76832 52 1    35    8   17              788  1.655922\n",
              "76833 52 0    18    2   17             1500  1.603257\n",
              "76834 53 0    19    8   17             1100  1.689439\n",
              "76835 53 1    40    2   17              840  1.779406\n",
              "76836 53 1    56    8   17              300  1.662716\n",
              "76837 53 1    22    2   17              788  1.697261\n",
              "76838 53 1    45    4   17             1200  1.637250\n",
              "76839 53 1    58    4   17             3000  1.751843\n",
              "76840 53 1    36    8   17             1200  1.630678"
            ]
          },
          "metadata": {},
          "output_type": "display_data"
        }
      ],
      "source": [
        "arrange(dados, Anos.de.Estudo)"
      ]
    },
    {
      "cell_type": "code",
      "execution_count": null,
      "metadata": {
        "colab": {
          "base_uri": "https://localhost:8080/",
          "height": 52
        },
        "id": "4KCXXjX3187g",
        "outputId": "cc44e4dd-60f1-4b67-dd2e-a6c0872fe96c"
      },
      "outputs": [
        {
          "data": {
            "text/html": [
              "<strong>$Anos.de.Estudo</strong> = <style>\n",
              ".list-inline {list-style: none; margin:0; padding: 0}\n",
              ".list-inline>li {display: inline-block}\n",
              ".list-inline>li:not(:last-child)::after {content: \"\\00b7\"; padding: 0 .5ex}\n",
              "</style>\n",
              "<ol class=list-inline><li>1</li><li>2</li><li>3</li><li>4</li><li>5</li><li>6</li><li>7</li><li>8</li><li>9</li><li>10</li><li>11</li><li>12</li><li>13</li><li>14</li><li>15</li><li>16</li><li>17</li></ol>\n"
            ],
            "text/latex": [
              "\\textbf{\\$Anos.de.Estudo} = \\begin{enumerate*}\n",
              "\\item 1\n",
              "\\item 2\n",
              "\\item 3\n",
              "\\item 4\n",
              "\\item 5\n",
              "\\item 6\n",
              "\\item 7\n",
              "\\item 8\n",
              "\\item 9\n",
              "\\item 10\n",
              "\\item 11\n",
              "\\item 12\n",
              "\\item 13\n",
              "\\item 14\n",
              "\\item 15\n",
              "\\item 16\n",
              "\\item 17\n",
              "\\end{enumerate*}\n"
            ],
            "text/markdown": [
              "**$Anos.de.Estudo** = 1. 1\n",
              "2. 2\n",
              "3. 3\n",
              "4. 4\n",
              "5. 5\n",
              "6. 6\n",
              "7. 7\n",
              "8. 8\n",
              "9. 9\n",
              "10. 10\n",
              "11. 11\n",
              "12. 12\n",
              "13. 13\n",
              "14. 14\n",
              "15. 15\n",
              "16. 16\n",
              "17. 17\n",
              "\n",
              "\n"
            ],
            "text/plain": [
              "$Anos.de.Estudo\n",
              " [1]  1  2  3  4  5  6  7  8  9 10 11 12 13 14 15 16 17\n"
            ]
          },
          "metadata": {},
          "output_type": "display_data"
        }
      ],
      "source": [
        "c(arrange(unique(select(dados, Anos.de.Estudo)), Anos.de.Estudo))"
      ]
    },
    {
      "cell_type": "markdown",
      "metadata": {
        "id": "i2mCIMyojQKv"
      },
      "source": [
        "### Variáveis qualitativas nominais\n",
        "\n",
        "► Variáveis que não podem ser ordenadas ou hierarquizardas"
      ]
    },
    {
      "cell_type": "code",
      "execution_count": null,
      "metadata": {
        "colab": {
          "base_uri": "https://localhost:8080/",
          "height": 52
        },
        "id": "UhXM0dORrpKU",
        "outputId": "dfe9ca26-d153-4dfe-8e67-e5e07f5c0c94",
        "scrolled": true
      },
      "outputs": [
        {
          "data": {
            "text/html": [
              "<strong>$UF</strong> = <style>\n",
              ".list-inline {list-style: none; margin:0; padding: 0}\n",
              ".list-inline>li {display: inline-block}\n",
              ".list-inline>li:not(:last-child)::after {content: \"\\00b7\"; padding: 0 .5ex}\n",
              "</style>\n",
              "<ol class=list-inline><li>11</li><li>12</li><li>13</li><li>14</li><li>15</li><li>16</li><li>17</li><li>21</li><li>22</li><li>23</li><li>24</li><li>25</li><li>26</li><li>27</li><li>28</li><li>29</li><li>31</li><li>32</li><li>33</li><li>35</li><li>41</li><li>42</li><li>43</li><li>50</li><li>51</li><li>52</li><li>53</li></ol>\n"
            ],
            "text/latex": [
              "\\textbf{\\$UF} = \\begin{enumerate*}\n",
              "\\item 11\n",
              "\\item 12\n",
              "\\item 13\n",
              "\\item 14\n",
              "\\item 15\n",
              "\\item 16\n",
              "\\item 17\n",
              "\\item 21\n",
              "\\item 22\n",
              "\\item 23\n",
              "\\item 24\n",
              "\\item 25\n",
              "\\item 26\n",
              "\\item 27\n",
              "\\item 28\n",
              "\\item 29\n",
              "\\item 31\n",
              "\\item 32\n",
              "\\item 33\n",
              "\\item 35\n",
              "\\item 41\n",
              "\\item 42\n",
              "\\item 43\n",
              "\\item 50\n",
              "\\item 51\n",
              "\\item 52\n",
              "\\item 53\n",
              "\\end{enumerate*}\n"
            ],
            "text/markdown": [
              "**$UF** = 1. 11\n",
              "2. 12\n",
              "3. 13\n",
              "4. 14\n",
              "5. 15\n",
              "6. 16\n",
              "7. 17\n",
              "8. 21\n",
              "9. 22\n",
              "10. 23\n",
              "11. 24\n",
              "12. 25\n",
              "13. 26\n",
              "14. 27\n",
              "15. 28\n",
              "16. 29\n",
              "17. 31\n",
              "18. 32\n",
              "19. 33\n",
              "20. 35\n",
              "21. 41\n",
              "22. 42\n",
              "23. 43\n",
              "24. 50\n",
              "25. 51\n",
              "26. 52\n",
              "27. 53\n",
              "\n",
              "\n"
            ],
            "text/plain": [
              "$UF\n",
              " [1] 11 12 13 14 15 16 17 21 22 23 24 25 26 27 28 29 31 32 33 35 41 42 43 50 51\n",
              "[26] 52 53\n"
            ]
          },
          "metadata": {},
          "output_type": "display_data"
        }
      ],
      "source": [
        "c(arrange(unique(select(dados, UF)), UF))"
      ]
    },
    {
      "cell_type": "code",
      "execution_count": null,
      "metadata": {
        "colab": {
          "base_uri": "https://localhost:8080/",
          "height": 52
        },
        "id": "PIyO4hkBrpKV",
        "outputId": "d9962413-0819-4977-9cbd-33c1927fd454"
      },
      "outputs": [
        {
          "data": {
            "text/html": [
              "<strong>$Sexo</strong> = <style>\n",
              ".list-inline {list-style: none; margin:0; padding: 0}\n",
              ".list-inline>li {display: inline-block}\n",
              ".list-inline>li:not(:last-child)::after {content: \"\\00b7\"; padding: 0 .5ex}\n",
              "</style>\n",
              "<ol class=list-inline><li>0</li><li>1</li></ol>\n"
            ],
            "text/latex": [
              "\\textbf{\\$Sexo} = \\begin{enumerate*}\n",
              "\\item 0\n",
              "\\item 1\n",
              "\\end{enumerate*}\n"
            ],
            "text/markdown": [
              "**$Sexo** = 1. 0\n",
              "2. 1\n",
              "\n",
              "\n"
            ],
            "text/plain": [
              "$Sexo\n",
              "[1] 0 1\n"
            ]
          },
          "metadata": {},
          "output_type": "display_data"
        }
      ],
      "source": [
        "c(arrange(unique(select(dados, Sexo)), Sexo))"
      ]
    },
    {
      "cell_type": "code",
      "execution_count": null,
      "metadata": {
        "colab": {
          "base_uri": "https://localhost:8080/",
          "height": 52
        },
        "id": "6COqN491rpKV",
        "outputId": "a41d3c62-824b-48a2-9dc0-367b5ac3ae42"
      },
      "outputs": [
        {
          "data": {
            "text/html": [
              "<strong>$Cor</strong> = <style>\n",
              ".list-inline {list-style: none; margin:0; padding: 0}\n",
              ".list-inline>li {display: inline-block}\n",
              ".list-inline>li:not(:last-child)::after {content: \"\\00b7\"; padding: 0 .5ex}\n",
              "</style>\n",
              "<ol class=list-inline><li>0</li><li>2</li><li>4</li><li>6</li><li>8</li></ol>\n"
            ],
            "text/latex": [
              "\\textbf{\\$Cor} = \\begin{enumerate*}\n",
              "\\item 0\n",
              "\\item 2\n",
              "\\item 4\n",
              "\\item 6\n",
              "\\item 8\n",
              "\\end{enumerate*}\n"
            ],
            "text/markdown": [
              "**$Cor** = 1. 0\n",
              "2. 2\n",
              "3. 4\n",
              "4. 6\n",
              "5. 8\n",
              "\n",
              "\n"
            ],
            "text/plain": [
              "$Cor\n",
              "[1] 0 2 4 6 8\n"
            ]
          },
          "metadata": {},
          "output_type": "display_data"
        }
      ],
      "source": [
        "c(arrange(unique(select(dados, Cor)), Cor))"
      ]
    },
    {
      "cell_type": "markdown",
      "metadata": {
        "id": "FQhi81LsjQK5"
      },
      "source": [
        "### Variáveis quantitativas discretas\n",
        "\n",
        "► Variáveis que representam uma contagem onde os valores possíveis formam um conjunto finito ou enumerável."
      ]
    },
    {
      "cell_type": "code",
      "execution_count": null,
      "metadata": {
        "colab": {
          "base_uri": "https://localhost:8080/",
          "height": 34
        },
        "id": "Oc0jyDxOrpKV",
        "outputId": "64f9aab8-d62d-49e6-dd90-e3710f3224a7"
      },
      "outputs": [
        {
          "data": {
            "text/html": [
              "'De 13 até 99 anos'"
            ],
            "text/latex": [
              "'De 13 até 99 anos'"
            ],
            "text/markdown": [
              "'De 13 até 99 anos'"
            ],
            "text/plain": [
              "[1] \"De 13 até 99 anos\""
            ]
          },
          "metadata": {},
          "output_type": "display_data"
        }
      ],
      "source": [
        "sprintf('De %s até %s anos', min(dados$Idade), max(dados$Idade))"
      ]
    },
    {
      "cell_type": "code",
      "execution_count": null,
      "metadata": {
        "id": "mr-NE1k3rpKW"
      },
      "outputs": [],
      "source": [
        "library(glue)"
      ]
    },
    {
      "cell_type": "code",
      "execution_count": null,
      "metadata": {
        "colab": {
          "base_uri": "https://localhost:8080/",
          "height": 34
        },
        "id": "N4CZgPHRrpKW",
        "outputId": "be7bad68-af79-4985-940b-0f3cec866dda"
      },
      "outputs": [
        {
          "data": {
            "text/html": [
              "'De 13 até 99 anos'"
            ],
            "text/latex": [
              "'De 13 até 99 anos'"
            ],
            "text/markdown": [
              "'De 13 até 99 anos'"
            ],
            "text/plain": [
              "De 13 até 99 anos"
            ]
          },
          "metadata": {},
          "output_type": "display_data"
        }
      ],
      "source": [
        "glue('De {min(dados$Idade)} até {max(dados$Idade)} anos')"
      ]
    },
    {
      "cell_type": "markdown",
      "metadata": {
        "id": "7mMXLTukjQK-"
      },
      "source": [
        "#### <font color='red'>Observação</font>\n",
        "***\n",
        "> A variável idade pode ser classificada de três formas distintas:\n",
        "> 1. <b>QUANTITATIVA DISCRETA</b> - quando representa anos completos (números inteiros);\n",
        "> 2. <b>QUANTITATIVA CONTÍNUA</b> - quando representa a idade exata, sendo representado por frações de anos; e\n",
        "> 3. <b>QUALITATIVA ORDINAL</b> - quando representa faixas de idade."
      ]
    },
    {
      "cell_type": "markdown",
      "metadata": {
        "id": "J0L2OkaQjQK7"
      },
      "source": [
        "### Variáveis quantitativas contínuas\n",
        "\n",
        "► Variáveis que representam uma contagem ou mensuração que assumem valores em uma escala contínua (números reais)."
      ]
    },
    {
      "cell_type": "code",
      "execution_count": null,
      "metadata": {
        "colab": {
          "base_uri": "https://localhost:8080/",
          "height": 124
        },
        "id": "ATmPUDwXrpKX",
        "outputId": "7504e093-4c3e-4a10-b22d-21fa67e185f4"
      },
      "outputs": [
        {
          "data": {
            "text/html": [
              "'De 1.339244614 até 2.028496765 metros'"
            ],
            "text/latex": [
              "'De 1.339244614 até 2.028496765 metros'"
            ],
            "text/markdown": [
              "'De 1.339244614 até 2.028496765 metros'"
            ],
            "text/plain": [
              "De 1.339244614 até 2.028496765 metros"
            ]
          },
          "metadata": {},
          "output_type": "display_data"
        }
      ],
      "source": [
        "glue('De {min(dados$Altura)} até {max(dados$Altura)} metros')"
      ]
    },
    {
      "cell_type": "markdown",
      "metadata": {
        "id": "d_LW5gMIjQK_"
      },
      "source": [
        "### Classificação de uma variável\n",
        "<img src='https://caelum-online-public.s3.amazonaws.com/1177-estatistica-parte1/01/img001.png' width='70%'>"
      ]
    },
    {
      "cell_type": "markdown",
      "metadata": {
        "id": "PNIg_4VEjQK_"
      },
      "source": [
        "# <font color=green>2 DISTRIBUIÇÃO DE FREQUÊNCIAS</font>\n",
        "***\n",
        "\n",
        "O primeiro passo em um trabalho de análise é o conhecimento do comportamento das variáveis envolvidas no estudo. Utilizando técnicas estatísticas como as análises das <b>DISTRIBUIÇÕES DE FREQUÊNCIAS</b> e <b>HISTOGRAMAS</b> podemos avaliar melhor a forma como os fenômenos em estudo se distribuem."
      ]
    },
    {
      "cell_type": "markdown",
      "metadata": {
        "id": "JhpyjkEFjQLA"
      },
      "source": [
        "## <font color=green>2.1 Distribuição de frequências para variáveis qualitativas</font>\n",
        "***"
      ]
    },
    {
      "cell_type": "markdown",
      "metadata": {
        "id": "SsN3ikjqjQLB"
      },
      "source": [
        "### Método 1"
      ]
    },
    {
      "cell_type": "markdown",
      "metadata": {
        "id": "oAUsc8ekrpKY"
      },
      "source": [
        "### <font color=red>Documentações:\n",
        "\n",
        "- [**table**](https://www.rdocumentation.org/packages/base/versions/3.6.1/topics/table)\n",
        "- [**prop.table**](https://www.rdocumentation.org/packages/base/versions/3.6.1/topics/prop.table)\n",
        "- [**cbind**](https://www.rdocumentation.org/packages/base/versions/3.6.1/topics/cbind)\n",
        "- [**row+colnames**](https://www.rdocumentation.org/packages/base/versions/3.6.1/topics/row%2Bcolnames)"
      ]
    },
    {
      "cell_type": "code",
      "execution_count": null,
      "metadata": {
        "colab": {
          "base_uri": "https://localhost:8080/",
          "height": 69
        },
        "id": "MdRmp_MKrpKY",
        "outputId": "cde8d225-280f-4d6e-bad6-87aae2dbc9ae"
      },
      "outputs": [
        {
          "data": {
            "text/plain": [
              "\n",
              "    0     1 \n",
              "53250 23590 "
            ]
          },
          "metadata": {},
          "output_type": "display_data"
        }
      ],
      "source": [
        "table(dados$Sexo)"
      ]
    },
    {
      "cell_type": "code",
      "execution_count": null,
      "metadata": {
        "colab": {
          "base_uri": "https://localhost:8080/",
          "height": 147
        },
        "id": "_zS6eJaErpKZ",
        "outputId": "44bf49b9-6006-4f7b-f7d9-300396d4ef48"
      },
      "outputs": [
        {
          "data": {
            "text/html": [
              "<table class=\"dataframe\">\n",
              "<caption>A matrix: 2 × 2 of type dbl</caption>\n",
              "<thead>\n",
              "\t<tr><th></th><th scope=col>freq</th><th scope=col>percent</th></tr>\n",
              "</thead>\n",
              "<tbody>\n",
              "\t<tr><th scope=row>0</th><td>53250</td><td>69.29984</td></tr>\n",
              "\t<tr><th scope=row>1</th><td>23590</td><td>30.70016</td></tr>\n",
              "</tbody>\n",
              "</table>\n"
            ],
            "text/latex": [
              "A matrix: 2 × 2 of type dbl\n",
              "\\begin{tabular}{r|ll}\n",
              "  & freq & percent\\\\\n",
              "\\hline\n",
              "\t0 & 53250 & 69.29984\\\\\n",
              "\t1 & 23590 & 30.70016\\\\\n",
              "\\end{tabular}\n"
            ],
            "text/markdown": [
              "\n",
              "A matrix: 2 × 2 of type dbl\n",
              "\n",
              "| <!--/--> | freq | percent |\n",
              "|---|---|---|\n",
              "| 0 | 53250 | 69.29984 |\n",
              "| 1 | 23590 | 30.70016 |\n",
              "\n"
            ],
            "text/plain": [
              "  freq  percent \n",
              "0 53250 69.29984\n",
              "1 23590 30.70016"
            ]
          },
          "metadata": {},
          "output_type": "display_data"
        }
      ],
      "source": [
        "#prop.table(table(dados$Sexo)) * 100\n",
        "dist_freq_qualitativas <- cbind(freq = table(dados$Sexo), percent = prop.table(table(dados$Sexo)) * 100)\n",
        "dist_freq_qualitativas "
      ]
    },
    {
      "cell_type": "code",
      "execution_count": null,
      "metadata": {
        "colab": {
          "base_uri": "https://localhost:8080/",
          "height": 129
        },
        "id": "5yMd63p1rpKZ",
        "outputId": "d9281ee7-b953-4be8-9a27-0aad7396c3c2"
      },
      "outputs": [
        {
          "data": {
            "text/html": [
              "<table class=\"dataframe\">\n",
              "<caption>A matrix: 2 × 2 of type dbl</caption>\n",
              "<thead>\n",
              "\t<tr><th></th><th scope=col>Frequência</th><th scope=col>Porcentagem (%)</th></tr>\n",
              "</thead>\n",
              "<tbody>\n",
              "\t<tr><th scope=row>0</th><td>53250</td><td>69.29984</td></tr>\n",
              "\t<tr><th scope=row>1</th><td>23590</td><td>30.70016</td></tr>\n",
              "</tbody>\n",
              "</table>\n"
            ],
            "text/latex": [
              "A matrix: 2 × 2 of type dbl\n",
              "\\begin{tabular}{r|ll}\n",
              "  & Frequência & Porcentagem (\\%)\\\\\n",
              "\\hline\n",
              "\t0 & 53250 & 69.29984\\\\\n",
              "\t1 & 23590 & 30.70016\\\\\n",
              "\\end{tabular}\n"
            ],
            "text/markdown": [
              "\n",
              "A matrix: 2 × 2 of type dbl\n",
              "\n",
              "| <!--/--> | Frequência | Porcentagem (%) |\n",
              "|---|---|---|\n",
              "| 0 | 53250 | 69.29984 |\n",
              "| 1 | 23590 | 30.70016 |\n",
              "\n"
            ],
            "text/plain": [
              "  Frequência Porcentagem (%)\n",
              "0 53250      69.29984       \n",
              "1 23590      30.70016       "
            ]
          },
          "metadata": {},
          "output_type": "display_data"
        }
      ],
      "source": [
        "colnames(dist_freq_qualitativas) <- c('Frequência', 'Porcentagem (%)')\n",
        "dist_freq_qualitativas\n",
        "#c('Frequência', 'Porcentagem (%)')"
      ]
    },
    {
      "cell_type": "code",
      "execution_count": null,
      "metadata": {
        "colab": {
          "base_uri": "https://localhost:8080/",
          "height": 129
        },
        "id": "dzvnyYB8rpKZ",
        "outputId": "aa144630-8fd6-49c8-82b1-dcdf0e14ee71"
      },
      "outputs": [
        {
          "data": {
            "text/html": [
              "<table class=\"dataframe\">\n",
              "<caption>A matrix: 2 × 2 of type dbl</caption>\n",
              "<thead>\n",
              "\t<tr><th></th><th scope=col>Frequência</th><th scope=col>Porcentagem (%)</th></tr>\n",
              "</thead>\n",
              "<tbody>\n",
              "\t<tr><th scope=row>Masculino</th><td>53250</td><td>69.29984</td></tr>\n",
              "\t<tr><th scope=row>Feminino</th><td>23590</td><td>30.70016</td></tr>\n",
              "</tbody>\n",
              "</table>\n"
            ],
            "text/latex": [
              "A matrix: 2 × 2 of type dbl\n",
              "\\begin{tabular}{r|ll}\n",
              "  & Frequência & Porcentagem (\\%)\\\\\n",
              "\\hline\n",
              "\tMasculino & 53250 & 69.29984\\\\\n",
              "\tFeminino & 23590 & 30.70016\\\\\n",
              "\\end{tabular}\n"
            ],
            "text/markdown": [
              "\n",
              "A matrix: 2 × 2 of type dbl\n",
              "\n",
              "| <!--/--> | Frequência | Porcentagem (%) |\n",
              "|---|---|---|\n",
              "| Masculino | 53250 | 69.29984 |\n",
              "| Feminino | 23590 | 30.70016 |\n",
              "\n"
            ],
            "text/plain": [
              "          Frequência Porcentagem (%)\n",
              "Masculino 53250      69.29984       \n",
              "Feminino  23590      30.70016       "
            ]
          },
          "metadata": {},
          "output_type": "display_data"
        }
      ],
      "source": [
        "rownames(dist_freq_qualitativas) <- c('Masculino', 'Feminino')\n",
        "dist_freq_qualitativas\n",
        "#c('Masculino', 'Feminino')"
      ]
    },
    {
      "cell_type": "markdown",
      "metadata": {
        "id": "D82ocp_djQLR"
      },
      "source": [
        "### Método 2"
      ]
    },
    {
      "cell_type": "markdown",
      "metadata": {
        "id": "jmN6g_t4rpKa"
      },
      "source": [
        "### <font color=red>Documentações:\n",
        "\n",
        "- [**tapply**](https://www.rdocumentation.org/packages/base/versions/3.6.1/topics/tapply)"
      ]
    },
    {
      "cell_type": "code",
      "execution_count": null,
      "metadata": {
        "colab": {
          "base_uri": "https://localhost:8080/",
          "height": 402
        },
        "id": "PxZdHOeYrpKa",
        "outputId": "274978ad-b451-4d5c-c335-4fdaea9bd18e"
      },
      "outputs": [
        {
          "data": {
            "text/plain": [
              "   \n",
              "        0     2     4     6     8\n",
              "  0   256 22194  5502   235 25063\n",
              "  1   101  9621  2889   117 10862"
            ]
          },
          "metadata": {},
          "output_type": "display_data"
        }
      ],
      "source": [
        "frequencia <- table(dados$Sexo, dados$Cor)\n",
        "frequencia"
      ]
    },
    {
      "cell_type": "code",
      "execution_count": null,
      "metadata": {
        "colab": {
          "base_uri": "https://localhost:8080/",
          "height": 159
        },
        "id": "d8XMZiEfjQLS",
        "outputId": "4577753f-ee08-4f21-a3d5-fab9b413e58e"
      },
      "outputs": [
        {
          "data": {
            "text/html": [
              "<style>\n",
              ".list-inline {list-style: none; margin:0; padding: 0}\n",
              ".list-inline>li {display: inline-block}\n",
              ".list-inline>li:not(:last-child)::after {content: \"\\00b7\"; padding: 0 .5ex}\n",
              "</style>\n",
              "<ol class=list-inline><li>'Masculino'</li><li>'Feminino'</li></ol>\n"
            ],
            "text/latex": [
              "\\begin{enumerate*}\n",
              "\\item 'Masculino'\n",
              "\\item 'Feminino'\n",
              "\\end{enumerate*}\n"
            ],
            "text/markdown": [
              "1. 'Masculino'\n",
              "2. 'Feminino'\n",
              "\n",
              "\n"
            ],
            "text/plain": [
              "[1] \"Masculino\" \"Feminino\" "
            ]
          },
          "metadata": {},
          "output_type": "display_data"
        },
        {
          "data": {
            "text/html": [
              "<style>\n",
              ".list-inline {list-style: none; margin:0; padding: 0}\n",
              ".list-inline>li {display: inline-block}\n",
              ".list-inline>li:not(:last-child)::after {content: \"\\00b7\"; padding: 0 .5ex}\n",
              "</style>\n",
              "<ol class=list-inline><li>'Indígena'</li><li>'Branca'</li><li>'Preta'</li><li>'Amarela'</li><li>'Parda'</li></ol>\n"
            ],
            "text/latex": [
              "\\begin{enumerate*}\n",
              "\\item 'Indígena'\n",
              "\\item 'Branca'\n",
              "\\item 'Preta'\n",
              "\\item 'Amarela'\n",
              "\\item 'Parda'\n",
              "\\end{enumerate*}\n"
            ],
            "text/markdown": [
              "1. 'Indígena'\n",
              "2. 'Branca'\n",
              "3. 'Preta'\n",
              "4. 'Amarela'\n",
              "5. 'Parda'\n",
              "\n",
              "\n"
            ],
            "text/plain": [
              "[1] \"Indígena\" \"Branca\"   \"Preta\"    \"Amarela\"  \"Parda\"   "
            ]
          },
          "metadata": {},
          "output_type": "display_data"
        }
      ],
      "source": [
        "c('Masculino', 'Feminino')\n",
        "c('Indígena', 'Branca', 'Preta', 'Amarela', 'Parda')"
      ]
    },
    {
      "cell_type": "code",
      "execution_count": null,
      "metadata": {
        "colab": {
          "base_uri": "https://localhost:8080/",
          "height": 149
        },
        "id": "YLCyOKYcjQLU",
        "outputId": "8bd06631-b870-4e25-9de1-5cdc0fba3d95"
      },
      "outputs": [
        {
          "data": {
            "text/html": [
              "<table class=\"dataframe\">\n",
              "<caption>A matrix: 2 × 5 of type int</caption>\n",
              "<thead>\n",
              "\t<tr><th></th><th scope=col>Indígena</th><th scope=col>Branca</th><th scope=col>Preta</th><th scope=col>Amarela</th><th scope=col>Parda</th></tr>\n",
              "</thead>\n",
              "<tbody>\n",
              "\t<tr><th scope=row>Masculino</th><td>256</td><td>22194</td><td>5502</td><td>235</td><td>25063</td></tr>\n",
              "\t<tr><th scope=row>Feminino</th><td>101</td><td> 9621</td><td>2889</td><td>117</td><td>10862</td></tr>\n",
              "</tbody>\n",
              "</table>\n"
            ],
            "text/latex": [
              "A matrix: 2 × 5 of type int\n",
              "\\begin{tabular}{r|lllll}\n",
              "  & Indígena & Branca & Preta & Amarela & Parda\\\\\n",
              "\\hline\n",
              "\tMasculino & 256 & 22194 & 5502 & 235 & 25063\\\\\n",
              "\tFeminino & 101 &  9621 & 2889 & 117 & 10862\\\\\n",
              "\\end{tabular}\n"
            ],
            "text/markdown": [
              "\n",
              "A matrix: 2 × 5 of type int\n",
              "\n",
              "| <!--/--> | Indígena | Branca | Preta | Amarela | Parda |\n",
              "|---|---|---|---|---|---|\n",
              "| Masculino | 256 | 22194 | 5502 | 235 | 25063 |\n",
              "| Feminino | 101 |  9621 | 2889 | 117 | 10862 |\n",
              "\n"
            ],
            "text/plain": [
              "          Indígena Branca Preta Amarela Parda\n",
              "Masculino 256      22194  5502  235     25063\n",
              "Feminino  101       9621  2889  117     10862"
            ]
          },
          "metadata": {},
          "output_type": "display_data"
        }
      ],
      "source": [
        "rownames(frequencia) <- c('Masculino', 'Feminino')\n",
        "colnames(frequencia) <- c('Indígena', 'Branca', 'Preta', 'Amarela', 'Parda')\n",
        "frequencia <- cbind(frequencia)\n",
        "frequencia"
      ]
    },
    {
      "cell_type": "code",
      "execution_count": null,
      "metadata": {
        "colab": {
          "base_uri": "https://localhost:8080/",
          "height": 149
        },
        "id": "L0k2nnmXrpKb",
        "outputId": "e0224775-cbf3-4ee8-c897-49765ce2e56a"
      },
      "outputs": [
        {
          "data": {
            "text/html": [
              "<table class=\"dataframe\">\n",
              "<caption>A matrix: 2 × 5 of type dbl</caption>\n",
              "<thead>\n",
              "\t<tr><th></th><th scope=col>Indígena</th><th scope=col>Branca</th><th scope=col>Preta</th><th scope=col>Amarela</th><th scope=col>Parda</th></tr>\n",
              "</thead>\n",
              "<tbody>\n",
              "\t<tr><th scope=row>Masculino</th><td>0.3331598</td><td>28.88339</td><td>7.160333</td><td>0.3058303</td><td>32.61713</td></tr>\n",
              "\t<tr><th scope=row>Feminino</th><td>0.1314420</td><td>12.52082</td><td>3.759761</td><td>0.1522644</td><td>14.13587</td></tr>\n",
              "</tbody>\n",
              "</table>\n"
            ],
            "text/latex": [
              "A matrix: 2 × 5 of type dbl\n",
              "\\begin{tabular}{r|lllll}\n",
              "  & Indígena & Branca & Preta & Amarela & Parda\\\\\n",
              "\\hline\n",
              "\tMasculino & 0.3331598 & 28.88339 & 7.160333 & 0.3058303 & 32.61713\\\\\n",
              "\tFeminino & 0.1314420 & 12.52082 & 3.759761 & 0.1522644 & 14.13587\\\\\n",
              "\\end{tabular}\n"
            ],
            "text/markdown": [
              "\n",
              "A matrix: 2 × 5 of type dbl\n",
              "\n",
              "| <!--/--> | Indígena | Branca | Preta | Amarela | Parda |\n",
              "|---|---|---|---|---|---|\n",
              "| Masculino | 0.3331598 | 28.88339 | 7.160333 | 0.3058303 | 32.61713 |\n",
              "| Feminino | 0.1314420 | 12.52082 | 3.759761 | 0.1522644 | 14.13587 |\n",
              "\n"
            ],
            "text/plain": [
              "          Indígena  Branca   Preta    Amarela   Parda   \n",
              "Masculino 0.3331598 28.88339 7.160333 0.3058303 32.61713\n",
              "Feminino  0.1314420 12.52082 3.759761 0.1522644 14.13587"
            ]
          },
          "metadata": {},
          "output_type": "display_data"
        }
      ],
      "source": [
        "percentual <- prop.table(frequencia) * 100\n",
        "percentual"
      ]
    },
    {
      "cell_type": "code",
      "execution_count": null,
      "metadata": {
        "colab": {
          "base_uri": "https://localhost:8080/",
          "height": 187
        },
        "id": "De_pS_6h_0M_",
        "outputId": "9449b44d-ff60-4353-8a4f-4c5d0a6aea8e"
      },
      "outputs": [
        {
          "data": {
            "text/html": [
              "<ol>\n",
              "\t<li><style>\n",
              ".list-inline {list-style: none; margin:0; padding: 0}\n",
              ".list-inline>li {display: inline-block}\n",
              ".list-inline>li:not(:last-child)::after {content: \"\\00b7\"; padding: 0 .5ex}\n",
              "</style>\n",
              "<ol class=list-inline><li>3</li><li>2</li><li>3</li><li>4</li></ol>\n",
              "</li>\n",
              "\t<li><style>\n",
              ".list-inline {list-style: none; margin:0; padding: 0}\n",
              ".list-inline>li {display: inline-block}\n",
              ".list-inline>li:not(:last-child)::after {content: \"\\00b7\"; padding: 0 .5ex}\n",
              "</style>\n",
              "<ol class=list-inline><li>5</li><li>6</li><li>7</li></ol>\n",
              "</li>\n",
              "</ol>\n"
            ],
            "text/latex": [
              "\\begin{enumerate}\n",
              "\\item \\begin{enumerate*}\n",
              "\\item 3\n",
              "\\item 2\n",
              "\\item 3\n",
              "\\item 4\n",
              "\\end{enumerate*}\n",
              "\n",
              "\\item \\begin{enumerate*}\n",
              "\\item 5\n",
              "\\item 6\n",
              "\\item 7\n",
              "\\end{enumerate*}\n",
              "\n",
              "\\end{enumerate}\n"
            ],
            "text/markdown": [
              "1. 1. 3\n",
              "2. 2\n",
              "3. 3\n",
              "4. 4\n",
              "\n",
              "\n",
              "\n",
              "2. 1. 5\n",
              "2. 6\n",
              "3. 7\n",
              "\n",
              "\n",
              "\n",
              "\n",
              "\n"
            ],
            "text/plain": [
              "[[1]]\n",
              "[1] 3 2 3 4\n",
              "\n",
              "[[2]]\n",
              "[1] 5 6 7\n"
            ]
          },
          "metadata": {},
          "output_type": "display_data"
        }
      ],
      "source": [
        "list(c(3, 2, 3, 4), c(5, 6, 7))"
      ]
    },
    {
      "cell_type": "code",
      "execution_count": null,
      "metadata": {
        "colab": {
          "base_uri": "https://localhost:8080/",
          "height": 149
        },
        "id": "B9_8FymTrpKb",
        "outputId": "94a97469-55d7-4dff-aa24-85f07897f1ba"
      },
      "outputs": [
        {
          "data": {
            "text/html": [
              "<table class=\"dataframe\">\n",
              "<caption>A matrix: 2 × 5 of type dbl</caption>\n",
              "<thead>\n",
              "\t<tr><th></th><th scope=col>Indígena</th><th scope=col>Branca</th><th scope=col>Preta</th><th scope=col>Amarela</th><th scope=col>Parda</th></tr>\n",
              "</thead>\n",
              "<tbody>\n",
              "\t<tr><th scope=row>Masculino</th><td>1081.711</td><td>2925.744</td><td>1603.862</td><td>4758.251</td><td>1659.577</td></tr>\n",
              "\t<tr><th scope=row>Feminino</th><td>2464.386</td><td>2109.867</td><td>1134.596</td><td>3027.342</td><td>1176.759</td></tr>\n",
              "</tbody>\n",
              "</table>\n"
            ],
            "text/latex": [
              "A matrix: 2 × 5 of type dbl\n",
              "\\begin{tabular}{r|lllll}\n",
              "  & Indígena & Branca & Preta & Amarela & Parda\\\\\n",
              "\\hline\n",
              "\tMasculino & 1081.711 & 2925.744 & 1603.862 & 4758.251 & 1659.577\\\\\n",
              "\tFeminino & 2464.386 & 2109.867 & 1134.596 & 3027.342 & 1176.759\\\\\n",
              "\\end{tabular}\n"
            ],
            "text/markdown": [
              "\n",
              "A matrix: 2 × 5 of type dbl\n",
              "\n",
              "| <!--/--> | Indígena | Branca | Preta | Amarela | Parda |\n",
              "|---|---|---|---|---|---|\n",
              "| Masculino | 1081.711 | 2925.744 | 1603.862 | 4758.251 | 1659.577 |\n",
              "| Feminino | 2464.386 | 2109.867 | 1134.596 | 3027.342 | 1176.759 |\n",
              "\n"
            ],
            "text/plain": [
              "          Indígena Branca   Preta    Amarela  Parda   \n",
              "Masculino 1081.711 2925.744 1603.862 4758.251 1659.577\n",
              "Feminino  2464.386 2109.867 1134.596 3027.342 1176.759"
            ]
          },
          "metadata": {},
          "output_type": "display_data"
        }
      ],
      "source": [
        "# Rendas médias dessa amostra\n",
        "medias <- tapply(dados$Renda, list(dados$Sexo, dados$Cor), mean)\n",
        "rownames(medias) <- c('Masculino', 'Feminino')\n",
        "colnames(medias) <- c('Indígena', 'Branca', 'Preta', 'Amarela', 'Parda')\n",
        "medias"
      ]
    },
    {
      "cell_type": "markdown",
      "metadata": {
        "id": "eaXQUxnXjQLa"
      },
      "source": [
        "## <font color=green>2.2 Distribuição de frequências para variáveis quantitativas (classes personalizadas)</font>\n",
        "***"
      ]
    },
    {
      "cell_type": "markdown",
      "metadata": {
        "id": "xosKlLE-rpKb"
      },
      "source": [
        "### <font color=red>Documentações:\n",
        "\n",
        "- [**cut**](https://www.rdocumentation.org/packages/base/versions/3.6.1/topics/cut)\n",
        "- [**order**](https://www.rdocumentation.org/packages/base/versions/3.6.1/topics/order)\n",
        "- [**row.names**](https://www.rdocumentation.org/packages/base/versions/3.6.1/topics/row.names)"
      ]
    },
    {
      "cell_type": "markdown",
      "metadata": {
        "id": "wxsSD-VVjQLb"
      },
      "source": [
        "### Passo 1 - Especificar os limites de cada classe\n",
        "\n",
        "Utilizar a seguinte classificação:\n",
        "\n",
        "<b>A</b> ► Acima de 20 SM\n",
        "\n",
        "<b>B</b> ► De 10 a 20 SM\n",
        "\n",
        "<b>C</b> ► De 4 a 10 SM\n",
        "\n",
        "<b>D</b> ► De 2 a 4 SM\n",
        "\n",
        "<b>E</b> ► Até 2 SM\n",
        "\n",
        "onde <b>SM</b> é o valor do salário mínimo na época. Em nosso caso <b>R$ 788,00</b> (2015):\n",
        "\n",
        "<b>A</b> ► Acima de 15.760\n",
        "\n",
        "<b>B</b> ► De 7.880 a 15.760\n",
        "\n",
        "<b>C</b> ► De 3.152 a 7.880\n",
        "\n",
        "<b>D</b> ► De 1.576 a 3.152\n",
        "\n",
        "<b>E</b> ► Até 1.576\n"
      ]
    },
    {
      "cell_type": "code",
      "execution_count": null,
      "metadata": {
        "colab": {
          "base_uri": "https://localhost:8080/",
          "height": 54
        },
        "id": "Z08790GUjQLc",
        "outputId": "f6ed80cf-3de3-4055-f332-8fc25e819689"
      },
      "outputs": [
        {
          "data": {
            "text/html": [
              "0"
            ],
            "text/latex": [
              "0"
            ],
            "text/markdown": [
              "0"
            ],
            "text/plain": [
              "[1] 0"
            ]
          },
          "metadata": {},
          "output_type": "display_data"
        }
      ],
      "source": [
        "min(dados$Renda)"
      ]
    },
    {
      "cell_type": "code",
      "execution_count": null,
      "metadata": {
        "colab": {
          "base_uri": "https://localhost:8080/",
          "height": 54
        },
        "id": "5q2V5-0FjQLe",
        "outputId": "120c1a77-0e02-4270-ff19-ee69e205584d"
      },
      "outputs": [
        {
          "data": {
            "text/html": [
              "200000"
            ],
            "text/latex": [
              "200000"
            ],
            "text/markdown": [
              "200000"
            ],
            "text/plain": [
              "[1] 200000"
            ]
          },
          "metadata": {},
          "output_type": "display_data"
        }
      ],
      "source": [
        "max(dados$Renda)"
      ]
    },
    {
      "cell_type": "code",
      "execution_count": null,
      "metadata": {
        "id": "Qt5F5w2UjQLg"
      },
      "outputs": [],
      "source": [
        "classes <- c(0, 1576, 3152, 7880, 15760, 200000)"
      ]
    },
    {
      "cell_type": "code",
      "execution_count": null,
      "metadata": {
        "id": "DKPIGOLLjQLi"
      },
      "outputs": [],
      "source": [
        "labels <- c('E', 'D', 'C', 'B', 'A')"
      ]
    },
    {
      "cell_type": "code",
      "execution_count": null,
      "metadata": {
        "id": "AGGZvRZGRAs5"
      },
      "outputs": [],
      "source": []
    },
    {
      "cell_type": "markdown",
      "metadata": {
        "id": "IQhlvrQUjQLk"
      },
      "source": [
        "### Passo 2 - Criar a tabela de frequências"
      ]
    },
    {
      "cell_type": "code",
      "execution_count": null,
      "metadata": {
        "colab": {
          "base_uri": "https://localhost:8080/",
          "height": 1000
        },
        "id": "7JawBkAmrpKd",
        "outputId": "e81c907c-24de-4cbb-8512-ebbf65425374"
      },
      "outputs": [
        {
          "data": {
            "text/html": [
              "<style>\n",
              ".list-inline {list-style: none; margin:0; padding: 0}\n",
              ".list-inline>li {display: inline-block}\n",
              ".list-inline>li:not(:last-child)::after {content: \"\\00b7\"; padding: 0 .5ex}\n",
              "</style>\n",
              "<ol class=list-inline><li>E</li><li>E</li><li>E</li><li>C</li><li>E</li><li>E</li><li>D</li><li>D</li><li>D</li><li>E</li><li>D</li><li>D</li><li>E</li><li>D</li><li>D</li><li>C</li><li>E</li><li>C</li><li>D</li><li>E</li><li>D</li><li>C</li><li>E</li><li>E</li><li>E</li><li>E</li><li>D</li><li>D</li><li>D</li><li>D</li><li>D</li><li>E</li><li>E</li><li>D</li><li>E</li><li>E</li><li>E</li><li>E</li><li>E</li><li>E</li><li>E</li><li>E</li><li>E</li><li>E</li><li>D</li><li>E</li><li>E</li><li>E</li><li>C</li><li>E</li><li>D</li><li>D</li><li>E</li><li>C</li><li>C</li><li>E</li><li>E</li><li>E</li><li>E</li><li>E</li><li>E</li><li>E</li><li>E</li><li>E</li><li>E</li><li>E</li><li>E</li><li>E</li><li>E</li><li>E</li><li>E</li><li>D</li><li>D</li><li>E</li><li>D</li><li>E</li><li>E</li><li>E</li><li>E</li><li>E</li><li>E</li><li>E</li><li>E</li><li>E</li><li>E</li><li>E</li><li>E</li><li>D</li><li>E</li><li>D</li><li>E</li><li>E</li><li>E</li><li>E</li><li>E</li><li>E</li><li>E</li><li>E</li><li>E</li><li>E</li><li>E</li><li>E</li><li>E</li><li>E</li><li>D</li><li>E</li><li>E</li><li>E</li><li>D</li><li>C</li><li>D</li><li>E</li><li>D</li><li>E</li><li>E</li><li>E</li><li>E</li><li>E</li><li>E</li><li>D</li><li>E</li><li>A</li><li>D</li><li>D</li><li>E</li><li>E</li><li>E</li><li>E</li><li>E</li><li>E</li><li>E</li><li>E</li><li>E</li><li>E</li><li>D</li><li>E</li><li>E</li><li>D</li><li>E</li><li>D</li><li>D</li><li>E</li><li>E</li><li>D</li><li>D</li><li>B</li><li>E</li><li>C</li><li>D</li><li>E</li><li>E</li><li>E</li><li>C</li><li>D</li><li>D</li><li>C</li><li>D</li><li>C</li><li>E</li><li>E</li><li>E</li><li>E</li><li>D</li><li>E</li><li>E</li><li>E</li><li>C</li><li>E</li><li>C</li><li>D</li><li>C</li><li>E</li><li>D</li><li>D</li><li>C</li><li>E</li><li>E</li><li>E</li><li>E</li><li>D</li><li>E</li><li>D</li><li>E</li><li>E</li><li>E</li><li>E</li><li>E</li><li>D</li><li>D</li><li>D</li><li>D</li><li>E</li><li>E</li><li>E</li><li>D</li><li>E</li><li>E</li><li>B</li><li>C</li><li>E</li><li>⋯</li><li>C</li><li>A</li><li>A</li><li>A</li><li>D</li><li>E</li><li>A</li><li>C</li><li>A</li><li>B</li><li>A</li><li>A</li><li>A</li><li>A</li><li>B</li><li>B</li><li>A</li><li>E</li><li>E</li><li>E</li><li>E</li><li>D</li><li>D</li><li>E</li><li>E</li><li>D</li><li>D</li><li>E</li><li>E</li><li>E</li><li>E</li><li>D</li><li>E</li><li>D</li><li>E</li><li>E</li><li>E</li><li>D</li><li>E</li><li>D</li><li>D</li><li>D</li><li>D</li><li>D</li><li>C</li><li>C</li><li>C</li><li>E</li><li>E</li><li>E</li><li>E</li><li>E</li><li>E</li><li>E</li><li>C</li><li>E</li><li>D</li><li>D</li><li>E</li><li>E</li><li>E</li><li>E</li><li>E</li><li>E</li><li>E</li><li>E</li><li>D</li><li>E</li><li>E</li><li>E</li><li>E</li><li>E</li><li>E</li><li>D</li><li>E</li><li>E</li><li>E</li><li>E</li><li>E</li><li>D</li><li>C</li><li>D</li><li>D</li><li>D</li><li>E</li><li>C</li><li>D</li><li>E</li><li>C</li><li>D</li><li>C</li><li>D</li><li>E</li><li>E</li><li>E</li><li>D</li><li>D</li><li>E</li><li>D</li><li>E</li><li>E</li><li>E</li><li>E</li><li>C</li><li>D</li><li>D</li><li>E</li><li>D</li><li>D</li><li>D</li><li>E</li><li>C</li><li>E</li><li>C</li><li>D</li><li>E</li><li>E</li><li>E</li><li>D</li><li>E</li><li>E</li><li>D</li><li>D</li><li>E</li><li>E</li><li>E</li><li>E</li><li>D</li><li>E</li><li>D</li><li>E</li><li>E</li><li>B</li><li>E</li><li>D</li><li>C</li><li>D</li><li>E</li><li>C</li><li>D</li><li>E</li><li>E</li><li>E</li><li>D</li><li>E</li><li>E</li><li>D</li><li>E</li><li>E</li><li>E</li><li>E</li><li>E</li><li>E</li><li>E</li><li>D</li><li>D</li><li>E</li><li>E</li><li>E</li><li>E</li><li>E</li><li>C</li><li>E</li><li>E</li><li>E</li><li>E</li><li>D</li><li>E</li><li>E</li><li>E</li><li>D</li><li>E</li><li>E</li><li>D</li><li>C</li><li>C</li><li>E</li><li>E</li><li>E</li><li>E</li><li>E</li><li>E</li><li>B</li><li>C</li><li>C</li><li>B</li><li>C</li><li>B</li><li>B</li><li>A</li><li>C</li><li>A</li><li>C</li><li>D</li><li>E</li><li>E</li><li>E</li><li>E</li><li>E</li><li>E</li></ol>\n",
              "\n",
              "<details>\n",
              "\t<summary style=display:list-item;cursor:pointer>\n",
              "\t\t<strong>Levels</strong>:\n",
              "\t</summary>\n",
              "\t<style>\n",
              "\t.list-inline {list-style: none; margin:0; padding: 0}\n",
              "\t.list-inline>li {display: inline-block}\n",
              "\t.list-inline>li:not(:last-child)::after {content: \"\\00b7\"; padding: 0 .5ex}\n",
              "\t</style>\n",
              "\t<ol class=list-inline><li>'E'</li><li>'D'</li><li>'C'</li><li>'B'</li><li>'A'</li></ol>\n",
              "</details>"
            ],
            "text/latex": [
              "\\begin{enumerate*}\n",
              "\\item E\n",
              "\\item E\n",
              "\\item E\n",
              "\\item C\n",
              "\\item E\n",
              "\\item E\n",
              "\\item D\n",
              "\\item D\n",
              "\\item D\n",
              "\\item E\n",
              "\\item D\n",
              "\\item D\n",
              "\\item E\n",
              "\\item D\n",
              "\\item D\n",
              "\\item C\n",
              "\\item E\n",
              "\\item C\n",
              "\\item D\n",
              "\\item E\n",
              "\\item D\n",
              "\\item C\n",
              "\\item E\n",
              "\\item E\n",
              "\\item E\n",
              "\\item E\n",
              "\\item D\n",
              "\\item D\n",
              "\\item D\n",
              "\\item D\n",
              "\\item D\n",
              "\\item E\n",
              "\\item E\n",
              "\\item D\n",
              "\\item E\n",
              "\\item E\n",
              "\\item E\n",
              "\\item E\n",
              "\\item E\n",
              "\\item E\n",
              "\\item E\n",
              "\\item E\n",
              "\\item E\n",
              "\\item E\n",
              "\\item D\n",
              "\\item E\n",
              "\\item E\n",
              "\\item E\n",
              "\\item C\n",
              "\\item E\n",
              "\\item D\n",
              "\\item D\n",
              "\\item E\n",
              "\\item C\n",
              "\\item C\n",
              "\\item E\n",
              "\\item E\n",
              "\\item E\n",
              "\\item E\n",
              "\\item E\n",
              "\\item E\n",
              "\\item E\n",
              "\\item E\n",
              "\\item E\n",
              "\\item E\n",
              "\\item E\n",
              "\\item E\n",
              "\\item E\n",
              "\\item E\n",
              "\\item E\n",
              "\\item E\n",
              "\\item D\n",
              "\\item D\n",
              "\\item E\n",
              "\\item D\n",
              "\\item E\n",
              "\\item E\n",
              "\\item E\n",
              "\\item E\n",
              "\\item E\n",
              "\\item E\n",
              "\\item E\n",
              "\\item E\n",
              "\\item E\n",
              "\\item E\n",
              "\\item E\n",
              "\\item E\n",
              "\\item D\n",
              "\\item E\n",
              "\\item D\n",
              "\\item E\n",
              "\\item E\n",
              "\\item E\n",
              "\\item E\n",
              "\\item E\n",
              "\\item E\n",
              "\\item E\n",
              "\\item E\n",
              "\\item E\n",
              "\\item E\n",
              "\\item E\n",
              "\\item E\n",
              "\\item E\n",
              "\\item E\n",
              "\\item D\n",
              "\\item E\n",
              "\\item E\n",
              "\\item E\n",
              "\\item D\n",
              "\\item C\n",
              "\\item D\n",
              "\\item E\n",
              "\\item D\n",
              "\\item E\n",
              "\\item E\n",
              "\\item E\n",
              "\\item E\n",
              "\\item E\n",
              "\\item E\n",
              "\\item D\n",
              "\\item E\n",
              "\\item A\n",
              "\\item D\n",
              "\\item D\n",
              "\\item E\n",
              "\\item E\n",
              "\\item E\n",
              "\\item E\n",
              "\\item E\n",
              "\\item E\n",
              "\\item E\n",
              "\\item E\n",
              "\\item E\n",
              "\\item E\n",
              "\\item D\n",
              "\\item E\n",
              "\\item E\n",
              "\\item D\n",
              "\\item E\n",
              "\\item D\n",
              "\\item D\n",
              "\\item E\n",
              "\\item E\n",
              "\\item D\n",
              "\\item D\n",
              "\\item B\n",
              "\\item E\n",
              "\\item C\n",
              "\\item D\n",
              "\\item E\n",
              "\\item E\n",
              "\\item E\n",
              "\\item C\n",
              "\\item D\n",
              "\\item D\n",
              "\\item C\n",
              "\\item D\n",
              "\\item C\n",
              "\\item E\n",
              "\\item E\n",
              "\\item E\n",
              "\\item E\n",
              "\\item D\n",
              "\\item E\n",
              "\\item E\n",
              "\\item E\n",
              "\\item C\n",
              "\\item E\n",
              "\\item C\n",
              "\\item D\n",
              "\\item C\n",
              "\\item E\n",
              "\\item D\n",
              "\\item D\n",
              "\\item C\n",
              "\\item E\n",
              "\\item E\n",
              "\\item E\n",
              "\\item E\n",
              "\\item D\n",
              "\\item E\n",
              "\\item D\n",
              "\\item E\n",
              "\\item E\n",
              "\\item E\n",
              "\\item E\n",
              "\\item E\n",
              "\\item D\n",
              "\\item D\n",
              "\\item D\n",
              "\\item D\n",
              "\\item E\n",
              "\\item E\n",
              "\\item E\n",
              "\\item D\n",
              "\\item E\n",
              "\\item E\n",
              "\\item B\n",
              "\\item C\n",
              "\\item E\n",
              "\\item ⋯\n",
              "\\item C\n",
              "\\item A\n",
              "\\item A\n",
              "\\item A\n",
              "\\item D\n",
              "\\item E\n",
              "\\item A\n",
              "\\item C\n",
              "\\item A\n",
              "\\item B\n",
              "\\item A\n",
              "\\item A\n",
              "\\item A\n",
              "\\item A\n",
              "\\item B\n",
              "\\item B\n",
              "\\item A\n",
              "\\item E\n",
              "\\item E\n",
              "\\item E\n",
              "\\item E\n",
              "\\item D\n",
              "\\item D\n",
              "\\item E\n",
              "\\item E\n",
              "\\item D\n",
              "\\item D\n",
              "\\item E\n",
              "\\item E\n",
              "\\item E\n",
              "\\item E\n",
              "\\item D\n",
              "\\item E\n",
              "\\item D\n",
              "\\item E\n",
              "\\item E\n",
              "\\item E\n",
              "\\item D\n",
              "\\item E\n",
              "\\item D\n",
              "\\item D\n",
              "\\item D\n",
              "\\item D\n",
              "\\item D\n",
              "\\item C\n",
              "\\item C\n",
              "\\item C\n",
              "\\item E\n",
              "\\item E\n",
              "\\item E\n",
              "\\item E\n",
              "\\item E\n",
              "\\item E\n",
              "\\item E\n",
              "\\item C\n",
              "\\item E\n",
              "\\item D\n",
              "\\item D\n",
              "\\item E\n",
              "\\item E\n",
              "\\item E\n",
              "\\item E\n",
              "\\item E\n",
              "\\item E\n",
              "\\item E\n",
              "\\item E\n",
              "\\item D\n",
              "\\item E\n",
              "\\item E\n",
              "\\item E\n",
              "\\item E\n",
              "\\item E\n",
              "\\item E\n",
              "\\item D\n",
              "\\item E\n",
              "\\item E\n",
              "\\item E\n",
              "\\item E\n",
              "\\item E\n",
              "\\item D\n",
              "\\item C\n",
              "\\item D\n",
              "\\item D\n",
              "\\item D\n",
              "\\item E\n",
              "\\item C\n",
              "\\item D\n",
              "\\item E\n",
              "\\item C\n",
              "\\item D\n",
              "\\item C\n",
              "\\item D\n",
              "\\item E\n",
              "\\item E\n",
              "\\item E\n",
              "\\item D\n",
              "\\item D\n",
              "\\item E\n",
              "\\item D\n",
              "\\item E\n",
              "\\item E\n",
              "\\item E\n",
              "\\item E\n",
              "\\item C\n",
              "\\item D\n",
              "\\item D\n",
              "\\item E\n",
              "\\item D\n",
              "\\item D\n",
              "\\item D\n",
              "\\item E\n",
              "\\item C\n",
              "\\item E\n",
              "\\item C\n",
              "\\item D\n",
              "\\item E\n",
              "\\item E\n",
              "\\item E\n",
              "\\item D\n",
              "\\item E\n",
              "\\item E\n",
              "\\item D\n",
              "\\item D\n",
              "\\item E\n",
              "\\item E\n",
              "\\item E\n",
              "\\item E\n",
              "\\item D\n",
              "\\item E\n",
              "\\item D\n",
              "\\item E\n",
              "\\item E\n",
              "\\item B\n",
              "\\item E\n",
              "\\item D\n",
              "\\item C\n",
              "\\item D\n",
              "\\item E\n",
              "\\item C\n",
              "\\item D\n",
              "\\item E\n",
              "\\item E\n",
              "\\item E\n",
              "\\item D\n",
              "\\item E\n",
              "\\item E\n",
              "\\item D\n",
              "\\item E\n",
              "\\item E\n",
              "\\item E\n",
              "\\item E\n",
              "\\item E\n",
              "\\item E\n",
              "\\item E\n",
              "\\item D\n",
              "\\item D\n",
              "\\item E\n",
              "\\item E\n",
              "\\item E\n",
              "\\item E\n",
              "\\item E\n",
              "\\item C\n",
              "\\item E\n",
              "\\item E\n",
              "\\item E\n",
              "\\item E\n",
              "\\item D\n",
              "\\item E\n",
              "\\item E\n",
              "\\item E\n",
              "\\item D\n",
              "\\item E\n",
              "\\item E\n",
              "\\item D\n",
              "\\item C\n",
              "\\item C\n",
              "\\item E\n",
              "\\item E\n",
              "\\item E\n",
              "\\item E\n",
              "\\item E\n",
              "\\item E\n",
              "\\item B\n",
              "\\item C\n",
              "\\item C\n",
              "\\item B\n",
              "\\item C\n",
              "\\item B\n",
              "\\item B\n",
              "\\item A\n",
              "\\item C\n",
              "\\item A\n",
              "\\item C\n",
              "\\item D\n",
              "\\item E\n",
              "\\item E\n",
              "\\item E\n",
              "\\item E\n",
              "\\item E\n",
              "\\item E\n",
              "\\end{enumerate*}\n",
              "\n",
              "\\emph{Levels}: \\begin{enumerate*}\n",
              "\\item 'E'\n",
              "\\item 'D'\n",
              "\\item 'C'\n",
              "\\item 'B'\n",
              "\\item 'A'\n",
              "\\end{enumerate*}\n"
            ],
            "text/markdown": [
              "1. E\n",
              "2. E\n",
              "3. E\n",
              "4. C\n",
              "5. E\n",
              "6. E\n",
              "7. D\n",
              "8. D\n",
              "9. D\n",
              "10. E\n",
              "11. D\n",
              "12. D\n",
              "13. E\n",
              "14. D\n",
              "15. D\n",
              "16. C\n",
              "17. E\n",
              "18. C\n",
              "19. D\n",
              "20. E\n",
              "21. D\n",
              "22. C\n",
              "23. E\n",
              "24. E\n",
              "25. E\n",
              "26. E\n",
              "27. D\n",
              "28. D\n",
              "29. D\n",
              "30. D\n",
              "31. D\n",
              "32. E\n",
              "33. E\n",
              "34. D\n",
              "35. E\n",
              "36. E\n",
              "37. E\n",
              "38. E\n",
              "39. E\n",
              "40. E\n",
              "41. E\n",
              "42. E\n",
              "43. E\n",
              "44. E\n",
              "45. D\n",
              "46. E\n",
              "47. E\n",
              "48. E\n",
              "49. C\n",
              "50. E\n",
              "51. D\n",
              "52. D\n",
              "53. E\n",
              "54. C\n",
              "55. C\n",
              "56. E\n",
              "57. E\n",
              "58. E\n",
              "59. E\n",
              "60. E\n",
              "61. E\n",
              "62. E\n",
              "63. E\n",
              "64. E\n",
              "65. E\n",
              "66. E\n",
              "67. E\n",
              "68. E\n",
              "69. E\n",
              "70. E\n",
              "71. E\n",
              "72. D\n",
              "73. D\n",
              "74. E\n",
              "75. D\n",
              "76. E\n",
              "77. E\n",
              "78. E\n",
              "79. E\n",
              "80. E\n",
              "81. E\n",
              "82. E\n",
              "83. E\n",
              "84. E\n",
              "85. E\n",
              "86. E\n",
              "87. E\n",
              "88. D\n",
              "89. E\n",
              "90. D\n",
              "91. E\n",
              "92. E\n",
              "93. E\n",
              "94. E\n",
              "95. E\n",
              "96. E\n",
              "97. E\n",
              "98. E\n",
              "99. E\n",
              "100. E\n",
              "101. E\n",
              "102. E\n",
              "103. E\n",
              "104. E\n",
              "105. D\n",
              "106. E\n",
              "107. E\n",
              "108. E\n",
              "109. D\n",
              "110. C\n",
              "111. D\n",
              "112. E\n",
              "113. D\n",
              "114. E\n",
              "115. E\n",
              "116. E\n",
              "117. E\n",
              "118. E\n",
              "119. E\n",
              "120. D\n",
              "121. E\n",
              "122. A\n",
              "123. D\n",
              "124. D\n",
              "125. E\n",
              "126. E\n",
              "127. E\n",
              "128. E\n",
              "129. E\n",
              "130. E\n",
              "131. E\n",
              "132. E\n",
              "133. E\n",
              "134. E\n",
              "135. D\n",
              "136. E\n",
              "137. E\n",
              "138. D\n",
              "139. E\n",
              "140. D\n",
              "141. D\n",
              "142. E\n",
              "143. E\n",
              "144. D\n",
              "145. D\n",
              "146. B\n",
              "147. E\n",
              "148. C\n",
              "149. D\n",
              "150. E\n",
              "151. E\n",
              "152. E\n",
              "153. C\n",
              "154. D\n",
              "155. D\n",
              "156. C\n",
              "157. D\n",
              "158. C\n",
              "159. E\n",
              "160. E\n",
              "161. E\n",
              "162. E\n",
              "163. D\n",
              "164. E\n",
              "165. E\n",
              "166. E\n",
              "167. C\n",
              "168. E\n",
              "169. C\n",
              "170. D\n",
              "171. C\n",
              "172. E\n",
              "173. D\n",
              "174. D\n",
              "175. C\n",
              "176. E\n",
              "177. E\n",
              "178. E\n",
              "179. E\n",
              "180. D\n",
              "181. E\n",
              "182. D\n",
              "183. E\n",
              "184. E\n",
              "185. E\n",
              "186. E\n",
              "187. E\n",
              "188. D\n",
              "189. D\n",
              "190. D\n",
              "191. D\n",
              "192. E\n",
              "193. E\n",
              "194. E\n",
              "195. D\n",
              "196. E\n",
              "197. E\n",
              "198. B\n",
              "199. C\n",
              "200. E\n",
              "201. ⋯\n",
              "202. C\n",
              "203. A\n",
              "204. A\n",
              "205. A\n",
              "206. D\n",
              "207. E\n",
              "208. A\n",
              "209. C\n",
              "210. A\n",
              "211. B\n",
              "212. A\n",
              "213. A\n",
              "214. A\n",
              "215. A\n",
              "216. B\n",
              "217. B\n",
              "218. A\n",
              "219. E\n",
              "220. E\n",
              "221. E\n",
              "222. E\n",
              "223. D\n",
              "224. D\n",
              "225. E\n",
              "226. E\n",
              "227. D\n",
              "228. D\n",
              "229. E\n",
              "230. E\n",
              "231. E\n",
              "232. E\n",
              "233. D\n",
              "234. E\n",
              "235. D\n",
              "236. E\n",
              "237. E\n",
              "238. E\n",
              "239. D\n",
              "240. E\n",
              "241. D\n",
              "242. D\n",
              "243. D\n",
              "244. D\n",
              "245. D\n",
              "246. C\n",
              "247. C\n",
              "248. C\n",
              "249. E\n",
              "250. E\n",
              "251. E\n",
              "252. E\n",
              "253. E\n",
              "254. E\n",
              "255. E\n",
              "256. C\n",
              "257. E\n",
              "258. D\n",
              "259. D\n",
              "260. E\n",
              "261. E\n",
              "262. E\n",
              "263. E\n",
              "264. E\n",
              "265. E\n",
              "266. E\n",
              "267. E\n",
              "268. D\n",
              "269. E\n",
              "270. E\n",
              "271. E\n",
              "272. E\n",
              "273. E\n",
              "274. E\n",
              "275. D\n",
              "276. E\n",
              "277. E\n",
              "278. E\n",
              "279. E\n",
              "280. E\n",
              "281. D\n",
              "282. C\n",
              "283. D\n",
              "284. D\n",
              "285. D\n",
              "286. E\n",
              "287. C\n",
              "288. D\n",
              "289. E\n",
              "290. C\n",
              "291. D\n",
              "292. C\n",
              "293. D\n",
              "294. E\n",
              "295. E\n",
              "296. E\n",
              "297. D\n",
              "298. D\n",
              "299. E\n",
              "300. D\n",
              "301. E\n",
              "302. E\n",
              "303. E\n",
              "304. E\n",
              "305. C\n",
              "306. D\n",
              "307. D\n",
              "308. E\n",
              "309. D\n",
              "310. D\n",
              "311. D\n",
              "312. E\n",
              "313. C\n",
              "314. E\n",
              "315. C\n",
              "316. D\n",
              "317. E\n",
              "318. E\n",
              "319. E\n",
              "320. D\n",
              "321. E\n",
              "322. E\n",
              "323. D\n",
              "324. D\n",
              "325. E\n",
              "326. E\n",
              "327. E\n",
              "328. E\n",
              "329. D\n",
              "330. E\n",
              "331. D\n",
              "332. E\n",
              "333. E\n",
              "334. B\n",
              "335. E\n",
              "336. D\n",
              "337. C\n",
              "338. D\n",
              "339. E\n",
              "340. C\n",
              "341. D\n",
              "342. E\n",
              "343. E\n",
              "344. E\n",
              "345. D\n",
              "346. E\n",
              "347. E\n",
              "348. D\n",
              "349. E\n",
              "350. E\n",
              "351. E\n",
              "352. E\n",
              "353. E\n",
              "354. E\n",
              "355. E\n",
              "356. D\n",
              "357. D\n",
              "358. E\n",
              "359. E\n",
              "360. E\n",
              "361. E\n",
              "362. E\n",
              "363. C\n",
              "364. E\n",
              "365. E\n",
              "366. E\n",
              "367. E\n",
              "368. D\n",
              "369. E\n",
              "370. E\n",
              "371. E\n",
              "372. D\n",
              "373. E\n",
              "374. E\n",
              "375. D\n",
              "376. C\n",
              "377. C\n",
              "378. E\n",
              "379. E\n",
              "380. E\n",
              "381. E\n",
              "382. E\n",
              "383. E\n",
              "384. B\n",
              "385. C\n",
              "386. C\n",
              "387. B\n",
              "388. C\n",
              "389. B\n",
              "390. B\n",
              "391. A\n",
              "392. C\n",
              "393. A\n",
              "394. C\n",
              "395. D\n",
              "396. E\n",
              "397. E\n",
              "398. E\n",
              "399. E\n",
              "400. E\n",
              "401. E\n",
              "\n",
              "\n",
              "\n",
              "**Levels**: 1. 'E'\n",
              "2. 'D'\n",
              "3. 'C'\n",
              "4. 'B'\n",
              "5. 'A'\n",
              "\n",
              "\n"
            ],
            "text/plain": [
              "    [1] E E E C E E D D D E D D E D D C E C D E D C E E E E D D D D D E E D E E\n",
              "   [37] E E E E E E E E D E E E C E D D E C C E E E E E E E E E E E E E E E E D\n",
              "   [73] D E D E E E E E E E E E E E E D E D E E E E E E E E E E E E E E D E E E\n",
              "  [109] D C D E D E E E E E E D E A D D E E E E E E E E E E D E E D E D D E E D\n",
              "  [145] D B E C D E E E C D D C D C E E E E D E E E C E C D C E D D C E E E E D\n",
              "  [181] E D E E E E E D D D D E E E D E E B C E E D E E E E E E D B E C D E D E\n",
              "  [217] E E E E E E E E B E C D E C E D C E D C E E E E D E D E D E E B E E D E\n",
              "  [253] D E D E E E E D E E E E D E E E D E E E D E E E D D E E E E D E D C E E\n",
              "  [289] D E E E E E E E E E E E E E E E D E E E E E E E E E D D E E E E E D E E\n",
              "  [325] E E D E E E E E D E D D C C C E E E E E E E E E D E D E E E D E C E E E\n",
              "  [361] D D D E E E E E E E E E E D E D E E E E E B E D E E D E E D D E D E D E\n",
              "  [397] D C D B E D B E D D D C C E E C E B E E E E D C C C E E E E D E D E E E\n",
              "  [433] C E E C C D E E E D E E E E E E D E C D E E E E C E E E E E E E E E E D\n",
              "  [469] E E E E E E E D E E C E E E E E E E D E C D E E D E E E E D E E E E E E\n",
              "  [505] D E E E E E A E E E E E E E D C D E E E C E E C E E E E E E D D D E D E\n",
              "  [541] E E E D D E D D D C E C E E E E D E E D C E C E E D E E E E E E B E D D\n",
              "  [577] E E E E E E D D C E D D E E E E E D C E E E E E E E E E E D E E E E E E\n",
              "  [613] E C E E D E E E E E E E D E E D D E E E E D E E D E E D E D E E E E C E\n",
              "  [649] D D E E E E E E E E E C D E E E D C D E D D D D E D C C E E B C C A E C\n",
              "  [685] D E D E E E E E D D C E E E D D D C D E E D D E E D E D D E C E D C E D\n",
              "  [721] E C E D E D D B E D D D C D C C E E E E D E D C C C D D E E E E C B D C\n",
              "  [757] D D D E D E E D C C D E E D E D E E D E C C D C E E C D E B E E D E E E\n",
              "  [793] E E D E E D E D E E E E E D D D E E D E E C C D D E E E D E D D E E D E\n",
              "  [829] E E D E C E D E D E E E E E D C E E D D D C C D D E E D D D D E E E E E\n",
              "  [865] E D D D E E D D E E E D D C E E E D E D D D E E E E E D D D C D E C C E\n",
              "  [901] E E E E E E E E D D E C C D E E D E E E E D D D D E D D B C C C C D C B\n",
              "  [937] D E D E E D E D E E E D E E E E E E E E D E D E C D C C E C D E E D D E\n",
              "  [973] E C D E E E C E E C C C B E D E E C A E D E E E E E D E D E E E D D E E\n",
              " [1009] B E D E E E E E E E E E E E E D D E E E C E C D E E E E E E E D D E C E\n",
              " [1045] B E D E D E E E E B C E D E D E E E D E E E D D E E E E D E D C E D D E\n",
              " [1081] E E E C C D E D D D C D D E E E E E E E E E D E D D E E D E E E E E D E\n",
              " [1117] C C E E D C E E E D E E E E E E E E E B E E E E D C E E C D E D E E C E\n",
              " [1153] E E E E D C E E E D C E E E E E E E E E E D E E E E E E E E E D E E E D\n",
              " [1189] E E E E E E E D E E D E E E E E E E E D E D E E E E E E E D C E E C E E\n",
              " [1225] D E E D E E E E E E E E E E E E E E E E E E E E E E E E E E E E E E C E\n",
              " [1261] E E E C D E E C D E E E E E E E E E E E E E E E E E E E E D E E D E E D\n",
              " [1297] E E E D E E E E E E D E E E E E E E E E E E E E E E E E E E E E E E E E\n",
              " [1333] E E E E D E B D D C E D C D E E E B E E E D E D E E D E E D E E E D E E\n",
              " [1369] E E E D D E E E E E E D D D C E E E E D E E E E E D E E E E E D E E E E\n",
              " [1405] D E E E E E E C D E C E E D E E E D E E E E E C C B E B D C E B E E E E\n",
              " [1441] E D E E E E D E E E E E E E E E E E E E E C E D D E D E E E E E E E E D\n",
              " [1477] E D E D E E E D C E E E E E D E E E E E E E E E E E E E E E E E E E E E\n",
              " [1513] E E E E E E E E E E D E E E E E E D C E D D D C E E E E E D C C E E E D\n",
              " [1549] E C E D E E E E E E E E E E E D E E E E E E E D D E E E E E B E E E E A\n",
              " [1585] E E E E E E D E D E E C A B D D E E E C D E E E E E E E E E C D E D E E\n",
              " [1621] E E E C E E E E E E D E D E E E E E E E E E E E E E E E E E E E E E E E\n",
              " [1657] E E E E E E E E E D C E D E E E E E E D E E E E E E E D D E E E E E E E\n",
              " [1693] E E E E E E E E E E E D E E E E E E E E E E E E E D D D E D E E C E E D\n",
              " [1729] E E C E E E E E E E E E E E E D E E E E E E E E E E E E E E E E E E C E\n",
              " [1765] E E E E E E C E E E E E E E E E E E E E E E D E E E E D E E D C E E D E\n",
              " [1801] E E E E D E E E E E D D E E C D E B C D E E E E E D E E E E E C D E E D\n",
              " [1837] D E E E E E D E E E E C C C E C E E E E E D D E A E D D D D E E E E D E\n",
              " [1873] E E E E D D E D E E C D D E E E D C E E E D D E C E C C D C E E D C E E\n",
              " [1909] D E E E E E E E E D E E D E E E E E C B E E E C E E E D C E D E C C B A\n",
              " [1945] D C C E A E E D E E E E E E E C E E E E E E E E E E E E E D D E E C E E\n",
              " [1981] E E E D E E E E E C E E C C D C E C D E C D E D D D E D E E E E C C C E\n",
              " [2017] D E C D B E D E E E C E D C E C E E D D D E C C D E E D E D C D D E D E\n",
              " [2053] E E E E E E E E E E E E E E E E E D E E D D A E E E E E E D E E E E D E\n",
              " [2089] E E D E C E D D E E E E E E E D E E E E E E E E E E E D E E E E C E C C\n",
              " [2125] E E E E E E E C E D E E E E D E E E C E E D E E E E E E E E E C E E B E\n",
              " [2161] D E D D E E E E E E E E E E E E E D E E E E E E E E E E E E E E E E E E\n",
              " [2197] E D E E E E E E E C E E D E E E E E E E D E E E E E E C E E E E E E E E\n",
              " [2233] E E D D E E E D D E E E E E E E E E E E E C D D E E C E E D E C E C E E\n",
              " [2269] C E E E E E E E E E E E E D E E E E E E E E E E E E E E E E E E E E E E\n",
              " [2305] E E E D E E E E E E E C D E E E E E E E E E E C E E E E E E E E E E D E\n",
              " [2341] E E E E C E C E E E E E E E D D E E E E D C E C E C C E C D E E E E E E\n",
              " [2377] E E D E E D E E E C D E E E E E E E E E E E E C E E E E E E E E E D E E\n",
              " [2413] E E E E E C E E E E E E E E E E B E D E E E E E E E E E E E E E E E E E\n",
              " [2449] E E E E E E E E C E E E D E E E E E E E D E E E E E E E C E E E E E D E\n",
              " [2485] E E E E E C E D E E E C E E E E E E E E E E E E E E E E E E E E E E E E\n",
              " [2521] E E E E E E E E E E E E E D E E E D E E E E E E E E E E E D E E E D E E\n",
              " [2557] E D C D E E E E E E D E E E E E E E E E E E E E E E E E E E E E E E E E\n",
              " [2593] C E E E E E E E E E E E E E C E D E E E E E E E E E E E E E E E D D E E\n",
              " [2629] E E E E E E E E E E E E E E D E E E E E E E E E E E E E E E E E E E E E\n",
              " [2665] D D E E E E E E E E E E E E E E E E E E E E E E E E E E E E E E E E D E\n",
              " [2701] E E E E E C D C C E E E D E E E E E E E E D E E E E D E D E D D E E E D\n",
              " [2737] E E E D E E E E C E E D C E D E E C E C E E E E E E E E E E E E C E E E\n",
              " [2773] D E E E D E E E E E E E C D E E E E D E E E E E E E E E D C E E D E E E\n",
              " [2809] E D E E B E E D D E E E D E E E E E E E D D E C E E E E E E E E C D D E\n",
              " [2845] E E E E E E E E E E E E E E E E E E E E D E E E E E E E E E E E E E E E\n",
              " [2881] E E E E E E E E E E E E E E E E E E E E E E E E D E E E E E D E E E E E\n",
              " [2917] E E E E E E E E E E E C E E D E E D E E E E E E E E D E E D C E E E E E\n",
              " [2953] E E E E E E E E E E E E E E E E E E E E E E C E E D E C D E D E E E D D\n",
              " [2989] E D D E E D E D E C E C E E D E E E E E C D C C D E E E E D E E E E D E\n",
              " [3025] D E C E E A D E E D E C E E B E C E E E E E D D D E E E D E B D E E E E\n",
              " [3061] E D E E E E E E E E E D C E C E E D C E E D E C D E D E C E E E E E D E\n",
              " [3097] E C E E E E E C E D E E D E C C C B E D C C D E D E E C E E E E E E E E\n",
              " [3133] D E E D E E E E C B D D D C D D C E E C C D E D C A C C E E E E D E D E\n",
              " [3169] E D E D E E E E E D D E E D E E E E E E D D E E E D E E C E D D C C E E\n",
              " [3205] E C D E E D E E D E E E E E E E D D D C E E E E E E D E E E C E E B E E\n",
              " [3241] D E D E E E D C D E E E C D E E D E E E D D E E E D E E E E E D E E E E\n",
              " [3277] E E E E E D E D E E D E C E E E E D D E E E E E D E E E E E E C E C B D\n",
              " [3313] E D E E E E D E E D D E E E E E E E E E D E B D B C D D D C C C C C E D\n",
              " [3349] E E E D E E D E D B E E E E E E C B C C E E E E E E E E B C E D D C C A\n",
              " [3385] C D C C D C E C E D D D E C E D D D E E E E E E E E E E E D E E D E D E\n",
              " [3421] E D E E E E E E E E E E E E E E E E E E E E D E D E E C E E E E D D E E\n",
              " [3457] D D E E E E D E E C E D C C C C C B D B D C D E D D E E E D D E D D E E\n",
              " [3493] D E D E B D B B B D D E D C C E E B C D D C E C C C E E C E E E E C E D\n",
              " [3529] B C D D B C C E C D D D D C D D D D E E C D E D B B B D C B C B C C E D\n",
              " [3565] C C C D C D D D D D D C E E D E C E E E E E E D E D E C E D B D D C D D\n",
              " [3601] E D E E E E E C D C E D D C E E D D E C B E E E E E E E E E E E E E E E\n",
              " [3637] E E E E E C E E E E D E E E E E E D E E E D E E D D E E E E E E E E D D\n",
              " [3673] E E E E E E E E E D E D E E E E E E D E E E E E D E C E E E E E E D E E\n",
              " [3709] E E E E E E D E D E E E D E E E E E E D E E E E E E E E C E E E E E E C\n",
              " [3745] E E E E E E D D D C C C D E D D C E D D E C D D E D E E E D D C E E E E\n",
              " [3781] E D C D C E E E E E C E E E E D E D E E E E D E E C E E E E D E D E C E\n",
              " [3817] E D E E E E D D D D E E E E C E E E E E E E B E E E C E E E E D D E E E\n",
              " [3853] E E D C E E E D E E D C C C C D C D D D E C D C E D E D D C E E E E E E\n",
              " [3889] E E E E E E D E E E E E E D E D E B E E E E E E E E E E E D E E E E E E\n",
              " [3925] E E E E E E E D D D E E E D D E E E E E D E E D E C E D C E E E E C D E\n",
              " [3961] E E C E E D E E E E E E E E E D E E E E E E D E E E E E E D E E D D D D\n",
              " [3997] C E E E E E E E E D E E E E D E E E E E E D D E E E D D D E E D E D D E\n",
              " [4033] E D E E E D E E E D E E E E E D E E E E E E E E C E E E D E E E E D E D\n",
              " [4069] C E E E E E E E E E E E C D E E E E E C E E C E E D D E E E E E E E E E\n",
              " [4105] E E D E E C E E E E E E E E D D E E E E E D E E E E E E E E E E E C E E\n",
              " [4141] E C E E E E E E E D E E E E E E E E E D E E E E E E E E E E E E E E E E\n",
              " [4177] E E E E E E E E E E E E E E E E E E E E E E E D E E E E E E E D D E D D\n",
              " [4213] E D E E E D E E E E E E E E E E E E E E E E E E E E E E E E E E E E E E\n",
              " [4249] E E E E E E E E E E E E E E E E E E E E E E E E E E D E E E E E E E E E\n",
              " [4285] B E E E D E E E E E E E E E E E E E E E E E E E E E D E E E E E E E E E\n",
              " [4321] E E E E E E E E E E D E E E E E E E D E E E E E E E E E E E E E E E E E\n",
              " [4357] D E E E E E E E E E E E E D E E E E E E E E E E D E E D E D E E D D E E\n",
              " [4393] E E E D E D E E E E E C E E E E E E E E E E E E E E E D E C E E E E E E\n",
              " [4429] E E D D E E E E E E E E E E E E E E E E E E E E E E E E E E E E E E E E\n",
              " [4465] E E E E D E E E E E D E E E E E E E E E E E E E E E E D E E E E E E E C\n",
              " [4501] E E E D E E D E E E E E E E E E E E E E E E E E E E E E E E E E E E E D\n",
              " [4537] D E C D E E E E E E E E E E E E E E D E E E E E E E D C E E E E E E E E\n",
              " [4573] E E E E E E E C D E E E E E C E D D E E E E E E E E E E E E E E E E E E\n",
              " [4609] E E D E D E E E E E E E E E E E E E C E E E E E E E E E E E E E E D E E\n",
              " [4645] E D E E D E E E D E D D E E D C E E E E E E E E E E E E E E C E E E E E\n",
              " [4681] C C E C C D E E C E E B E C D E D E C E E D E C E D C B E C C E D B C C\n",
              " [4717] C C E C B B C B C D D C D E C E C E E E D E E E C B E E C D E C E A E D\n",
              " [4753] D C E E E E E C D E E D D E E E D D C C D C D D D E C B C E D D E E E C\n",
              " [4789] E E E E E D E E D E C C E E E D E E E E D E E E E C E D E E E E E E E E\n",
              " [4825] D E C E D E E E E E E E E E E D E D E E E C E E E D E E E E D E E E E E\n",
              " [4861] E E E E D E E D E E E E E E E E E E E D E E E E D D E E C E D E D C E E\n",
              " [4897] D C E E E E E E E E E E D D C E E E E D D E E E E E E D E D D E E E C E\n",
              " [4933] D E E E E E E E D D E E E E D E E B E D C D E E E D C D E E E D E E E E\n",
              " [4969] E D E E E E E E C A E D C C D E E E E C C E E C E E E D E E D E E E C E\n",
              " [5005] D E C D D E D E B D E D D E E E D C D D E E E D E E D E C C C E D D E E\n",
              " [5041] E D E D E E E C E D E E E E E E E E E E E E E E E E E E E E E E E E E E\n",
              " [5077] E E E E E E E D E E E B E E E E E E E E E E E E E D E E E E E E D E D E\n",
              " [5113] E E E E E D E E E E E D E E E E E E E E E E C B E D E E D E C E C C E E\n",
              " [5149] D E E D E E E E E E D E E E E E E E E E E E E D E E E E E E E D E E E E\n",
              " [5185] E D E E E E E E E E E E D E E E E E C E E E E E E E E E E E E E E E E E\n",
              " [5221] E E E D E E E E D E E E E E E E E E E E E E E E D E E E E E C E E E D E\n",
              " [5257] E D E E E E E E E E E E E E E E E D E E E E E E E E C E E D E D E D E E\n",
              " [5293] E E E E C D E E E E E E E D E E E C E E E E E E E E E C D C E E D D D D\n",
              " [5329] D E E E D D B E C E D E C E D D D B E E D E E D C E E E C E C C D D E D\n",
              " [5365] C C D E D D D C D E D D E D E E E E C D D D D D D D E E E D E E E E D E\n",
              " [5401] E E E E E E E E E E E E E E E E E E E E D E E E E E D E E E E E D E E E\n",
              " [5437] E E C E E C B C E E E D E E E E E E E E E E C C E C E E E E D C E E B E\n",
              " [5473] E E E E E E D E E D D D E E D E E E E D E C E E C D E E E E E E E E E E\n",
              " [5509] B E E E E E E D E E E E E C E D D E C E E D E E E E E C E E E E E E E E\n",
              " [5545] E E E E E E E E E D E E E E E E E E E E E E E E E E E E E E E E E E E D\n",
              " [5581] E E E E E E E E E E E E E E E E E E E E E E E E E E E C D E E E E E E D\n",
              " [5617] C C A C B E B C C B B E C E E E D E D E E D D E E C C C D C D B E D D D\n",
              " [5653] E E A D E D E E E D C E E C C C E E E D D D E E E E E E D D E E E E D E\n",
              " [5689] E E E E E E E E E E E D E E E E E E E E C E E E E E E E E E E E D E E E\n",
              " [5725] D E D E E E E E E E E E E E E E E D D D E E E E E E D D E E E E E E E E\n",
              " [5761] E E E E E E E E E E E E D E E E E E E D E E E E E E E E E E E E E E E E\n",
              " [5797] E E E E E E E E E E E E D E E E E E E E E E E E D E E E E E E E E E E E\n",
              " [5833] E E E E E E E E E E E E E E E E E E E E E E E E E E E E E E E E E E E E\n",
              " [5869] E E E E E E E D E E E E E E E E E E E E E E E E E E E E D D E E E D D E\n",
              " [5905] E E E E E E E C E D E E E E E E E E D E E E E E E E E E E E E E E E E E\n",
              " [5941] E E E E E E E E E D E E E C D D C E E D E E E E E E E E E E E E E E E E\n",
              " [5977] E E E D E E E E E E E E E E E E E E E E E E E E E E E E E E E D E E E D\n",
              " [6013] E D E E E E E D E E E E E E E E E D E E E E E E C E E E E D C E E E E E\n",
              " [6049] E D E E E D D E E E E E E E E E D E E E D E D D E E D E E D C C C D D E\n",
              " [6085] B B C C B E A B C B A C B E D E E E E E B C E A D E C D E C C B C D C B\n",
              " [6121] D D C B B E D E E D D C B B B B C B B A B D C C E E D C E D C A C E D D\n",
              " [6157] C E E D E E E D C D C E E C E D C E B B E E E E D E E E E E C E D E E E\n",
              " [6193] D E E E E E E E E E E E E E E E E E E E E E E E E E E C B B E D E E E B\n",
              " [6229] C E A B E D B E D C D C E B D E C D E E D C E E E D E E E E E E E E E E\n",
              " [6265] E E E E E E E E E E E E E E E E E E E E E E E E E E E E E E E C C D E E\n",
              " [6301] E E E C D D D C E E C D D E C D E D D E E E E E D E C E D E C E E E D E\n",
              " [6337] E D E E E E E E D E E E E E E D E E E E E D D E E E E E E E E E D E E E\n",
              " [6373] E E E D E E C E E E D E E E E E E E E E E E E E E C E E C C E E E E E E\n",
              " [6409] E E E E E E E E E E E E E E E E E E E E D E C E E D E C D D E D C D E E\n",
              " [6445] E E E E E E E E E E E E E E E E E E E E E E E E E D D D E E D E B D D C\n",
              " [6481] E D C D E D E D C C E D D C D C C C C E E D D D E E D C C E D D E E E D\n",
              " [6517] D E E B D E E E E E E E D E E E D E E C E E E D D D E D E E E E D E E E\n",
              " [6553] C E D E D E E E E E E E E E E E E E E E E E E D E D C E D D E E E E E E\n",
              " [6589] E E E C E E E E E E E E E E E C C E E D E E E E E E E E E E E E E E D E\n",
              " [6625] E C E E E C D E E C E D C C E D E D E E D D E E E E C E E E E D E E E E\n",
              " [6661] E E D E E E E D E E E D E E E E E E E D E E E E E E E E D E B D E D E E\n",
              " [6697] E E E E C E E E E E E E E E E E E E E E E E E E E E E E E E E E D E E E\n",
              " [6733] E D C D C E D D D E C E D E C E B E E E E E E E E C D D E E E E E E E E\n",
              " [6769] E E E E D E E E E E E E E E E E E E E E E E E D D E E E E D E E E E E E\n",
              " [6805] D E E E E C E E E E E E D E D C E E E E C E C E E E D D E C D B C C D E\n",
              " [6841] C E D B D E E E E E E E C C E D E E E E E E E E E E E E E E E D E E E E\n",
              " [6877] E E E E E E E E E E E C E E E D E E E E E E E D E E E E E E E E E E D E\n",
              " [6913] E D E E D E E E C E D E E E E E E E E E E E E E E D E E E D D E E E E E\n",
              " [6949] E E E E E C D E C E E E E E E E E D D D C C E E E C E E E E E E E E E E\n",
              " [6985] E C E E E E E E E D D E E E C E E E E E E E E E E E E E E E E E E E E D\n",
              " [7021] E E E E E E E E E C E E E E E E C E E E E E E E E E E E E E E E E E C D\n",
              " [7057] E E E E E E D E E E E E E E E E E E E E E E E E E E E E E E E E E E E D\n",
              " [7093] C E E E E E E E E E E E E E E D E E E E C E E E E B C D E E D D E E E D\n",
              " [7129] D E E E D D E E C C E E E E E E E D D E E E E D E E C C D D C C C E E B\n",
              " [7165] C E D E E C D E E E E E D D B E D E E D C E E E E E E D E C B D D E E C\n",
              " [7201] C E D E E E C D E E E E E E E E E E E E E E C E E D E E C E B E E E E E\n",
              " [7237] D E E E E E E E E E E E D E E E E E E D E E E E D D E E E E E E E E E E\n",
              " [7273] C E E E E E C E E D E E E E D E E E E E E E D E E D D C E C E D E E E E\n",
              " [7309] E E E E E E E E D E E E D E E D E E E E E D C E E E E E C E E E D E E C\n",
              " [7345] E D E E E E E E E E E E E D E E E E E E D E E E E E E E E D E E E E E E\n",
              " [7381] E E E E D E E E A E E C E D E E E E E E E E E E E E E D E E E E D E E E\n",
              " [7417] E E E E D E E E E C E E E D E E E E E E E E E E E E D C C E E E E B E E\n",
              " [7453] E E D E E E E E E E E E E E E E E E E E E E E D D C E E E E E E E E E E\n",
              " [7489] E E E E E E E E E E E E E E E D E D E E E E E E E E C D D E D D E E E E\n",
              " [7525] E E E C E E E E E E E E E E E E E E E E E E E E E E E E E E E E E E E E\n",
              " [7561] E E E E E E E E E E E E E E E E C E E D E E E E E E E E E E E E E E E E\n",
              " [7597] E D E E E E E E E E D E E E E E E E E E D E E D E E E E E E E E E E D E\n",
              " [7633] E E E E D E D D D D E E D D E E E E D E E E E D E E E D E E E B C E E E\n",
              " [7669] E E E E E E E D E E C D C E E E E E E E E E E E E E E E E E E E E E E E\n",
              " [7705] E E E D E E E E C E E D D E E E E C E E E E E E E E E E E E E E E C E D\n",
              " [7741] E E E E E E E E E E D E E E D E E D E E D E D E D E E E E E E D E E E E\n",
              " [7777] E E E E E E E E C E D E E E E E E D E E E E D E D E E E E E E E E E E E\n",
              " [7813] E E E E E E E E E E E E D E D E E E C D E D E E E D E E E E E E E E E E\n",
              " [7849] E D E E E E E D E E E E E E D E E E E E E E E E C D E E E E E E E E E E\n",
              " [7885] E E E E E E E E E E E E E C E E E C E E E E E E E E E E E E E E E C B E\n",
              " [7921] E E E E E E E E E E E E E E E E E E E D E E E D D D D E E E E E E E E E\n",
              " [7957] E E E E E E E B E E E E E E E E E E E E E E E D E E C E D C E E E E E E\n",
              " [7993] E E D E E D E E E E E E E E E E E E E E E E E E E C D D E D D D D D E E\n",
              " [8029] E D E D D E E E E E E D C E E C D D E E E E E D C C D B C D E E D D E E\n",
              " [8065] E E E E E E E D E C E E E E E E E D E E E D E E D E D E D E E E E E E E\n",
              " [8101] E E E E E E E E E E E E E E E E E E E E E E E E E E E E C D E C D E D E\n",
              " [8137] E E E E E D D D E E D E D E E E E E E E E E E E E C D E C D C D E E E E\n",
              " [8173] E E E E D D E E E E E E E E E E E E E E D E D E E D D E E E E C E D E D\n",
              " [8209] E E E E E E E E E E E E E E E E E E D E E E E E E E E E E E E E E E E E\n",
              " [8245] C C E C E E D E D D E E D E E E E E C E E E C E D E E E E E D E E E C E\n",
              " [8281] C E D D E D E D E E E C D E E E E E D D E E D E D D E E E E E E D E E E\n",
              " [8317] E E E E E E E E E E E D E E E C E E E E E E E E E D E E D E E E E E E E\n",
              " [8353] E E E E D E E E E D E E D E C E E E E E E D E E E E E D E E E E E E E E\n",
              " [8389] E D E E D C D E C E E E E E E E E E C E E E E E E E E E E E E E E E E D\n",
              " [8425] E E D E E E E E E E E E E E D E E E E C E D E E E E E D E E D E E E E D\n",
              " [8461] E E E E E E E E E E E E E E E E E E E E E E E C E E E D E E E E E E E E\n",
              " [8497] E E E E E D E D E D E E E E E E E E E E E E E E C E E E E E E E D E D E\n",
              " [8533] E E E E E E E E E E E E E E D D E E E D E E E E E E E E E E E E E E E E\n",
              " [8569] E E E E E D E E D E D E C D E E E E E E E E E E D D E E D E E E E E E C\n",
              " [8605] E E E E D E E E E D E E E E E E E E E D E D E E E E E E C E E E E E E E\n",
              " [8641] E D E E E E D E E E E D C C D B E E E D E C E E E D E E D E E E E E E E\n",
              " [8677] E D E E E E E E E E E E E E E E E E E E E C E E E E E E E E E E E E E D\n",
              " [8713] E E B D E C E E E E E D E E D E E E E E E E E E E E E D E E E E D E E E\n",
              " [8749] E E E E D D E D E E E E D E E D E E E B E E E D E E C D D E E C E E E E\n",
              " [8785] E E E E E E E E E A D E E E E D E D E E E E E D E E E E E D E D E E D E\n",
              " [8821] E E E E D E D E D E E D E E E E E D E E E E C E C E E E E E E E D E E E\n",
              " [8857] E E E E E E E E E E E E E E E E E E E E D E E E E E E E E E E E E E E E\n",
              " [8893] E E E E E E E D D E E D E E D D E D E E E E E E E E E D E E D E E E E E\n",
              " [8929] E E D E E C E E C E E E E E E E E E E D E E E E E E E E E C E E E E E E\n",
              " [8965] E E E E E C E E E E E E E E E E E E E E E E C E E E E E E E E E E E E E\n",
              " [9001] E E E C E E D E E E E E E E E E E E E E E E E E E E E D E E E E E E E D\n",
              " [9037] E E E E E D E E E E E E E E E E E E E E C E E E E E E E E D E E E E E D\n",
              " [9073] E E E E E E E E E E E E D E D E D E E E E E E E E E E E E E C E D D E D\n",
              " [9109] E D D C D C E E E E C E E E C D E D E E D E E D E D E E E E E E E E E E\n",
              " [9145] E D E E E E E E E E E E E E E E D E E E E E E E E E E E E E E E E E E E\n",
              " [9181] E E E E E E E E E E E E D E D D E D E E D E C D E E E E E E E D D E E E\n",
              " [9217] E E E E E E E D D D E D E E D E E E E E E E C E E E E C E E E E E E E E\n",
              " [9253] E E E E E E E E E E E E E E E E E E E E E E E E E E E E E E E E C D E E\n",
              " [9289] E E E C C D E E E E D E E E E E D E E E E E E E E E E E E E E E E E E E\n",
              " [9325] E E E E E E E D E E E D E E E E E D E A E E E E E E E E E E E E D E E E\n",
              " [9361] E E E D E E E C E E E E E E E E E D E D E E E E E E E E E E E E E E E E\n",
              " [9397] E E E D D D E E E E E E E E E D E E E E E E E E E E E E E E E E E E E E\n",
              " [9433] E D E D E E E E E E E E E E D A E E E E E E E E E E E E E E E E D E E D\n",
              " [9469] D E E E E D C E E E E E E E E E E E E E E E E E E E D E E E E E E E E E\n",
              " [9505] E E E E E E E E E E D E D E E E D B D D E C D C C E C B C D E E E D E E\n",
              " [9541] E E E E E E E E E D D E E E E E E E E E E E E E E E E E E E D E E E E E\n",
              " [9577] D E E D E E E D E D E E E E E E E E E E B E E E E E E E E E E A E E E E\n",
              " [9613] E E E C E D E E E E E E E E E E E E E E E E E E E E E E E E E E E E E E\n",
              " [9649] E E E E E E E E D E E E E E D E E E E E E E E E E E E E E E E D E E E D\n",
              " [9685] E E E E E E E E E E E E E E E E E C D E E E E C E E E C E D E E C D D E\n",
              " [9721] E E E E C D C E C E E E E E D D B E C D C B E E C C E D D C C C E E E E\n",
              " [9757] D D D C E C E D E D E D D E C D D D E E E E E C B E C E E E E E E C C E\n",
              " [9793] D E E E E E E E E E E E E D E E D E D D E E B D E E E E D E D D E C E C\n",
              " [9829] B E E E E D E D C E D E D D D B C C E E E E E E E E E E D E D C C D E E\n",
              " [9865] E E E E D D E D E E E E E E D D E E E E E D E C D E D E E D E D D D E D\n",
              " [9901] E E E E E E C D E D E E E E C E E D D E C C D D E D E D E D E E D E D E\n",
              " [9937] E C B C D E E E D E E D E E E E E E E E E E E E E E E E E E C E E E E D\n",
              " [9973] E E E E E E D E E E C C C D E B E C C E D D E D C D E D D E D E E D D D\n",
              "[10009] D C E E C E E D E E D E E E E D E E E E D E E C E D D E D E C E E E E E\n",
              "[10045] E E E E E E D C E D E E E E E E E E E E D E E E E E C E E C E D C E E E\n",
              "[10081] E E E D E E D C E E E D D D E E E E E D D E E E C E D D C D D D B D E D\n",
              "[10117] D D C E D E E E C B E E D E E D E E E E E B E E E E C E D E E E C E E E\n",
              "[10153] E E E E E E E E D D D D D D E D E E E E E E E D D D E E E E D E E E D E\n",
              "[10189] E E E E E D E E E E C E E E E E D E E E D E D E D E E E E E E E D D E E\n",
              "[10225] E D C E E E E E E E E C E E B D C E D E D E D D E D E C E E E E E E E E\n",
              "[10261] D E E D E E E D E E E E D E E E E E E E E E E D D C E E D E E E E E E E\n",
              "[10297] E E E E D E E E E E E E E E A E E E E E E E E E E E E E E D E E C E D C\n",
              "[10333] E E E B D E E E E E E E E E E C E E D E E E D E D E E E D E E E E D E E\n",
              "[10369] C E E E E D E D E E D E E E E E E C E C E D D D E D E C E E C D E E E E\n",
              "[10405] E E E E E E D E D E C E E D E C E E E E E E E E E E E D E E E E E E E E\n",
              "[10441] E E D E D D E E E E E E E E E E E E E E E E E D C D D C E C E E E D D B\n",
              "[10477] D E C E E E E E E E E E E E E E E E E E E D D E D E E E E E E E E E E D\n",
              "[10513] E E E E E E E E E E E E E E E E E E D E E E E E E E D C E E C E E E E E\n",
              "[10549] E E E E E E E E E E D E E D C E E E E D E D E E D E C E D E E E E E E C\n",
              "[10585] E E E D E B E E E E E E E E E E E E E E E E E E E E E E E E E E D E E E\n",
              "[10621] D E E E E E E D E E E E E E E E C E E E E E E E E E E E E E E E E E E E\n",
              "[10657] E E E E E E E E E E D D C E D D E C E E E D E D D E E E E E E E E E E B\n",
              "[10693] C E E E E D E B D C C D D E E E E E D D D E C E E B D C E D D E E E E E\n",
              "[10729] D C C E C E E E E D B D E E B E E E E D E E E D E E E E E E E D D D D C\n",
              "[10765] E E D D D E E C D E E C E E E D E C E B D D E C E E E D E D E E E E E E\n",
              "[10801] E E E E E D D C C D E E E E E D C C E E D E D E E E E C E E E E E E E E\n",
              "[10837] E E D E E E E C E E E E E E E E E D E E E E E E E E E E E E E E E E E E\n",
              "[10873] E E E E E C E E D E E E E E E E E E E E E E E E D E C E B E E E E D E E\n",
              "[10909] E D E E E D E C E C D E E E E E E E E E E E E E E E E E E E E E E E E E\n",
              "[10945] E E E E E E E E E E E D D E E E E E E E E E E E E E E E E E E E E D E C\n",
              "[10981] C E C E E C D C E C E D D E D E D E E C D D D D E E E D E C C E E E D E\n",
              "[11017] E E E E E E E E E E C D E D E C C C E E E E C E E E E E E E E E D E E E\n",
              "[11053] E E E E E E E E E A E E E E E E E E D E E C E C E E E E E D E E B E E E\n",
              "[11089] E E E D E E E E E E E E E E D E E E E E E E E E E E E E E E E C C E E E\n",
              "[11125] E E D E D E D D D E D D E E E E E E E E E E E E E E E E E E E E E E E D\n",
              "[11161] E E E E E E E E E E E E E E E E E D E D E D E E E E E E E E E E E E E E\n",
              "[11197] E E E D E E D E E E E E C E D D E E E C E E E E E E E E E E E C E E E E\n",
              "[11233] E D C D D E E E E D E E D E D E E D D C E C E E E E D D B D E E E E D D\n",
              "[11269] E E C C C B B C A B C C B C E C D B C E E C B D B C E E D E D D D E E C\n",
              "[11305] C E C C B E E E E E E E C D D E D E E D E E E E C D B D C C D D D C E C\n",
              "[11341] E E C E C C C C E D C C D E E E B E D C D D C D E E E D E E E E E E C C\n",
              "[11377] E E E E E E E E C E C E C E E E E C D E C E E E D E C C D E E D D C D E\n",
              "[11413] C C E E E E B C D D E E E E E D E E E E D D E D D D E E E D E E E E E E\n",
              "[11449] E E B A C B A B A B A C B C C D A D E E D E D E E C E E E E E E E E E E\n",
              "[11485] C E E E E E E E E D D E E E D E E E E E E E E E E E E E E E E D E E E E\n",
              "[11521] E E E E E E E E E D D E E D E D E E E E E E E E D E E E E E E E E E E E\n",
              "[11557] E E E E E E E D E E E E E E E E E E E E E E E E E E E E E E E E E E E E\n",
              "[11593] C D E E E E E D E E E E E E E E E E E E E E E E E E E E E E E E E D E E\n",
              "[11629] E E E E E E E E E E E E E D E E D E E D E E E E E E E E D E E E E E D D\n",
              "[11665] E E D C E E E E E E E E E E E E D E D D E E E E E E E E E E D E E D E E\n",
              "[11701] E E D D E D E D D E C E E B E E D E E E E E C E E E E E E E E E E E E E\n",
              "[11737] E E E E E E E E D E E E E E E E E E E E E E E E E E E E E E E E E E E E\n",
              "[11773] E E E E E E E E E E E E E E E E E E E E E E E E E E E E E E E E E E E E\n",
              "[11809] E E C E E E E E E D E E D E E E E D E D E E E E E E E E E E E E E E E E\n",
              "[11845] E E E E E E E E E E E E E E E E E E E E E E E E E E E E D E E E E E E E\n",
              "[11881] E E E D E E E E E E E C D E E E E E E E E E E E E E E E E E E E E E E E\n",
              "[11917] E E E E E E E E E E E E E E E E E E E E E E E E E E E E E E E E E E C E\n",
              "[11953] E E E E E E E E E E E E E D E E E D E E E E E E E E E E E E E E E E E E\n",
              "[11989] E E E E E E E E E E E D E E E E D E E E D E E E E D C E D E E E E E E E\n",
              "[12025] E E E E E E E E E E E E E E E E E E E E E E E E E E E E E E C E E E E E\n",
              "[12061] E E E E E E E E E E E E E E E E E E E E E E E E E E E E E E E E E E E E\n",
              "[12097] E E E D E E E E E E E D E E E E E E E E E E E E E E E E E E E E E E E D\n",
              "[12133] E E E E E C D E E E E E E E E E E D E E E E D E D E E B C D E D C D C E\n",
              "[12169] E E D E E E E E E E E E D E E E E E E E E E E E B E C E C E E E E E E E\n",
              "[12205] D E E C D E C E E E E E E E E E E E D E E E E E E C E E E E E E E D E E\n",
              "[12241] E E E E E E E E E E E E E E E E E E E E E E D E E E E E E E D E E E E E\n",
              "[12277] E E E E E E E E E E E D E E E E E E E E E E E E E E E E E E E E E E E E\n",
              "[12313] E E E E E D E E E E E E E E E E D E E E E E E E E D E E E E E E E E E E\n",
              "[12349] E E E E E E E E E E E E E E E D E E E E E E E E E E E E E E E E E E E E\n",
              "[12385] E E E E E E E E E E E E C E E D E E E C E E E E E E E E E E E E E E E E\n",
              "[12421] E E E E E E E E E E E E E E E E E C E E E E E E E E E E E E E E E E E E\n",
              "[12457] E E D E E E E E E E E E E E E E E E D E E E E C E E E E E E E E E C E E\n",
              "[12493] E E E E E E E E E E E E D E E E E E E E E E E E E E E E E E E E E E E E\n",
              "[12529] E E D E E D D E E E E E E E E E E E E E E E E E E E E E E E E E D E E E\n",
              "[12565] E E E E E E E E E E E E E E E E D E E E E E E E E E E E D E E E E E E E\n",
              "[12601] E E E E E E E E E E E D E E E E E E E D E E E E E E E E D E E E E E E E\n",
              "[12637] E E E E E C E E E E E E E E E E E E D E E E E E E E E E E E E E E E E E\n",
              "[12673] E E E E E E E E E E E E E E E E E E E E E E E E E E E E E E E E D E E E\n",
              "[12709] E E E E E E E E E E E E E E C E E E E E E E E E E E E E E E E E E E E E\n",
              "[12745] E D E E E D E E E E E E E D D E E E E E E E E E E D E E E E E E E E E D\n",
              "[12781] D E C E E E D D E E E E E C C E D E E E E E E E D E E B E E E E D E E E\n",
              "[12817] D C E E E D E C E B A A B A A B E E C C C D C B C C C D B E B E C C D B\n",
              "[12853] C E E B C D D E E E E D E E E E E D E E D E E D D C C E E E E E E D E E\n",
              "[12889] E E E D E E E E E D E E E E E E E E E E E E E D E E E E E E E E B D E E\n",
              "[12925] D E E B D D E E E E C D D B E E E E E D E E D E E C C E E D D D E E E E\n",
              "[12961] C E E E E E E E E E E E E D E E D D E E E E D C E A C E E E E E D D E E\n",
              "[12997] E B B B A C D E D D E D D E D E D E E E E E E E E B C D E C E D D C D E\n",
              "[13033] C D B B C C C C C C B B E E E E E E E D E E E D E E E E C D C D E E E E\n",
              "[13069] E B E E E E E E E E E E E E E D E E E E E E E E E E E E E E E E E E E D\n",
              "[13105] E E E E E E E E E E E E E E E E E E E E E E E E E E E E E E E E E E E E\n",
              "[13141] E E E E E E E E E E E E E E E E E E E E E D E E E E E E E E E E E E E E\n",
              "[13177] E E E E E E E E E E E E E E E E E E E E D E E E E D E E E E E E E E E E\n",
              "[13213] E E E E E E E E E E E E E E E D D C E E E E D E E E E E E E E E E E D E\n",
              "[13249] E E E E E E E E E E E E E E E E E E E E E E E E E E E D D D E E D E D C\n",
              "[13285] E B E E D E E E E E E E E E E E E E E E E E E E E E E E E E E E E E E E\n",
              "[13321] E E E E E E E E E E E E E E E E E E E E E E E E E E E E E E E E E E D E\n",
              "[13357] E E D E E E E E E D E E C D E E E E E E C E E E E D E E E E E E E E E E\n",
              "[13393] E E E E E E E E E E E E E E E E E E E D D E E E E E E E E E E E E E E E\n",
              "[13429] E E E E E E E E E E E C E E E E E E E E E E E E E E E D E E E E E E E E\n",
              "[13465] E D E E E E E E E E E E E E E E E E E E E E D D E C E E E D E E E E D E\n",
              "[13501] E D E E E E C E E C E E E E C E E E E E E E E D E E E E E E E C E E E E\n",
              "[13537] E E E E E E D E E E E E E E E E E E E E E E E E E E C B E E D D E D C D\n",
              "[13573] E D E E E E D E E D E E E E C E D E E E E E E E E D E E E D E E E E E E\n",
              "[13609] D E E E E E E E E E E E E E E E E E E D E E E E E E E E E E E E E E E E\n",
              "[13645] E E E E E E E E E E E E E E E E E E E C E E E E E E E E E E E E E E E E\n",
              "[13681] E E E E E E E E E C E E E E E E E E E E C E D D E E E E E E E E E E E E\n",
              "[13717] E E E E E E E E E E E E E E E E E E E E E E E E E E E E E E E E E E E E\n",
              "[13753] E E E E E E E E E E E E E E E E E E E E E E E E E E D E E E E E E E E E\n",
              "[13789] E E E E E E E E E E E E E E E E E E E E E E E E E E E C E E C E E E E E\n",
              "[13825] E E E E E E E E E D E E E E E E E E D E E E E D E E E E E D E E C E D E\n",
              "[13861] E E E E E E E E E E E E E E E E A E E E E E E D E E E E E E E E E C E E\n",
              "[13897] E E E E E E E D C E E E E E E E E E E E E E E E E D E E E D C E E E E E\n",
              "[13933] E E E E E E E E E E E E E E D E E E E E E E E E E E E E D E E E E E E E\n",
              "[13969] E E D D E E E D E E E E E E E E E E E E E E E E E E E E C D E E E E E E\n",
              "[14005] E E E D E E E E E E E E E C E C E E C E D E E E E E E E E E E E E E E E\n",
              "[14041] D C E E E E E E E E E E D D E E E E E C E E C E E E E E E E E E E E E E\n",
              "[14077] E E E E E E E E E D E E E E E E E B E E E E E E E E D D C E C E E E E E\n",
              "[14113] E E E E E E E E E E E E E E E E E E E E E E E E E C E E E E D E D E E E\n",
              "[14149] E E E E E E E D E E E E E C A D E E E E E A D B A E E E D D E E C E C E\n",
              "[14185] D C D C D E D E E E E E E E E C E E E E D E E E E E E E C C E E E E E E\n",
              "[14221] D E E E E E D E E E E E E E E E E E E E E D D D A E C B D A D E B E E E\n",
              "[14257] E E D E E E E E E E E E D E E E E E D E E E E E E E E E E E E E E E E E\n",
              "[14293] E E D E E E E E E E D E D E B E E E E E E E E E E D E E E E E E D E D E\n",
              "[14329] E E E D D E E E E D E E E E E E E E E E E E E E E E E E E E E E E D E E\n",
              "[14365] E E E E E E E E E E E E E D E E E E E D E D E D D C D E E D E E C E E E\n",
              "[14401] E E E D E E E D D D E E E E E D C C E D D D C C E B E E E E E C E E E E\n",
              "[14437] C E E E E E E E E E E E E E E E D E E E E E D E E D E E E E E E E D E E\n",
              "[14473] D E E E E D E D E E E E E E E E E E E D E E E E E E E E E E E E E E E E\n",
              "[14509] E E E E E E E E E E E E E E E E E E E E E E E C E E E E E E E E E E E E\n",
              "[14545] E E E E E E E E E E E E E E E D E E E E E E E E E E E E E E E E E E E E\n",
              "[14581] E E E E E E E E E E E E E E E E E D E E E D D E E E E E E E E E E E E D\n",
              "[14617] E D E E E E E E C E E E E E E E E E E E E E E E E E E E E E E E E E E E\n",
              "[14653] E E E E E E C E E E E E E E E E E E E E E E D E E E E E E E E E E E E E\n",
              "[14689] E E E E D E E E E E E E E E B E E E E E E E E E E C E E E E E E D E E E\n",
              "[14725] E E E E E E E E E E E E E E E E E E E E E E E E E E D D E E E E D E E C\n",
              "[14761] E D E D E D E E E D D C E E E E E E D E E E E E E E D E E E E E E E E E\n",
              "[14797] E E E E E E E E E E E D E E E E E E E E E E D E E E D E E E E E E E E E\n",
              "[14833] D E E E E D E E E E E E E E E E E B E E E E E E E E E D E E E E E E D D\n",
              "[14869] D D E E E D E E E E E E E E E E C E E E D E E E D D D D E E E D D D E E\n",
              "[14905] E E E E E E E E D E E E D E D E E D E E E E E E E E E D E E E E E D E D\n",
              "[14941] E E E E E E C E D E D E E C B E E E E E D E E E E C E E E D E E D E E D\n",
              "[14977] E E D E E E E D E E B C D D D D D E E E D E E D D E E E E E E E E E E E\n",
              "[15013] E E E E E E E E E E E C E E E E E E E E E E E E E E E E E E E E E E E E\n",
              "[15049] E E E E E E E E E E E E E E E E E E E E E E E E E E E E E E E E E E E E\n",
              "[15085] E E E E E E E E E E E E E E E E E E E E E E E E E E E E E E E E E E E E\n",
              "[15121] E E D E D E E E E E E E E E E D E D D E E E D E E E D E E E E E E E E E\n",
              "[15157] E E E E E E C D C C C C C C C C C C D E E E E E E E E E E E E E E E E D\n",
              "[15193] E D E E E E E E E E E E E E E E E E E E E E E D E E E E C C E C D E E E\n",
              "[15229] E E E E E D E D C E E E E E E E E E C C D D D D E E E E E E D E E E E E\n",
              "[15265] E E E E E E E E E E E E D E E E E D E B E E D E E B B C A E B C D E E E\n",
              "[15301] E E E E E E E E E C E E D E E E C D C B E E D E C E E E E E E E E E E E\n",
              "[15337] E E E E E E D E E E C E E D E E E E E E E E E E E E D E E D D E E E D D\n",
              "[15373] D E E E D D E D E E D E E E E D E E E E E E E E E E E E E E E E E E D E\n",
              "[15409] E E E E E C E D E E D A C E C E E D D C E E E E C B D E E C D D E D E E\n",
              "[15445] D C E E C E C B E E E E E E E E D D E E E E E C C E E D D C D E A C C C\n",
              "[15481] C B C E D D E E E E E E D E E E E E E E E D C C D E C C E E C C B A E D\n",
              "[15517] D E D E E E E D B C C B B A B E D E E E E C E E E E E E E D E C D C D C\n",
              "[15553] E E D E E D D D D C E E D D E E E E E E E D E D E E D E E D D E D C C E\n",
              "[15589] C E E D B E E E E E C E E D E E E E E E D E E D E E E E E E E E E E E E\n",
              "[15625] E E E E E E E E E E E C E D E E E E E B E E E E E D E E E E E D C E E D\n",
              "[15661] E E E E E D D E C E E C E E E E E B C E E E E C C E E E E E E E E E E E\n",
              "[15697] D C E E E E D E E E E E E E E D E E E C C D C E B C C B C C D E D C C E\n",
              "[15733] E E E E C E E D E E E E E E E E E D E E E E D E E E E E B A E E E E E E\n",
              "[15769] E E E D E E E E E E E C C E E E E E D E E E E D D E E C B C E E E D E D\n",
              "[15805] C E D E E E E C D E D E D E E D D B D D C E D E E E E D E E E E E D E E\n",
              "[15841] E E E E E E E D D E E D E E E E E E E E E E D E E E E E E E E E E E E E\n",
              "[15877] E E E E E E E E E E E E E E E D E E C E C E E E E E D D E E C E A A E B\n",
              "[15913] D B E E E E E E E D E E C E D E E E E C E E E D E E E E E E E E D E E E\n",
              "[15949] E E E E E E E E C E E E E E E C E E E D E E E E E E E C E E E E E E E E\n",
              "[15985] D E E E E E E E E E E A E D E E E E E C E E E E E E E E E E D E E E C E\n",
              "[16021] E E D E E E D E E E E E E E E E D E E E C E E E E E E E E E E D E D C E\n",
              "[16057] E E E E E E E E E E E D E E E E E E E E D E D E E E E E E E E E E E E E\n",
              "[16093] C D E E D D E E E E E E E E D E E E E E E E E E E E E E E D E E E E D E\n",
              "[16129] E D E D E E E E E D E E E E E D E E D E E E D E E E E E E E E D E E E E\n",
              "[16165] E E E E E E E E E E E E E E D E D E C D E E E B E E E E E E E E D B C E\n",
              "[16201] D E E E E E E E E E E E E E E E E E E E C E D E E D E E E E E E E E E E\n",
              "[16237] E D E E E E E E E E E E E E E E E E E E D E E D E E E E E E E E E E E E\n",
              "[16273] E E E C E E C E E E E E C D D E E E D E E E E D D E D E E D D D E C E B\n",
              "[16309] E E E E E E E E E E D E E D D E E E D E E E E D D D C E E E E E E E E E\n",
              "[16345] D E E E E D E D E E E E E E E E E C E D E E E C D E D E E E E E D E E D\n",
              "[16381] C D D D C C E D C C B C B C C C C E C E E E E E D E D C E E E E C E E E\n",
              "[16417] E E E D E C C C C E D D E D E E E D E E E D E E E E D E E E E E D E E E\n",
              "[16453] E E E E E E C D D E E E E E D E E E D D D E C C D E D D D E D E E E E E\n",
              "[16489] C D E E E E E E E C E D C E E E E E D E E E E E E E E E E E D E D E B E\n",
              "[16525] E E E E C E E E E E E D E E E E E E E E E E E E E E E E E E E E D D E E\n",
              "[16561] E E E D E E E E C E D E D E E E E E E E E D C E E D E E E E E E E E E D\n",
              "[16597] E D E E E E E E E C E E E E D E E E E E E E D E E E E E E E E E E E E E\n",
              "[16633] E E E E E E E C C C C D E E E D E E E E E E D E E E E E E E E E E E E B\n",
              "[16669] C E E E D E E E E E E E E E E E E E E E E E E E E E E E E E E E E E E E\n",
              "[16705] E E E E E E E E E D E E E E E E E E E E E E E E E E E E E E E E E E E E\n",
              "[16741] E E E E E E E E E E D E E E E E E E E C C E E E E E E E E E D E E E E E\n",
              "[16777] E E E E E E E D E D E E E E E E E E E E E E E E E E E E E E E D E E E D\n",
              "[16813] E E E E E E E E C E E C E E E D E E E E E E E E E E E E E E E E E E E E\n",
              "[16849] E E E E E E E E E E E E B E E E E E E E E E E E E E E E E E E E E E C D\n",
              "[16885] D E E E E E D E E E D E E E E E E E E E E E E E D E E E E E E E E E E E\n",
              "[16921] E E E E D E E E E C E E E E D E E E C C E E E E E E E E E E E D E E E E\n",
              "[16957] E E E E E D E E D D E E E E D E E E E E E D E D E E D E E E E D E D E E\n",
              "[16993] E E E E C E E E E E E E E E E E E E E D E D E E E E E E E E E E E E E E\n",
              "[17029] E E E E E E E E E E E E E D E E E C E E E E E E E D E E E C E D E E C E\n",
              "[17065] E E E E E E E E D E E E E E E D E E E E E E E E E C E D E E E E E E E E\n",
              "[17101] E E E E E E E D E E E E D E E E E D E E E E E E E E E E E E E E E E D E\n",
              "[17137] E E E E E E E E E E E E E E E E E E D E E E E E E E E E E E E E E E E E\n",
              "[17173] E E E E E E E E E E E E E E E E E E E E E E E E E E E E E E E E E E E E\n",
              "[17209] E E D E E E E E E E E E E E E E E E E E E E E E E E D E D E D E C E E E\n",
              "[17245] B D E E E E E E D E D E E D E E E D E E E E E E E E E E E E E E E E E E\n",
              "[17281] C E E E E E D C C C E E E E E E E E E E E E E E E D E E E E E E E E E D\n",
              "[17317] D E E E E E E E E E E E E E E E E E E E E E E E E E E D E E E E E D E C\n",
              "[17353] E E E E E D D D E C E E E E E E D D E E E E E E E E E E E E E E E E E E\n",
              "[17389] E E E E E E C E E E E E E E E E E E E E E E E E E E E E E E C E E C E E\n",
              "[17425] E E E E D E E E E E E E E E E E E E E E E E E E E E E E E E E E D E E E\n",
              "[17461] E E E E E D E E E E E E E E E C E E E E E C E E E E E E E E E E E E E E\n",
              "[17497] E E E E E E E E E E E E E D E D E E E E E E E E E E E E E E E E E E E E\n",
              "[17533] C E E E E E E E E E E E E E C E E E E E E E E E E E E E E E D E E E E E\n",
              "[17569] E E E E E E D E E E E E E E E E E E E E E E E E E E E E E E E E E E E E\n",
              "[17605] E E E D C E E E D D E E E E E E E E E E E C C D C E D E E D D D E D E E\n",
              "[17641] E E E E E E E E E E E E E E D E E E E E E E E E E E D E E E D E E E D E\n",
              "[17677] E E E E E E E E E E E D B E E E E E E E E E E E E E E D E E E E E B E E\n",
              "[17713] D D C B B D E E E E E E E E E E E E E E E E E E D E D C E E E E E E E E\n",
              "[17749] E D E E E E E E E E E E E C E E D E E E E E E E E E E E E E E E E E E E\n",
              "[17785] E E E C E E E E D D E E E E E D E E C E E E E E E E E E E E D E E E E E\n",
              "[17821] E E E D E E E E E E E E E E E E E E E E E E E E E E E E E E E E E E E E\n",
              "[17857] C C C C E E C E E D E E E E E E E E E E E E E E E E E E E E E E C D C C\n",
              "[17893] D D E D E E E E E D E E E D D E E E D E E E E E D E D E E E E C E D D E\n",
              "[17929] E E E E E E E D E E E E D E C E D D E D E E E E D E E E E E E D E E E E\n",
              "[17965] E E E E E C C C C E C E C E E D D E E E D E E D B D E D C C E E C D C C\n",
              "[18001] B E E E E D E E E E E E D C E E E E E D E E D D C E E D E D E D C D B E\n",
              "[18037] D D E E E C D E E E E E D D E E D C E E E E D E E E D E C E E E E E D E\n",
              "[18073] E E E E E E E E E E E E E E E E E E E E E E E E E E E E E E E E E E E E\n",
              "[18109] E E E E E E E C E E E E E E E E E D E E E E E E E E E E E E E E E D E C\n",
              "[18145] E E E E E E E E C E E E E E E E E E E E E E E E E E E E E E E E E E E E\n",
              "[18181] E E E E D E E E E E E E E E E E E E E E E E E E E E E E D E E D E E E E\n",
              "[18217] E E E E C E E E D E E E E E E D E E E D E E D E E E E E E E E E E E E E\n",
              "[18253] D E E E D E E E D E E E E E E E E E E E E E E E E E E E E E E E E E E E\n",
              "[18289] E E E E E E E D E E D B C E D D B E C E E E C C E C E E E E E C E E C C\n",
              "[18325] D D C D E E E E E E E E E E E D D C E D D D E E E C E E E E E E D E E E\n",
              "[18361] E E E D E E E D E E E E E E E E E E D E D E E E E D E E E E E D D E E E\n",
              "[18397] E E E E D E E E D E E E E E E D D D E E E E E E E E E E E E E E E E E E\n",
              "[18433] E E D E E C E D C E C B D B D B B D E D E E E E D E C C D B C C D E E D\n",
              "[18469] B E B C C C B D E E E D C E D D C C C C E E E E E E E E E E E E D C E E\n",
              "[18505] D E E E C E E E D E E E D E E E E E C E C E E D C E E E E E E E E E E E\n",
              "[18541] E E E E D E D E E E E E E E E E E E E E E D D E D E E E E E E E E E E E\n",
              "[18577] E E E E E E E E E E E E E E E E E E E E E E E E E E E E E E E E E E E E\n",
              "[18613] E E E E E E E E E E E E E E D E E E E D E E D D E E E E E E E E E E E E\n",
              "[18649] E E E E E E E E D E D E E D E C E E E D E E E E E E E D D C E E D E E E\n",
              "[18685] C E E E E E E E E E E E E E E D E E E E E E E E E E E E E D E E D E E E\n",
              "[18721] E E E E E E E D E E E E E E E E E E E E E E E E E E E E E E E E E E E E\n",
              "[18757] D E E E E D E E E D E E E E E E D E E E E E E E E E E E E E E E E E E E\n",
              "[18793] E E D C E E E E E E E E E D E E E E E E E E E E E E E C E E E E E E E E\n",
              "[18829] D E E E E E E E E E E E E E E E E E E E E E E E E E E E E E E E E E E E\n",
              "[18865] E E E E E E E E E D E E E E E E E E E E E B E E D D E E E E E E E E E E\n",
              "[18901] E E E E E E E E E E E E E E E E E E E E E E E E E E E E E E E C E E E E\n",
              "[18937] E E E E E E C E D E D D E E D D E D D E C E E E E C B B C B C A C C E D\n",
              "[18973] D B E E D E E E C C E E E E E E E E E E E E E E E E E E E E D E E E E D\n",
              "[19009] D E E E E E E E E E D E E E E E E E D E E D E E E D E E E E E E E C E E\n",
              "[19045] E E C E E E B E D E E E E E E E E E E E E E E E E D E E E C E E E B E E\n",
              "[19081] E E E E D E E E E D E D E E E E D E D E E E E E D D E E E D E E E E E E\n",
              "[19117] E E D E E E E E E C E E E E E E E C D E E D E E B E D E E E E D B C E E\n",
              "[19153] C E E E E E E E E E E E E E E E E E E E D E E E E E E E E E E D E E E E\n",
              "[19189] E E E E E E E E E E E D E E D E E E D E E E E E E E D E E E E E E E E E\n",
              "[19225] E E E E E E E E E E E E E D E E E E D C E D E E D E C E E D E E E E E E\n",
              "[19261] E E E E E E E E E E E E D D D E E E E E E E E E E E E E E E E E E E E E\n",
              "[19297] D E E E E E E E E E E E E E E E E E E E E E E E E E E E E D E E E E E E\n",
              "[19333] D E E E E E E E E E D D D D C C E D C D D C C C E C E E E E E E E E E E\n",
              "[19369] E E E C D D E D E D D C D E E E E E D C E E E E D E E E E B D C E D E D\n",
              "[19405] E E E E E E E D E D C E D D C E C C C B C E B B C E D E E E D E E D E E\n",
              "[19441] E D E D E E E D E E E E E E E E D E E E E E E C C C A C C C C E E E E E\n",
              "[19477] D E E D D E E D E D C E C C D C E E E E E E E C D B C C C B B E E E E D\n",
              "[19513] E E E E E E E E E E E E E E E D E E D C E D D D E E C D D B E E E E E E\n",
              "[19549] E E E C C C C C D C D C D D E E E D B C D D D D C B E E E E D E E E D E\n",
              "[19585] D E E E E E E E D E E E E E E D E E E E E E D E E D E E E E E E E E E E\n",
              "[19621] E E E E E E E E E E E E D D E E E E E E E E E E E B E D E E E E E E E E\n",
              "[19657] E E E C E E E E E E E E E D E D E E E E E E E E E D E D E E A E E C E C\n",
              "[19693] D E D E E D D E E E E C E E E E D D E E E D E E E E E E E E E E E E E E\n",
              "[19729] D E D E E E E E E E E E E E E E E E D E E E E E E E D E E E E E E E E E\n",
              "[19765] E E E E E E E E E E E E E E E E E E E E E E D E E E E E E E E D B D E E\n",
              "[19801] E E E D E E E E E E E E E E E E E E E E E E E E E E E E E E E E E E E E\n",
              "[19837] E E E E E E E E E E E E E E E E E E E E E E E E E E E E E E E E E E E E\n",
              "[19873] E E E E E E E C D E D E E E E E E E E E E E E E E E E E D E C E E E E D\n",
              "[19909] E E E E E E E E D E E E E E E E E E E E E E E E E E E E E D D E E E E E\n",
              "[19945] E E E E E E E E D E E E E E E E E E E E E E E E E E E E E E E E E E E E\n",
              "[19981] E E E E E E E C E E E E E E E E E E E E E E E E E E D E E E E E E E E E\n",
              "[20017] E E E E E E E E E E E D E E E E E E E E E E E E E E B E D E B D E C E E\n",
              "[20053] E D E D D E E E E E E E C E E E E E E E E E E D E E E D E E E E E E E E\n",
              "[20089] E E E E E E E E E D E E E E E E E E E E E D E E E D E E E E E E C E E E\n",
              "[20125] E C E E E E D E E C E D E E E E E E B E E E E E E D E E E E E E D E E E\n",
              "[20161] E E E E B E E E C E E E E E E E D C E E E E E E E E E E E E E E E E E E\n",
              "[20197] E D E C D C C C E E C E E D E D E D E E E C D E E D E E D E E E E E E E\n",
              "[20233] E E E E E D E E D E E E E E E E E E E E D E E C E E E D E E E E E E E E\n",
              "[20269] E E E E E E E E E E E E E E C E E E D E D E C C B C E E E E E C E E E E\n",
              "[20305] E E E E E E E E E E E E E E E E E E E E E E E E E E E E E E E E E E E E\n",
              "[20341] E E E E E E E E E E E E E E E E E E E E E E E E E E E E C E E E E E E D\n",
              "[20377] E E E E E E E E E E E E E E E E E E D E E E E E E E E E E E E E E E E E\n",
              "[20413] E E E E E E E E E E E E E E E E E E E E E D D E D E C D C E B E D B D E\n",
              "[20449] C E D E E E E E E E E E E E E E E E E C E E E E E E E D E D E E E E E E\n",
              "[20485] E E E E D E E E D E D E E D E E C E D E E D C E E E E E E E E E E E E E\n",
              "[20521] E E E E E E D E E D E E E E E E D C E E E E D E E E E E E E E E E D E E\n",
              "[20557] E E D E E E E D E E E E E E E D D D E E E E E E E E E E E E E E E E E E\n",
              "[20593] E E E E E E E E E E E E E D E E E E E E E E E E C E D D E E E E E E E E\n",
              "[20629] E D D E E E E E C E C E E E D D E E E E D E D E E E E D E E D E E E E E\n",
              "[20665] E D E E E E E E E E E E E E E E E E E D E E E E E D E E E E E E E E E E\n",
              "[20701] E E E D A E E D D E E E E E E E C B D E D E E E E E E E E E E C D E E E\n",
              "[20737] E E D C C E E E E D D D D E E E E E E E E E D E E E E E E E E E C D D D\n",
              "[20773] E E E E E E D E E E E E E E E E E D E E E E E E E E E D E E C E E E E E\n",
              "[20809] E E D E E E E E E E E E E E E E E E E E E E E E E E E E E E E E E E E E\n",
              "[20845] E E C E E E E E E E D E E E E E E E E E E E C E E E D C E D E E E E E E\n",
              "[20881] E E E E E E E E E E E E E E E E D E E E E E E E E A C E E E E E E E E E\n",
              "[20917] E E E E E E D D D E D C B D E D C D D E B C E E C E E E E E E E E C E E\n",
              "[20953] E E E E E E E D E E D E E E D E E E E E E E E E E E E E E E E E E E E D\n",
              "[20989] E E E E E E E E E E E E E E E E D E D D E E E E E E E E E E E E E D E D\n",
              "[21025] E E E E D E E B E E E E E E D E E E E E E E E E E D D E E E E E E E E D\n",
              "[21061] E E E E E E E E E E E E E E E E D E E E E E E E E E E E E E E E E E E E\n",
              "[21097] C E D D E E E E E E E E E E E E E E E E E C D E E E E E E D E E E E E D\n",
              "[21133] E E D E E E C E E E E E E E E E E E E E D E E E E E E E E E E E E E E D\n",
              "[21169] E E E C D E E D E E E E E E E E E E E E E E E D E E E E E E E E E E E E\n",
              "[21205] E E E E E E E E D E E E E E E E C E E D E E E E E E E E C E E E D E E E\n",
              "[21241] E E E E E E E E E D E E E E E E E E E E E E E E C E E E E E E E D E E E\n",
              "[21277] E D D E E D E E E E D B E C E B A C E E E E E E D E E E E E D E D E E D\n",
              "[21313] C C D E E E E E B E E E D E E E D E E E E E D C E E E D E E E E E D C E\n",
              "[21349] E E D E E C E E D D E D D E E E E E E E E E E E D B C E E E E D E D E E\n",
              "[21385] E E E E E E E E E E E E E E E D E E D A E E E E E E E E E C D D E E E E\n",
              "[21421] E E E E E E E E E E E C D E E E E E E E E E E D D E E E D E E E E E D E\n",
              "[21457] E D D E E E E E E E E E C E E E D E E E E C E E E E E E E E D E E E E E\n",
              "[21493] E E E E E E E E D E E E D D E D E E E E E E D E E D E E E E C E E D E E\n",
              "[21529] D D E D E E E E E E E E E E E E C E E E E E E D E E E E E E E E D D E D\n",
              "[21565] E E D E E E E E E E E E E E E E E E E D E E E C E E E E E E E E E E E E\n",
              "[21601] E E E E D E E E D E E E E E D E D E D E E E D E E E E E E E E E D E E E\n",
              "[21637] E C D E E C D E D E E D E E E E E E E E C E E E E D E E E E E E D E E E\n",
              "[21673] E E D D E E E E E E E E E E E E E D E E E E E E E E E E E E E E E E E E\n",
              "[21709] E E E E E C E E E E E E E E E E E E B E E E E E E E E E D D E E E E E E\n",
              "[21745] E E E E D E D E E E E E E E E E E E E E E E E E E E E E E E E D E E E E\n",
              "[21781] E E E E E E E E E C E D E E D D D C C E E E E E E E E E E E E E E E E E\n",
              "[21817] E E E E D C D E C E E E E E D E E D E E A C E E E E E E E E E E E E E C\n",
              "[21853] D E E E E E E E E E E C C D E E D E E E E E E E E E E E D C D E D C C E\n",
              "[21889] B E E E E E E E D D C B D C B C D E C D E E E E E C E E E E E E E E E E\n",
              "[21925] E E D E E D D E C E E E D E E E E D E D E E E E D C C E E E D E C E E E\n",
              "[21961] E E D E E E E E D C E E E E E E E C E E E E E E E E E E E E E E E E E E\n",
              "[21997] E E E E E E E E E E E E D E D D C E E E E E D E E C D E E E D D C E E E\n",
              "[22033] E E E E E E E E E E E E E E E D E E E E E E E E E E E E E E E E E E E E\n",
              "[22069] E E E E E E E E E D E E E D C D E D E D E D E D E E D E E E E D D E E C\n",
              "[22105] E E E E E E E E D E D E E D D E E E E E E D E E D E E D E A E E E E D E\n",
              "[22141] E E E E E E E D E D E B D E E E E E D E C E E D D E E E E D E C E D D D\n",
              "[22177] E E D E E E D E E C D D E D B E E E D E D E E D D C E E E E E E E E E E\n",
              "[22213] D E E E E E E E E E E E E D E E E C E E D E E E E E E E E E C E D E E E\n",
              "[22249] E E E E E E E E D E E E E E E E E E E E E D E E E E D E E E E D E C C D\n",
              "[22285] C D C D E D D E C D C C E E E E E E E D C E E E E E E E E E E E E E E E\n",
              "[22321] E E E E E E E E E E E E E E E E E D E E E E E E D D C D C E C E D D D E\n",
              "[22357] C E E C C C C C D D C D E E B D E E E E E E E E E E E E E E E E E E E E\n",
              "[22393] E E E E E E E E E E E E E E E E E D E E E E E E E E E E E E D E E D E D\n",
              "[22429] D E E D C C E D D E E E E D E E E D E E E E E E E E E E D E E D D C B E\n",
              "[22465] D B B C E E E E E E E E D E E E E E E E E D D E D E D E E E E E D E E E\n",
              "[22501] E D E E D E D D E E E E D E E E E E E D E E E E E E E E E E E D D E E E\n",
              "[22537] E E C E E E E D E E E D B C B B C D E E E E E C E E E E E E E E E E E E\n",
              "[22573] E E D E E E E E E E E D E E D E E C E E D E E E E D E E E E C E E E E E\n",
              "[22609] E E D C E E E E E E D E E E E E E E E E E E D D E E E E E E D D E E E E\n",
              "[22645] D C C D E E E E E E E E E E E E E D E D D C C C C C C C D C A D A A C B\n",
              "[22681] C B C D D E B E B B D C C E E E E D E D E E E E E E E D D E E E E E E E\n",
              "[22717] E E E E C E D E E E E E E E E E E E E E E E E E E E E E E E D E D E E E\n",
              "[22753] E E E B A D A C C D C B B C C B C D D C C A C D D D E E E E E D E E E E\n",
              "[22789] E E E E E E D E E D E E E E E E E E E C C C C C C B D E D D E B D C B C\n",
              "[22825] C C E B B B D B D C C E D D E D C E E C D B D C B C E E E E E E E E E E\n",
              "[22861] E C E E E E E E E C E E E E E E E E E D E E E E E E E E C E D E E E E E\n",
              "[22897] E D D E E D E D E D D C E E E E E E E E B C E E E D E C E E E B D C C E\n",
              "[22933] E D E E B E E E E E E E D E E E E C E C B D E B E E E E C C E C C B C C\n",
              "[22969] C C A C C C D B B D E C E E E E E E E E E E E E D C E E E E E D E E C E\n",
              "[23005] E E E E C E E D D E D E E E E E E E E D E C E E E E C E C E E E E D E E\n",
              "[23041] E D B E C D E E E E E E E E C E E E E E E E E E E C E E E D E E E E E E\n",
              "[23077] E E E E D C E E E E E E E D E E E E E E D D D E D E E E E D D E E E E E\n",
              "[23113] E E D E E E E E E E E E E D E D E E E D E E E E E E E E E D E E E E E E\n",
              "[23149] D D E E E C E E E E C D E E E D C E E D D E E D C E E E E E E E E E E E\n",
              "[23185] E D E E E E E E E E E D E D E E E E E E C E E D E D E D E E E E B D E C\n",
              "[23221] D E D E D E D E E E E E E D E E E D D E E E D D C D E D D C E B E E E E\n",
              "[23257] E B E E C B C C E C D E E E E E E E E E E E E E E E E E E C C B C C B B\n",
              "[23293] C C C B D D C D A D D C C D E D E E B C B E B E E E E E D E E E D E E E\n",
              "[23329] D E B D E D E E E E D E E E E E E E D E E E E D E E E E E E E E E E E D\n",
              "[23365] D D C E C C C D C E D E E E E C E E D E E E E E E E B E E E E E E E E E\n",
              "[23401] E E E E E E E E E E E E D E E E E C E E B C B C D C E E D E C D B C C B\n",
              "[23437] E E E E E E E D D E E E E D E E D E C B E E E E E E E D E E C E D D E E\n",
              "[23473] E E E E E E E D D E E E E E E E E E E E D E E E E E E E D E E D E E E E\n",
              "[23509] E E E E E E E E D E E E E E D E E E E E E E E E E E E E E D E E D D E E\n",
              "[23545] E C E E E E E E E E E E E E E E E E E E E E E E E E E E E E E E E E E E\n",
              "[23581] E E E E E E E D E E E E E E E D E E E E E E E E E E E E E E E E E E E E\n",
              "[23617] E D E E D E E E E E E E E D E D D D E E E D E E E E D E E D E E E D D D\n",
              "[23653] E E D E D C E D E E E E E E E E E E E E E E E E E E E E E E E E E E E E\n",
              "[23689] E E E E E E E E E E E E E E E E E E C E C A D C E E C C B D E D B C C D\n",
              "[23725] E B C C E C D C D E E E E D E E E E E E E E E E E E E E E E E E E E E E\n",
              "[23761] E E E E E E E C D E E E E E E E E E E E E E C E E D B E E E E E E E E E\n",
              "[23797] E E E E D E E E E E E E E E E E E E E E E E E E E E E E E E E E E E E E\n",
              "[23833] E E E E D E D E E E E E E E E E E E E E E E E E E E E E E E E E E D E D\n",
              "[23869] E D E E E E C E E D D C E E E E E E E E E E E E E E E E E E E E E E E E\n",
              "[23905] E E D E E E E D D E E E E E E E E E E E D E E E E E E D E E E E E E E E\n",
              "[23941] E E E E E E E D E D C E C E E D E D E D E E E C C C E C E E E E E E D E\n",
              "[23977] E B D E E E E E E E E E E E C E E E E E E E E E E C E E E E E E E E E E\n",
              "[24013] E E E E E E E E E E E E E E E E E E E E E E E E E E D D E E E E E E D E\n",
              "[24049] E E C E E E E E E E E E E E E E E E E E E E E E E D E E E E E E E E E E\n",
              "[24085] D E D E E E E E E E E E E E E E D E D E D E E E E E E E B E E E E E E E\n",
              "[24121] E E E C E E D E E E E E E E E E E E E E E E E E E E E E E E E E E E E E\n",
              "[24157] E E E E E E E E E C E E E E E E E E E E E E E E E E E E E E E E E E C E\n",
              "[24193] C B E E E E E D E E E E D E D E E E D D C D C B D D B E E E E E E E E E\n",
              "[24229] E E E E E E E E E C E E E E E E E E E E E E E C D E E E E E E E E D E D\n",
              "[24265] E E E D E E E E E E E D E E E E E D E E E E D E E E E E E E E E E C E D\n",
              "[24301] E E E E D E E E E E E E E E E E E E C E C D C E C E E D E E E E E E E E\n",
              "[24337] E C E E E E E E E D E E E E E E E D C E D D E E D B D C D D E E E E E E\n",
              "[24373] E E E D E D E E D E E E E E E E E D E E E E E E E E E D E D E D E D E E\n",
              "[24409] E E E E E D E E E E E E E E E E D E E E D E C D D E E D E E E D E E E D\n",
              "[24445] D E C D E D C D E E E D E E E C C D E C E E E E D D E E E D D E E E E E\n",
              "[24481] E E E E E C E E E E E E E E C E E E E E C E E E E E C D E D E D E C E D\n",
              "[24517] C E E E E E E E D E E E E E E D D E D E E E E E E E D E E E E E C E E E\n",
              "[24553] E E E E E E E E E E E E E D D E E E E E E E E E E E D E E E E E E E E E\n",
              "[24589] E E E E D E E E E E E E E E E E E E E E E E E E E E E E E D E E E E E E\n",
              "[24625] E E E E E E E E E E D D E E E E E E E E E E D E E E D E D E E E E E E E\n",
              "[24661] E D E E E E E E E E E C E E C E E E E E E E E E E D E E E E E E E E E E\n",
              "[24697] E E E E E E E E E E E E E E E E E E E E E E E E E E E E E E E E E E E E\n",
              "[24733] E E D E E E E E E E E E E E D D E C E E E E E E E E E E E E E E E E E D\n",
              "[24769] E E E E E C E E E E D E E E E E E E E E E E E E E E E D E E E E E E E E\n",
              "[24805] E E E E E E E E E E D D B C C B C E D C D D C D E E E E E E E E E E D D\n",
              "[24841] E E E D E E E D E C E B E E E E E E C E E E E E E E E E C E E E C C B E\n",
              "[24877] E D D D E D E E D C C C D B D E C D C C D E E D E E E E E E D C E E E E\n",
              "[24913] E E D E B E E E E C E E E E C E E E E E E D E D E E E E D E E E C C E E\n",
              "[24949] E E E C E E D E E E E C E D E E E E D D D C E E E E E E E E E E E E E E\n",
              "[24985] E E E E E E E E E E E E E D E E E C E E E D B D E D D C D E E E C C B D\n",
              "[25021] E E E E C E E D C E D E E E E E E E E D C D E E E D E C E E E E C E E E\n",
              "[25057] B B A B C C C D C C E C E C D E C E E E E E E E E E E E D E E E D E E D\n",
              "[25093] D E E E E E E E E D E E E E E E E E E E E E E E E E E E E E E E E E E E\n",
              "[25129] E E E E E E E E E E E E E C E E E C E D E C E E D E E B E E E E E E E E\n",
              "[25165] E E E E E E E E E E D E E E C E E E E E D E E E E E E E E D E E E E E E\n",
              "[25201] E E E E E E E E E D E E D E E E E D E E E E E E E E E E E E E E E E E E\n",
              "[25237] E E E E E E E E E E D E E E E D E E E E E E D E E E E E E E E E E E E E\n",
              "[25273] E E E E E E E E E E E E E E E E E E E E C E E E E E E E D B D B E E C E\n",
              "[25309] E E E E E E E E E E E E E E D E E E E E E E E E E E E E E E E E E E E E\n",
              "[25345] E E E D E E E E E E C E E E C D D D C E E E E E D E E E E E E E E E E E\n",
              "[25381] E E E E E E E E E E C E E C E E E E E E E E E E E E E E E E E E E E E E\n",
              "[25417] E E E E E E E E E E E E E E E E E E E E E E E E E E E E E E D E E E E E\n",
              "[25453] E E E E E E E E E D E E E E E D E D E E E E E E E E E E E E D E E E E E\n",
              "[25489] E E E E E E E E E E E E E E E E E E E E E E E E E E E E E E E E E E E E\n",
              "[25525] E E E E E E E E E D E E E D C E D E D D E E E C D E E E E E E E D D E E\n",
              "[25561] C E E D E E E E E E E E E E E E E E E E D C E E E D E E E E E E D D C E\n",
              "[25597] E E E E E E E E E E D E D E E E E E E E E E E E E E E E E E E E E E E E\n",
              "[25633] E E E D D E E E E E E E C E E E E E E E E E E E E E E E E D E E E E E E\n",
              "[25669] E E E E E E E E E E E E E E E E E E E C E E E E E E E E E E E E E E D E\n",
              "[25705] E E E E E E E E D E C D E E E E C D C E E E E E D E E E E E E E E E E E\n",
              "[25741] E E E E E E E E E E E D E E E E E E E E E E E E E E E D E E E E E E E E\n",
              "[25777] E E C E E E E E E E D E E E E E E E E E E E E E E E E E C E E E E E E E\n",
              "[25813] D D E E E D E E E E E E E E E E E E E E E E E E E E E E E E E E E E E E\n",
              "[25849] E E E E E E E E E E E E E E E E E E E E E E E E E E E E E E E E E E E E\n",
              "[25885] E E E E E E E E E D E E E E E E E E E E E E E E E E D E E D E E E C E E\n",
              "[25921] E E C C E E E E E E E E E E E E E E D D C E E C E E D D D E D E E E E E\n",
              "[25957] E E E E E E E E E E E E E E E E E E D E D E E E E E E E E E E E E E E E\n",
              "[25993] E E E E E E D E E E E E E E E E E E E E E E E E C E E E D E E E E E E E\n",
              "[26029] E E C E E E E E E E D E E E E E E E E E E E C E E E E E E E E E E E E E\n",
              "[26065] E E E D E E E E E D E E E E E E E E E E E E E E E E E E E E E E E E E E\n",
              "[26101] E E D E C D E D E E E E E E E E E E E E E E D E D E E E E E E E E E D E\n",
              "[26137] E E E E E E D E E E E D E E E E D C E E E D E E E E D D E C E E D C E D\n",
              "[26173] E E D E E E E C E E E D E D E E E E E E E E E E E E E E E E E B E E E E\n",
              "[26209] E E E E E E E E E E E E E E E E E C E E E E E E E E E E E E E E E E E E\n",
              "[26245] E D E E E E E E E E E E E E E E E E E E E E E E E E E E E E E E E E E E\n",
              "[26281] E E E E E E E E E E E E E E E E E E D E D D E C D C E E E E E E E E D E\n",
              "[26317] E B E E E D E E E E E E E E E E E E E E E E E E E E E E E E E E E E E E\n",
              "[26353] E E E E E E E E E E E E E E E E E E E D E E C E D E E E E E E E E E E E\n",
              "[26389] E E E E E E E E E E E E E E E E E E E E E E E E E E D E E E E E E E E E\n",
              "[26425] E E E E E E E E E E E E E E E E E E E E E E E E E E E E E E E E E E E E\n",
              "[26461] E E E D E E E E E D E E E E E E E E E D E E D E D D E D E C D D E E E D\n",
              "[26497] E E E E E E E E B B A C E E D E E E E E E D E E E E E E E E E E E E E E\n",
              "[26533] E E E E E E E E E D E E E E E E D C D E D D E C C E E E E E E E E E E E\n",
              "[26569] E E E E E E E E E E E E E E E E E E E E D E D E D D C D E C C D D D E E\n",
              "[26605] C E E D E E E E E D E E D D C D E E E D D E C C E C E D E D E D C E C D\n",
              "[26641] E E C D C E E E E E D E E D E E E E E E E E D E E E E C E D E E D D C E\n",
              "[26677] D E D E C E E E E D E E E E E E D E D E E E E D E E E E E E C D D D D E\n",
              "[26713] E E E E E D C E E E E E E E E E E E E E E E E E E D E C E D E E E E E E\n",
              "[26749] E E D E E E E E E E E E E D E E E D E E E E E E E E E D D E E E E E E C\n",
              "[26785] E E E E E E E E E E E E E E E E E E E E E E E E E E E E E E E E E E E E\n",
              "[26821] E E E D E E E E E E E E E D E E E E D E E E E E E E E E E E E D E E E E\n",
              "[26857] E E E E E E E E E E E E E E D E E E E E E E E E E E E E D E E E E E E E\n",
              "[26893] E E E E E E E E D E E E E E E E D E E E D E D E E E E E E E D E E E E D\n",
              "[26929] D D E E E E E E E E E E E E E E E E E E E E E E E E E E E E E E E E E E\n",
              "[26965] D E E E E E E E E E E E E D E E E E E E E E E E E E E C E E D E E E E E\n",
              "[27001] E E E E E E E D E E E E E E D E E E E E E E E E E E E E E E E E E C E E\n",
              "[27037] E E E E E E E E D E E E E E D E E E E E E E E E E D E E E E E E D E E D\n",
              "[27073] C E C D E E E E E E E E E E E E E E E E E E E E E E E E E E E E E E E E\n",
              "[27109] D D E E D E E E E E E E E E E E E E E E E E E E E E E E E E E E E E E E\n",
              "[27145] E E E E E E E E E E E E E E E E E E E E E E E B C E D D E E E E E E E E\n",
              "[27181] E E E E E E E D D D D D D D E D E D D E E E E D E E E E E D E C E D E C\n",
              "[27217] B E D E E E E C E D E E E E E E E E E E E E E E E E E E E E E E E E E E\n",
              "[27253] E E E E E E E E E E E E E E D E E E E E E C D C E E D D E E E D D E D C\n",
              "[27289] D D E E E D E E E E E E E E E D E E E E E D E E E E E C E E C E E E E E\n",
              "[27325] E E E E E E E E E E E E E C E E D E E E E E E E D E E E C E D E D E E E\n",
              "[27361] D D E E E E E E E E E E E D E C E D E E C E E E D E E D E E D E E E E E\n",
              "[27397] E D D E D E E E D E E D E E E E E D E E E C E B C E B C C C C D E E E E\n",
              "[27433] E E E E E E E E E E E E E E E D E E E E D E C D E E E E E E E E E E E E\n",
              "[27469] E E E E E E E E E E D E E C E E E D D E E E C D E E D E E E E E E D E E\n",
              "[27505] E E D E E E D D C E E E E E D E E E E E E E E E E E E E E E E E E E E C\n",
              "[27541] E E E E D C E E E E E E E D D E E E E E E E E D E E E E E E E E E E D E\n",
              "[27577] E E E E E E E E E E E E E E E E E E E E E E E E E E E E E E E E E E E E\n",
              "[27613] D E E E E E D D E E E C E E E E E E E D E E E E E E E E E E E E E E E E\n",
              "[27649] E E E D E E E E E E E E E E E E E E C E D D E E E E E E E C E E E E E E\n",
              "[27685] E E E E E E E A B C D E C C D E D D E E E E E C E E E E E E E E E E E E\n",
              "[27721] E D E E E E E E E E E E D D E E E E E E E E E D C E C E E D E E E E D E\n",
              "[27757] E E E E E E E D E E E E E D E E E E E E E E D E E E E E E E E E E E D E\n",
              "[27793] E E E D E E E D E E D E E D E E E E E E E E E E E E E E E E E E E D E E\n",
              "[27829] E D E E C E D E E E E E E D E E E E D E E E E E D C E D E E E E E E E E\n",
              "[27865] E E E D E E C E E E E E D E E E E E E E E E E E E E E E E E E B C E B E\n",
              "[27901] E E C E E E E E E E D E E E D E E B A D E D D E D E E E E E E E E E E E\n",
              "[27937] E E E E E E E E E E E E C E D E E E E E E D E C E E E E E E E E E E E E\n",
              "[27973] E E E E E E E E E D E E E E E E D C E E E E E E E E E E E E E E E E E E\n",
              "[28009] E E E E E E E E E E E C E E E E E E E E E E E B E E D E E E E E E E E E\n",
              "[28045] E D E E E E D D D D E E E E D E E E E E E E C E C E E E E E E D E E D E\n",
              "[28081] E C E E C E D E E E D E E E E D E D E E E E E E E E E E E C A D A A D E\n",
              "[28117] E C E D D D E E D E D D E D E E E E E E E E E E E E D E D D B E D E E D\n",
              "[28153] E E D D E E E E E E D E E E D E E E E E E E E D E E E E E E E E E E E D\n",
              "[28189] E C D E D D E E E E E E E E E D C E E E E E E E E E E E E E E D E E E E\n",
              "[28225] E E E E E E E E E E D E E E E E E E E E E C E E E E E E E D E D B C E E\n",
              "[28261] E E E E E E E E E E E E E E E E E E E E E E E E D E E E E E D E C E E E\n",
              "[28297] E E E E E E D C E E E E E E C D E E E E E D E D E E D E E E E E E E E E\n",
              "[28333] E E E E E C D E E E E E E E E E E E E E E E E E E E E E E E E E E E E E\n",
              "[28369] E E E E E E E E E E E E E E E D D D E E E E E E E E E D E E E E E E E D\n",
              "[28405] E E E E E E E E E E E E E E E E E E E E E E E E E E E E E E E E E E E E\n",
              "[28441] E E D E E E E E E E E E E E D E E E E E E E E E E E E E E E E E E E E E\n",
              "[28477] E D E E E E E E E E E E E E E E E E E E E E E E E E E E E E E E C E E E\n",
              "[28513] E E E E E D E E E E E E C E D E E E E E E E E E E E E E E E E E E E E E\n",
              "[28549] C E E E E E D E C E E E E E C E E E C D C E D D E E E E E E E E E E D E\n",
              "[28585] E E E E E E E E E E E E E E E E E E E E E E E E E E E E E E E D E E E E\n",
              "[28621] E E E E E E E E E D E E E E D E E E E E E E E E E E E E E E E E E E E E\n",
              "[28657] C E E E E E E E E D E E D C E E C E E E E D E E E E E D E D E E E C D E\n",
              "[28693] E E E E D D E E D D E E E D D E E D E E E E E E D E E E E D E E E E C E\n",
              "[28729] E D E E E D E E D E E E E E E E E E E D E E E E E E E E E E E E E E E E\n",
              "[28765] E E E E E E E E E E E E E E E E E E E E E E E E E E E E E E E E E E E E\n",
              "[28801] E E E E D E E E E E E E E C D D E E E E E E E E E E C E E E E E E E E E\n",
              "[28837] E E E E E E E E E E E E E E E E D D D E E E E E E E E E E E E E E E E E\n",
              "[28873] E E E E E E E E E E E E E E E E E E E E E E E E E E E E E E E E E E E E\n",
              "[28909] E E E E E E E E E E E E E E E E E E E E E E E E E E E E E D E E E D E E\n",
              "[28945] E E E E E E E E E E E E E E E E E E E E E E E E E E E E E E E E E E E E\n",
              "[28981] E E E D E D E E E E E E E E E E E E E E E E E E E E E E E E D E E E E C\n",
              "[29017] E E E E E E E E E E E E E E E E E E E E E E E D E E E E E E E E E E E D\n",
              "[29053] E E C E E E E E E C E E E E E E E E E E E E E E E E E E E D E E C E D E\n",
              "[29089] E E E E E E E E E E E E E E E E C C C E E C E E C D E C E E E E C E E E\n",
              "[29125] C E E E E E E E B A C C E D C E C E D C D D A D B D B B E D E C C A B C\n",
              "[29161] C C E C D C C B B E B D D E D C B D B C B C C E C E E D D D E D E E E C\n",
              "[29197] C E D E D E E E E E E C D D E E E E D E E E E E E E C A C C C C E E E E\n",
              "[29233] E E E E E B D C B B E B C C E D B C B A C C C C C E C C C E D D D C E C\n",
              "[29269] C A B C C C C C C C D C E D E E D D C D D C D C E D D C C E C C C E D C\n",
              "[29305] D E E E E E E D D E D C E E E E E E E C E E D E E D E E E E E E E E E E\n",
              "[29341] E E E E E D E E E D D C B D E E E D C C D E C D E E E D E E E E E E E E\n",
              "[29377] E E E E E E E E E E E E E D C C C C D D E E C E E E E E E D E E E D E E\n",
              "[29413] D E E E E E E D E E E E B C B A A A C D D C D C C A C D D D C D E D C C\n",
              "[29449] D E D E D D E E C E E E E E D E E D E E E E E C E E E D E E E E E E E E\n",
              "[29485] D C B C B C A C C D E E E D E E D E D E E E E E E E E E E E E E E E E E\n",
              "[29521] E E E E D B C A D E C B C D D E E E E E E E E E B E C D E B A B B C E E\n",
              "[29557] E E E E E B E D D D E D E E E E E E E E E E E E E E E E E E E E E E E E\n",
              "[29593] D E E D E E E E E E E E E E E E E E E E E E E E E E E E E E E E E E E E\n",
              "[29629] E E E E E E E E E E E D E D D E E E D E E C E D E E E E E E E E E E E E\n",
              "[29665] E E E E C E D E E E E D E E E D E E E E E E E E E E E E E E E D E E E D\n",
              "[29701] E E E B C C E E E E E E E E E E E D E E E E E E E D E D E E E E E E E E\n",
              "[29737] D E E E E D E D D E E E E E E D E E E E E E E E E E E C E E D E E D E E\n",
              "[29773] E D E E D E E E E E E E E E E E E E E E E E E E E D D E E E E E E D E E\n",
              "[29809] E C E E D E E E E C E E E E E E E E E E D E E E D E E E E E E E E E E E\n",
              "[29845] D E E E E E E E D E E E E E E E E E E E E E E E E E E E E E D E C E E B\n",
              "[29881] C E C E E E E E E E E E E E E E E E E E E E D C E C E E E D E E E D E E\n",
              "[29917] E E E E E E E E E D E D D D D C D D E D D C C D D D D D D D E C C C D C\n",
              "[29953] D D B E D E D E E D E C D D D D D E E E E E E E E E E E E E E E E E E D\n",
              "[29989] E D E E D E E E E D E E E E D E D E E E E E E E E E E E E E E E E E E E\n",
              "[30025] E E E E E E E E E E E E D E E E E D C E E E D E E E D D D E E E D E E E\n",
              "[30061] D E E E D E E E E E E D E E E E E E E E E E E E E D E D E E E E D E D D\n",
              "[30097] E E E D C E E E D E E E E E E E E E E E E E D E E E E E E E E E E E D E\n",
              "[30133] E E E D E E E E E E E E C D D E E C E E E E D D E E D E E D E E D E E E\n",
              "[30169] E E D E E E E D E D E E E E E E E E E E E D E E E E E D E E E D E E E D\n",
              "[30205] E D E E E C E D D C E D E E E D C C E E D E E E E E E E D C D E E E E E\n",
              "[30241] E D E E D E E D E E E E E E E D D E D E D E E E E E C E E E E E E E E E\n",
              "[30277] E E E E E E E E D E E E D C C E E E E E D D E E C D D D C E E E B D E C\n",
              "[30313] E D C E E E E E C E E E E E E E C D E D E E E E E E E E E E D E D E D E\n",
              "[30349] D E D E E E E E E E E D E E E E E E E E E E E E E E E E E C D E E D E D\n",
              "[30385] E E E E E E E E E E E E D E E E E E E E E E D E C E E D D E E E E E E E\n",
              "[30421] E E E E D E E E E D E E E E E E E E E E E E E E E E C E E E D E E E E E\n",
              "[30457] E D E E D E D E E E E E E D E C C E E E E E E D E E E D E E E E E E E E\n",
              "[30493] C E E E E E E D E C E C D C E E E E E E E E E E E E E E E E E E E E D E\n",
              "[30529] E E E E E E E E C C E E C D E E E D E E E C E E E E E E D E E E D E E E\n",
              "[30565] E E E E E E E E E D D C C D C C C E D E D E E E E E E E E E E E E E E E\n",
              "[30601] D E E E E D D E E E E D E E E D E E D E E E C E E E E C D D E E C E E E\n",
              "[30637] E E D C D E E E E E E E E E E D E D E E E E C E E E E E E E E E C E E E\n",
              "[30673] E D E D E E E E E E E E E E C E E E E E E D E E E E E D E A E D E E E E\n",
              "[30709] E E E E D E E E E E E E D C D C D C C B D E D E C D D D D E D D C D C E\n",
              "[30745] E E E E E E D D D D E E E E E E E E E E E E E E E E D E E C E E D C D E\n",
              "[30781] D E E E E E E E E E D E D E E E D E E E D E E E E E E E E E D E E E E C\n",
              "[30817] E D E D C E E E E E E D E E D D D D D D D D D D D E E E E E E C C C E E\n",
              "[30853] E E E C D E E E E E D D E E E D D C E C D E E E E E E E E D E E E E E E\n",
              "[30889] E D D E E E E E C D E E D E C E C E E C E D E D E E E E D E E D E E E E\n",
              "[30925] E E E E E E E E E E E E E D E D E E E E E E E E E D E E E E E E E E E D\n",
              "[30961] E E E E D E E E E D E E D D E E E C E E E D E E E E E E E C E E E D E E\n",
              "[30997] E D E E E E E D D E E E E E B C D B A B D B E E E E E C D E E B C D C B\n",
              "[31033] C B C B C D E E D E E E E E E E E E E E E E E E E E E E C D C B E E C C\n",
              "[31069] C C D D B C A E E E D D C D D B A C A B E E E E D E E E E C E E E E E C\n",
              "[31105] E D D B E C E C D E E E E E E E E C E E D E E D E E E E E E E E E E E E\n",
              "[31141] E E E E E D E E E E E D E E E E E E E E E E E E E E E E E E D E E E E E\n",
              "[31177] E E E E E E E E E E E E E E E C E C E D C E E E E E E E E E E E D E E E\n",
              "[31213] E E E C E E E E E E E E E E E E E E D E E E E E E E E E E E E E E E C E\n",
              "[31249] E E E E E E D E E E E E E E D E D E E E E E E E E E E E E E E E E E E E\n",
              "[31285] C E D E E E E E E E E E E E E E E E E E D C E E E E E E D E E E E D E E\n",
              "[31321] E E E E E E E E E E E C E E E E D E E D E E C E D E E E E E E D C D C D\n",
              "[31357] E E E E E E D E E E E E E E E E E E E E E E E E E E E E E E E E E E E E\n",
              "[31393] E E E E E E E E E E D E E E E E E E E E C E E E E E E E E D E E E E E E\n",
              "[31429] E E E E E E E E E D E E C E E E E E E E E E E E E E E E D E D D E E E E\n",
              "[31465] E E E E E E E E D E E E E E D E E E E D D E C E D E E E E E D E E E E E\n",
              "[31501] E D E E E E E E E E E E D D D E E E D E E E D E D E E E D E E D E E E C\n",
              "[31537] E E E E E E E E E E E E E D D E E E D D D D D D E D E D E E E D E E E E\n",
              "[31573] E E E E E E E B E E D E E E E E E E E E E E D E E E E E E E E D E E E E\n",
              "[31609] D E E E E D E D E E E E E E E E A E E E C E E E E E E B E E D E D E E E\n",
              "[31645] E D E E E E E E E E E E E E E C E E E E E E E E E E E D E E E E E E E E\n",
              "[31681] E D E E C C C E C E B D E E D E E E E E E E E E E D E C C D E E E E E E\n",
              "[31717] E E E E E E C D D C D C D E D D E D D C C E E E E E E D E E E E E E E E\n",
              "[31753] E E E E E E E D E E E D D E E E E E E E E B D C B E D E E D E E C E C D\n",
              "[31789] E D E E E E E E E E E E E E E E E E E E E E D E D D D E E D D E E E D E\n",
              "[31825] E D D D D E E E E E E E E E E D E E D E E E E E D D E E E E E C E C D D\n",
              "[31861] E E E D D D D E D E E E E E E E D E D D E E D E E E C E D D E E E E D E\n",
              "[31897] C E E D E E E E E E E E E E E E E E D E E E E E D E D E E E E D D E E E\n",
              "[31933] D E E E E E E E E E E E E E E E D E E E E E E D E D E E E E E E E E E E\n",
              "[31969] E E E E E E E E D E E E D E E E E E E E E D E E E D E D E E D D D E E E\n",
              "[32005] D D D E E C E E E E E E E E E E D E E D E E E D E E D E E C E C E E D C\n",
              "[32041] E E E E E E D D D C D E E E E D D C E D E E D D E E D E D C E E E E D C\n",
              "[32077] D D E E C D E E E E E E E E E E D E E E E E D C D E E E E E E E E E E E\n",
              "[32113] E E E D D E E E E D E B E E D D E E E C E E E E C E D D D E E E E D E E\n",
              "[32149] D E E E E E D D D E E D C D E E E E E C E D D C E E E E E E E E E D D E\n",
              "[32185] C E E D E E E E E E E E E D D E C E D E E E E C E D D E A C C C B E E E\n",
              "[32221] B E E C E C E E C C C C B A D B C B C B B C C B E D B B B C D C C D B E\n",
              "[32257] E E D E E E E D D E E C B C C C E D B E D D C E C C C C C D D B B C E E\n",
              "[32293] E C C A E A B E D A A C B B D A C C E B B C D C B C B D D B C A C E E E\n",
              "[32329] E C A E B D C C B C D A B E E D C B C B C D B D B C B B B C B C B B C C\n",
              "[32365] C C C E D C A E A B D D E A D A B C C D E C E E E E E E C D D E B B E C\n",
              "[32401] C E D E C E D C C E C E E D C C E E E E E B B A D C E E C E E E E C E C\n",
              "[32437] E B D B D E C C D E E C E B B E E D E E E E D B B B E B D D B D E E E E\n",
              "[32473] D E E E E D E E E E E E E E E E D E C B C C E C D C B D C C C C B C D D\n",
              "[32509] D C C D C E B E D C B E C C D C C E B A B C E E D E D E D E B E E E E E\n",
              "[32545] E E E E E E E E C E D B D C E B A C E C D B B A B D C C C B D D C D C E\n",
              "[32581] D E D D C E E E E E D D D D B C C C D E D E E E E E E E E E B E E D D D\n",
              "[32617] E E B D D E C B E B C B C C C E E E D E C E D E E E E E E D D E E E D D\n",
              "[32653] E D E E D E E E E E E E C E E E E D E E E C E D C E D E E D E D E D E D\n",
              "[32689] E B D E D E E C E E D C E B D E E E C C D D C C D C C E E D E C D D D D\n",
              "[32725] D B E E E E C D C C C E E E E C E E D E E E E E E D E D D E E C E E E E\n",
              "[32761] E E E E E E E E D E E E E E E E E B C D B A B C B C C B B C E E E E E E\n",
              "[32797] D E D E E D E B B C D D E B C A E B C C C C C E D D C E C E D D D E E E\n",
              "[32833] C D D C B E C E E C D D A B C D B B A B B B E C D B E E E E E E E E E E\n",
              "[32869] E E C C C C D D B C D E C D A C D B E C B C D E C D E C E C B D D C E C\n",
              "[32905] E D C D B B A C B C A C B C C D B C C B D D E D E C E E E D E D C B E D\n",
              "[32941] C E D D B D B E E C B D E D D B B E C C C D C D D B C E D D E E E E D E\n",
              "[32977] E E E E E E D D C E D D C E E D D D D D E D E C E E C C E B C D E D C D\n",
              "[33013] D C D E E E D D D E E C E E D E D D C D D E C D D C E C E E C C E D E C\n",
              "[33049] E C E E D E E E E E C E E D D C E E E E D E E E E E D E E E E D E E E E\n",
              "[33085] E E E E E E D E D E D E E E E E E E E D D D E E E D D D E E E E D D D E\n",
              "[33121] E E E D E E D E E E D D E D D E E C E E D E E E E D E E E E E E E E E D\n",
              "[33157] E E E E E D D E D E D D D E E D E E D E E E B D D C D D D E E E D D E D\n",
              "[33193] E E E E D B C E E D D C E E A C E C E E D C E D D D D E E E E E C D E E\n",
              "[33229] D E D E D D E E E E E E C C D E D E D D E D E D C D E E E D D C B C E D\n",
              "[33265] E E E C E E B D E D E E E E E E E E D E E E E E D D E E E E D E D C D D\n",
              "[33301] D E D E D E C E E E E E E D D E E E D D E E D E E E D D E E D D E C D E\n",
              "[33337] C D D E B C D E D C D D E E D E C E D C D C D C D E D E E D C C E E C C\n",
              "[33373] C D E C E E C D D E D E E E E E C D D D E E E D E E E E E E E D E E E E\n",
              "[33409] E E E E E E E E E E D E E E E D D E E E E E E E E E E E D C E E E E C C\n",
              "[33445] C D E E E E E E E E D E E E E E E D E D D E D D E D C E E D E E E E E E\n",
              "[33481] D E D E D E E E E E E E E E E E E D D E B C C B E C D D D E E E D D E E\n",
              "[33517] D E E D E E B D D D D E D E C E E C C E D E C E D D D E D E E E E E E D\n",
              "[33553] D D D E E D D E C E C E E E D E E E E E E D E D B D E E E D E E D E D E\n",
              "[33589] E D E D E D E E E C E B D E E E E E E D E E E D E E E E E E E D E D C E\n",
              "[33625] D D D E D C E B E E E E C D D D E D E E E E E D D E C E E D E E E E D E\n",
              "[33661] C E E E D D E D E D E E E C E E E E D E E E E E E E E E D D C D E E E E\n",
              "[33697] D E E E E E D E E E E E E E E E E E E E E E E E E E E E E E E E E E E E\n",
              "[33733] E E E D E E E E E E D E E B E E E D C D B E C E E B D E E E E D E E E D\n",
              "[33769] E E D E E E E E E E E E D D D D E E E E E E E D C E E E D E E E C E E E\n",
              "[33805] E E E E E E E E E E E E E E D E E E E E D D E E E E E E E E E E E D E E\n",
              "[33841] E D E E E E E E D E D E C E E E E E E D E E E E E E E E E E E E E E E E\n",
              "[33877] E E E E E E E E E C D E E D D D E D D E C E E E E E E E E E E E E E E E\n",
              "[33913] E B E E C E E C E E E E E E D D E E E E E E E E E E E E E D D C D E C E\n",
              "[33949] D D E D D D D C C A E E E E E D E E E C E C E E E D E E D E E E A D C E\n",
              "[33985] D D E E D E E D E E E E D E E E E D E E E D E E E E D E E E E D E E E E\n",
              "[34021] E E D E E E E E E E E D E E E E E E E E E E D E E D E E E E D E E E C E\n",
              "[34057] D E D E E E E D E E E E E E E E E C E E E E E E E E E E B E E E D E D E\n",
              "[34093] E D E E E E E E E E E E E E E E E E E E E E E E E D E E C E E E E E E E\n",
              "[34129] E E E E E D E E E E E D E E E E E E D E E E E E A E E E E E E A E E E E\n",
              "[34165] E E E E B E E D E E D E E E D E E D E D E E E E E E E E E E E E E E E E\n",
              "[34201] E E E E E E E E E E E E E E E E E E C E E E E E D D E E E E E E E E D D\n",
              "[34237] C E E B E E C D E E E E E E E C E E D E E D C C D D E E E E E E E E E E\n",
              "[34273] E E E E E E E E E E D D D E E E E E E E E D E E E D E E E D D D D E E E\n",
              "[34309] E E E E E E D D E E E E E E E E E E E E E E E E E E E B E E E D E D E E\n",
              "[34345] E C C E E C E E D E E E E E E E E E D E D C E E E D E E E E E E B E C D\n",
              "[34381] D D C E D E E D E E E E E D E E C D E D E D E D D E E D D E E D D E E E\n",
              "[34417] E E E E C D E D E E E E E E E B E A D E C D E E E C D E E E E E E E E E\n",
              "[34453] E E E E E E E E E E E E E E E D E E E D D E E E C E E E E E D C C C E E\n",
              "[34489] E C E D E C C E D D C E E E E E D C E E C E C E E C E E D D C D D D E E\n",
              "[34525] E D D E E E D E E E E E E E C E E E D C C E E E D D E C E D D E E E D E\n",
              "[34561] D E D C D D E D E E E D E E C D E E E E D E D E D D E E E E D E E E D E\n",
              "[34597] D E D E D C E D C D E D E E C E E D C E E D E D D D D E C E E E E C E E\n",
              "[34633] E E E C E E D E D B E E D D E E C E D B E E D E E E D D D E D E E E D D\n",
              "[34669] D D E D E E E E D E E E E D E E E E E D C E D E E D B E E E E E E E E E\n",
              "[34705] E E E E E E E E E B C E D E E E C E E E C C E E D E E D E D E E E E E E\n",
              "[34741] E E E D E C C C E E E D C D D E E E D E E E C E E E E E D D E E D E E E\n",
              "[34777] E E E E E E E E E E E E C E E E E E E E E E E E E E E E E E E E E E E E\n",
              "[34813] E E E E E E E E E E E E E E C E E E E E E E E E D E E E D E E D E D E C\n",
              "[34849] B D D E E D D E D D E E E E D D B E A E D D E E D D D E E D E D E D E E\n",
              "[34885] C C E E E D D E D D E D D E D E E E E E E D E E E B D C E E D C E D E C\n",
              "[34921] D E E E E E E D E E D E E E C E E E E E E D E D D D E E D E E E C D E E\n",
              "[34957] E E E E E E E E E E E E E D D C D E E D D D E E E D E E E C E E D E B D\n",
              "[34993] E E E C D C E E E D E D C C C C D D E D E C E D D D E E E E E E D D E E\n",
              "[35029] D D E E E E E E D E E E E E E E E E E D C E E E C E E D E E E E E E D D\n",
              "[35065] D E D D E E E E E E E E E E E E C E D E E E D D E E C D D E E D D E D D\n",
              "[35101] E E C D E D E D E E E D E E E D C E E D E E E E E D D E E E D E E D E E\n",
              "[35137] D E C D B E E B E D D A C B E E E D D D E E C D E E E A B C D E E E E E\n",
              "[35173] E E E D E E C D E C D E E E C E E E E E C E E E E E E E E E E E E E E E\n",
              "[35209] E E E E E D C E D E E E E C E E E E B E E E E E E E E E E E E E E E C E\n",
              "[35245] E D B B D D D E E E E D E E E E D D E E E E D E E E C E E E E D D E E E\n",
              "[35281] E E E E E C E E D E E E E E E E E E E E E E E E E D E E E C D E E E D C\n",
              "[35317] E D E E D D D D E E E E E E E E D E E E E E E E E E E E D E E E E D E E\n",
              "[35353] E E E E D E D E E C E D D E E E C E D E D E E E D E E E E E D C E E C E\n",
              "[35389] E D E E E E E E E E E E E D C E D D E E E E E E E D E E E E E E E E E E\n",
              "[35425] E D D E E E E E E E E E E E E E E E E C E E E D E E E E E E E E E E E D\n",
              "[35461] D D E B E E E E E D E E E D E E D E D E E E D E E E E E E E E C E E D D\n",
              "[35497] E E E E D E E E C E E D D E E B E E E D E D D E C E D E E E D E E E D E\n",
              "[35533] E E E E E E E E E E D D D D D D D E D E E D E E D E E E E E E E C E D E\n",
              "[35569] E E D C D C C E C C C D D C D E E D C B E D C B E C E C E D E E E E E D\n",
              "[35605] E E E C D E E E B E D E C E D E E E E E E E D D D E D E D D E D E E E D\n",
              "[35641] E E E E E E E E E E E E E E E E E E E E E D E E C E D E E E E E E E E D\n",
              "[35677] E E E E E D E E C E E E E B E D E E D E E E E E E E E E E E C D E E E E\n",
              "[35713] E E E C E D E E E E E E E E D E E E E E E E E E E E E E E E E E E E D D\n",
              "[35749] E C D D E C E E D E D C E D E E E D E E E C D C E E E E E E E E D E E E\n",
              "[35785] E E E E E D D B D C D E E E C C E D E E E E E E E E E D D B D E D E C E\n",
              "[35821] E E E E E E E E D E E D E E E E E C E D E C C B C C E C E E D E D E E E\n",
              "[35857] E D C E C E C E A E E D E C E E E E E E D E E E E E E E E E E E E E E D\n",
              "[35893] D E E E E D C D D C E E C C C E E E D E E E E E C E E D C E E E E E E E\n",
              "[35929] E E E E E E E E E E E E E B E C E D E E E D C C E E E E D B E E E E E E\n",
              "[35965] E E E E E E E E C E E E E E E E E D E D E E E D B C D E E E D E D E A E\n",
              "[36001] A C B D E C E E D D E D A B E D E D D D B C C C D D C C D C E E E B B E\n",
              "[36037] D E D E E C E D D E E E E E D C E E E B B E D E C E E E D D E E E E E E\n",
              "[36073] E D E E D D E E E E E E D D C E E E E E D E D E E D B D E E E E E E E C\n",
              "[36109] B C E B B D C C C D B E E E E E E C E E E D D E D E E E D C E E E E E E\n",
              "[36145] E E E E E C E E C E D E E E D E E E E D D D E E D E E C E E E E C D E E\n",
              "[36181] E E E E E D C C D E B E E E C E E E E E D D E E E E E E E E E D D E E E\n",
              "[36217] E E D E D E E D E D E D E E E C B E D E C E E E E E E E E E E E E E E E\n",
              "[36253] E E E E D D E E E E E E E E E E E E C C D E E C E C E E D E E E E E E E\n",
              "[36289] E E E E E C D D E C D B D B D E D E E E E E E D E E E E E D E D E E E E\n",
              "[36325] E E E C E D D E E E E E E E E C E D D E E E E E E D E D E E E E E E C E\n",
              "[36361] E E D E E E E E C E E E E D E E C D D E E E E E E E E E C E E E E E D E\n",
              "[36397] E D D E E E E C D E E E E D E E E E D D E D D E D E D D D E E E D E E E\n",
              "[36433] E D E E D E D C B E D E E E E E E E D E E D E D C D E E E E C D E E E D\n",
              "[36469] D D E E C D E E E D E E E E E E E E E E D E E E E A C E E E E E E E E E\n",
              "[36505] E E E E E D E E E E E E E E E E E E D E E E E E E E D E E D E C E E E E\n",
              "[36541] E E E E E E E E E E E E E E E E E E E E E E E E E E D E E E C B E E D E\n",
              "[36577] E E B C D C D E E D E E C C E D E D E D E D B D E E E E E E E D E D D E\n",
              "[36613] E E E E E E E E E E E E C D C C D E C C C B D C D E C E D D E C E D E E\n",
              "[36649] E E E E D E D E E E E D E E E D E B C D C D C E E D B E E D E E E E D C\n",
              "[36685] E E E E E E C E E E E E E E C E E D E E D E E E E D E E D D E C C E D D\n",
              "[36721] C D E E C E E E E E E E E E E E E E D D D E E E E E C E D E E E C E B C\n",
              "[36757] D D C E C D E E E E E E E D E E E E E E E E E E E E E E B E E E C E E E\n",
              "[36793] E E E E E D D E E D E D E E E E E E E E E E B B D E E E E E E E E E C D\n",
              "[36829] E D E D E E E E E E E E E E E E E E E E E E E E E E E E E C E E C D E E\n",
              "[36865] D E D D D E E E E E D C D E D C C A D B B E C A A A B D B B A A E E E E\n",
              "[36901] E E E D D E E E E E E E E E E E E E E E E E E E E E E E E E E E E D B E\n",
              "[36937] C E E E D C C E D E E D D D D E D E E E E E E E E E E D E E E D E E D E\n",
              "[36973] E E E E E E E C E D D C C D A E C D E C D D E E B E E C D E E D E D E E\n",
              "[37009] E D E E E E E E D E E E E E D A E E E D B C E D D E E E D D E E E E E E\n",
              "[37045] E E E E C D D E E E C E E C D D C E E E B B E B C C D E D D E C E E D E\n",
              "[37081] E E D C E E D E E D E E E E D E E D D D D C E E E E D E D E E E E C C C\n",
              "[37117] B E D D B D C E E E E E D E E E E E E E E D E E C E C D E E D E D E C E\n",
              "[37153] D E E E E D D E C E E E C E E E E E C E E E E E E E E D E E E E E D D D\n",
              "[37189] E E D D E E E E E E E D E E C E D E D E E E B E B D E E E E E E E E E E\n",
              "[37225] E E E E E E E E E C B E C E E E D E E E D E E E E E E D E E E E E E E E\n",
              "[37261] D E E D E E E E E E D D E E E E D E E E E C C E D D E D D E E D D B E E\n",
              "[37297] E D D D D D D C E D E A D C E E E C E E E E D E E E E E E B E E E D D B\n",
              "[37333] E E C D D E E E E D E E E E E E E E E E C E E D E E A E E E E E E E E E\n",
              "[37369] E E E E E D D E E E E E E E E E E D E E E E E E E D E E E E D D E C C C\n",
              "[37405] D D E C B D D E E E D D E C E E E E C D C E E E D D E E E E E E E E E E\n",
              "[37441] D E E D E E E E E C E C C E E C E E E E E E D E C E D E D C E E E D C E\n",
              "[37477] E E C D E E E E E E D E E E E E E E E D D A E E D E D E E E D E D D E E\n",
              "[37513] E D D D E E E D E E C D D E E E D D E E D D E D C E E E E E E E D E E D\n",
              "[37549] E E E E E E D E E E E E E E E E E E E E E E E E E E E E E E E E E E E E\n",
              "[37585] E E E E E E E E E E E E E D E E E D D E B C C E A C B E A B D A C E B E\n",
              "[37621] D D C D E D E E C E C E D C C D D C E E D E B E E E E E D D E E E E D E\n",
              "[37657] E C E E E E E E E E E E E E E E E E E E E E D E D C E D E E E C C E E E\n",
              "[37693] E D E E C D E E E E E E E E E E E E E E E E D E D D D D E D E E D E E E\n",
              "[37729] E E E E E C E E C E E E E D C E D D E E E E E E E E E E E E E E E E D E\n",
              "[37765] E E D E E E C E E D D E E D E E C D E E D E E C E E E E D E E E E D E E\n",
              "[37801] E C E C E E E C E E E E E E E E D D E E C E E E E E E E D D E E D E E D\n",
              "[37837] E E D E E E E D C E C C E E E D E D E E E E D E D E E D E E C E E E E E\n",
              "[37873] E E E E E E E E E E E D E E E E E E E E E E C E E E E E E E D E E E C E\n",
              "[37909] D C D E E E E E E E E D E E E E E E E E E E D D E D E E E E E E E E E E\n",
              "[37945] E E E E E E E E E E E E E D E E D D D E E E E E E D E E E E E E E E E E\n",
              "[37981] E E E E E E E E D E E E E D D E E C E C E E D D D E D D E E E E D E E E\n",
              "[38017] E E E D E E E E E E E E E E E E E E E E D E E D D D E E E D C C E D E E\n",
              "[38053] E E E E E D E E E E E E E E E E E E E E E E E E E E E E E E D E E E E E\n",
              "[38089] E E E E E E E E E E E E E E E E E E E E E E D E E E C E D E D E E E D D\n",
              "[38125] D E E C E E E D E E E D E E D D D E E D D E E D E D D E E D D C D C D E\n",
              "[38161] E E D D D E D D C D C C E D E D E E D E E E E E E E E E C E E E E D D D\n",
              "[38197] E E E E E E E E D E B D E E E E E E E E E E E E E E E E E E D D E C E D\n",
              "[38233] D D D E E C E E D D D E E E D E E E D E E D C E E E D C E C D C D C E E\n",
              "[38269] D E E E D D D C C D C E E E D E D E E E E E D E E E E E E E E E E E E E\n",
              "[38305] E E E E D E E E E E D C D D C D C D D E E D D E E E E D E D D E D E E E\n",
              "[38341] E E E E E E E E E E E E E E E E E E E E E C E E D E D D E C E B D E E D\n",
              "[38377] E E E D E D E D C E E E D E D C C D E D E E D D E E E E E D E E E E E E\n",
              "[38413] D E E E E C E E D C E E E E E E E E C E D E E E D E E E E E E E E E E E\n",
              "[38449] E E E E E E E E E E E E E E C E E E E E E E E E E E E E C D E E E E E E\n",
              "[38485] E E E E E E D E E E E A D E E E E E D E E E E E E E E E E E E E E E E E\n",
              "[38521] E E E D B E E E C E E C E C E E E E E E E E D E E D E E E E E E D D D D\n",
              "[38557] E E D D D D E E D E E E C D D E E E E D C B D C E E E E E E E E E E D E\n",
              "[38593] E E E E E D E E E E E E E E E C E E E E E E E E E E E E E E E E E E E E\n",
              "[38629] E E E E E E E E E E E E E E E E D E E E E E E E E E E C E E D E E E D C\n",
              "[38665] E B A D C C E E D D E D E D E E A D E E E E E E E D D E E E D E E E E D\n",
              "[38701] D E D E D E E E D E E E E E D D E C C D D D D C E D C E E C C D E E E E\n",
              "[38737] D E E E E E D E E E E E E E E E D D E E D E E E C E D C E D C A C B B C\n",
              "[38773] B E C B E D E E D D E D D E C E E E E E E E E E E E C E E E E D E C E E\n",
              "[38809] E C E E D E E D D E E E D E E E E E E D C C C E D E D E E E E D E E E E\n",
              "[38845] E E E D D E E E E E E E D E E E E E E E E E D E E E E E E E E D E E E E\n",
              "[38881] E E E E D A E E E E D E E E D E E E E E D D D E E E E E E E E E E E E E\n",
              "[38917] E E E C D E E D E E E E E E E C D D C E E E E E E C E E E C E E E E E D\n",
              "[38953] D E D D E D E E E D B E E E E D C E E E E E D D C E E C C D D C C C D E\n",
              "[38989] C E D C E D E E C E C D E D E D E E C C D E E E E E B E E D D C E E C D\n",
              "[39025] C E E E D E E E E E E D E D E E D D E D E E E D D D D D E E E E E E E D\n",
              "[39061] E C E E D E D D E D D D E C D C D C D E B E E D D D D E E E E D E C E E\n",
              "[39097] E D D D D D E E E C E E B D E E D B E D D D C D C C D D D D D D E D C D\n",
              "[39133] D E D E E B D D D D E C D E C E C E B E E E E E E D D E C D C E E E D C\n",
              "[39169] E D D E E E E E E E E D D E E D C E D E D D E E D D D D E E E C D E D D\n",
              "[39205] D E E C E B E C E E E B D C B C C E D E B D E D C B C A B C E D C E E C\n",
              "[39241] E E E E C D E D D E D E D C E E E E C E E E D E D D D D E E E C C D E D\n",
              "[39277] E D E E D D E D C E E E D E D D D E D E E E E B E E B C E E E C E E D D\n",
              "[39313] E E E C E B D D E D E E E E E E E E E E E B D E E D D E E D D E E D D E\n",
              "[39349] E E E E E E D D E E E E D E D D D D E E E D E E E D E D E E E E E D E E\n",
              "[39385] E E E E E E E D E D E E E E E E C E E E D E E D E C D E E E E E D E D D\n",
              "[39421] E D E E E E D E E C D E E D C B E E C D E E B C C E E C D D E E D E E E\n",
              "[39457] E E E E E E B D C E E E E E E E D E D D E D E E E E E E E E E E D E E E\n",
              "[39493] E E E E D E E E E E E E D D D E D D E E D E E D D C E E E E E E E E E E\n",
              "[39529] D E E E E E E D E E E E E E E E E D E D E D E C D D D E E E E E E D E B\n",
              "[39565] D E C E D E E E E D C D E E E E D E C D E E D E E E E E D E E D D D D D\n",
              "[39601] D C D E D D E E E E E E E E E E D D E E E E E E E E E E E E E E E E E D\n",
              "[39637] E E E E E E E E E D E E E E E D D E D D E E E E E D E D D E E E E E E E\n",
              "[39673] C B E D E D E D E E E E E E E E E D E E E E D D D E E E E E E E E E E E\n",
              "[39709] E E E C E E E D E E E E E E E E D E E E E E E E E E E E E D E D E E E E\n",
              "[39745] D E E D E E D C D D E E E E E E E E E E E E D D E E E D D E E E D E D C\n",
              "[39781] D C B D D E E E D E E D C D D E E E E E D E E E E E E C D D D D C D E E\n",
              "[39817] D E D E D E D C E E E D E E E E E E E E D E C C E E E E E E E D E E E E\n",
              "[39853] E E E D E E E E D E E E E E B E E E E E E D E E D C D E B E E E E E E E\n",
              "[39889] E E E E E E C C D E D D E E D D D E E D E E D C E D E C D E E D E C D E\n",
              "[39925] E D E C E D E E E E E C E D D C E E E E E E E E D E E E E E E D D E D E\n",
              "[39961] C E E E E E D D E E E D E D D E D E E E E E E C B C E D E E B E E E D E\n",
              "[39997] E E E E E E E E E E D E D E E E E E E E D E E E E E D E D E E E E E E D\n",
              "[40033] E E D E E E E E E D D D B E E E E E C C E E C A D D D D E E E B E E E E\n",
              "[40069] E E E D E E C E D D E E D C D D E E D D E E D E E E D E E E E E E D C D\n",
              "[40105] C C D C D D D E C E D D D E D C C D E E D E D E D E E E E E D E D E D E\n",
              "[40141] E E C C D E E E E B D E E D E D E E E E E E E E E E E E E E E E B C E D\n",
              "[40177] E D E E E E E E E E E E E E E D E E E E E E E E E D E E E E E E D E E E\n",
              "[40213] E E E E E E D E E D E D E D E D E E E E C E E E E E E E E E D D E D D E\n",
              "[40249] E E D E D E E E E E E E E E E E D D E E E C E E E D E E D D E E E E E E\n",
              "[40285] E E E E E E D D E E E D E D E E D E E E D E C D E D E D B D E E E E E E\n",
              "[40321] A C D D D E E B E E E E E D E E E E E E E E E D E D E D D E E E E E E E\n",
              "[40357] E E E D E C D D E E E D D E C E E E D C C D D C E E C E E E E E E E E E\n",
              "[40393] E E D D D E D E E E E D E C C E E E D D D B E E E E E E E E E B E D E D\n",
              "[40429] D C D D E D D E E E E E E D E E E D B E B C B E E D E E E E E E E E D E\n",
              "[40465] C D E E E E C D E E E D E E E E E E D C D D E E E E E E E D E E E E E E\n",
              "[40501] D E D C E E E E E E E D E D E E E E D D D D E D D E E D E E E E E E B E\n",
              "[40537] D E E E E E E E E E D E C E D E D E E C E E E E E E E E E E E E D E E E\n",
              "[40573] E D E D E E E E E D C D E D E D E D D D D E E E E D D D D D C E D D E E\n",
              "[40609] E D E E D E E E E D E B E E D C E E D E D E C C E E E E E D E E E E E E\n",
              "[40645] E E D E E E E E E E D C E E E E E B E B E E E E E E E E E E D E E E E E\n",
              "[40681] E E E E E E E E E E E E D E D E D E E E D E C E E D C A D D B D E C E E\n",
              "[40717] D D D C D E D D C E D D D D E E C E E E E D E D C C D D C B C E D B B C\n",
              "[40753] C B C C E D D B B D D D D C E E C C D E D E C C D E B E E E E E D E E E\n",
              "[40789] D E E E E E E E C E E D D D D E E E E E E E C C D E E E E E E D E E E D\n",
              "[40825] D E E E E D E D E E E E E E E E E E E E E D E E E E E D D B E E D E E E\n",
              "[40861] E E E E D E C D D C E C E D D B D D D D C D D E E E D C C D E E E E D C\n",
              "[40897] E D D C E C D C E D C E D C E E D E E E E E E D E E E D E E C E E D D C\n",
              "[40933] D C A D B C B C B D E E E E E D E E E E E B E D D E E C E D D D C C C C\n",
              "[40969] D E D C C A C C C C E D C B B C D D B C C C B B C C B B C C C C D C D D\n",
              "[41005] C C D D B B C C C C C E D D D D D E E E E E E E D D D B C D E E E E E D\n",
              "[41041] C E E E E D E D D E E E E D E E E E C E E E E E E E E E D E E D D E D E\n",
              "[41077] C E D E E D E E D C C D E E E E E E E E E E E E E D D C D D E C D C A B\n",
              "[41113] C E E E E D E C E E E D D D D E C D B C E E E E D C D D D E E E E E E E\n",
              "[41149] E E E D C D E E E E E E E E E E E E E E D E D E D E E E E E E D E E E E\n",
              "[41185] E E E E E D D D E C E E D D D E E E A E E D E E E E E E D E D E E D D D\n",
              "[41221] E E E E E E E E C E E E E D E E E E E E D D E E E E E E D E E D E D E E\n",
              "[41257] E E E E E D D D D E E E D E E E D E E E E E E E E E E C D C D E D D D D\n",
              "[41293] E E E E D E D E E E E D E E E E E E E E E E E E E E E E D E E E E E E D\n",
              "[41329] E D E E E E E E E D E D D E E E E D C E E E E E E E E E E E E E E E E E\n",
              "[41365] E D D E E E E D E E D E E D E D E E E E D E E E E E E E E E D E D D E D\n",
              "[41401] E E E D D E E D E E E E E E C E A C C E E E A B E B D E D E E E C E E E\n",
              "[41437] D E E E D E E E D E C E D C C D E D E D D D D D C E E E E E E C D C B E\n",
              "[41473] D E E D C E E D E E E D E E C E E E E E C E E E E E D D E E E D D E E D\n",
              "[41509] E D E E D D E E E D D C E E D E E D D E E E D D E D E D C E E E E E E E\n",
              "[41545] C E E E D E E C E E E D E D E E E D A D D E D B E B E E D D D E D D E E\n",
              "[41581] E E E E E E E D E E C D D D D E C E D C D D D E E C D E E E E D E D E E\n",
              "[41617] E E E E E E E E E E E E E E E E E D E E E D E D E E D E E E E E B E E D\n",
              "[41653] E E E E E E E E E E E D E C E E E D E E E E D E E E E E D E E E E E E D\n",
              "[41689] E E E E D E E E E E E E E E D C D E E C D C D E E E E E E E E D E D E E\n",
              "[41725] E D E E D E D C E E E D D D C D E D D C E E E E E E E E E D E E E E E E\n",
              "[41761] E E E E E E D E E E E D E D D D D E E C E E E E E E E E E E D E E D E D\n",
              "[41797] E E D E E D E E E E E E E E E D E E E D E E E D E E E D E E E E D E E E\n",
              "[41833] E D D E E E E E E D E E E E C E E E E E E E E E E E E E E E D E D D D D\n",
              "[41869] E E E E E E E D D D E E E E E D E E E E E E E D D E E E E E E E E E E E\n",
              "[41905] D D E D E D D D E E D E D E E E D E E E E E E E E D E E D E E E E E E E\n",
              "[41941] E E E E E E E E E E E E E E E E E E E E E D D D D D D D E E D E E E E D\n",
              "[41977] E E D D E E E E D E E E E E E E E E E D D E E D D D D E D D D D D D E E\n",
              "[42013] D D D E E E E E C D C D E E B E C E E E E D C C B E E D D E E D D D E E\n",
              "[42049] D E E E E E E E D E D E E E E E D E E D D E E D E E E E E E E E E E E E\n",
              "[42085] E E E D D D D C C E C E C E D C E E E E E E E E E D E D E E E D E E E E\n",
              "[42121] E E E D D E D E E E E E D D E E D E E E E E E E E D E C E C E E D E E E\n",
              "[42157] E D E D E E C A B A E C B E E B E E D C E D E E E E E E E E E E E E E E\n",
              "[42193] E C D C E D D E B E E E E E E E E E E E E E E D E E E E E E E E E E C E\n",
              "[42229] E E E E E E E E C E E E D E E E D E E E D E E D C E C D E E D E E E E E\n",
              "[42265] E A E D D C C C E D E E D D D C E E E B C E B E E D C E D E E E E E E D\n",
              "[42301] D E E E E E C D E E E E E E E D E E E D D E E E E E E E E C E C C E D C\n",
              "[42337] E D E E D D E D E E E D D E E E E D E E E D E E E E E E C D E E E D E E\n",
              "[42373] E D D E E C E C C E D C D D D E E E D D E E D C D C C C C E C E D D E E\n",
              "[42409] E E E D D E E E E D D E E C E E E D E E E E E D E D D E D E D D E D E E\n",
              "[42445] E C E D E E D E D E B E E E D E E E E E E D E D E E E E D D E E A D E E\n",
              "[42481] C E E E D E E C C D E E D C C C C E C E E E E E E D D D E D D C E E E E\n",
              "[42517] C E D E E D E E E E E D C D E E D C E E E E D D E D E C E D E E D D D E\n",
              "[42553] E E E E E E D E D D E E E D D C E E E E D E E E D D E D E C D E E E E D\n",
              "[42589] A C D D C E E D C C D C E B D A A E A C E D D D C B D B C C C C B D D D\n",
              "[42625] E C C D D E D E C C C D C D E B C E D E D C C C C D C E C A D C D C C C\n",
              "[42661] D B E D E E E D E E D E E E E D B B D C C A D E C D C C C A D D C A A B\n",
              "[42697] B A E E E E D E E D E D E C E E C D E E E D E D E D E E E E D E D E E E\n",
              "[42733] D E E E C E E D E E E D E E E E E E E E E E E D E E D D E D D D D C D D\n",
              "[42769] D C D D D D E D E E D D D D E E E D E E D C E E D E E E D D E D E E D D\n",
              "[42805] D C E E D E E C E D E D E E E E E E C D E E E E D E E E E E E E E C E D\n",
              "[42841] E E E E E E D D E E E D E E D E D E E E E D E D D E E E E E E E E D E D\n",
              "[42877] E D E E E E E D E D E E E E E E E D E D E C D E E E E E E E D E D E D D\n",
              "[42913] E D D D D E E D E D E E D D E E D E E E E E E E D D D E E D E D E D D E\n",
              "[42949] D D E E E E E E E E D D E E D E D D E E E D E D C D D D B D E E D E E E\n",
              "[42985] D D E D D D E E D E E E E D E E D D E E E C D E E D E C E E D E E E E D\n",
              "[43021] E C E D E E E E E E E E E E D E E E E E E E E E E E E E E E E D D D C D\n",
              "[43057] E E E E E E E C E E E E E E E C B E C D C E D C D D D D D D D E E E D C\n",
              "[43093] B E E E E E E E E E E E E E E E E E E E A B E D E E D E E E E E E E E E\n",
              "[43129] E D E E E C D E E D D E E E D D E C D E E E E D E E E D D E E E E D D E\n",
              "[43165] D E E D E C E C E E D E E E E E E C D D C C E E D D E E E E C E C E E E\n",
              "[43201] E E E D E E C E D D E E E E E C E E E E A E E E E E E E E E E E E E E E\n",
              "[43237] E E E E E D E E E E E D E E E E E E C E D E D E D E E B E E E E D E D D\n",
              "[43273] E D D E D E E D C D D E D E E E E E E C D D E E C C D D D C D D C E C D\n",
              "[43309] D E E E D D E D E E E C C E C E D C C D D C E E E E E E E E E E D D D E\n",
              "[43345] E E E E D D E E D E C E E E D E E E D D E E E D E E E E D E D E E E E E\n",
              "[43381] E E E E E E E B D D E E D D D E D E D D E E D D D E E E C E E E E D E D\n",
              "[43417] D E D D E D D E E D D E E D D E E E C D E D C D D E D D D E D E D E E E\n",
              "[43453] E E D E E D E B B C A E E E D D D C E C C D C C C D E D D D E E E E E E\n",
              "[43489] E E C E E D E C C C B C C C D C C D C B C C C C C D D D C E C B E E E E\n",
              "[43525] E E E D E C B C B B B C D C C C C C B D C B C C C C E B C A C B D B B E\n",
              "[43561] C B C C B C E D E D D E E C C D D E B C A C A A B C D B C A C E B B E E\n",
              "[43597] E B C B C D D B C B C C C B C D D E D C C D D C A E B B D A C C C E B B\n",
              "[43633] D B E B C C A C C A A B C C D C B C E B E A B B C C A C C B A C B C B C\n",
              "[43669] C B C C A D A E D A A A B A E E E B C E C B D C C A A D B A B A A A A A\n",
              "[43705] A A B B B B A C C B A D E B A B C B A A E B B E A B C E D D D E C D E C\n",
              "[43741] C C D C E D C C C E C C E E D D B C C C C C D C C D C C D E C C C D B E\n",
              "[43777] B D C C D C C C E C D C C D C C B C D C D D C C C E D D C D C D C D C D\n",
              "[43813] D D E D E E D D B C B C D E B E E E C E D C B E C C D C D C C E C D E C\n",
              "[43849] B B B B C C C E B C B D C C B C D B E D C B B C B E C C A C D C D C B E\n",
              "[43885] A E E E E E E E E E D D E D E E D B E E C E D E E E C D E D E E E D D D\n",
              "[43921] D E D C D E C D D E E E D E E E E E D E D E E E E E C D E E E E E E D E\n",
              "[43957] E E D D D E E D E C D E E E E E D E E D D D C D C D D E E C D E E C D E\n",
              "[43993] D E D E E E E E E E E D D D E E E E E D D D D E D E E C C C C D C D D D\n",
              "[44029] E E E D E E E E E E E E D E E D E E E E C C E D E B D D C D D E D C C B\n",
              "[44065] B C E C C E C D D C C C E E C D D D E C D D C E C D D E C C D D C C C D\n",
              "[44101] E C D C C E E E E E D D D E E C E C E D E E E E E E E D D E E E E D D C\n",
              "[44137] C D C C C C D E D C E D D D E D E E E D E E E E E D D E E D E E C D D E\n",
              "[44173] E E E E D D D E E D E C D E C D D D D E D E D C D E C C E E B E D E D E\n",
              "[44209] D D E E E E E E E D C E E E D E E E E D D E E E E B E D E E E E D E E E\n",
              "[44245] E E E E E E E E E E E E C C E E D C C D C C E D E E E D E E D E E D E D\n",
              "[44281] D E D E D E E E E E E D C D D E C E E E D E E E D E D E E E D C E D D D\n",
              "[44317] D D E C E D E E C D E E E D E E E D E D E D D D D C C C C E C E D E C E\n",
              "[44353] E D D C E E E B B D E B E C E C D E E D D D E C C C E E D B D D D E C D\n",
              "[44389] D C B D B B C D E D E D E E B D D D C C C C C C C D D C C E A C D B C B\n",
              "[44425] C C E D C C C C B C C E C D C E C E D C E D E E E E E E E E D C E E E B\n",
              "[44461] C E C C D E E E D C D D D B C E E B E E E E E E E E E E E E E E E D D E\n",
              "[44497] E E D E E C A D D B E A B D E A A D C B A C D E C E E E D E D E E E E E\n",
              "[44533] E E E E E E E E C E E E E C E C B B B B C C B C B B E E E E E E E E C E\n",
              "[44569] D C C C E C D D E D D E C D E E E E E E E D C E E E E D E C D E E E D D\n",
              "[44605] E D E E E C E E D E E E E D E E C D E E D E E D B D D E D E C E E C D E\n",
              "[44641] E E E E E E E E E D D C D E E E E E E D D E E E E E D D D D D D C E C E\n",
              "[44677] D E C D D D D E E E E E E E D E D D E E E E E E E E E E D D D D D E D D\n",
              "[44713] E E D C E D E C D D E E E E E E E D D C E D D E E E D E D D D E E E D D\n",
              "[44749] B C C E E E E D C E D D D D D D E D E E D E C C D C D D D C E C E D B E\n",
              "[44785] E E E C D E E D E E D E E E E E E C D E C E E E E D E E E D E E E E E E\n",
              "[44821] E E E E E E E C E D E E D E E D E C E D C D C E E E E E C C E E E C E C\n",
              "[44857] E D D E E E E E E E E E D D E E C D E C E D E E E E E E E E E E E D E E\n",
              "[44893] D E E D D E E D E E D E E E C D E E E E D E E E E E D D E D E E D E D E\n",
              "[44929] E E C E E E E D E C E E D E E D C E D E E D E D D D D D E E C E D D E D\n",
              "[44965] E E E D E D E E D E D D E E E E D E D D E D E E E C C E D E D D D E E E\n",
              "[45001] C D E D E E D E E E E E E E D E E E E E E E E E E E C C D A D A B D C E\n",
              "[45037] C C D C E C E D E D D E D B B B C B D E E E E E E D E E E D E E E C B B\n",
              "[45073] B E E E E E E E E E E E E E E E E E E E E E E E E D E E E E D D E D E E\n",
              "[45109] C E E D E D E E E E D C E E D E E E D E E E E E E E E C E C D D E B E C\n",
              "[45145] B D E E D E E E E D D E D B B D B E D C C A C A C C D B D C B E B C B D\n",
              "[45181] B C C B D C C E E C B C B C B C A E D E D C C E C D E E E E D E E E C E\n",
              "[45217] D E E A E D E D D E E D E C E E E C C D E B B C B A A B A A B B B A B E\n",
              "[45253] E C E D C E D E E D E D D D E E E E C E D D D E C E D E E E E E E E E E\n",
              "[45289] D E E D D E E D E E D E E E E E D E D E D D E E E E E E E E D E E E E D\n",
              "[45325] D E D D E E E D E E D D E D E E C D D C D E D D E E E E E D E E D E E E\n",
              "[45361] C C E D E D D E E E D E C E E E E E E E E C E E D D E E D E D E E E D E\n",
              "[45397] E E D E E E E E E E E E E D E D D D D D D E E E E E D D E E E E E E D C\n",
              "[45433] C D D E D D E E E E E E D E E D E E E E E E E D E E E E E E D D D D D E\n",
              "[45469] E E E E D C E E E E E E D E E E E E E C E E E E E E D D D E E D E E E E\n",
              "[45505] E E E E E E E E E D E E E E E E E E E E D E E E E E E E E D E E E E D E\n",
              "[45541] E D E D D D E D E E E E E E E E E E E D E E E E E D D D E E D E D D D E\n",
              "[45577] D E E E E E E E E E E E E E E E E E E E E E E E D E E D C C C D D D C D\n",
              "[45613] D D D D C E C C E E E D D D E E E E E D D E D E E E E E E E E E C E B E\n",
              "[45649] D D E E E C E E E D C E B E E E E E C D E D E E E D E E E E B E E E E D\n",
              "[45685] E D D D E E E E E D D C E D E D E E D E E C D E E E E E E C E D E D E E\n",
              "[45721] E E E D E D E C D E C E D E D C E C D D E C D E D D D D C E E E E E E C\n",
              "[45757] E E E E E E E E E E E E E D E E E E E E D E E E E D D E D D E E D E E E\n",
              "[45793] E E E E E E E E E E E E E E D D D E D D D E E E E E E E E E E E E E E E\n",
              "[45829] E E E E C E D E E E E E D E E E D E C D E E D E E E D E D D E E E E E D\n",
              "[45865] D E E E E E E E E E E E B C D C C E D B E E E E E D E D E E E D C E E E\n",
              "[45901] E E E E D E E D D D D D D D E E D C E D E E C E D E C E E D E D E E E D\n",
              "[45937] E E E D E D D E E E E E E E E D E E C E E E C E E E E D E E E E E E C E\n",
              "[45973] E E D E E E E D E E E E E C E E D D E E E C E E E E E E E E E E E E E E\n",
              "[46009] D E E E E E B E E E E E E D E D D E D E E E E E D E E E E E E E E D C D\n",
              "[46045] E D E D E E D E E D E D E E D E E E E E E D D E E D B D E E E D C E E E\n",
              "[46081] E E E C C E C E B C C D E E E E D D E D E E D D C D E D E E E E D E E E\n",
              "[46117] E E D D E D D E E E D D E E E E E E E E C E E E D E E E E D E D E D E E\n",
              "[46153] E E D D D E E E D E E D E C E D D D E E E B E D E E D D D E D E D E E D\n",
              "[46189] C D E E E E E E C E E E E E D E E E E E E E D E E D E E E E D E E D E E\n",
              "[46225] E E D D E E E E E D D E E D D D D D E D D D E D D E E E E D E C D E E D\n",
              "[46261] D E D E E E E E E D E C E E E E E E E E E E E E E E E D E E E E E D E E\n",
              "[46297] E E E E E C E E E E E E E E E E E C E E E D E C D E D E E E E E E E E E\n",
              "[46333] E E E E E E E E E E E D E D E E E E D C E E E D E E E D E E E E E D E D\n",
              "[46369] C C C C B E E A D E D C E E E E D E E D D E E E E E D E C E E D E D D D\n",
              "[46405] D E E E D E B C C D E E E D E E E E E E D D E C E C E E E E E E E E E E\n",
              "[46441] D E E E E E E C E E E E E E C D D E E E E C E E C E D D E D E E E E E E\n",
              "[46477] E E E E E E B E E E C E D C E E D E E E E D E E D E D E E E E E E E D E\n",
              "[46513] E E E E E E E E E E E E E E E D D E E E C E D E E E E E E E D E E E E D\n",
              "[46549] E E B D E C E D D D E E E E E E C E E D E D E C E D D E E D E D D E E E\n",
              "[46585] E E D E E E E C E E E D E E E E E E E E E D E D C E D E C C A D D D D B\n",
              "[46621] C D B D C D D E D D D C E B C C C B C C D D C C D B B B B E B E E D E C\n",
              "[46657] D E D E E E E E E E D D D D E E D C B D C D D D D E E C E E D E D D D E\n",
              "[46693] E E D E D E E E E E D E E E E E E E E D E C D E E B D E D E E E E E C D\n",
              "[46729] E E E E D D E E E E E C D C E C C E E D E D D A D D E E B E E D D E C D\n",
              "[46765] C E E E E E E D E E E D C D E D E D E E E C C E C E D D D C D D C D D E\n",
              "[46801] D D E E D D E D E E D E E E E D E E D E B D D E D E C E E E E D D E E D\n",
              "[46837] D E D E C D E B C E E D E E D E E E E E D E E D E E E E E D E E D E E E\n",
              "[46873] D E D D D D E E E E E E D E E E E D E E D E E E E E D E E C C D D E E E\n",
              "[46909] D E E D E E C D C C E E E C E E D E E E D C E E E E C D D E E E E E D E\n",
              "[46945] E E D E E D D C D E E D D E D E C D E D E E D E E D E E E C E D D B C D\n",
              "[46981] E E C B E D D D E E E E D D C E E E D E E E D E C E E E E D E E C C B B\n",
              "[47017] D B E E C E D B C E D E D C D E E E E E E E E C D D E E D E E E C D E E\n",
              "[47053] E E D E E E E E D E D E D E D E C D E D E E D E E D D E D D D E E E C E\n",
              "[47089] D E E D D E E D E E B D C D C E E E D D D D D C B C D B C C D C C C C C\n",
              "[47125] E C C D C E C D C C C E E D A B B A C B B C B A C A B B C B A B B A B B\n",
              "[47161] E C C B B B D C C E C E E D E E D E E E D E E E D E D D E E E E E E E D\n",
              "[47197] E E B E D D E C C C E E C D E E E D D D D E E E E D D E E D E C E E D C\n",
              "[47233] D D E D E E D C D E C B E D C B B D B B D E E E E E E E E C E D C C B D\n",
              "[47269] D C E E E E A E D D E D C E D D E D E D D C D E D D E D E D E E E E D E\n",
              "[47305] E E E C D D B A B B A A B C C A B C E E E E D E D D C D E E E D C D E D\n",
              "[47341] E D E E E C E E E E E E E E E C D E E E D E D E E D E E D E E E E E E E\n",
              "[47377] E E E D E E D E E E E C D E E E E E E E E E D E E E E E D E E D E E E E\n",
              "[47413] E E E E E E E C E E E D D E D D D E C D D E E E E E E E E E D D C D E E\n",
              "[47449] E E D E E E E D E D D D E D D C E E E E E E E E D E E D E C D C D D C D\n",
              "[47485] E E E E D D E C E D D E E D E D C B E E E E E E E E E B A E D E C D D D\n",
              "[47521] E D D C C E E E D D D E E E E C E E D D E D D E D E E D D C C B E E C A\n",
              "[47557] B E E D D C C E D E E E E E D E E E E D E E E E E E E E D E E E D D E E\n",
              "[47593] E E E E D E E E E E C B C E C E E C E C D E E D C D D C D B B C C C D D\n",
              "[47629] C C D D D B C D C C C C C C B D C D C C C D D E E E D D C E E E E C D E\n",
              "[47665] D B D B C D C B D E C B B C C C E D C C D C B D D C D E E E C E D D C D\n",
              "[47701] D E C C D C D D C D E D E D C D D D E D E E E D D D C C E E E D C D D E\n",
              "[47737] C C E E D E E C B C E D E C D D B E D E C C D C E E E B C A A D D E E D\n",
              "[47773] E D D D D E D D D B E E B E D C C C D C D C D D B B D D D D A B E B C D\n",
              "[47809] C E D D D D E D D D D D E E C E E E D E D D E D D D D C E E D D D C E D\n",
              "[47845] D E D E D E D D D E E E E C E D E D D E D D E E D E E E E E E E E E C E\n",
              "[47881] D E E E E E E E B E C D E E E D C E D D D E E D D B D C D C D C E D E E\n",
              "[47917] C E E E D D D D E E D E E E D E E D C D C E B E E E D C E E D E E E E E\n",
              "[47953] C D E D D E E E E E E E E E D E E E D E D C E D E D C E C D D C E E E D\n",
              "[47989] E E E E E E E D D E E D E E E D E E D D E E E E E D E D E E E E E D E E\n",
              "[48025] E E E E E D E E E D E E E E E E E E E E D C E E E E D C D E E E D E E E\n",
              "[48061] E D E E C B C D B B C C C B C C E E D D D D E C E D D E E C E E E E E E\n",
              "[48097] E E E E E E E E E E D D C E D E E D D E C D E E D E D D E E E E E D D E\n",
              "[48133] E E E E D E E E D E D B E E D C E D D C C E E C E E E E E E E E D D E E\n",
              "[48169] E D D D C D D E E D D D C E E D E E E D E D E E E E E D E E E E D E E E\n",
              "[48205] E D D D E E E D D C C D D E C C E D E C E E E D E E D D E D D E E C C E\n",
              "[48241] D E D D D D E E E D D E E E C D D E D D C D D C D E E E C D E E E E D D\n",
              "[48277] D E E E D D E E E E D E D E B D C C B A C E E B E D E D E E C E E B E D\n",
              "[48313] D E E E E E E D E D E D E E E E E E D E D E D D E E E C D D E E E B E E\n",
              "[48349] E E D C E D E E E E E E E E D E E D D D D D E D D E D D E D E D C E D E\n",
              "[48385] D D E C E C D B E D B C E E E E E D E D D D E E D E E E D E E E D D E E\n",
              "[48421] D E D E D E D E E E D D E E E D D E D E D D D E E E D D E E E C D D C E\n",
              "[48457] D C D E B D A C D E E E E E E E E E D D E C E E E E E E E D E E E E E C\n",
              "[48493] E C E E E E E E E E E D D E E D E E D E E D E D E E E E E E E C E D E E\n",
              "[48529] E E E D D E D E E D D E D D E E E D D D D D D D D D C E D E D E E E D E\n",
              "[48565] E D C E D E E E D E E D E E E E E E E E E E E E E E D E E E E E D C E D\n",
              "[48601] D E E E D C D E D D D B D D D E E E E E E E E E D E E E E C D E E E E D\n",
              "[48637] E E C E D D D E C E C D B C C E D C D C C E B D C D E D C D D E D C B C\n",
              "[48673] C E E D D E D D D E C E E E D E E E C E C E E D D D E D C D C D C D E E\n",
              "[48709] E D E E D E E D E C C E D E D E E E E E D E E E E E E D E E E D E E C E\n",
              "[48745] D D E E E E E E E E E E D C B D D C E D D E E E B D E C C D C C A D E E\n",
              "[48781] D D E E E D D D E E E E E E E E D D D E E D E E E C E D E E D D E E E E\n",
              "[48817] D E E C D E E D E E E E E E E E E E D E E E E E E E E E E E E E E E E D\n",
              "[48853] D E D E E E E D C C D E E E D B D E E E E E D E E E D E E D C A E E C E\n",
              "[48889] E B D D D C D D E E C E D C C D D E D E E D D E C D D D D E E E E D D E\n",
              "[48925] E E D D C D D D D D E E E B D D E E D E C E D E D E C E C E E D E D D D\n",
              "[48961] C E D E B D E E D E D E D D E E D D D E E D E E C E D E E E D E E E E E\n",
              "[48997] D D E E C D E E E D E E C B D E C C B E D C E E E D D B C E C D D E E D\n",
              "[49033] E E E E E E E E E E E E E E E D E D E D D D D D C C E B D C C B B D D D\n",
              "[49069] D D D C D E E B E D D D D C C D C D C E E D C E D D D D E E E E E E E E\n",
              "[49105] E E E D E E E D D E E D E E D E E E D D E E D E E E E D D D E E E C E E\n",
              "[49141] E E D E E C E E E E E E E E E E E E E E D E E E E E E E D E E E E E E E\n",
              "[49177] E E D C E C C E E D D E D E C E D D D E E D E D E E D E E C B C E E C E\n",
              "[49213] C E D C E D D D E E E D E E D D E C E E D E C E D E E E E E E E E E E E\n",
              "[49249] E D D E D D E E E E D E E E E E D E E E E E E D D E E E E E E E D E E E\n",
              "[49285] E E E E D E D D E E E D E E D E E E E E D D E E E E E E E E E E E D E E\n",
              "[49321] E E E D E E E E E E D E D E E E E E E D E E E E E E D D E E D C E E E E\n",
              "[49357] C E C C E C C E C D E E D D C E E D E D D C C D E C D C E E E E E E D E\n",
              "[49393] D E E E E E E E E E E E D E E E D E E E C E E E E E E E E E E E E E D D\n",
              "[49429] D E E E D E B E B D D C E E E E D B E D E B D D E C E E E D E D D E D D\n",
              "[49465] E E E D E D E C E E E E D E E D D D D E E B D E E E E E E E E D D D E E\n",
              "[49501] D E E D E E D D E D E D E B B B E D E E E E E D E D E E D D D E E D E E\n",
              "[49537] E E D E D D D D E D D E E E E C E E E E E E D E E E E E C D E D E E D D\n",
              "[49573] B C E E D D E E E E E E D D D E D E E C D E E D E C E E E E D E E E E D\n",
              "[49609] D C C D D E C E D D D D E D E E E C D D D E D D D D D E E D E C C E E D\n",
              "[49645] E E E E D D D D D D D D E D D D D D D D D E D E E E E E E D D C D E E E\n",
              "[49681] E E E E B D D D D D E E E D D D D E C E E D D E E E E D D C E D E E D E\n",
              "[49717] E E D E E E E D E D E C E D D D D C C C C D D C D E D E E E D E E E E D\n",
              "[49753] E E D E E D E E E D D E E E E C D E E E E E E D E E E E E E E D D D E C\n",
              "[49789] E D C E C E D C D D C E E D E E D E C E C D C C D C C D B E E D E D D E\n",
              "[49825] D D C E E E E D D E D E E D D E E E E E D D E D C C E E E B D E E E E E\n",
              "[49861] E E D D D E D E E E E E E E E E E B A C B E E D D D D E E D E E D E D E\n",
              "[49897] E D D E D E D E C D D D E D E D E D E E E E E E C E D E E E E C E E E A\n",
              "[49933] B C D D B D B C D C A B C C A C D E B E E C E C C E E B E E D E E C E E\n",
              "[49969] D D E D D E E E E C E E E D D E E E D E D D D D E E E E C E E D E D E D\n",
              "[50005] D E C D D E E C E D E E E D E E E D E E D E C D D B D D E E D E E E E D\n",
              "[50041] E E C D C E E D E E D C D D D C E D D E C E E C D D B E E E C D C D D E\n",
              "[50077] E D D E C E E D E E E D E D E D D E E D D E E E E E E E E C E E E D E E\n",
              "[50113] E E E E E E E D E E C D D E C C D B E C C E E D C E D E E E E E E D E E\n",
              "[50149] E E E E D E E E D E E E E D E C E E E E D E E E D C E D C E E E D E E D\n",
              "[50185] E E E E E D E D E E A D E D E D D E E E E E E B E D D D D D D D D D E D\n",
              "[50221] D E D D E E E E E E E D E D D D D D C C C B D D D E B C D D E E C D D E\n",
              "[50257] E E D D E D E D E D E D E D D D C E E E D B E C C B C B B C C B B C B C\n",
              "[50293] E D D D E D D B D C C B B C D D D D D E D C E D D E D D D D E E D D E D\n",
              "[50329] E D E E D C D C D D D D D C E E D D E D E E E D D D E E E D C D D D E E\n",
              "[50365] D E D E E E E E E D D D E D D C C E E C D E D D D E E D D D D C E C D E\n",
              "[50401] E C B E E E C E E E E D E D D E E E E E E C E E D E E D E D D D E E E E\n",
              "[50437] E D E D E E E E E E B E D E C E C D C C E E C C C C C E D C D D E E C E\n",
              "[50473] E E D E D E E E E E E E D E E E C E D E E E D D E C D E E E E E D E E D\n",
              "[50509] E E D E E E E E E E D E C D D E D E E E E E E E E E D E E D E E E E D E\n",
              "[50545] E E D E E D D D D E E D E D D D C E D E C D E D E D E D D D E D D E D E\n",
              "[50581] D D E D C E B B B E E D B C D C D C D B B B E B D E E E C D E D D E E D\n",
              "[50617] D E D E E D C E E E E E D E D E E E E D D C D C D D D E D D E E E D E D\n",
              "[50653] D E D D E E D E C D D D E E D E E E D D D D C E D D E D D E D B E D D C\n",
              "[50689] D C D C E D E C D D E E C E E D E E E D D E E E E E E C D E E E D E E E\n",
              "[50725] E D E D E C C C C A D E D E C B D D E D D E E E D D E D E E D C E E E E\n",
              "[50761] E E C C D D E D E E E E C D E D D E E E E E D E C E C D B E D D D E D E\n",
              "[50797] E E D C B E C D E E E E E D E E E E E D E E E E E E E D D D E D D E D E\n",
              "[50833] E E A C A C D E E E D E E C D E C D B D D E D D D E E E E C C E E E E E\n",
              "[50869] E E E E D E E E E E E E D E E E D D E E E D E A C E E E E D B C C D E E\n",
              "[50905] E D D E D E E D E D E E E E E E C C E E D D E E E E E E E E E E D C E D\n",
              "[50941] D E D D D E E E C E E E E C C D D E E D C E C B E B E B C C C E B C C E\n",
              "[50977] E D C D E E E E E C D C C E E E E E E E E E E E E D E D D D D C D E E E\n",
              "[51013] E E E E E D E D D E D E C E D D E D D E E D E D D E D D E D D E E E D D\n",
              "[51049] E D E E D C E D E E E D C D E D D E E C C C D D E D E E D D E D C D C C\n",
              "[51085] E C E E C E D D E D D E D E E D E D D E E E E D C D C D D D D C D E D D\n",
              "[51121] D E D E D B E E E D D E E E E E C C E D C E E E C E C D D E E E E E E D\n",
              "[51157] E D E E C E E C D D E D E D D E D C D D C C D E C A C E E D D D E E C E\n",
              "[51193] E C E D E D E E D E D E E D D C E E D B E D D E D D E E E D D E E E E D\n",
              "[51229] E D E E D C E C E D E E D D E E C E D E E E D D E E D E E E D C E D B D\n",
              "[51265] A C E C C D A C B C D C C E C E E D C B B D D C D C E C C E D E C A D C\n",
              "[51301] D D E C C D D E E D E D E E D E E E D E D E E E E D D C E C D B E C D B\n",
              "[51337] C A D D C A D B C C C C B E C C C D B D D E E D D D D E D E E D E D E E\n",
              "[51373] C B E B D C D B C C E D E C B E E B C C C E C B D E E D D E D D D B E D\n",
              "[51409] C D E D E C C C C C D C C E E E B E B D E E D E C C E D C E E D C D C B\n",
              "[51445] C D B C E D C E A D E D E C E C D B E E E E D E E E E E E D E D E E E D\n",
              "[51481] C B C B C C C E C B D C C B E E B B C B B E C E C C E E D B D E E E E E\n",
              "[51517] E D E E B B E B B D C E C E C C C E C E E C C D E E C D D D E C C D D E\n",
              "[51553] D E E E E E E E E E E E E E D E E E E E E D E C E D E E C E E D E D E D\n",
              "[51589] D E E D C B B C C D D B C C C C D E E A C C C C E C E D B C C C C D C E\n",
              "[51625] D D E D C C E D E D E E D D D E E D E E D B D C E E D E C E D C E D E E\n",
              "[51661] E D E E E E E C C B A D C A B B B D B C D A E C C C D D E D E D D D D E\n",
              "[51697] D E E E B E E C B C C D E C C C D D E E D E C D E E E D C E E C D E E E\n",
              "[51733] E C C E E E E D E E E E E D E D C D C E D D D E E E D E D E E E C E D E\n",
              "[51769] E D E D D D E C E E C E E D E E C D E D E E E E D D C D D E E E E E E E\n",
              "[51805] D E D E D D D E D E D D D D D E C D E E D D D E D E E D B E D D D D C D\n",
              "[51841] C D D E D E E E D C E D D D D E E E E D C D E E E E E E D D D D D D D E\n",
              "[51877] E E C E E E E E C D E C B E D D E E D E E E D E E E E E E D C D E E D E\n",
              "[51913] E D E E B D D C B B E E E E E E D E E E E E E C C C C C C C C D C C C C\n",
              "[51949] C C D B B B B B E C D E E D E C D E C E E E D E E D D D E E E E E E C D\n",
              "[51985] E E D E E E E E D E D E E E C E D E C C E E E D E C D B D C D C C A B D\n",
              "[52021] A A B E D D E D D E E E E D E D E E C E E E D E D E D D D D E E E E D E\n",
              "[52057] E D E B C C C D E E C E A B C B C C C C D C C C D C C D D E E D D E D D\n",
              "[52093] C E D E D E B E C D E D E E E E E D E D E D D E E D C E D E D E D E E E\n",
              "[52129] D D E E E D D E D D E E E D E E E E D E E E E E E E D D C D C E D D E C\n",
              "[52165] C D E E E D D C D E D D E E E D D C E D E C C E D C D D D C C A C D E D\n",
              "[52201] D C D D D C E C C D C C D E B D C C B B B B D C B D D E D C C E D D D D\n",
              "[52237] E E E D D E E E C D D C E E D E E E E E E E E D E E D E E E D D E D E E\n",
              "[52273] C E D E C E C E D D D C E E D B D D E D D E C C D D E E E E E E E D E C\n",
              "[52309] C E E D E D D C C D D E E E E E E E E D E E E E E E E C C D E D C C D C\n",
              "[52345] A C C D D B C C E E D D D E E E E E E E E E D D E E D D C C E E D D E D\n",
              "[52381] E E D E E E D E E D E D D D E D D B D C C B E C E E D E C E B E D E B D\n",
              "[52417] D D E E C E E E E E E E D D E D B D D E E E D E D E E E E E D E E E E E\n",
              "[52453] E E D E E E D E D E E E D C E E E E E D D D D E E E E D E E E E E E E D\n",
              "[52489] E D D E C E E E D E E D E E E D D D E D D D E D E D D E E E E E E E D D\n",
              "[52525] E E E E D E D E E E E E E D D D E E E E D D E E E E E D E D D D E E E C\n",
              "[52561] C C B E B A D B C B C C C C C D C C C D B D E C D D D D D E C D B D D E\n",
              "[52597] D C D E E D B C B E D E E E E D E E C E D C E E E E E E E C D E C C E D\n",
              "[52633] D E D D E C E E D E D E D D C C D E B C C C E E E E D E D D E E E E E E\n",
              "[52669] E D E D E E E D E D D C E C C E E E E E E D E E E E E D E E E E E E D D\n",
              "[52705] E E E E E E D E E E D E C D B E D E D E D E E E C E D E D E D E D E D E\n",
              "[52741] D D D E E E E E E E E E E D B E A E B C B B C A B C A B C A B D D E D E\n",
              "[52777] E E E E E E D E E E E D E E D E D D D D D E C C C E E E E E C B B B B E\n",
              "[52813] D B C B C D B D D B C B A B A D A A B A A B C B E B B C B C E E E E E E\n",
              "[52849] E E E E E E E D E E D E E D E C C E D E E E E E D E E E E E E E E E E D\n",
              "[52885] E D D E E C E E D E E E E E E E D E D E E D C D C E D C C C E E E D E E\n",
              "[52921] E E D E D D C E E E D E D B E D E C C B C D D B B E D D D D C C D E D E\n",
              "[52957] C D D D E D B A B A B C C D D E E D D D E E D E E E D D E C D E E E D C\n",
              "[52993] E D A C C B C C B B E E D D D D E D D E E E E E C C E D C E E D D E E E\n",
              "[53029] E E E E D D E E D D E D D E E E D E D E E E E E E E E D E E C E D E E E\n",
              "[53065] E E E D D D E E C D E E E E D E E E E E E E D D E D E E E E E E E E E E\n",
              "[53101] E D E E E E D E E D E D E E E E C E E E E E D E E D D E D E E E E E E D\n",
              "[53137] E E D E E C E E C B C C C C C B E B B A C A B B D B E C B B C B C B D B\n",
              "[53173] E E E D C E E D E E D E D E D D E E E E E D D C E C D D D E E C D D E E\n",
              "[53209] E D E E E D D D D D C D E D D C D D D D E E E E E D E D E E C E D E C E\n",
              "[53245] E E D D E D E E E D E E D C E E E E E E D D B C D C A A E C C E B C B C\n",
              "[53281] B D B E D C E B C C C A D B C D D D D C C E D E D E D D D C E C B E E E\n",
              "[53317] B B E D C E D E E E C D E D D E D E E E E E C C D B B C C B D C B C E D\n",
              "[53353] E D E E E E E E D D D E E E D E E E E E E E E D E C D E D D C D D D E D\n",
              "[53389] E C D E E D D E E E E E C E D E C E E E E E E D E E D E D E E E E D D E\n",
              "[53425] E D C E D E D C D E C E B E D D D E E D D B D E B C A D C B B A B C E E\n",
              "[53461] E E C B B B C D C C D E E E E D C C C C E C D B B C B B B B C A E A A A\n",
              "[53497] E A C B A A A A B B C C E C D C E B C E C C D E E E E E E D E E E E D E\n",
              "[53533] E E D E E D E E D D E E D E D D E D D D E D E C D D D D D C C D D E D B\n",
              "[53569] C D D C B C E D C E D B D C E C C C B D E C D D E D C E E B D E C D C C\n",
              "[53605] E E C D E E E D D D C E D E E E E E D E D E D D D E E E D E C E B D D C\n",
              "[53641] C D E C E D D E B C D C D C E D E E D C D E C E E D E C E D D E C E E E\n",
              "[53677] C E D E E D D E A B D C E C E C D C D C D D C C B E C E E E B D C C D D\n",
              "[53713] B C C B D D C C C D C C D E E B D D C D D C C C E C D C D B E C E C D D\n",
              "[53749] D E E C D D B E D D C E D D C C E C D E C D D E E D E D E E E E D E E E\n",
              "[53785] E E E E E D E D D E D E E E D E E C E E E D E E E D E E E E E E E E E D\n",
              "[53821] D C D E C D E E E D E E E C E E E D E C D E E E E E E E E D D D C E E E\n",
              "[53857] E D E E E E E E D E E E C E E D E D D D E D D D D D D E E D C C D E D D\n",
              "[53893] D E E B C E D D E D D D E B B A A A D D D D E B D B D D D C C B B A C D\n",
              "[53929] C E A B C D C D D D D C D C D C B B B C D D E E E C D C E E D C E E D D\n",
              "[53965] E C C B D D C A C C C C D C B B C C E E E D D D A B D C B C D E D D D D\n",
              "[54001] D C D E E D D C D D D D C E C D C C C D C C E A B B C B A C C E D E D D\n",
              "[54037] E D E C E D E D E D E D E D E E C C D E E D E E E D E E E D D E E D D D\n",
              "[54073] C D E C D E E D D E D E E E E C D E D E D E D E D C E D D D B A B C B C\n",
              "[54109] C D E D D D B B D E E D E D E E E D E D E B E E E E E D E D D D E E D E\n",
              "[54145] E D E B E D C C D C E E D E E E D E D E D E C C E C E E E C E E C E E D\n",
              "[54181] E E C D D B E D C D A B B C B C D B B C B C E C B C A C D B E A A A B A\n",
              "[54217] A B C B D E C D C D C E D E E D D D D E E E E E E D B E D D E D E E D C\n",
              "[54253] D B C D E D E E C D E C C D D D D E D D D D D D D D D D E D E E E D D B\n",
              "[54289] A D B D A C B B C D D B A C C C D B E D E D E E E E E D E E D D D C E D\n",
              "[54325] E E D D E D D E C E E E E E E D E E E E E E E E E E D E B E D E E E D E\n",
              "[54361] D E E E E E E E E E E D E B D E E E E D D C E C D D D D D B E C B C C D\n",
              "[54397] D E C E E D E E D E D D C C E D D E D E E E E E E E D E C E D C E D E E\n",
              "[54433] C E E E C E E E E E E D E D D C D E D D C D E D B D D D E D C B D D D D\n",
              "[54469] D E E E C E C E D D E D E C E E D B C D E D D E C D D D E D D E D D D E\n",
              "[54505] E D E D E D E D E E E E E E E D E D C C C D E D D E C E E E D E D C B D\n",
              "[54541] C E E D E E D E E D E E C E E E E D E E E E E E E D D E D E E E E D D C\n",
              "[54577] D E D E D E D D C E E D E E D E E E E D D E D D C E D E E D D D E E D E\n",
              "[54613] D D D D D D C D C E E D E E D E E E C E D D D D E D D C A E D E D E E D\n",
              "[54649] D E E D E E E E D E D B D E D D E D E C D E E D E E D E E E E E E E E D\n",
              "[54685] D D D E D E D D E E D D E D D D E D D E E D C D D C D D E E E D D D E E\n",
              "[54721] E E E E D E E D E C D D E E E E D D D E E E D C E E D E E C E E E D D D\n",
              "[54757] E D E E E E E D E E E E E E D D E C C D D C D D E E D E E D D E E E D E\n",
              "[54793] C E E E E D E E E C C E E E E E D E E D D C D B E D E E E D E E E E E D\n",
              "[54829] D E E D E E E D D C E E D B D B E E D D E E D D C C E E E E D D D D E E\n",
              "[54865] D D E E E E D E E E E E E E D D D D E E E D D D D D E D C E D C D E D E\n",
              "[54901] D E E C D E C C E E E D E D E D E E E E D E E E D E E E E E E D E E E E\n",
              "[54937] E E E E D E E E E E E D E E E E D D E E D D D E D E E E E E E E E E E D\n",
              "[54973] C D D D E D E E D E E E E E E D D E E D E E D E E E D E E D D D D D E D\n",
              "[55009] E C D C D E B E E E E C D E E E E E E D C E C D E E D D D E C E E D D D\n",
              "[55045] E E E D E E D C E E E E D D D E D D D D E E E C E D E D E E D E D E E E\n",
              "[55081] D D E E C C E E E E E E C E E D C B C D C D B D D D D E E E E E E D D E\n",
              "[55117] E E E E E E D D E D D E E E E D C D E D C E D E E D D E D D E C D E D D\n",
              "[55153] D D E D E D C D D E E D E D D E E C E E E D C D E D C D A D E E D D C E\n",
              "[55189] E E D C E E B E E E E E E E D E E E E E E E E E E E D C B E E E B E D C\n",
              "[55225] E E C D C E D E E E D D E D D E D E D E D C E C E D C D D D C D D D E E\n",
              "[55261] E D E D E E D E E D C E E D E E E B E D D C E E E E D D E D C E D D D D\n",
              "[55297] E E E E E D E E E D D E E D D D D D D C E D D D E E D E E E E D D E E E\n",
              "[55333] C D D E E E E E C E E E C D E D E E E E E E E E E E E D E D E E E E E E\n",
              "[55369] E E E E E E E E E E E D D D D E E E E B E D E C D E E E D D E E D C E D\n",
              "[55405] E B D D D E D D D D E E E D E D D D E D D E C D D E E D D E C E C E D E\n",
              "[55441] D E E E E D D E D E D D D E D E E D D C C C D E E D C C C D C E C D D E\n",
              "[55477] E E D D E E E E E D D E E E D E D E E D E E E E E E D D C E D D E E E E\n",
              "[55513] E E E E D D D D C D D E D D D E D C D C D C D D D D C E D D D E D D E D\n",
              "[55549] C D D E E E E D D E E B D E E D E D E B D C E D D D D E E D E E E E E D\n",
              "[55585] E E E D E D D E D E D E E D E A E A C C E E E D E E D D E D E C D E E D\n",
              "[55621] E D E E E E E D E E D C C D D C D B D E D D D E D D E C D D E E C D D D\n",
              "[55657] D C C D D E B C C E C C E E E E D D D D E E C E E E C E E D D D D E D D\n",
              "[55693] E E D D E D D E C E E D B C B D E E C C C E C E D D B E E D E C E D E D\n",
              "[55729] D E D E D E E D E D E D C D E D D D E E E E E D E E C D E A E C C B D C\n",
              "[55765] E C D A E E E E E C D B E C E E D D E E D E E E E E C D E E E E E E E E\n",
              "[55801] C E D E E E C D C E C D E D D D D C D E D D E C E E E E D D E E E D E E\n",
              "[55837] D C E D E D E E C D D E D C C D D D D E D D E D E D D D E D D D E E D D\n",
              "[55873] D E D D E D E E D D D D D D E E D E E D E D D D D D D C D E E D E C D D\n",
              "[55909] E E D D D D D D E D E C E D D C D D D E D E D D E E E E D E C D E D D E\n",
              "[55945] D E E E E E E E C E E E D B C E E C C E E E D E E E E D E E D E E D D E\n",
              "[55981] C E D E D D E E E E E E E E E C D E B E C D E E E E E D E E E E E E E E\n",
              "[56017] E E D E E E E D E E B E E E E E E E E D C D D E B E E D E D C E E E E E\n",
              "[56053] E E D E D D D D E E C C D E D D B E E D E C C C D C E B D C C D A B C D\n",
              "[56089] E D C D C D B C B C B B C C D C D C B D D B B A C B A C C A A B C E B B\n",
              "[56125] C C A B C A B B C C A A B C A C B A E C B E C A B B B C A B C C A D D B\n",
              "[56161] A C B D E D E E E E D D E D D E A D C B D D C D D D D C D E E E E E E D\n",
              "[56197] E D E C E C C D C D E C D B D D E E C C E E C D B B C E E E C E E C D D\n",
              "[56233] A C D C E B D C E B E A D D E D C E C D C C C D D E E D E E B C E D D C\n",
              "[56269] C C C D C E E D E D D E A C C C E E E D C D E C C C E D E E E E E C C D\n",
              "[56305] D D D D D D E E D E E D E C E C D D E C B D D D E C C C E B D A B A D D\n",
              "[56341] D E E C E E D B C B C C C D E E C D B D D E C B C C D C E E D C C B C E\n",
              "[56377] B E E E E D D D C B E C D C E E E D D B E E E C E E C C E B D D C E D C\n",
              "[56413] D D D E E D D E C D C C C D D D E C C D C D C D D C D D D D E C C D D D\n",
              "[56449] E E E E D E D D E D E C D D E E D B C D C C D C C E A C E E D E D D E E\n",
              "[56485] D D C C C C E E E D C D E C D E D D C A B C E D D D D B D D D C D C D B\n",
              "[56521] C D D E D E E D D D C C E D C C E E E E C C B B B E D D D D E D E D E E\n",
              "[56557] D D D D E E D D D C E D E E E D C D D C C E E E D E D D E E D E E B D D\n",
              "[56593] E E D D D E E E B D D D E E D C E D C C D C C C C C C C C C C B D C C C\n",
              "[56629] C D B E C E D D C A A C B B B C C A C A C B A B D B D A B B B B D E E E\n",
              "[56665] C C E D E B C B B C B D D C C E D D D D B C E D B D D D C C D D D E C C\n",
              "[56701] C E D D E E E C D C E D E D D E E D E E E D E D D D C D D C E D E E E D\n",
              "[56737] E D D D E E D E D D E E C E D E D A C E C E C B D C B C C E C E D E D E\n",
              "[56773] E D D D D E E E E E B D E D E E E D E E D E E E E E E D E B C C E C C D\n",
              "[56809] C B E D E D E D E C E E D C C C E D E E D D D E E D D D D E E C D D E D\n",
              "[56845] E E D E D E E E E D C D E D E E E D D E D D E E E E D D E D E D E E D E\n",
              "[56881] C D E C E E C E E E E D E C D D D D C D B D D D D E E C E D E C D E C E\n",
              "[56917] C C C C B D E E E D E D E D C C E E E D E D D D D C E D E D D E D E E E\n",
              "[56953] E E E D E D E D E D E E D D D E E D D E E D E E E E E E E E E E E E D D\n",
              "[56989] E E E E E E E E E E E E E D C D D E D D D D E E E E D E E E E C E E E D\n",
              "[57025] D E E E E E D E D E E E E E E E D D D E E E E E D E E E C E E E D E E E\n",
              "[57061] C E E C E E E D C C D E E C C C E C D E E D E E E D E E E D E E E E E D\n",
              "[57097] E E D E D D D E E E E E E D E E D C D E E D D E D E E E E E E E E E E E\n",
              "[57133] E D E E E E D E D E E E E E E E E E D E E D E E E E E E E E E E E C D E\n",
              "[57169] D D D E E E D E D C D D D D E D E C E E C C E E E C E E D E E B C D E D\n",
              "[57205] E E D E E E D E D E E E D E D E D D E D C E E E E C E D E E D D E E E E\n",
              "[57241] E E D E E D E E D E E D D C E E E E E E E E E D E D E E E E E D C E E E\n",
              "[57277] D E D E E E E D E E D E E D E C E E E E E E D E D D E E D C E E E E E D\n",
              "[57313] D E D E E E D E E D E E D E E E D D D E E B E E D D D D E E D E E E E E\n",
              "[57349] E E E D E E E D C D D E E B D D C D E D E E D D E D E E E E E E E D D E\n",
              "[57385] E E E E E C E E E E E E E D D D C E E D D D E E C E E E E E D E B C D C\n",
              "[57421] E D E E D E E E C D E D E E E D E E E E E E E E E E E E E E E E E E E B\n",
              "[57457] D E E C E C E E E E E E C E E E E E D E E E C E E E E E E E E E D D E D\n",
              "[57493] E C D E C D C E D D E E E E E E E D E E D E D C E E A E E E D D D C E E\n",
              "[57529] D D E E C D E E D D E D D D E D D D D D D E E D E E D E E D D E D D E D\n",
              "[57565] C A E B E E E E E E C E E E E C D E D B D D D A D E D D C E E C D E E D\n",
              "[57601] E E C E E E E E D E E C C D D B B A C C C D D E D E C E E E E D C D D E\n",
              "[57637] E E E E E E E E E D E D E D E E E E E E E E E C E E E D E D E E E B E D\n",
              "[57673] D E E E E E E B E E E E E E E E D E E E D E C D C E D E E C E D E B E E\n",
              "[57709] E D E E C E E E E C B E D D E E E E E D E E E E C E B E E E D E E D E B\n",
              "[57745] C C E C B B E D B B E E D C B E D C E E E E E D C E E E D C E C B E E C\n",
              "[57781] D E E E E C C E C D E C C D E E E E E E D D D D D D D E E E E E E E C D\n",
              "[57817] D C C C D C E D B D E E D E E E E E E D C E D C E B D C D E E E B E E D\n",
              "[57853] C C E D C E C E E D C E C E D E D C C E D E E E D B D E E E E E E E E E\n",
              "[57889] E D D E E D E D D E D E D E C C E E E D E D E B E E C E D D E C C E C D\n",
              "[57925] E D C E D D D E E D E E D E D E D E E E D D D E E E E E E D E D E D E E\n",
              "[57961] E E D E E E D E D E E E C D E D C B C E D B D E D C E C E E D C E E D D\n",
              "[57997] B C A C E E C A E C E E C E E C E E C E E D E E C C C B C D D E D D D C\n",
              "[58033] E D C E D E D E C D E E E E E E D E E E D D E C E C E D C D D C D E E D\n",
              "[58069] D E E E E E E E E E E E E E D D E E E C D D E D E D E E E E E E D D E E\n",
              "[58105] E E E E D D E E D E E E E E E D E D E E B E D E E D E C E E E E E E D E\n",
              "[58141] E E E D D D D E D E E E E D D E E D E E E E E E E E E E E E C E E E E E\n",
              "[58177] E D E E C E E E E E E E E D E E D E E E E E E E E E E E E E E E D E C E\n",
              "[58213] D E E B E E E D E C D E C A E E C E E D E E D E E E E E D E D E E E E D\n",
              "[58249] E E D E E E B E E C C E E E E E E C E E E E E D D E C E E E E D D D E D\n",
              "[58285] D E E E E E E B E E C E D D E E E E E E E E E D E E E D E E E D E E D D\n",
              "[58321] D C D D D E D E E D E D C E E D E D D E E E E D C C E C D E D E E E E E\n",
              "[58357] E E E C E E E C D E D E E E E E E E E E E E E E E D E E D D C D E D D D\n",
              "[58393] D E E D D D D E E E E D E E D C D D B E D E B D D D C D D E D D D E E E\n",
              "[58429] C C E D E B D D C D E E C C D E C E E D C E D E C D D E C E D E D D E E\n",
              "[58465] E D E E E C D C C C D D E E E E E E E E D E C D E D D C E E E E E E E E\n",
              "[58501] E D C E E E E E E D E E E E D E E D D D D E D D E D D E D E E D E D D D\n",
              "[58537] E D E E E E D E E E D D E E E E D D E D D E E D D E D E D D E E C E E E\n",
              "[58573] E E E E E E C A B B B A A C A B A E D E E D E D D D C D C E D C E E E E\n",
              "[58609] E D D C E D D E E E E E E E E E E E E E E E E E E D C E D D E E B C E E\n",
              "[58645] D D D D E E E D E D C D E A E C E E D E E B E E E E E E E D E E E D E E\n",
              "[58681] D E D C D E E E E E D E E D D C D D E E E E E D D C D D D D E E D D E E\n",
              "[58717] E D E D D C E E D E D E D D D E E E E E D E D D E C E E E E E E D D E D\n",
              "[58753] E E E E E E E E E E D E E E E C C D E C B E C E E C C E D B D B E D E E\n",
              "[58789] E E E E E E E E E E D D E E E E E E D E E E C D D E D C D E C E C D E D\n",
              "[58825] C E C D D E E D E E C D E C E E E E E E E D E E E E E D E E D C E D D E\n",
              "[58861] E E D D E E E C E E E C E D D E E E E E E E D E E E E D E E E E E E D E\n",
              "[58897] D E D E C E D E D D E E E E D E E E D C C D D D E D E E C D E E E E E E\n",
              "[58933] E D E E E D E E D E D D E D E E E E E E E E D E D E E D E D C D E E E E\n",
              "[58969] E D E E E E E E C E E E E D D E C C C E E C B E C C D D E E E E D E E E\n",
              "[59005] E E D B E C C E B C D C B D D D C D C D E D C D E D C C C E D D D C D D\n",
              "[59041] E D E E D D B D D C E D D D E D D E D E E E E E E D E D C E E C E D E D\n",
              "[59077] E E D E E D E D D C E E E D D E D E C E D E D D D C E E D C D D E E E D\n",
              "[59113] E C E E C E D D E D E B E E E E E D D D D E E E E D E D C E C C E E E E\n",
              "[59149] D D E E E E C E E E D D E D E E E E E E D E C E E E C E E E D E D E E D\n",
              "[59185] E E E E D C C E E E E D E E E D D E D E C D E D E E E E E E E D E D D E\n",
              "[59221] E D C E D D D D D C D C D E E D D E D E E D D D D D C E D D C D D E E E\n",
              "[59257] D D C D D E B E C D C D C C B E C E D E E D E E D E E E E D E E E E E E\n",
              "[59293] E E E D D E E D D E E E D E E E D E E E E D D C C D E B E E E E E E E E\n",
              "[59329] E E E E E B E E D E D D E D E E E D E E E E D E E E E E E E E D E E E E\n",
              "[59365] E D E E E D E E C B E E C D E E E E E E E E E E D D E E E D E E D E E E\n",
              "[59401] D C E C D C C E C C D E D E E D E D D E D D E E C C E C A C A D D D D E\n",
              "[59437] E C C D E D E C E D D D C E E E E D E D E E E D E D E E E D E E D D D E\n",
              "[59473] E C E D C E E E D D E D E D D E D E D D D C C C E D E C C C C E E E D D\n",
              "[59509] E E E E E E D E D E E E E E E E E D E D C E E E E D D E D E E E C C D E\n",
              "[59545] E E D D E E D D E E C D E E E E E E C D E E D E D D D D E D D E D E E E\n",
              "[59581] D D D D E E C E D C D D D D E D D D E E D D D D D C C E D C E D E C E E\n",
              "[59617] D D D D D D D E D E D D D E D E D D E D D E E E C C C D B C D E B C E D\n",
              "[59653] E B D D C E C D E D D D D D E D E D D C D E D E D E C C E C C D E E C E\n",
              "[59689] E E E C E D C E E D D E E E D E E C D D B D E E E D D D E C B C E D D C\n",
              "[59725] E D C D D E D E D D E D C E D E D D E C C E D E C E D D D D C C D E C C\n",
              "[59761] D E D E E E E C D D E E D E D D D E E E C E E D C D D D E D E D C D E C\n",
              "[59797] D D C E C B D D E D D D E C D D D D D C E D D E D E D E D D E D D E D D\n",
              "[59833] E E C D E D D D D D D D C D E D D D C E B B C C C D C E D D E D D D D E\n",
              "[59869] E C D E B C E E E C E D E E E D E D D E E D D C C E A D C D E E D E D E\n",
              "[59905] E E D E D E E D E E D D E D E C D D E C C E E D B D E E D D E C D D D C\n",
              "[59941] D C D D C D C E D E C D E E E E E E D E E E E E E E E C E D E D E E D D\n",
              "[59977] D D D D E D E E E E D C C E E D D E E E C A D D A A B B C D E C C E D E\n",
              "[60013] C E B C C C E C D E D E E C E E E E D D E E D D E A D C D E B E D D E D\n",
              "[60049] D E D D E D D E D C D D D D D E E D E D E E E D E E D E E E D E C D E E\n",
              "[60085] E E E D E E E D E D D D E D E E D E D E E E E D E D E E C D C D E E D D\n",
              "[60121] E E D C E E E C D E E E E E E E D E D D E D E E D C C D E D D D D E E E\n",
              "[60157] E E E D E D E D E E E E E E E C E D E E E E E C E B E D E E C D D A E D\n",
              "[60193] D D D D D B D C C C E D C E C E D D D A B C C D E D E D E C C E D D B C\n",
              "[60229] D B E E C B C E D B C C C D D C D E C A C B C D B C C E D D C C E E D D\n",
              "[60265] D B E D D C C D B C E E D E E B B B E C E E E C E E D E E E D E E E E D\n",
              "[60301] E D D C E D D D E C E E E E E D C E D D D E D D E D D D E D E D C E E D\n",
              "[60337] D E D D E C E E E D D D E D C E E E E D D E C D E E D E D D E D D E C E\n",
              "[60373] D C D E D E D D E E D E D E D E D D D E D E D D C E D C C E E D E B E D\n",
              "[60409] E D E D D D D D E D D D C D D D C D E D D E E E E D D E D D C C E E D D\n",
              "[60445] D E E E D E D D E E E E E D E E D E E E E E E D E E E E A E E E D E D E\n",
              "[60481] E E E C D D E E E E E E C E D D E E E E D E E E C E E E E D C E E C E E\n",
              "[60517] E D C E D E E D C E E E D C E D E E E D E E C E E E E E D E E E E D D D\n",
              "[60553] E D E D E E E C D D E D E D E D E D E E E E E E C B C D E D E C C D D D\n",
              "[60589] E D E E D E D E E D E D D E D D C E D C D E E D C D C E D D D E D C E E\n",
              "[60625] D D E E D E D D C C D E B C C D E E D D C E D D D D D D D C E E E D E D\n",
              "[60661] E E D D D E E D D E E D E D E D C C C D E E D D C D D E E E D B E D D E\n",
              "[60697] D E D D C C C D D E D D E E E C E C C B D D D E C D D C D D E E C D D E\n",
              "[60733] C C E D C C C C C E C E D E E E D E E E E D C D C E E D E E E E D D D E\n",
              "[60769] E C D E E D C D D E E C D D E D D E D E E D D D D E D D D C E D E D C E\n",
              "[60805] E E C D D D D E E D E E D E E D D E D E E E D E E E E E E D D C C A B D\n",
              "[60841] C B C B E C E D C D D D E C D D C D D C C C E E D E E D D D E E E D D E\n",
              "[60877] C E D D E A D E C E D E E D D D C E B E A C C E C E E C C E E E E D C E\n",
              "[60913] C B C D D C E D D E C E E D D D D C E D C D C E E E E E D E D D D C E E\n",
              "[60949] E D D E D D E E D E E E E D D C D D D E C D E E D C E E E E E D E D E E\n",
              "[60985] D E D E D E E E E E E E E E D E E C E E E E E E D E E E E E D E E D E E\n",
              "[61021] E E E E E E E C D D E D D E D E E E D E E D E D E C D C D C D D E C D C\n",
              "[61057] D D E C D C D E D E E D E C E D E D C B C B D D C C C B D D C C B C D E\n",
              "[61093] C E E C C D C C C D E C D C E E B E E E E E E E D C E D D E E E E E D E\n",
              "[61129] E E E E E E E E E E E E E D E E D E E E E E E D E E E D E D E D D D D C\n",
              "[61165] D A C C B D D D E E E D E C E E D E E D E D E E E E E D E E A D C E C D\n",
              "[61201] E E E D D E D E E E E E C E D E E E E C E E E E D E E E D C C D E E D D\n",
              "[61237] C E C D D E D D E D D D E E E B E D E E E B C C D C E E C B E E D E E D\n",
              "[61273] E C E D D E E D C D D D D D D D E E D E E D D C D E D E D E E D D D E E\n",
              "[61309] D D D C D B E E D E B D C A D D D E E D D D E D C D C E D E D D D E E D\n",
              "[61345] D D E B E D E D D C C C C D C B E D D D D E E E E E C D D D E D B D E C\n",
              "[61381] C E C D D E E E E D D E E E E D E D C D C D E E B D E E B E E C E D E E\n",
              "[61417] E D E C E D D E E D D D C C D C E D C D C E E C D B B E E E E E E E E E\n",
              "[61453] D E D C D D E D E C C C E D E D C E D D E C C D B D C E C C D E D E B C\n",
              "[61489] D C E C E E D E D D C D E D D E E E D E D E D E D E E E D D E E E E E D\n",
              "[61525] E C E E E E E D D D E E D D D E D E B D E E D D E E E E B E D D E D E D\n",
              "[61561] E E E E E E D D E E E E E E E E E E E E E E E E E E E E E D D C E C E E\n",
              "[61597] E E E E E D D E D D D E D E D D D C E E E E C E D E D D D B C D E D C D\n",
              "[61633] C C D D D E D C C C E D C D D E D D E E D C D E C B B D E E E E E D E E\n",
              "[61669] E C C C E D C E E D C D E E D E E D E E D E E E E E D E E C D E E E D D\n",
              "[61705] E E C E C D D D E D E C E D E C E D C E D D C D E D E E E D E E D D E E\n",
              "[61741] E D D D D B B E E E E D E D D E E E E D D D E D E E E C D D D D C E D D\n",
              "[61777] C D E E E E D E E E E E E D E D E E E E D D D D D E E E E E E E E E B D\n",
              "[61813] D D C E D D E E C E D D E E C E E E D E E E D E D E D D D E D E D E E E\n",
              "[61849] E E D E E E E E E D D E E C E E D D D E E E E D E D E D E E E E E E E D\n",
              "[61885] D E D D E E E E E E E E E E D E E E E E E E E E E E D E E E E D E E E E\n",
              "[61921] C D E E E D E E E E E E E E D E C D E E E E E E D E C E C D D C E E D E\n",
              "[61957] E D C E C C C B C B C D E E E D D D E D D D E D D E E E C D D C E C E E\n",
              "[61993] E E D E C D B C E E D D C D E D B E E D D D D D D D E D E E D E D E E E\n",
              "[62029] D E D D E E D E E E E E E E D D E E E E E D D E E E E E E B E E E E E E\n",
              "[62065] E D B C C D E D C D E D E E E D E D E E E E E E E E E E E E E E E E D E\n",
              "[62101] E E D E E E E D D E D E E D C E E D D E D E D E E D E E E E D D C E E E\n",
              "[62137] E E B E E E E E E E D E D E E E D E E E D D C E D C D E E D E E D E E E\n",
              "[62173] E D D D C E E D E E E E E D E E E C D E C E C D C E D E E E D E E D E D\n",
              "[62209] D D D E D E E D E E E E E E C E E D D E C E D D E D D E D E E D D D C E\n",
              "[62245] D E D E D E D E D C E C E D D D E E E D D E E E D E E C E E E D E E E E\n",
              "[62281] D E D B C C C E C A B C C E D E D E E D D E E E E C E D E E E D C B E E\n",
              "[62317] E E E D C C E C E D D C D E D E D E D E D E E E E E D E E E E E E E E D\n",
              "[62353] C E D E D E E E C E E D E E E D E E C D E C E C D E C E D E E E E E D E\n",
              "[62389] D E E E E E E E C E E E E E D E E C E D E E D E E D D E E D E E E E E E\n",
              "[62425] E D C E D E E E E E E E E E D D E E E E E D E D E E E E E E D D E E D D\n",
              "[62461] D C C D E D D D E E E D D C E D E D E E E C D E D E E E C D C C D E E D\n",
              "[62497] E E E E E E E E D D D E E E D E D D D E D E D E E D E D E E E E D E D D\n",
              "[62533] E E D D C E E D C E B E E E E E E E C D D C C E E D D E D E D D D E E E\n",
              "[62569] E D E D E E E E E E E E E E E E E E E E C B E D E E E E E E E E E D E E\n",
              "[62605] E D C E C D D D D E E E D E E D C D D D D C E E E E D E D D D D E D E D\n",
              "[62641] B E D D E E C E E D E E E E E E D E E E E E E E E E E E E E E D E E D E\n",
              "[62677] E E E E D E D D E E E E D D E C D D C E E D D C D E D D D E E D D E E D\n",
              "[62713] E E C E D C C D E E E D E E D E C E E E E D E E E E E E E D E E C E E C\n",
              "[62749] C E E D D C C D C E D E D E C E D E E E D E E C D D E D E E D D D E C C\n",
              "[62785] C E C E C D D C D C A C B C C C C C B D D E E E E E D E E C E E E E D E\n",
              "[62821] E E D E D D C D D E C E E D E D D C D E E C E E C E C E D E E E E E E E\n",
              "[62857] E E E D E E E C D E C D C E D D E B E C D D D C D C E E E E E C E E E E\n",
              "[62893] C B C C E C E C D D D D D C D D E D E B E D E D E E E D E E E E D D E E\n",
              "[62929] E E E D E C E E E E E E E E D E C E D C C C E D D E E E E D D D C E D E\n",
              "[62965] E E E E C C E E D E D D D D D D D D D E E D E D E E E D E E E D E E E E\n",
              "[63001] E E D E E E E E E E E E C E E C E D E E E E E D B D D C B E E D E E D E\n",
              "[63037] E D E D E D E B E E E D C E D D E D D E D E E D C D E D C D D E D E E E\n",
              "[63073] C C E E D E E E E E E E E E E E E E E E E E E E E E E E E E C E E E E D\n",
              "[63109] E E E E C E E E E D E E D E D E E E E D E E D E D C D E E E E E E D E E\n",
              "[63145] E E E D E C E D E D A E D D E E E E E C E E E E C E C E E D E E D E D D\n",
              "[63181] E E E E B E E C E E E E D E D D D C E E D D D E D D E E D D D D B A E C\n",
              "[63217] C D D E D E C D E E E D E C D E E C E D E E C E E E E D D D E D B D E E\n",
              "[63253] E C E D C D E D E D E E D C D B E D E E C D E C E D D E E E E D E E E E\n",
              "[63289] E E E E E E E D E D E E E E E E E D E E E E E D E E D D D E E C E B E E\n",
              "[63325] E E D E D E E E C E C E E D E E C C E E E E D E E E D E E E E E E D E C\n",
              "[63361] B E E E E E C C D E D C D C C C D C E D D E E E C E D E D D E E E D C E\n",
              "[63397] D D D D E E D D E E E D E D D E D E E E E E D E D E D D D D D D D E E E\n",
              "[63433] D E D E D E E D D D E C E D D D E C D E D E D D D E D E D D E E D D C E\n",
              "[63469] E D E E D E E E D D E E D E D E D D D D E E D D E D E E E E E E E D E D\n",
              "[63505] E D E D E E E E C D D E E E D E E E D E D E D E C E E E D D E D E E D E\n",
              "[63541] E D E E E D E E C E D E D E D D E C E E E E E E E E D D E D D D E E D E\n",
              "[63577] E E E D E E E E E D D C D C C C C D B D C C E E E E D E C D E D D E D E\n",
              "[63613] E E E E D D E D E D D D E E E D E E E E D E B E E D C E E E E C E E E E\n",
              "[63649] E E D E E E C B D A E E D E D D E E E E C D D E E D E E E E E E E E D E\n",
              "[63685] E E D E E E C D D E E E E D D E E D E D E E E E E E D E E C D E D E E E\n",
              "[63721] D E D D D D E E E E E E E E C C C E C E E E C D D D E E E D E E D E E D\n",
              "[63757] E D D E E D A E E E D E E E E E E D D E C E D D D E C C E E E D D E E E\n",
              "[63793] E E C D D E E D C E E E E E E E E D E E E E E D C E D D E D D E E C E D\n",
              "[63829] E D B E D E D E D E E E E E E E E E E E E E E E E C B E E E E E D C D D\n",
              "[63865] E E E E E E D D C D D C E D D D E D E B E E B E E D D D D C D E D D D E\n",
              "[63901] E D D C D E D E E E D E E D E E D D D E E E E E D D E D D E C C B E C D\n",
              "[63937] C C C E C E E E E D E E E E E E E E D E E E E E D E E E E E E E E E E E\n",
              "[63973] E D E E E B E E E E D D E E E E E E E E E E D D C C E D D E B E E E C C\n",
              "[64009] C C D E E D C E E D E E E E D E E D D D E D D E D E E D E E E E E E E D\n",
              "[64045] D D E E C E C E E E E E E E D E C C D D E E D E D E E C E C E E D E E D\n",
              "[64081] E D E D E E E E E D E D E C D E C E E D E D E E E E E E D E E E D D D E\n",
              "[64117] D D D E D C B D E D C E E C D E C E D D D C D E E E E E E E E E D E E D\n",
              "[64153] D E E E E C E E E D E C E E E C D C C E D C D E D E C D B E D D C E E E\n",
              "[64189] D D D C C E E E E E D C D E D E E E E E D E B E B E E E D E D E D D D C\n",
              "[64225] D E E E D E E D E E E E D D E E E E D E E D E E D E E E E E E E D C D E\n",
              "[64261] D C E E E C B E E E E E E E D D E E E E E E E E E D E D E E D B E E D E\n",
              "[64297] E E E E E D E E E E E D E E E E C E E C C E E D E D E C E D D E D C E E\n",
              "[64333] E E E E E E E E E E E B C E E B E E E C C D E D E E E E E E D E D D D E\n",
              "[64369] D E E D E E E E E E E C E E D E E C D E E C E E C D E D D D D E E D D D\n",
              "[64405] E D E E E E E E E E E E E E E E E D E E E E E C C D E E E E E E E D E D\n",
              "[64441] D E E C C D E D D D E E C E E E D E E D D E E E E E E E D D E D E D E E\n",
              "[64477] E D E D E E E D D E E E D D D E E D D E E D E D D E E E E E D E D D E E\n",
              "[64513] D E E E E E E D E C C E D E D E E E E E D E E E E E E B D B C C C E B B\n",
              "[64549] C E D D C D D D C E C D D E E E D C B E E D E E D E D D D C E E D E D E\n",
              "[64585] D D E E E D D E C E E D C E E E D E C E D E E E E D D E E E E D E E E E\n",
              "[64621] E C D D D A E D D C C E E E E E E D E D C D E E E D D E E D E E D D E D\n",
              "[64657] E E A B E C E D E B E C D B E E E E E E E E C E E C E E E E E E E D E E\n",
              "[64693] E E E E E B B D E D E E D E E E D E E E E D E E C E E E E D E E D D E E\n",
              "[64729] E E E D E D C C E E E E D D C E B C C B B D E C D D C E C D C C E D E E\n",
              "[64765] E B B C C E D C D E D C C E E D E E B D C C D C C C E C C D C C C C E B\n",
              "[64801] C D C E D D D E A D D C D C D C E B C E C B D E B D C D D C E D B C C D\n",
              "[64837] D E E D D D C C D C B B C E B B D D B E D C B C D B B A D C B C C D E C\n",
              "[64873] E C D C C C C C C C E A C C D E C B B B A C C D D C E C E B B B C B D D\n",
              "[64909] B B A B A C E D E E D D E E E D E E B D B E D E C D D E E C C D C E E E\n",
              "[64945] E C D E E D D D E E E E E D E C D E D D D C D D C D D D C C B C C D D D\n",
              "[64981] C B D B D C C C E D C B C E D E E D D D E E D E E E E E E E E E D D D D\n",
              "[65017] D C D C E E E D E E C E B E E E C C D C E E E E E D D E E D E E E D E D\n",
              "[65053] E D E D D E D E E E D E D D D A D D E E D D E E D E E E E E B D D C E E\n",
              "[65089] E E D D C B D B D C E C E D E E E E D E D E E E E D E E D E C D E C D E\n",
              "[65125] E E B E E E E D E D E E E E E E D C D D D E E D D E C C D D E B E E E D\n",
              "[65161] D E E E D D C B C C B B C C C E B D B B E C C C E A B D C B A A B A E E\n",
              "[65197] A C C A D D D C C E D E D B D D B C E E E D E E D E E D D E E E E E E E\n",
              "[65233] D E D D D E E E D E D D C D C D E E E D E E D E E D E E E B D E D D E E\n",
              "[65269] E E C E D E B C E D D C E C B E C D C D C E D D E D D D D E D A C E D E\n",
              "[65305] E D D C E C E E C E E E D D E E E C D E B E E E E C D D C E E E D E E E\n",
              "[65341] D D E D E D E E D E E E E E E E E E D D E E E D D D E E E E E D E E E E\n",
              "[65377] E E C E D E E E E E B E E E E E D D E E E D E E E E E D D E E D E C D E\n",
              "[65413] D D D D E D D D B B D E C B E D E D E D E E E D E D E E E E D E B E D D\n",
              "[65449] E D E C E E C C D D D C D C E D D D E C C D E B B D C B C D D B C E A B\n",
              "[65485] A B C A A E E A D B C E C E C E E E C C D D E E E E D E E E E D D E E E\n",
              "[65521] E E E D D E E E E B E D E E C E E E C D D E D D B B B B C D B E E C C D\n",
              "[65557] E E E E D D E D E E E E E D D D C E E C E E C E D D E E D D E D D D E E\n",
              "[65593] E E E E E E E E E E E C E C D C D C D E C C C B E C B D C C D C C D E E\n",
              "[65629] E E E E E E E E D C C C C D E E E B B E D B C C D C D B E B C C D C E D\n",
              "[65665] D C C E D E B D C E C C A B C D E D C C B E C D E C A E C B D A A C B B\n",
              "[65701] C A A E B A B E B D B B A E B D D D C A A D B A C C A B D B E A B B D B\n",
              "[65737] D C C B B C B D C E B B C E C B D C C B B C D D E D B D A C B D B C D B\n",
              "[65773] C D D B E E E C D E E D C C C E E D D D D B C D C D C D C A D B C E D D\n",
              "[65809] E E B E D B A A A A E D D C D A A A A C C E B E E C C B A D E D B C B B\n",
              "[65845] B D E E D C D C E D D B E E E B D D D D C C D B B D C E D D C D E C E C\n",
              "[65881] D E D E E E E D C C C C C C C C D A E E D B B E B B D C B D E E C B E C\n",
              "[65917] D E D D E D D E C D E E E E C C D E E D D E E E E E B E E E E D E D D D\n",
              "[65953] D E D E C E D D C D C E E E D E E D D D E C E E D E E E E E E D D D D E\n",
              "[65989] D E D D D E E E D E C D E E E C E E C D C D E C C E E E E C E C C E E E\n",
              "[66025] E D D E D E E E E D E E C E E E E E E D E C E E E D E D E E C D D D E D\n",
              "[66061] E E E D C C E E E E E E E E D E D E D D E C E E E D E C E C D D D D D E\n",
              "[66097] E E D E D D E D E C E D E E E E E E E E C D C C C E D C E E E D C D E D\n",
              "[66133] D E D A E E D D C B C D E E E E E E E D D E E E E E B D E D B C C B C A\n",
              "[66169] C C B D C C D D B C A A D C E C C C E A A C D B B B C B B C C D A B E C\n",
              "[66205] C D C E B C D E B D D E E D E E E C E E E E E C B C C C D D E E C D D E\n",
              "[66241] D D D E E E E C E D E E E D E E D E E E E E E D D D D E D D D D C D E E\n",
              "[66277] D A C C B C B D B A D D D E D E E E D E E E D E C C D D D D C C C E E E\n",
              "[66313] C E E E D E E E E E E E E E C C D E D E D D D E E D E D D E E D D E E E\n",
              "[66349] E C E D E E E D E C D E E E E E E D D D E D E E E E E D B D D C E E E D\n",
              "[66385] E D E D C D E D E E E E E E E E E D E E E E D D E E E E D E E E E D E E\n",
              "[66421] E E E E E E C D D E E C D C E E E E C E E E E E C E E E D E E D E E E E\n",
              "[66457] E E E D E E D E E E E E D D E E C D E E E E E E E E E E D E E D E D C E\n",
              "[66493] E E D D E D E E E D E E E E E E E E E E E E E D E E E E E E D D E D E C\n",
              "[66529] D E E E E E D E D E E E E E E E E D E D E E D D E D E E E D E D D E D E\n",
              "[66565] D D E E D D E E C E E E E C E B D C D C D C C E E D C D E D E D E E E E\n",
              "[66601] E E D D E D D C E E B B D E C B C B E E D E E E D E D E D E C C E D C E\n",
              "[66637] D E D D E C D E E D E E E D C E E D E E C D E D C E D E C D E C E E D D\n",
              "[66673] E E E D D E D E C E D E C D E E D E E E E D D D C E E E E D E E E E E E\n",
              "[66709] D E E E C D E C D E E E E D D C D E E E E E E E D D E E E E E E E E E E\n",
              "[66745] E E E E E E E E E D D E E E E D E D E D E D E E E D E C E E E C E E E E\n",
              "[66781] D D E E E E E E D E E E E C B E E E E E E D E E E E E E D D E E E E E E\n",
              "[66817] E E E E E E E E E D E E E E D E D E E D D D D E D D E E E C E E C A C D\n",
              "[66853] E E E E C E E D E E E D E E B E E D E E E D E D C E D E D B D E E E E E\n",
              "[66889] E D E B E E E C B E C C E E E E E E E E D E E E C E E E D D E E E E D E\n",
              "[66925] C E C D D E E C D E E E D E E E E E C D D E B B C E D B E D C E E C C D\n",
              "[66961] D D D D C E E E D E E E D E E D E E B B E D E D E E E D E E E E D D E E\n",
              "[66997] E D D C E D D D D D E E E E E D E E C E D E E E D E D D E E D D E E D E\n",
              "[67033] E E E E E E E E E E E E D E E D D D E E D E D E D E E E D E E E E D D C\n",
              "[67069] C E D C C E E D E E D E E D D E E E E E C E E E D E E D E E C E D D E D\n",
              "[67105] D E E D D E D D E E E D E E D C E E E D D E E D D D E E E E D D E D E D\n",
              "[67141] E D E E E E E D E D E D C D E E E D C D D D A A D E E E E D D E E E D E\n",
              "[67177] E E E E E D D E C E E C B D D E D E E E D D E D E D C E D E E E E D E E\n",
              "[67213] E E D E E E E E E E E D E C C C D C E C E C E D D D D E D E E D E C E E\n",
              "[67249] E E D D E E E D E E E D E E E E E E E E E E E C E E D E D E D E D D D D\n",
              "[67285] E E E E E D E C E E E E E E D E E E E E D D D E E E E E D E E E D D D E\n",
              "[67321] E D D B C D D E E E E E E E D E D D E D D D C E D E E E E C E D E E E E\n",
              "[67357] E E D D D E D D D E D D C D D D E E E C E E D E D E E E E E E E E D E E\n",
              "[67393] E E E E E D E E E E D E E C E E E E E E E E E E E E E E E E E E E E E E\n",
              "[67429] E E D E E D D E E E D D E D E E E E C E E E E E E E E E E E E D E E D E\n",
              "[67465] E D B E E E E E E E D E E E E E E D D D E B E E E E E E D E E C D D E E\n",
              "[67501] E E E E E B E E E D E E E D E D E E E D D E E D E E E E E E D E E E E E\n",
              "[67537] C D E E E E E D D E E E E E C E E E E E E E E E C C D C D E E E D D D E\n",
              "[67573] E E E D C D E E C D D E E E E E E D E E E E E E E E E E E C E E D E D E\n",
              "[67609] E E D E E C D E E E E B E E E E D D D E E B D E E E D E E E E B E E D E\n",
              "[67645] E D C E E C D C E E D D E E D D E E E E B C E E E E D E E D E E E E E E\n",
              "[67681] E E E E E E E E E E D E E E E D D D E E D E E E E D E D C D E D E D E E\n",
              "[67717] E E E E E E E E E E E E D D D E D E D E E D E D E E E E E D D D E E E D\n",
              "[67753] D E E E E E E E E E D C D E C E C D D D E E E E E E E D E D E D E E D E\n",
              "[67789] D E D E E E D E E E D D E D D E E D E E E E E E D E C E E D E B E D E E\n",
              "[67825] D E D D E D E E D E D D D E E E C D C E D E D D E E E E E E E E E E D E\n",
              "[67861] E E E E E D D E D C E E E E E D C D E E E D D E E E C C E E E E E E E D\n",
              "[67897] E D E D D E D D D E E D D E D E E E E D E D D D E D E D E E D E E D D D\n",
              "[67933] E E D C E D E D D D E E D E E D E E E E D D E D E D D E E E E D E C C D\n",
              "[67969] E E E D E E D D E E E E C C E C D D E D E E D E D E E E E E D D E C E C\n",
              "[68005] E C E D E D D D E E D E E D D E E E E D E E D E E D E D E E D D E E E E\n",
              "[68041] D D C E E E C B E E E E D C E C E E D E D E E E E E E E E E E C E E D E\n",
              "[68077] E C C E E C E E D E E D E E E E D E E D E E E E E D E D E E E C D C C C\n",
              "[68113] E E E E E C E E E E E C C D A E E C D C E E E D E E E D E E E E D D E E\n",
              "[68149] E D E E E D D C E D E B E D E E D E E E D B E D C D D E D D D C E E D E\n",
              "[68185] E E E E D C D D E E E E E E E E D E D D E E C C D C B D E E A D E E E C\n",
              "[68221] E E E C E E E E D E C D D D D E E E E E E E E E B C E D C D C D E E C B\n",
              "[68257] D E E C D D C E E A E C E A E C C D E E C E E E E E E E E D D D D E D D\n",
              "[68293] E A E E E C E E D E E D E D D E E D E E E E E E E E E C E E E E E C E E\n",
              "[68329] E E E E D E E E E B B B E D B D D E C D E B D C E D B E B A A A E B C D\n",
              "[68365] C B B D E C E E D C D E C D E B D E B B B A A A B C D E D D E E E E E E\n",
              "[68401] E E D E E D E E E E D D D E D E E E E E E E E D D D E D D E E D D E E D\n",
              "[68437] D E D E E D D E E D E D E E E B D E C C E C E E C D C E C D C D E E D E\n",
              "[68473] C E E E E D E E E E E E E E E E E E D D D D E E E D E E E E E D D C E C\n",
              "[68509] C D C C C D E E D E D E E B D E D D E E E E E E D D E E E D E E E C B E\n",
              "[68545] E D C D C E D E D E E E E E E D D D E D D D C E E E D D E E E E E E E E\n",
              "[68581] E E E E E C D E E E E E E D E E E E D E D D E E E E D E E E E E C E E D\n",
              "[68617] C E E C D D D D D C B E D D C C B D D C E C E D D D D B D E D E C E E C\n",
              "[68653] D D E E E D C D E C D D C C B D D C E E B C C E D E E E D B E E C E D D\n",
              "[68689] E E D D D D D E E E D E E E E E D E D C C E C D D C B D E D C E D E E D\n",
              "[68725] D E D E E D E D C E E D C E E E E E E E D D D D C E C E E E D D E D E D\n",
              "[68761] E E D E E E E E D E D D C C C E C D E E E E D D C E E E E E E D E E E E\n",
              "[68797] E E E C C C E C E C D E E E E C D E E D E E C E E C E E D E E E C E D E\n",
              "[68833] E E E E D E D E D D E D C E E E E E E E E E C E E D D D E E E C D E B E\n",
              "[68869] E B D E E E E E E E E E D D E E C E D C B E E E C E D D C E E D E E E D\n",
              "[68905] D E E D E E D E D E C E E E E D E E E E E E D D D D D D E E D C E D C C\n",
              "[68941] D C D E C D E E C B C B D B E B B C D E C E C E E D E D E E E E E E D E\n",
              "[68977] E E B C E E E E D E E E E E C D D D D E E E D D E E E C E E D E C C E E\n",
              "[69013] E E E E E D E E E D D D E D E E E E C C E D E E D C E D C C D E E C E D\n",
              "[69049] D D E E E E E E D E E E E D E E E E E D E E E E C B D D E D C E E E E E\n",
              "[69085] E D E D D C D E E D C E E E E D D D E D E E E D E E E E D C E E E D D C\n",
              "[69121] D E E E E E E D D E E E E E E E E D E E C E C D E D D A B D E E D E E E\n",
              "[69157] E E E E E D E D E E D B E E C C D C E D D E E E D E E E E E E E E E E E\n",
              "[69193] E D E D E E E D D E E C E C E D D E D E E E D E D E E E E D E E E D E E\n",
              "[69229] E E C E C E E E E E C E E E E E D E E D C D E E E E E E E D E E E E E E\n",
              "[69265] D E D C E C D D D D C B E E C C D C C E B E E E E E E D D E E E E E E C\n",
              "[69301] E E E E E D E E E E E D D E E E E E D D D E E E D E D E E E E E E E E E\n",
              "[69337] D C D D C D E D C E D E D E E E E E E D E E D C E D D C C D C C E C C E\n",
              "[69373] D D E E E D C D C E D E D E E D D E E D E E E D C D C B C D D D E E E C\n",
              "[69409] E E E D E D C D E E E D E C E E E E D E E E E D E E E E D D E C E D D D\n",
              "[69445] E D E D E E E E E E E D E E E E E E B D D E D E E E D B E D E C B D D E\n",
              "[69481] D E E E E E E E E E E E E E E E E D E E E E D E C E E E E C E E E E D D\n",
              "[69517] B C D C E E D E E E E E E E E E E E E E E E E E E E E E D E E E E E D E\n",
              "[69553] E E D B D E C E C D D D E E D E E D E E E E E E D E D D D D E E E E E E\n",
              "[69589] D E E B D E C D D E E C C C E C D C E E D C D E D E D C D C D E D D E E\n",
              "[69625] E E E D D D D E D D E D E E E D E D E E E D E E E E E E E D E E E E E D\n",
              "[69661] D C E D C E E C D D E E E E E E E C D E E E E E C D E D D D E E E D D E\n",
              "[69697] D D C E E D D E E D D E D E D C D D D D D E E D E E E E C D D C E E E C\n",
              "[69733] D A D E D D E D E D E E E E C C B E B B D E E E C E D E E E E E E D D E\n",
              "[69769] C E E E C E E E E D E D D E E E E E E E C E D E E E E E C E C E D E E D\n",
              "[69805] E E E E D D C D D E E E D B D D E D E D D D D C B E E D E D D B D D E C\n",
              "[69841] D C E E C E E E D D E E E D C D C D D D D E E E E E E D E D D E D D E D\n",
              "[69877] C E D E E D E E C E D E E D C C C C C D C E D D E D E E C E B E D C C C\n",
              "[69913] C C A B E C A A D B C B B E E E E C C E E E E D D D E E C D E B C C E C\n",
              "[69949] E E C B C D C E C B C C B C B C B C C B D D D D E E E D E D C E D D B C\n",
              "[69985] D D E D E E C D E E E B B E D E E E E D D E D D E E E E D D E D E E E E\n",
              "[70021] E E D E E E E E E E E E E E E E E D E E D E E E E B E E D D B D E E E E\n",
              "[70057] C E E D D D D E E D C D C E E E B E E C E D E D D E E E C D E E E E C E\n",
              "[70093] E C E E E D D E E D E D E E E D D D E E B E E D D C E D D E E E E E C E\n",
              "[70129] C E D D D D D E E C E E E D D D E D E D E E E E E E E E D E E E D E E E\n",
              "[70165] E E E E E E E E E E E E D C E D E C E E E D E E B D C E E E D E E E E E\n",
              "[70201] E E D E E D E D E E E E E E E D C D C D E D D E E E D D D E D E D C C D\n",
              "[70237] C E C C E D D D E E E E D E C E B D E E E E D C C D D C E E E D E D E D\n",
              "[70273] E E E D C C D D D E D E C E E D D E B D E D D E E E E E D D E C E E D E\n",
              "[70309] E E E E E E E E D E C C C D D D E E D D E B D E C D C E E E D E D D D D\n",
              "[70345] D D C E D E E E E D A E C D D D C E E C D D E E E E E C E D D E D B D D\n",
              "[70381] A E E D C C E E D E E E D D E E D E E D E E E D D D E E E E C E E E E E\n",
              "[70417] E E D E E E E E E E E E E E E E E E E E E D D E E E E D E E C E E E E E\n",
              "[70453] E D E E E E E D D E E D D C E E E D D E D E D D E D D E E E E E E E E E\n",
              "[70489] E E E D E E D E E E D C E D D E E C E C D D E D D C D C E D E E E E E E\n",
              "[70525] D D D D E E E E D E D C E E D D E E D E E D C E E D E E E B B D D D E C\n",
              "[70561] D D E E E E E E D E E E D E E E E D D D E E E E E D E E E D D E C E D C\n",
              "[70597] E D C E E E E B D C D D D E E D E D D E D E D E E C D E E D E E E E E D\n",
              "[70633] D D C E D C D E D C E E C E E D C E E D E E D E E D E C D C D E E D E D\n",
              "[70669] E E E E E E E E E E E E D E E E E E E D D E E E E D E D C D E D E E E B\n",
              "[70705] D C E E E E E E E C E D D D D D D C E B D E E E A D D E E D D D E D E A\n",
              "[70741] E D E D E E E C E D D D E E E E D E E E E E E E E C E E E E D E E E E E\n",
              "[70777] D E E D E E D E D E E E E E E E E E E D E E E E E E E D E E E E E E E C\n",
              "[70813] E D D C E E D D C D E E D E D E E D E D E E D E C D E D E E E E E D E E\n",
              "[70849] D E E D E D D E E D E E E E D E E E E E D E E D E E E D C E D E E C E E\n",
              "[70885] E C E E E D C B D E C D C E C C D B C C D D A C E E E E D E C E C D E E\n",
              "[70921] E E E E E E E E D D D D E D E E E E E D E E E D C B D D C C E C D E E E\n",
              "[70957] C E D D E D D C D D C E B E E B B E E C E E C E D C E E E E E D C D E E\n",
              "[70993] C C D A B D B E D E E E D E D D E E E D D C E D C D D D E E D D D E D D\n",
              "[71029] D E E C D E E D E E E E E D D E C E C D B D E E D E E E D E E D D E E E\n",
              "[71065] D D E E D D D C E E E C E D E E E E C E E E E E C E D E E D D D E E E D\n",
              "[71101] D E E E E D E C D E E D E E E D E E E D E D E E D E C E E D D D D E E E\n",
              "[71137] E D E E D E E E E E E E E D E E E E D B D D D E E D D D D E E E E E E D\n",
              "[71173] E E E E E E E E D E E E D E C E E E D E E E E D E E D D E C C E D E E E\n",
              "[71209] D E D D E D D D E C D C D E E E E E E E E D D C C D E D C E D E E E E D\n",
              "[71245] E E D E E E E E E E E E D C E E E E D C E C E E E D D E E E D E D E E C\n",
              "[71281] D D E E D E E B C C E C C C C E D D E E C A C D C E E D D E D D E E E E\n",
              "[71317] D E D E D D E E E D E D E D E E E E E E E D D E E E D E D E E D C D C D\n",
              "[71353] E D E E E E C E D E C E E D C E D E C D E D D E E D D E E E E E E D E D\n",
              "[71389] D E E E E E E E E D E D D D C D E E D E E D D D E D D E D E E D E E E E\n",
              "[71425] C E E C C E E E E A E E E D E E C E A E E D E E E D E E B D E D E C C E\n",
              "[71461] C D E E E D E E C E E E E D D E C D E C E E E E C E D E D C C E C B D E\n",
              "[71497] E E E E E E D E E C C E E E E E C D E E E E E E E E D E E D E C A C C E\n",
              "[71533] C D D C D D D E E E E E D E E D E D E E E E E D D D E C D E E E E E C E\n",
              "[71569] E E D E E E E E D E D E E E C E D E E E E E E E E E D D D E E C E E E D\n",
              "[71605] D E D E D E D D E E E E E E C E D E E D E E D D E D D D E E E E E E E E\n",
              "[71641] C C D C C D E C E E E C E C E E E C E C E E C E D C D E E E C E E E E D\n",
              "[71677] C C C C E D D E E E E E E E C D E E E E E E E D E E D E D B D E E E E E\n",
              "[71713] C E D D E E E E E E E D D E D D E E E C E E D E E E E E D E E E D D E E\n",
              "[71749] E E E E E C D E D D E E E E E E E D E E C E C E E E E E E E E E E E E D\n",
              "[71785] E E E D E C C E D E E E E E D E D E C E E C E E E E D C C E D E E D E E\n",
              "[71821] E E E E E E E E D E E E E E E E E C D E E E E D D E D E D E D E D E D E\n",
              "[71857] D D E D E E E E D E E C E E E C D C E E E D E E E E E E D E E E B E D D\n",
              "[71893] D D D E D D E C B D D D E E E E E E E E E D E D E E C C E E E C E D E D\n",
              "[71929] E E D C E E E D E D E E E E D E E E E E D D E D C C E E E E C D D D C C\n",
              "[71965] C D E C E E E E E E D D D E E C E E C E E E E E E E E E E D E C E E E E\n",
              "[72001] E E E E D E E D D D E E D E E E E C E E A E E E E E E E E E E E D D E C\n",
              "[72037] D D C D C C D E C D D C E D C D C E E E E E D D D D D D E C D D D C D C\n",
              "[72073] D E D D E E E E C E E E E E C E D E E E E E E E E E E E D E D E D E E E\n",
              "[72109] E E E D E E E D E E C D E E E E E E E D E E E E D E E E E D C E D B C C\n",
              "[72145] E C E D D E E D E E D E D D E E E C E E E E C E E E D C C C E E E E D E\n",
              "[72181] D E E E D E C C E C E C E D C C C D E D E E E E D E C E E E D D D C D D\n",
              "[72217] D D E E E E D E E D D E E C D D E E D D C E D E E D E E E E E E D D E E\n",
              "[72253] D D C D D D E E D E D C D E E D E E E E E E E E E D E C C E C D D E E E\n",
              "[72289] E D E D D E E E E D D D D E E C E E D D E E D D E E D E D C D D E C D D\n",
              "[72325] E C D E D C E E D E C E E E E E C E E E E E D E D E E E E E C D C D C E\n",
              "[72361] C E D E D E D D C D E E E E B E D E E E D E E C B D E D D D E C E E E E\n",
              "[72397] E E E E E E E E E E E E D E E E E E E E D D D D D E E C E E D E B D C C\n",
              "[72433] C D C A C A D C E B C C B D D C C E C D B D E D D E D B D D D D E E E E\n",
              "[72469] C E E D E D D C E D D D E D E D E E E E E E B E C D C C D E D B B C B C\n",
              "[72505] D E C B B C C C C C C A B E C D D D D E C D E E E C B D E E E D C E D D\n",
              "[72541] E C C D E E D D E E E E E E E C C C C D D E E D E E E E E D C D E D E E\n",
              "[72577] D B E E E D D D E E C D D E C E E D E E E E C B E D E E E E E E E E C E\n",
              "[72613] D D E D B E C D E E E E E E E E E D E E E D E E E E E E D D D E E C D C\n",
              "[72649] E E E E E E E E E D C E D C E E E D E D E E E D D C D C E D C D C D D C\n",
              "[72685] B C A E A E C B B B A D C E E E E E E E E E E D D E E D D E D E B B A B\n",
              "[72721] C E E D E D D E D D E E C D C E D E E D D E D D D E D E C E C E E D E B\n",
              "[72757] D C C B C D E E E D E E E E E E D D E E E E E E E D D D D D E D C E D D\n",
              "[72793] E E E E E E E D E E E E D C D D E E D E E C D E E E C D D E D C C E C D\n",
              "[72829] D C D D D C E D E E D E D E D D D D E D D C D E E D D E E E D E D D E D\n",
              "[72865] D E E E D D D E E E D D D D E E C D E D C C E D D E E E E C D D E E D E\n",
              "[72901] E E D C E E D D D E E E C D E E D D D E E E D D D D D D E D D E E D E E\n",
              "[72937] E D D C E D D E C E E E C E E E E B D E D E E E E E E E E E E D E E D E\n",
              "[72973] D E E E E D E E E E D D E D E E E E E D E E E C E D E D D E D D C D D C\n",
              "[73009] D D D E D E D E D D D E D E E E D E C E E E D E E D E C E E E C E C E D\n",
              "[73045] E E E C E E E E E D C E D E D E E E E E D E E E E E E E E E E E E E E E\n",
              "[73081] D A E E E E E D C E E E E E E E E E E E E E E E E E D E E E E E E E E E\n",
              "[73117] E E E E E E D E D E D E A D E C C E D D D E D E D E E E D E D C E E E E\n",
              "[73153] E E D E C E D E C D D C E D E E D E E D D D E E E D E D E E E E E E E E\n",
              "[73189] E D D E E C E D D E E E E E E D E D E D B E E E D E D E D E C E E D D E\n",
              "[73225] E C D E E E E D D D E E E E E E E E D D E C D C D D E D E E E E D E E E\n",
              "[73261] E E D E E E D E E D D C E E E E E E E E E E E E E E E E E D E E E E C C\n",
              "[73297] E E D E E E C E E E E E E E E E E E D E D E E E E E E E E E E E D C C C\n",
              "[73333] C E C E E D E D E D C E E C D E C E D D E D B D B C D D E D E D E D D D\n",
              "[73369] D D D D E D E C C B E B D E E D E D E E B E E E D D D E E E E D D D E E\n",
              "[73405] E E E E E E D E E E E E D E E D E C C D D E D D E D D E C E C D E E D E\n",
              "[73441] D C C B E C B E E E D D E E D E E D D D E C E E C E E E E D C E D E E E\n",
              "[73477] D C E E E E E D D D C E D E C D D E D E D C E E D E D C E E C E D D D E\n",
              "[73513] E D E E E E E D D E D E E E E E D E E E E E E E D D E E D E E D E E E D\n",
              "[73549] D E E E D E E B E E E D D E E E E E E E E E C E E E E E E C E D E E E E\n",
              "[73585] E E E E E D E E E C E E E E C C D C D E E E E C D E E E D E E D C C D C\n",
              "[73621] E D E D E E E E D E D D E E E D E E E D D E C E D E C D C C D D E E D E\n",
              "[73657] E D E E C D E E D E E E E E D D A E D E D D E E E E D E E E E D E E E E\n",
              "[73693] E E E E E E E E D E D E D D E E E E D E E E D D E E E D E E E E E E E D\n",
              "[73729] E E C E E E E E E E E B E E E D D E E E D E E E E E E E E E E D E D D D\n",
              "[73765] C D D E E E E E C D D E E D E C C E E D D D D E C D D E E D D E D E D E\n",
              "[73801] C D E E D E E E E E E E E E D E E E D E D C E E D E D E E D E E E E E C\n",
              "[73837] E E E D E E E E E E E D E E D D E D E E E E E D E E B D E C E D E E E E\n",
              "[73873] E B D D E E E E D E E E C E D B D D E E E D D D E E E D E D C D E D A E\n",
              "[73909] E D E E D E E E E D E D E D E E E D D E E C E E E E E D E E E D E E E E\n",
              "[73945] D E D D E E D E D D D E D D E E E E E E D E C E E E E E E D E E D E E E\n",
              "[73981] E E E E E D E D E D E E E E E E E E D E E D C D D D D B E D C E E C E D\n",
              "[74017] E C D D C C D D D C C E E C C C E E C C B E E E E D D D D E E E E E D D\n",
              "[74053] C C C C D D D E E D E E E D D E E B E D E E E D E E B E D C E D E D E E\n",
              "[74089] D E D E E D D C E E E E E E C E E E D E E E D D D E E E E E E E E E E E\n",
              "[74125] E E C E E E E D E D E D D E D E E D D E D C E E C E E E E E D C E E E E\n",
              "[74161] C C E E D C C D D B D C C E A B C E D D E E E E E E E C B C B B D C D C\n",
              "[74197] E E E E D E E E E E E E E D E E D E C E E E D D E E E E D E D E E E E D\n",
              "[74233] E C D E C C D E E E D C D C C E E E D D E E D B E E E E D D D D D C E E\n",
              "[74269] D C E D D D D D D D E E D E B D C D D E E D E C D E E E E D E D D E E E\n",
              "[74305] D E D E D E D E E E D E E E D E E C D D C E E E C C E B E E A E E E E E\n",
              "[74341] D E E D E E D E E E D E E D D E D D E D D C E C E E E E E D E E E E C D\n",
              "[74377] E D E D D C D E E E E E D E E E E E E C B B E E E D D D D E E E E D C C\n",
              "[74413] C D E D D E E D E E D E C C E E E E E E E C D E E E E E E E E E E E E E\n",
              "[74449] E D E E E D E A E D D E E E E C E E E E E D E D E E E E E E E E E E E E\n",
              "[74485] E D E E E E D E E E E E E E D E D D E E D E D E E E D E D E E E D D E E\n",
              "[74521] E E E E E E E D E E E E E D C D E E D E E C E D E E E E E D E E D E E E\n",
              "[74557] E E E E E E E E D E E D E D E D E E E E D E E D D D E E E E E E E D E D\n",
              "[74593] D E E E E E E E E E E D E E E D E E D D E B E D E E E E D E E D E D E E\n",
              "[74629] E D D E E E D E D E E D E C D E C D E E D E C D E E E C C D E B E C E E\n",
              "[74665] D C E E D E D E E B E D E E D D D D D C E E E E E E E E E E E C E D D E\n",
              "[74701] E E E E E D E E E E E E D E E D D E E E E E D E E E E E C E E E D D C D\n",
              "[74737] E E E E E E D E E E E E E E E D E E E E E E D E E E E D D D D E E E D D\n",
              "[74773] E E D C E E E E D E D E E E B B B B B B C A B C A D C C A A A D C E A D\n",
              "[74809] E E B D B E E C B E B A C A B B B C B E A C D C D B B A B C B B C A C B\n",
              "[74845] B A B B C C C A C C C D B A A A A C B B D B B A E D B E C B A B E A D C\n",
              "[74881] B A C B B C B D A C D B C A E B A E C D C C B B E B E E E E E D D B C E\n",
              "[74917] C E E C A A A B B B A B A A C B E C B A C D B C B E C D C E B C B A A A\n",
              "[74953] D E C A A B B B C C B C B A C C A E A D C B A B C C A C B C C C E C D B\n",
              "[74989] C D B E C E E D D D B C C D D D E C D E C D E E E E E E D C E E E C D D\n",
              "[75025] B C E C B C C E E B E E C D E E D E E D A C C E C E E E C E E E E C C D\n",
              "[75061] E E D B C D E E E C E C C C E C D E D C E C D E D E E C E C D E E E E E\n",
              "[75097] C D E C E E E D E C E E E C C D E E D D E D C E E E E D E D D E E C E E\n",
              "[75133] E C C B C C B E C C B C A B A B B A B D D C B C B C D C C B B B B B A B\n",
              "[75169] C C E C B D B C B B B C C C D C B B A C D C C B E E C C C B D D E C D C\n",
              "[75205] E C C D C C C C C C D E D B C D E E E C E E C E C D C B E C D E D D E E\n",
              "[75241] D E E D C E D E E C D D E D D D E D D E C C D E C E E E E C C D E C B D\n",
              "[75277] C C D C C E C E E C D D E D C C D D C D C E C D D D E D C C C D D E C D\n",
              "[75313] C B C D C D B C C C D D B A C D B D A D C D C D B D D E C D E E E C E D\n",
              "[75349] D B C C E B E C E E C B B D B D A B C E B C B D B C D B C B B D C C A C\n",
              "[75385] C C A B C A B B B B D B C C C C B E C B D D C D D E E C E C D C C B C C\n",
              "[75421] C C D C C B D C C B C C E B C C C D B D D C E D E C C C E C C E D D E D\n",
              "[75457] D E D C E D D E E D D E B D D D E E E C E E E D E B C D C C E C B E D E\n",
              "[75493] E A C D B B C D C C B E B C D D D E C E B E D C C C B B C B B B B E E B\n",
              "[75529] B C B B B B C C C B C D A E D E E E E E E C E E E E E D E E D E E D E E\n",
              "[75565] E E E E D D D D E E E E D E C D D E C B D E D E D D E D D C D C C C E B\n",
              "[75601] B D C C C D C C E B B D D C C C C C B E E E E E D E E E E E E C E C E B\n",
              "[75637] E D E E E E E D E E E E D D E E D D E B E D E E E E E E E C E E D D E E\n",
              "[75673] E E E E D E D E E C C E E E E C E C C E E E E E E E E E D C C E E E E E\n",
              "[75709] E E E E D D D E E C E D E D D E E E C E C D E E E E C D E D E E E E D E\n",
              "[75745] C E D E E E E C E E E C D D E E E E E E E C E E E D D E C D E E E C E E\n",
              "[75781] C E E E E E D E D E E E E E E A E A C C B C B C C B E A B B A B C C C C\n",
              "[75817] B C C D C C B A E C E E C D D E D E B E C E E C D E E E E C B C A B E B\n",
              "[75853] D C E E D D D E E D E D D E E E E B E E C D E C E D D E C B E D C D E E\n",
              "[75889] A A B B A C A B A B C E A E C A E E C D E E C C E D E E D C E E C E D C\n",
              "[75925] E E E E D E E E E E E E E E E E E D E D E D C D E E D C E C E E E D D E\n",
              "[75961] D D C E E D E E E E E D E E C E E E D C E E E E E E E D E D E E C E E C\n",
              "[75997] D C E E D E E E E D D C E E D D C D D D E D D E E D D E D E E E E D E D\n",
              "[76033] D E D D E D D E E E D D E E E B C C D E E C C D E E E E E C D E E E D B\n",
              "[76069] E E E E E C C D E E E E E D D E E D E E D E E E D E E D E E D E B B D D\n",
              "[76105] E E E E E E E D C E D D D E E C D E D C E E E E E C E D E E E E D E C C\n",
              "[76141] E C E C E D E E E D E E E E E E D E E E E E D C E E E E E D E E E D E D\n",
              "[76177] E D D E C E E E D E D D E E E E E D E E E E E D E E D E E E E D E E C C\n",
              "[76213] D C E D C E C C B B A B E C E B E B C B D D B C B D C E C B D C D C D D\n",
              "[76249] E E E E E C C E D C C C E E D B E D D E E C E C D E D E D D E D E E E E\n",
              "[76285] E E E D E B B B B A B E C B D B B B C C C A C D C C C C C B B B D C E C\n",
              "[76321] B C D D C C C D C D C C C C C B B A A C B B A D D C E B C C B B C B A B\n",
              "[76357] A B B B C D C C C B B B B A B C B B C C E B E C A A B E E D D D D E E E\n",
              "[76393] E E E E E E D E D E C B E D E D D D E D C C D D D C E D E C E C E C D E\n",
              "[76429] E E E E D E D E C E E D B E D E E C D E E E D C E E E E E E E E E E E E\n",
              "[76465] E E E E D E E E E C E E E D C C D E E D C E D E B B C D E E D C E E E E\n",
              "[76501] E D D D D E D E E C E E E E E D D E E E C A E D E B D E E E D E D E E E\n",
              "[76537] C E E D E E E E E D E E E E D E C C E E E E E E D E C E E E D D C D D E\n",
              "[76573] D E E E E E E D E E D D E D E E D E E C D C C E E D D C D E E D E E E E\n",
              "[76609] E C E E E D D E D D E C C B D D C B B E C E D D B C A A A C C A C A A A\n",
              "[76645] D E A C A B A A A A B B A E E E E D D E E D D E E E E D E D E E E D E D\n",
              "[76681] D D D D C C C E E E E E E E C E D D E E E E E E E E D E E E E E E D E E\n",
              "[76717] E E E D C D D D E C D E C D C D E E E D D E D E E E E C D D E D D D E C\n",
              "[76753] E C D E E E D E E D D E E E E D E D E E B E D C D E C D E E E D E E D E\n",
              "[76789] E E E E E E D D E E E E E C E E E E D E E E D E E D C C E E E E E E B C\n",
              "[76825] C B C B B A C A C D E E E E E E\n",
              "Levels: E D C B A"
            ]
          },
          "metadata": {},
          "output_type": "display_data"
        }
      ],
      "source": [
        "cut(\n",
        "  x = dados$Renda,\n",
        "  breaks = classes,\n",
        "  labels = labels,\n",
        "  include.lowest = TRUE\n",
        ")"
      ]
    },
    {
      "cell_type": "code",
      "execution_count": null,
      "metadata": {
        "colab": {
          "base_uri": "https://localhost:8080/",
          "height": 245
        },
        "id": "WrZ2m2GajQLo",
        "outputId": "7f819c6b-e929-451d-8858-0f48099847bf"
      },
      "outputs": [
        {
          "data": {
            "text/plain": [
              "\n",
              "    E     D     C     B     A \n",
              "49755 16700  7599  2178   608 "
            ]
          },
          "metadata": {},
          "output_type": "display_data"
        }
      ],
      "source": [
        "frequencia <- table(\n",
        "    cut(\n",
        "    x = dados$Renda,\n",
        "    breaks = classes,\n",
        "    labels = labels,\n",
        "    include.lowest = TRUE\n",
        "  )\n",
        ")\n",
        "frequencia"
      ]
    },
    {
      "cell_type": "code",
      "execution_count": null,
      "metadata": {
        "colab": {
          "base_uri": "https://localhost:8080/",
          "height": 245
        },
        "id": "btKoxJDujQLp",
        "outputId": "39dfec34-8aa1-4123-d324-bf58d9105010"
      },
      "outputs": [
        {
          "data": {
            "text/plain": [
              "\n",
              "         E          D          C          B          A \n",
              "64.7514315 21.7334721  9.8893805  2.8344612  0.7912546 "
            ]
          },
          "metadata": {},
          "output_type": "display_data"
        }
      ],
      "source": [
        "percentual <- prop.table(frequencia) * 100\n",
        "percentual"
      ]
    },
    {
      "cell_type": "code",
      "execution_count": null,
      "metadata": {
        "colab": {
          "base_uri": "https://localhost:8080/",
          "height": 261
        },
        "id": "uTMEJXUHjQLs",
        "outputId": "89195172-fe9e-4825-f45e-137424bc592a"
      },
      "outputs": [
        {
          "data": {
            "text/html": [
              "<table class=\"dataframe\">\n",
              "<caption>A matrix: 5 × 2 of type dbl</caption>\n",
              "<thead>\n",
              "\t<tr><th></th><th scope=col>Frequência</th><th scope=col>Porcentagem (%)</th></tr>\n",
              "</thead>\n",
              "<tbody>\n",
              "\t<tr><th scope=row>E</th><td>49755</td><td>64.7514315</td></tr>\n",
              "\t<tr><th scope=row>D</th><td>16700</td><td>21.7334721</td></tr>\n",
              "\t<tr><th scope=row>C</th><td> 7599</td><td> 9.8893805</td></tr>\n",
              "\t<tr><th scope=row>B</th><td> 2178</td><td> 2.8344612</td></tr>\n",
              "\t<tr><th scope=row>A</th><td>  608</td><td> 0.7912546</td></tr>\n",
              "</tbody>\n",
              "</table>\n"
            ],
            "text/latex": [
              "A matrix: 5 × 2 of type dbl\n",
              "\\begin{tabular}{r|ll}\n",
              "  & Frequência & Porcentagem (\\%)\\\\\n",
              "\\hline\n",
              "\tE & 49755 & 64.7514315\\\\\n",
              "\tD & 16700 & 21.7334721\\\\\n",
              "\tC &  7599 &  9.8893805\\\\\n",
              "\tB &  2178 &  2.8344612\\\\\n",
              "\tA &   608 &  0.7912546\\\\\n",
              "\\end{tabular}\n"
            ],
            "text/markdown": [
              "\n",
              "A matrix: 5 × 2 of type dbl\n",
              "\n",
              "| <!--/--> | Frequência | Porcentagem (%) |\n",
              "|---|---|---|\n",
              "| E | 49755 | 64.7514315 |\n",
              "| D | 16700 | 21.7334721 |\n",
              "| C |  7599 |  9.8893805 |\n",
              "| B |  2178 |  2.8344612 |\n",
              "| A |   608 |  0.7912546 |\n",
              "\n"
            ],
            "text/plain": [
              "  Frequência Porcentagem (%)\n",
              "E 49755      64.7514315     \n",
              "D 16700      21.7334721     \n",
              "C  7599       9.8893805     \n",
              "B  2178       2.8344612     \n",
              "A   608       0.7912546     "
            ]
          },
          "metadata": {},
          "output_type": "display_data"
        }
      ],
      "source": [
        "dist_freq_quantitativas_personalizadas <- cbind('Frequência' = frequencia, 'Porcentagem (%)' = percentual)\n",
        "dist_freq_quantitativas_personalizadas"
      ]
    },
    {
      "cell_type": "code",
      "execution_count": null,
      "metadata": {
        "colab": {
          "base_uri": "https://localhost:8080/",
          "height": 261
        },
        "id": "4rdaJoZvO-lb",
        "outputId": "7140d21c-7613-42b2-b298-55c8afc15cb0"
      },
      "outputs": [
        {
          "data": {
            "text/html": [
              "<table class=\"dataframe\">\n",
              "<caption>A matrix: 5 × 2 of type dbl</caption>\n",
              "<thead>\n",
              "\t<tr><th></th><th scope=col>Frequência</th><th scope=col>Porcentagem (%)</th></tr>\n",
              "</thead>\n",
              "<tbody>\n",
              "\t<tr><th scope=row>A</th><td>  608</td><td> 0.7912546</td></tr>\n",
              "\t<tr><th scope=row>B</th><td> 2178</td><td> 2.8344612</td></tr>\n",
              "\t<tr><th scope=row>C</th><td> 7599</td><td> 9.8893805</td></tr>\n",
              "\t<tr><th scope=row>D</th><td>16700</td><td>21.7334721</td></tr>\n",
              "\t<tr><th scope=row>E</th><td>49755</td><td>64.7514315</td></tr>\n",
              "</tbody>\n",
              "</table>\n"
            ],
            "text/latex": [
              "A matrix: 5 × 2 of type dbl\n",
              "\\begin{tabular}{r|ll}\n",
              "  & Frequência & Porcentagem (\\%)\\\\\n",
              "\\hline\n",
              "\tA &   608 &  0.7912546\\\\\n",
              "\tB &  2178 &  2.8344612\\\\\n",
              "\tC &  7599 &  9.8893805\\\\\n",
              "\tD & 16700 & 21.7334721\\\\\n",
              "\tE & 49755 & 64.7514315\\\\\n",
              "\\end{tabular}\n"
            ],
            "text/markdown": [
              "\n",
              "A matrix: 5 × 2 of type dbl\n",
              "\n",
              "| <!--/--> | Frequência | Porcentagem (%) |\n",
              "|---|---|---|\n",
              "| A |   608 |  0.7912546 |\n",
              "| B |  2178 |  2.8344612 |\n",
              "| C |  7599 |  9.8893805 |\n",
              "| D | 16700 | 21.7334721 |\n",
              "| E | 49755 | 64.7514315 |\n",
              "\n"
            ],
            "text/plain": [
              "  Frequência Porcentagem (%)\n",
              "A   608       0.7912546     \n",
              "B  2178       2.8344612     \n",
              "C  7599       9.8893805     \n",
              "D 16700      21.7334721     \n",
              "E 49755      64.7514315     "
            ]
          },
          "metadata": {},
          "output_type": "display_data"
        }
      ],
      "source": [
        "dist_freq_quantitativas_personalizadas[\n",
        "  order(row.names(dist_freq_quantitativas_personalizadas)),\n",
        "]"
      ]
    },
    {
      "cell_type": "markdown",
      "metadata": {
        "id": "ViJYvvjujQLu"
      },
      "source": [
        "## <font color=green>2.3 Distribuição de frequências para variáveis quantitativas (classes de amplitude fixa)</font>\n",
        "***"
      ]
    },
    {
      "cell_type": "markdown",
      "metadata": {
        "id": "HJPly2uyrpKe"
      },
      "source": [
        "### <font color=red>Documentações:\n",
        "\n",
        "- [**nrow**](https://www.rdocumentation.org/packages/base/versions/3.6.1/topics/nrow)\n",
        "- [**log**](https://www.rdocumentation.org/packages/base/versions/3.6.1/topics/log)\n",
        "- [**round**](https://www.rdocumentation.org/packages/base/versions/3.6.1/topics/Round)"
      ]
    },
    {
      "cell_type": "markdown",
      "metadata": {
        "id": "s9UGNaMzjQLy"
      },
      "source": [
        "### Passo 1 - Definindo o número de classes"
      ]
    },
    {
      "cell_type": "markdown",
      "metadata": {
        "id": "p268tvNHjQLy"
      },
      "source": [
        "#### Regra de Sturges\n",
        "\n",
        "# $$k = 1 + \\frac {10}{3}\\log_{10}n$$"
      ]
    },
    {
      "cell_type": "code",
      "execution_count": null,
      "metadata": {
        "colab": {
          "base_uri": "https://localhost:8080/",
          "height": 34
        },
        "id": "wgLH6gGqjQLz",
        "outputId": "a706615c-7776-4ec1-9b5e-d6b4397b186b"
      },
      "outputs": [
        {
          "data": {
            "text/html": [
              "76840"
            ],
            "text/latex": [
              "76840"
            ],
            "text/markdown": [
              "76840"
            ],
            "text/plain": [
              "[1] 76840"
            ]
          },
          "metadata": {},
          "output_type": "display_data"
        }
      ],
      "source": [
        "# K é o número de classes\n",
        "# n é o tamanho do dataset\n",
        "n <- nrow(dados)\n",
        "n"
      ]
    },
    {
      "cell_type": "code",
      "execution_count": null,
      "metadata": {
        "colab": {
          "base_uri": "https://localhost:8080/",
          "height": 34
        },
        "id": "uTuVep-8jQL0",
        "outputId": "7fdb6969-987b-4900-8bde-10eb1f0a3e6c"
      },
      "outputs": [
        {
          "data": {
            "text/html": [
              "17.2852911872989"
            ],
            "text/latex": [
              "17.2852911872989"
            ],
            "text/markdown": [
              "17.2852911872989"
            ],
            "text/plain": [
              "[1] 17.28529"
            ]
          },
          "metadata": {},
          "output_type": "display_data"
        }
      ],
      "source": [
        "k <- 1 + (10 / 3) * log10(n)\n",
        "k"
      ]
    },
    {
      "cell_type": "code",
      "execution_count": null,
      "metadata": {
        "colab": {
          "base_uri": "https://localhost:8080/",
          "height": 34
        },
        "id": "B_Y66_KFjQL4",
        "outputId": "d8e528d6-9740-4878-c6e3-aa6c3ba16614"
      },
      "outputs": [
        {
          "data": {
            "text/html": [
              "17"
            ],
            "text/latex": [
              "17"
            ],
            "text/markdown": [
              "17"
            ],
            "text/plain": [
              "[1] 17"
            ]
          },
          "metadata": {},
          "output_type": "display_data"
        }
      ],
      "source": [
        "k <- round(k)\n",
        "k"
      ]
    },
    {
      "cell_type": "markdown",
      "metadata": {
        "id": "5eO-RhaljQL6"
      },
      "source": [
        "### Passo 2 - Criar a tabela de frequências"
      ]
    },
    {
      "cell_type": "code",
      "execution_count": null,
      "metadata": {
        "id": "Br83LJglrpKf"
      },
      "outputs": [],
      "source": [
        "labels <- c(\n",
        "    '      0.00 |—|  11,764.70', \n",
        "    ' 11,764.70  —|  23,529.40', \n",
        "    ' 23,529.40  —|  35,294.10', \n",
        "    ' 35,294.10  —|  47,058.80', \n",
        "    ' 47,058.80  —|  58,823.50', \n",
        "    ' 58,823.50  —|  70,588.20', \n",
        "    ' 70,588.20  —|  82,352.90', \n",
        "    ' 82,352.90  —|  94,117.60', \n",
        "    ' 94,117.60  —| 105,882.00', \n",
        "    '105,882.00  —| 117,647.00', \n",
        "    '117,647.00  —| 129,412.00', \n",
        "    '129,412.00  —| 141,176.00', \n",
        "    '141,176.00  —| 152,941.00', \n",
        "    '152,941.00  —| 164,706.00', \n",
        "    '164,706.00  —| 176,471.00', \n",
        "    '176,471.00  —| 188,235.00', \n",
        "    '188,235.00  —| 200,000.00'\n",
        ")"
      ]
    },
    {
      "cell_type": "code",
      "execution_count": null,
      "metadata": {
        "colab": {
          "base_uri": "https://localhost:8080/",
          "height": 1000
        },
        "id": "sVVA-jvDjQL7",
        "outputId": "b170f35f-8686-4192-dd8e-d71da7ab935c"
      },
      "outputs": [
        {
          "data": {
            "text/plain": [
              "\n",
              "      0.00 |—|  11,764.70  11,764.70  —|  23,529.40  23,529.40  —|  35,294.10 \n",
              "                    75594                      1022                       169 \n",
              " 35,294.10  —|  47,058.80  47,058.80  —|  58,823.50  58,823.50  —|  70,588.20 \n",
              "                       19                        16                         5 \n",
              " 70,588.20  —|  82,352.90  82,352.90  —|  94,117.60  94,117.60  —| 105,882.00 \n",
              "                        4                         1                         6 \n",
              "105,882.00  —| 117,647.00 117,647.00  —| 129,412.00 129,412.00  —| 141,176.00 \n",
              "                        0                         1                         0 \n",
              "141,176.00  —| 152,941.00 152,941.00  —| 164,706.00 164,706.00  —| 176,471.00 \n",
              "                        0                         0                         0 \n",
              "176,471.00  —| 188,235.00 188,235.00  —| 200,000.00 \n",
              "                        0                         3 "
            ]
          },
          "metadata": {},
          "output_type": "display_data"
        }
      ],
      "source": [
        "frequencia <- table(\n",
        "  cut(\n",
        "    x = dados$Renda,\n",
        "    breaks = k,\n",
        "    labels = labels,\n",
        "    include.lowest = TRUE\n",
        "  )\n",
        ")\n",
        "frequencia"
      ]
    },
    {
      "cell_type": "code",
      "execution_count": null,
      "metadata": {
        "colab": {
          "base_uri": "https://localhost:8080/",
          "height": 1000
        },
        "id": "-ylxSip1jQL9",
        "outputId": "e02543d0-2f88-4755-d642-6a99797c676e"
      },
      "outputs": [
        {
          "data": {
            "text/plain": [
              "\n",
              "      0.00 |—|  11,764.70  11,764.70  —|  23,529.40  23,529.40  —|  35,294.10 \n",
              "             98.378448725               1.330036439               0.219937533 \n",
              " 35,294.10  —|  47,058.80  47,058.80  —|  58,823.50  58,823.50  —|  70,588.20 \n",
              "              0.024726705               0.020822488               0.006507028 \n",
              " 70,588.20  —|  82,352.90  82,352.90  —|  94,117.60  94,117.60  —| 105,882.00 \n",
              "              0.005205622               0.001301406               0.007808433 \n",
              "105,882.00  —| 117,647.00 117,647.00  —| 129,412.00 129,412.00  —| 141,176.00 \n",
              "              0.000000000               0.001301406               0.000000000 \n",
              "141,176.00  —| 152,941.00 152,941.00  —| 164,706.00 164,706.00  —| 176,471.00 \n",
              "              0.000000000               0.000000000               0.000000000 \n",
              "176,471.00  —| 188,235.00 188,235.00  —| 200,000.00 \n",
              "              0.000000000               0.003904217 "
            ]
          },
          "metadata": {},
          "output_type": "display_data"
        }
      ],
      "source": [
        "percentual <- prop.table(frequencia) * 100\n",
        "percentual"
      ]
    },
    {
      "cell_type": "code",
      "execution_count": null,
      "metadata": {
        "colab": {
          "base_uri": "https://localhost:8080/",
          "height": 1000
        },
        "id": "n9kkJ0WTjQL_",
        "outputId": "ab0d8319-8fa8-4c45-c5e6-7c15c0e73061"
      },
      "outputs": [
        {
          "data": {
            "text/html": [
              "<table class=\"dataframe\">\n",
              "<caption>A matrix: 17 × 2 of type dbl</caption>\n",
              "<thead>\n",
              "\t<tr><th></th><th scope=col>Frequência</th><th scope=col>Porcentagem (%)</th></tr>\n",
              "</thead>\n",
              "<tbody>\n",
              "\t<tr><th scope=row>      0.00 |—|  11,764.70</th><td>75594</td><td>98.378448725</td></tr>\n",
              "\t<tr><th scope=row> 11,764.70  —|  23,529.40</th><td> 1022</td><td> 1.330036439</td></tr>\n",
              "\t<tr><th scope=row> 23,529.40  —|  35,294.10</th><td>  169</td><td> 0.219937533</td></tr>\n",
              "\t<tr><th scope=row> 35,294.10  —|  47,058.80</th><td>   19</td><td> 0.024726705</td></tr>\n",
              "\t<tr><th scope=row> 47,058.80  —|  58,823.50</th><td>   16</td><td> 0.020822488</td></tr>\n",
              "\t<tr><th scope=row> 58,823.50  —|  70,588.20</th><td>    5</td><td> 0.006507028</td></tr>\n",
              "\t<tr><th scope=row> 70,588.20  —|  82,352.90</th><td>    4</td><td> 0.005205622</td></tr>\n",
              "\t<tr><th scope=row> 82,352.90  —|  94,117.60</th><td>    1</td><td> 0.001301406</td></tr>\n",
              "\t<tr><th scope=row> 94,117.60  —| 105,882.00</th><td>    6</td><td> 0.007808433</td></tr>\n",
              "\t<tr><th scope=row>105,882.00  —| 117,647.00</th><td>    0</td><td> 0.000000000</td></tr>\n",
              "\t<tr><th scope=row>117,647.00  —| 129,412.00</th><td>    1</td><td> 0.001301406</td></tr>\n",
              "\t<tr><th scope=row>129,412.00  —| 141,176.00</th><td>    0</td><td> 0.000000000</td></tr>\n",
              "\t<tr><th scope=row>141,176.00  —| 152,941.00</th><td>    0</td><td> 0.000000000</td></tr>\n",
              "\t<tr><th scope=row>152,941.00  —| 164,706.00</th><td>    0</td><td> 0.000000000</td></tr>\n",
              "\t<tr><th scope=row>164,706.00  —| 176,471.00</th><td>    0</td><td> 0.000000000</td></tr>\n",
              "\t<tr><th scope=row>176,471.00  —| 188,235.00</th><td>    0</td><td> 0.000000000</td></tr>\n",
              "\t<tr><th scope=row>188,235.00  —| 200,000.00</th><td>    3</td><td> 0.003904217</td></tr>\n",
              "</tbody>\n",
              "</table>\n"
            ],
            "text/latex": [
              "A matrix: 17 × 2 of type dbl\n",
              "\\begin{tabular}{r|ll}\n",
              "  & Frequência & Porcentagem (\\%)\\\\\n",
              "\\hline\n",
              "\t      0.00 \\textbar{}—\\textbar{}  11,764.70 & 75594 & 98.378448725\\\\\n",
              "\t 11,764.70  —\\textbar{}  23,529.40 &  1022 &  1.330036439\\\\\n",
              "\t 23,529.40  —\\textbar{}  35,294.10 &   169 &  0.219937533\\\\\n",
              "\t 35,294.10  —\\textbar{}  47,058.80 &    19 &  0.024726705\\\\\n",
              "\t 47,058.80  —\\textbar{}  58,823.50 &    16 &  0.020822488\\\\\n",
              "\t 58,823.50  —\\textbar{}  70,588.20 &     5 &  0.006507028\\\\\n",
              "\t 70,588.20  —\\textbar{}  82,352.90 &     4 &  0.005205622\\\\\n",
              "\t 82,352.90  —\\textbar{}  94,117.60 &     1 &  0.001301406\\\\\n",
              "\t 94,117.60  —\\textbar{} 105,882.00 &     6 &  0.007808433\\\\\n",
              "\t105,882.00  —\\textbar{} 117,647.00 &     0 &  0.000000000\\\\\n",
              "\t117,647.00  —\\textbar{} 129,412.00 &     1 &  0.001301406\\\\\n",
              "\t129,412.00  —\\textbar{} 141,176.00 &     0 &  0.000000000\\\\\n",
              "\t141,176.00  —\\textbar{} 152,941.00 &     0 &  0.000000000\\\\\n",
              "\t152,941.00  —\\textbar{} 164,706.00 &     0 &  0.000000000\\\\\n",
              "\t164,706.00  —\\textbar{} 176,471.00 &     0 &  0.000000000\\\\\n",
              "\t176,471.00  —\\textbar{} 188,235.00 &     0 &  0.000000000\\\\\n",
              "\t188,235.00  —\\textbar{} 200,000.00 &     3 &  0.003904217\\\\\n",
              "\\end{tabular}\n"
            ],
            "text/markdown": [
              "\n",
              "A matrix: 17 × 2 of type dbl\n",
              "\n",
              "| <!--/--> | Frequência | Porcentagem (%) |\n",
              "|---|---|---|\n",
              "|       0.00 |—|  11,764.70 | 75594 | 98.378448725 |\n",
              "|  11,764.70  —|  23,529.40 |  1022 |  1.330036439 |\n",
              "|  23,529.40  —|  35,294.10 |   169 |  0.219937533 |\n",
              "|  35,294.10  —|  47,058.80 |    19 |  0.024726705 |\n",
              "|  47,058.80  —|  58,823.50 |    16 |  0.020822488 |\n",
              "|  58,823.50  —|  70,588.20 |     5 |  0.006507028 |\n",
              "|  70,588.20  —|  82,352.90 |     4 |  0.005205622 |\n",
              "|  82,352.90  —|  94,117.60 |     1 |  0.001301406 |\n",
              "|  94,117.60  —| 105,882.00 |     6 |  0.007808433 |\n",
              "| 105,882.00  —| 117,647.00 |     0 |  0.000000000 |\n",
              "| 117,647.00  —| 129,412.00 |     1 |  0.001301406 |\n",
              "| 129,412.00  —| 141,176.00 |     0 |  0.000000000 |\n",
              "| 141,176.00  —| 152,941.00 |     0 |  0.000000000 |\n",
              "| 152,941.00  —| 164,706.00 |     0 |  0.000000000 |\n",
              "| 164,706.00  —| 176,471.00 |     0 |  0.000000000 |\n",
              "| 176,471.00  —| 188,235.00 |     0 |  0.000000000 |\n",
              "| 188,235.00  —| 200,000.00 |     3 |  0.003904217 |\n",
              "\n"
            ],
            "text/plain": [
              "                          Frequência Porcentagem (%)\n",
              "      0.00 |—|  11,764.70 75594      98.378448725   \n",
              " 11,764.70  —|  23,529.40  1022       1.330036439   \n",
              " 23,529.40  —|  35,294.10   169       0.219937533   \n",
              " 35,294.10  —|  47,058.80    19       0.024726705   \n",
              " 47,058.80  —|  58,823.50    16       0.020822488   \n",
              " 58,823.50  —|  70,588.20     5       0.006507028   \n",
              " 70,588.20  —|  82,352.90     4       0.005205622   \n",
              " 82,352.90  —|  94,117.60     1       0.001301406   \n",
              " 94,117.60  —| 105,882.00     6       0.007808433   \n",
              "105,882.00  —| 117,647.00     0       0.000000000   \n",
              "117,647.00  —| 129,412.00     1       0.001301406   \n",
              "129,412.00  —| 141,176.00     0       0.000000000   \n",
              "141,176.00  —| 152,941.00     0       0.000000000   \n",
              "152,941.00  —| 164,706.00     0       0.000000000   \n",
              "164,706.00  —| 176,471.00     0       0.000000000   \n",
              "176,471.00  —| 188,235.00     0       0.000000000   \n",
              "188,235.00  —| 200,000.00     3       0.003904217   "
            ]
          },
          "metadata": {},
          "output_type": "display_data"
        }
      ],
      "source": [
        "dist_freq_quantitativas_amplitude_fixa <- cbind('Frequência' = frequencia, 'Porcentagem (%)' = percentual)\n",
        "dist_freq_quantitativas_amplitude_fixa"
      ]
    },
    {
      "cell_type": "markdown",
      "metadata": {
        "id": "Js9iLwNkjQME"
      },
      "source": [
        "## <font color=green>2.4 Histograma</font>\n",
        "***\n",
        "\n",
        "O <b>HISTOGRAMA</b> é a representação gráfica de uma distribuição de frequências. É um gráfico formado por um conjunto de retângulos colocados lado a lado, onde a área de cada retângulo é proporcional à frequência da classe que ele representa."
      ]
    },
    {
      "cell_type": "markdown",
      "metadata": {
        "id": "rVb65YVVrpKh"
      },
      "source": [
        "### <font color=red>Documentações:\n",
        "\n",
        "- [***package* graphics**](https://www.rdocumentation.org/packages/graphics)\n",
        "- [**hist**](https://www.rdocumentation.org/packages/graphics/versions/3.6.1/topics/hist)\n",
        "- [***package* ggplot2**](https://www.rdocumentation.org/packages/ggplot2)\n",
        "- [**data.frame**](https://www.rdocumentation.org/packages/base/versions/3.6.1/topics/data.frame)"
      ]
    },
    {
      "cell_type": "code",
      "execution_count": null,
      "metadata": {
        "id": "_vUKiuMNrpKh"
      },
      "outputs": [],
      "source": [
        "options(repr.plot.width = 8, repr.plot.height = 4)"
      ]
    },
    {
      "cell_type": "code",
      "execution_count": null,
      "metadata": {
        "colab": {
          "base_uri": "https://localhost:8080/",
          "height": 277
        },
        "id": "PYRaBCnxjQME",
        "outputId": "789d53a8-f3a5-4daf-d008-14a648432a80"
      },
      "outputs": [
        {
          "data": {
            "image/png": "[encoded data removed]",
            "text/plain": [
              "Plot with title “Histogram of dados$Altura”"
            ]
          },
          "metadata": {
            "image/png": {
              "height": 240,
              "width": 480
            }
          },
          "output_type": "display_data"
        }
      ],
      "source": [
        "hist(dados$Altura)"
      ]
    },
    {
      "cell_type": "code",
      "execution_count": null,
      "metadata": {
        "colab": {
          "base_uri": "https://localhost:8080/",
          "height": 277
        },
        "id": "exsBiLRSrpKh",
        "outputId": "0ee0a875-fcc1-4704-ae65-ab2831baf37a"
      },
      "outputs": [
        {
          "data": {
            "image/png": "[encoded data removed]",
            "text/plain": [
              "Plot with title “Histograma das Alturas”"
            ]
          },
          "metadata": {
            "image/png": {
              "height": 240,
              "width": 480
            }
          },
          "output_type": "display_data"
        }
      ],
      "source": [
        "hist(\n",
        "    x = dados$Altura,\n",
        "    breaks = 'Sturges',\n",
        "    col = 'lightgreen',\n",
        "    main = 'Histograma das Alturas',\n",
        "    xlab = 'Altura',\n",
        "    ylab = 'Frequências',\n",
        "    prob = TRUE,\n",
        "    las = 1\n",
        ")"
      ]
    },
    {
      "cell_type": "code",
      "execution_count": null,
      "metadata": {
        "id": "2sfe4UplrpKh"
      },
      "outputs": [],
      "source": [
        "library(ggplot2)"
      ]
    },
    {
      "cell_type": "code",
      "execution_count": null,
      "metadata": {
        "colab": {
          "base_uri": "https://localhost:8080/",
          "height": 277
        },
        "id": "oPg4_1Q9rpKi",
        "outputId": "de4cf1b3-fc64-46e6-f79d-9805b0f9f34f"
      },
      "outputs": [
        {
          "data": {
            "image/png": "[encoded data removed]",
            "text/plain": [
              "plot without title"
            ]
          },
          "metadata": {
            "image/png": {
              "height": 240,
              "width": 480
            }
          },
          "output_type": "display_data"
        }
      ],
      "source": [
        "ggplot(dados, aes(x = Altura)) + \n",
        "    geom_histogram(binwidth = 0.02, color = \"black\", alpha = 0.9) + \n",
        "    ylab(\"Frequência\") + \n",
        "    xlab(\"Alturas\") + \n",
        "    ggtitle('Histograma das Alturas') +\n",
        "    theme(\n",
        "        plot.title = element_text(size = 14, hjust = 0.5),\n",
        "        axis.title.y = element_text(size = 12, vjust = +0.2),\n",
        "        axis.title.x = element_text(size = 12, vjust = -0.2),\n",
        "        axis.text.y = element_text(size = 10),\n",
        "        axis.text.x = element_text(size = 10)\n",
        "    )"
      ]
    },
    {
      "cell_type": "code",
      "execution_count": null,
      "metadata": {
        "id": "MlJ3OMo-rpKi"
      },
      "outputs": [],
      "source": [
        "formatos <- theme(\n",
        "        plot.title = element_text(size = 14, hjust = 0.5),\n",
        "        axis.title.y = element_text(size = 12, vjust = +0.2),\n",
        "        axis.title.x = element_text(size = 12, vjust = -0.2),\n",
        "        axis.text.y = element_text(size = 10),\n",
        "        axis.text.x = element_text(size = 10)\n",
        "    )"
      ]
    },
    {
      "cell_type": "code",
      "execution_count": null,
      "metadata": {
        "colab": {
          "base_uri": "https://localhost:8080/",
          "height": 277
        },
        "id": "0XfChftnrpKi",
        "outputId": "a3a7ddad-4185-4ffb-db66-8afc0f29cdb9"
      },
      "outputs": [
        {
          "ename": "",
          "evalue": "",
          "output_type": "error",
          "traceback": [
            "\u001b[1;31mRunning cells with 'Python 3.10.8 64-bit' requires ipykernel package.\n",
            "\u001b[1;31mRun the following command to install 'ipykernel' into the Python environment. \n",
            "\u001b[1;31mCommand: '/bin/python3.10 -m pip install ipykernel -U --user --force-reinstall'"
          ]
        }
      ],
      "source": [
        "ggplot(dados, aes(x = Altura, y = ..density..)) + \n",
        "    geom_histogram(binwidth = 0.02, color = \"black\", alpha = 0.9) + \n",
        "    geom_density(color = 'blue') +\n",
        "    ylab(\"Frequência\") + \n",
        "    xlab(\"Alturas\") + \n",
        "    ggtitle('Histograma das Alturas') +\n",
        "    formatos"
      ]
    },
    {
      "cell_type": "code",
      "execution_count": null,
      "metadata": {
        "colab": {
          "base_uri": "https://localhost:8080/",
          "height": 275
        },
        "id": "0HcLhLYtjQMM",
        "outputId": "0da5a4a8-bf6a-475c-c6cf-474c960f0383"
      },
      "outputs": [
        {
          "data": {
            "text/html": [
              "<table class=\"dataframe\">\n",
              "<caption>A data.frame: 5 × 2</caption>\n",
              "<thead>\n",
              "\t<tr><th></th><th scope=col>Frequência</th><th scope=col>Porcentagem....</th></tr>\n",
              "\t<tr><th></th><th scope=col>&lt;dbl&gt;</th><th scope=col>&lt;dbl&gt;</th></tr>\n",
              "</thead>\n",
              "<tbody>\n",
              "\t<tr><th scope=row>E</th><td>49755</td><td>64.7514315</td></tr>\n",
              "\t<tr><th scope=row>D</th><td>16700</td><td>21.7334721</td></tr>\n",
              "\t<tr><th scope=row>C</th><td> 7599</td><td> 9.8893805</td></tr>\n",
              "\t<tr><th scope=row>B</th><td> 2178</td><td> 2.8344612</td></tr>\n",
              "\t<tr><th scope=row>A</th><td>  608</td><td> 0.7912546</td></tr>\n",
              "</tbody>\n",
              "</table>\n"
            ],
            "text/latex": [
              "A data.frame: 5 × 2\n",
              "\\begin{tabular}{r|ll}\n",
              "  & Frequência & Porcentagem....\\\\\n",
              "  & <dbl> & <dbl>\\\\\n",
              "\\hline\n",
              "\tE & 49755 & 64.7514315\\\\\n",
              "\tD & 16700 & 21.7334721\\\\\n",
              "\tC &  7599 &  9.8893805\\\\\n",
              "\tB &  2178 &  2.8344612\\\\\n",
              "\tA &   608 &  0.7912546\\\\\n",
              "\\end{tabular}\n"
            ],
            "text/markdown": [
              "\n",
              "A data.frame: 5 × 2\n",
              "\n",
              "| <!--/--> | Frequência &lt;dbl&gt; | Porcentagem.... &lt;dbl&gt; |\n",
              "|---|---|---|\n",
              "| E | 49755 | 64.7514315 |\n",
              "| D | 16700 | 21.7334721 |\n",
              "| C |  7599 |  9.8893805 |\n",
              "| B |  2178 |  2.8344612 |\n",
              "| A |   608 |  0.7912546 |\n",
              "\n"
            ],
            "text/plain": [
              "  Frequência Porcentagem....\n",
              "E 49755      64.7514315     \n",
              "D 16700      21.7334721     \n",
              "C  7599       9.8893805     \n",
              "B  2178       2.8344612     \n",
              "A   608       0.7912546     "
            ]
          },
          "metadata": {},
          "output_type": "display_data"
        }
      ],
      "source": [
        "bar_chart <- data.frame(dist_freq_quantitativas_personalizadas)\n",
        "bar_chart"
      ]
    },
    {
      "cell_type": "code",
      "execution_count": null,
      "metadata": {
        "colab": {
          "base_uri": "https://localhost:8080/",
          "height": 312
        },
        "id": "2gYKAWpprpKj",
        "outputId": "e84b9c1f-e1c8-49ac-c8ca-57e89ece9f51"
      },
      "outputs": [
        {
          "name": "stderr",
          "output_type": "stream",
          "text": [
            "Warning message:\n",
            "“Use of `bar_chart$Frequência` is discouraged. Use `Frequência` instead.”\n"
          ]
        },
        {
          "data": {
            "image/png": "[encoded data removed]",
            "text/plain": [
              "plot without title"
            ]
          },
          "metadata": {
            "image/png": {
              "height": 240,
              "width": 480
            }
          },
          "output_type": "display_data"
        }
      ],
      "source": [
        "ggplot(bar_chart, aes(x = row.names(bar_chart), y = bar_chart$Frequência)) + \n",
        "    geom_bar(stat = \"identity\") + \n",
        "    ylab(\"Frequência\") + \n",
        "    xlab(\"Classes de Renda\") + \n",
        "    ggtitle('Gráfico Classes de Renda') +\n",
        "    formatos"
      ]
    },
    {
      "cell_type": "markdown",
      "metadata": {
        "id": "uIb17Es3jQMP"
      },
      "source": [
        "# <font color=green>3 MEDIDAS DE TENDÊNCIA CENTRAL</font>\n",
        "***"
      ]
    },
    {
      "cell_type": "markdown",
      "metadata": {
        "id": "Wrya4suEX7H-"
      },
      "source": [
        "## DataFrame de exemplo"
      ]
    },
    {
      "cell_type": "code",
      "execution_count": null,
      "metadata": {
        "id": "69O256FgrpKk"
      },
      "outputs": [],
      "source": [
        "materias <- c('Matemática', 'Português', 'Inglês', 'Geografia', 'História', 'Física', 'Química')\n",
        "Fulano <- c(8, 10, 4, 8, 6, 10, 8)\n",
        "Beltrana <- c(10, 2, 0.5, 1, 3, 9.5, 10)\n",
        "Sicrano <- c(7.5, 8, 7, 8, 8, 8.5, 7)\n",
        "# c é um concatenador"
      ]
    },
    {
      "cell_type": "code",
      "execution_count": null,
      "metadata": {
        "colab": {
          "base_uri": "https://localhost:8080/",
          "height": 338
        },
        "id": "Ka82t1znrpKk",
        "outputId": "95086b70-6f7e-4910-9b04-c2124a08134d"
      },
      "outputs": [
        {
          "data": {
            "text/html": [
              "<table class=\"dataframe\">\n",
              "<caption>A data.frame: 7 × 3</caption>\n",
              "<thead>\n",
              "\t<tr><th></th><th scope=col>Fulano</th><th scope=col>Beltrana</th><th scope=col>Sicrano</th></tr>\n",
              "\t<tr><th></th><th scope=col>&lt;dbl&gt;</th><th scope=col>&lt;dbl&gt;</th><th scope=col>&lt;dbl&gt;</th></tr>\n",
              "</thead>\n",
              "<tbody>\n",
              "\t<tr><th scope=row>Matemática</th><td> 8</td><td>10.0</td><td>7.5</td></tr>\n",
              "\t<tr><th scope=row>Português</th><td>10</td><td> 2.0</td><td>8.0</td></tr>\n",
              "\t<tr><th scope=row>Inglês</th><td> 4</td><td> 0.5</td><td>7.0</td></tr>\n",
              "\t<tr><th scope=row>Geografia</th><td> 8</td><td> 1.0</td><td>8.0</td></tr>\n",
              "\t<tr><th scope=row>História</th><td> 6</td><td> 3.0</td><td>8.0</td></tr>\n",
              "\t<tr><th scope=row>Física</th><td>10</td><td> 9.5</td><td>8.5</td></tr>\n",
              "\t<tr><th scope=row>Química</th><td> 8</td><td>10.0</td><td>7.0</td></tr>\n",
              "</tbody>\n",
              "</table>\n"
            ],
            "text/latex": [
              "A data.frame: 7 × 3\n",
              "\\begin{tabular}{r|lll}\n",
              "  & Fulano & Beltrana & Sicrano\\\\\n",
              "  & <dbl> & <dbl> & <dbl>\\\\\n",
              "\\hline\n",
              "\tMatemática &  8 & 10.0 & 7.5\\\\\n",
              "\tPortuguês & 10 &  2.0 & 8.0\\\\\n",
              "\tInglês &  4 &  0.5 & 7.0\\\\\n",
              "\tGeografia &  8 &  1.0 & 8.0\\\\\n",
              "\tHistória &  6 &  3.0 & 8.0\\\\\n",
              "\tFísica & 10 &  9.5 & 8.5\\\\\n",
              "\tQuímica &  8 & 10.0 & 7.0\\\\\n",
              "\\end{tabular}\n"
            ],
            "text/markdown": [
              "\n",
              "A data.frame: 7 × 3\n",
              "\n",
              "| <!--/--> | Fulano &lt;dbl&gt; | Beltrana &lt;dbl&gt; | Sicrano &lt;dbl&gt; |\n",
              "|---|---|---|---|\n",
              "| Matemática |  8 | 10.0 | 7.5 |\n",
              "| Português | 10 |  2.0 | 8.0 |\n",
              "| Inglês |  4 |  0.5 | 7.0 |\n",
              "| Geografia |  8 |  1.0 | 8.0 |\n",
              "| História |  6 |  3.0 | 8.0 |\n",
              "| Física | 10 |  9.5 | 8.5 |\n",
              "| Química |  8 | 10.0 | 7.0 |\n",
              "\n"
            ],
            "text/plain": [
              "           Fulano Beltrana Sicrano\n",
              "Matemática  8     10.0     7.5    \n",
              "Português  10      2.0     8.0    \n",
              "Inglês      4      0.5     7.0    \n",
              "Geografia   8      1.0     8.0    \n",
              "História    6      3.0     8.0    \n",
              "Física     10      9.5     8.5    \n",
              "Química     8     10.0     7.0    "
            ]
          },
          "metadata": {},
          "output_type": "display_data"
        }
      ],
      "source": [
        "df <- data.frame(Fulano, Beltrana, Sicrano, row.names = materias)\n",
        "df"
      ]
    },
    {
      "cell_type": "markdown",
      "metadata": {
        "id": "kcHJFW-YjQMP"
      },
      "source": [
        "## <font color=green>3.1 Média aritmética</font>\n",
        "***\n",
        "\n",
        "É representada por $\\mu$ quando se refere à população e por $\\bar{X}$ quando se refere à amostra\n",
        "\n",
        "# $$\\mu = \\frac 1n\\sum_{i=1}^{n}X_i$$\n",
        "\n",
        "onde \n",
        "\n",
        "$n$ = número de observações (registros)\n",
        "\n",
        "$X_i$ = valor da i-ésima observação (registro)"
      ]
    },
    {
      "cell_type": "markdown",
      "metadata": {
        "id": "pbJcrBa3rpKl"
      },
      "source": [
        "### <font color=red>Documentações:\n",
        "\n",
        "- [**mean**](https://www.rdocumentation.org/packages/base/versions/3.6.1/topics/mean)\n",
        "- [**aggregate**](https://www.rdocumentation.org/packages/stats/versions/3.6.1/topics/aggregate)\n",
        "- [**list**](https://www.rdocumentation.org/packages/base/versions/3.6.1/topics/list)"
      ]
    },
    {
      "cell_type": "code",
      "execution_count": null,
      "metadata": {
        "colab": {
          "base_uri": "https://localhost:8080/",
          "height": 54
        },
        "id": "QW4JPcBmX7IA",
        "outputId": "9c18b06b-a0b5-4e3f-cc92-2aed9e8f2dd2"
      },
      "outputs": [
        {
          "data": {
            "text/html": [
              "7.71428571428571"
            ],
            "text/latex": [
              "7.71428571428571"
            ],
            "text/markdown": [
              "7.71428571428571"
            ],
            "text/plain": [
              "[1] 7.714286"
            ]
          },
          "metadata": {},
          "output_type": "display_data"
        }
      ],
      "source": [
        "(8 + 10 + 4 + 8 + 6 + 10 + 8) / 7"
      ]
    },
    {
      "cell_type": "code",
      "execution_count": null,
      "metadata": {
        "colab": {
          "base_uri": "https://localhost:8080/",
          "height": 54
        },
        "id": "LuT8WNy5X7IB",
        "outputId": "5efea0c5-ab89-47f1-9e52-4b1fe01397a4"
      },
      "outputs": [
        {
          "data": {
            "text/html": [
              "7.71428571428571"
            ],
            "text/latex": [
              "7.71428571428571"
            ],
            "text/markdown": [
              "7.71428571428571"
            ],
            "text/plain": [
              "[1] 7.714286"
            ]
          },
          "metadata": {},
          "output_type": "display_data"
        }
      ],
      "source": [
        "mean(df$Fulano)"
      ]
    },
    {
      "cell_type": "code",
      "execution_count": null,
      "metadata": {
        "colab": {
          "base_uri": "https://localhost:8080/",
          "height": 54
        },
        "id": "escZI7fRrpKm",
        "outputId": "1ad45f71-4791-498d-fdea-9d3c3ce89289"
      },
      "outputs": [
        {
          "data": {
            "text/html": [
              "2000.38319885476"
            ],
            "text/latex": [
              "2000.38319885476"
            ],
            "text/markdown": [
              "2000.38319885476"
            ],
            "text/plain": [
              "[1] 2000.383"
            ]
          },
          "metadata": {},
          "output_type": "display_data"
        }
      ],
      "source": [
        "mean(dados$Renda)"
      ]
    },
    {
      "cell_type": "code",
      "execution_count": null,
      "metadata": {
        "colab": {
          "base_uri": "https://localhost:8080/",
          "height": 198
        },
        "id": "BDIAZfNerpKn",
        "outputId": "0252292a-33fe-4cf1-d831-5fd0787af9d3"
      },
      "outputs": [
        {
          "data": {
            "text/html": [
              "<table class=\"dataframe\">\n",
              "<caption>A data.frame: 2 × 2</caption>\n",
              "<thead>\n",
              "\t<tr><th scope=col>Sexo</th><th scope=col>Renda</th></tr>\n",
              "\t<tr><th scope=col>&lt;int&gt;</th><th scope=col>&lt;dbl&gt;</th></tr>\n",
              "</thead>\n",
              "<tbody>\n",
              "\t<tr><td>0</td><td>2192.442</td></tr>\n",
              "\t<tr><td>1</td><td>1566.847</td></tr>\n",
              "</tbody>\n",
              "</table>\n"
            ],
            "text/latex": [
              "A data.frame: 2 × 2\n",
              "\\begin{tabular}{ll}\n",
              " Sexo & Renda\\\\\n",
              " <int> & <dbl>\\\\\n",
              "\\hline\n",
              "\t 0 & 2192.442\\\\\n",
              "\t 1 & 1566.847\\\\\n",
              "\\end{tabular}\n"
            ],
            "text/markdown": [
              "\n",
              "A data.frame: 2 × 2\n",
              "\n",
              "| Sexo &lt;int&gt; | Renda &lt;dbl&gt; |\n",
              "|---|---|\n",
              "| 0 | 2192.442 |\n",
              "| 1 | 1566.847 |\n",
              "\n"
            ],
            "text/plain": [
              "  Sexo Renda   \n",
              "1 0    2192.442\n",
              "2 1    1566.847"
            ]
          },
          "metadata": {},
          "output_type": "display_data"
        }
      ],
      "source": [
        "aggregate(list(Renda = dados$Renda), list(Sexo = dados$Sexo), mean)\n",
        "# 0 é homem, 1 é mulher"
      ]
    },
    {
      "cell_type": "markdown",
      "metadata": {
        "id": "9geu3UcKjQMS"
      },
      "source": [
        "## <font color=green>3.2 Mediana</font>\n",
        "***\n",
        "\n",
        "Para obtermos a mediana de uma conjunto de dados devemos proceder da seguinte maneira:\n",
        "1. Ordenar o conjunto de dados;\n",
        "2. Identificar o número de observações (registros) do conjunto de dados ($n$);\n",
        "3. Identicar o elemento mediano:\n",
        "\n",
        "> Quando $n$ for ímpar, a posição do elemento mediano será obtida da seguinte forma:\n",
        "\n",
        "\n",
        "# $$Elemento_{Md} = \\frac{n+1}2$$\n",
        "\n",
        "> Quando $n$ for par, a posição do elemento mediano será obtida da seguinte forma:\n",
        "\n",
        "\n",
        "# $$Elemento_{Md} = \\frac{n}2$$\n",
        "\n",
        "4. Obter a mediana:\n",
        "\n",
        "> Quando $n$ for ímpar:\n",
        "\n",
        "\n",
        "# $$Md = X_{Elemento_{Md}}$$\n",
        "\n",
        "> Quando $n$ for par:\n",
        "\n",
        "\n",
        "# $$Md = \\frac{X_{Elemento_{Md}} + X_{Elemento_{Md}+1}}2$$\n",
        "***"
      ]
    },
    {
      "cell_type": "markdown",
      "metadata": {
        "id": "WVYFwhwprpKp"
      },
      "source": [
        "### <font color=red>Documentações:\n",
        "\n",
        "- [**median**](https://www.rdocumentation.org/packages/stats/versions/3.6.1/topics/median)\n",
        "- [**set.seed**](https://www.rdocumentation.org/packages/simEd/versions/1.0.3/topics/set.seed)\n",
        "- [**sample**](https://www.rdocumentation.org/packages/base/versions/3.6.1/topics/sample)"
      ]
    },
    {
      "cell_type": "markdown",
      "metadata": {
        "id": "e0IuYdJFjQMT"
      },
      "source": [
        "### Exemplo 1 - n ímpar\n",
        "\n",
        "<img src='https://caelum-online-public.s3.amazonaws.com/1177-estatistica-parte1/01/img002.png' width='40%' style=\"float:left\">"
      ]
    },
    {
      "cell_type": "code",
      "execution_count": null,
      "metadata": {
        "colab": {
          "base_uri": "https://localhost:8080/",
          "height": 338
        },
        "id": "2xp7JgPcrpKq",
        "outputId": "4122ffbf-d427-49b0-f0a1-923faf369f01"
      },
      "outputs": [
        {
          "data": {
            "text/html": [
              "<table class=\"dataframe\">\n",
              "<caption>A data.frame: 7 × 3</caption>\n",
              "<thead>\n",
              "\t<tr><th></th><th scope=col>Fulano</th><th scope=col>Beltrana</th><th scope=col>Sicrano</th></tr>\n",
              "\t<tr><th></th><th scope=col>&lt;dbl&gt;</th><th scope=col>&lt;dbl&gt;</th><th scope=col>&lt;dbl&gt;</th></tr>\n",
              "</thead>\n",
              "<tbody>\n",
              "\t<tr><th scope=row>Inglês</th><td> 4</td><td> 0.5</td><td>7.0</td></tr>\n",
              "\t<tr><th scope=row>História</th><td> 6</td><td> 3.0</td><td>8.0</td></tr>\n",
              "\t<tr><th scope=row>Matemática</th><td> 8</td><td>10.0</td><td>7.5</td></tr>\n",
              "\t<tr><th scope=row>Geografia</th><td> 8</td><td> 1.0</td><td>8.0</td></tr>\n",
              "\t<tr><th scope=row>Química</th><td> 8</td><td>10.0</td><td>7.0</td></tr>\n",
              "\t<tr><th scope=row>Português</th><td>10</td><td> 2.0</td><td>8.0</td></tr>\n",
              "\t<tr><th scope=row>Física</th><td>10</td><td> 9.5</td><td>8.5</td></tr>\n",
              "</tbody>\n",
              "</table>\n"
            ],
            "text/latex": [
              "A data.frame: 7 × 3\n",
              "\\begin{tabular}{r|lll}\n",
              "  & Fulano & Beltrana & Sicrano\\\\\n",
              "  & <dbl> & <dbl> & <dbl>\\\\\n",
              "\\hline\n",
              "\tInglês &  4 &  0.5 & 7.0\\\\\n",
              "\tHistória &  6 &  3.0 & 8.0\\\\\n",
              "\tMatemática &  8 & 10.0 & 7.5\\\\\n",
              "\tGeografia &  8 &  1.0 & 8.0\\\\\n",
              "\tQuímica &  8 & 10.0 & 7.0\\\\\n",
              "\tPortuguês & 10 &  2.0 & 8.0\\\\\n",
              "\tFísica & 10 &  9.5 & 8.5\\\\\n",
              "\\end{tabular}\n"
            ],
            "text/markdown": [
              "\n",
              "A data.frame: 7 × 3\n",
              "\n",
              "| <!--/--> | Fulano &lt;dbl&gt; | Beltrana &lt;dbl&gt; | Sicrano &lt;dbl&gt; |\n",
              "|---|---|---|---|\n",
              "| Inglês |  4 |  0.5 | 7.0 |\n",
              "| História |  6 |  3.0 | 8.0 |\n",
              "| Matemática |  8 | 10.0 | 7.5 |\n",
              "| Geografia |  8 |  1.0 | 8.0 |\n",
              "| Química |  8 | 10.0 | 7.0 |\n",
              "| Português | 10 |  2.0 | 8.0 |\n",
              "| Física | 10 |  9.5 | 8.5 |\n",
              "\n"
            ],
            "text/plain": [
              "           Fulano Beltrana Sicrano\n",
              "Inglês      4      0.5     7.0    \n",
              "História    6      3.0     8.0    \n",
              "Matemática  8     10.0     7.5    \n",
              "Geografia   8      1.0     8.0    \n",
              "Química     8     10.0     7.0    \n",
              "Português  10      2.0     8.0    \n",
              "Física     10      9.5     8.5    "
            ]
          },
          "metadata": {},
          "output_type": "display_data"
        }
      ],
      "source": [
        "df_fulano <- df[order(df$Fulano), ]\n",
        "df_fulano"
      ]
    },
    {
      "cell_type": "code",
      "execution_count": null,
      "metadata": {
        "colab": {
          "base_uri": "https://localhost:8080/",
          "height": 338
        },
        "id": "hRQOizDArpKq",
        "outputId": "02d1d8a9-f464-42c1-daad-21c9dc97a6d1"
      },
      "outputs": [
        {
          "data": {
            "text/html": [
              "<table class=\"dataframe\">\n",
              "<caption>A data.frame: 7 × 3</caption>\n",
              "<thead>\n",
              "\t<tr><th></th><th scope=col>Fulano</th><th scope=col>Beltrana</th><th scope=col>Sicrano</th></tr>\n",
              "\t<tr><th></th><th scope=col>&lt;dbl&gt;</th><th scope=col>&lt;dbl&gt;</th><th scope=col>&lt;dbl&gt;</th></tr>\n",
              "</thead>\n",
              "<tbody>\n",
              "\t<tr><th scope=row>Inglês</th><td> 4</td><td> 0.5</td><td>7.0</td></tr>\n",
              "\t<tr><th scope=row>Geografia</th><td> 8</td><td> 1.0</td><td>8.0</td></tr>\n",
              "\t<tr><th scope=row>Português</th><td>10</td><td> 2.0</td><td>8.0</td></tr>\n",
              "\t<tr><th scope=row>História</th><td> 6</td><td> 3.0</td><td>8.0</td></tr>\n",
              "\t<tr><th scope=row>Física</th><td>10</td><td> 9.5</td><td>8.5</td></tr>\n",
              "\t<tr><th scope=row>Matemática</th><td> 8</td><td>10.0</td><td>7.5</td></tr>\n",
              "\t<tr><th scope=row>Química</th><td> 8</td><td>10.0</td><td>7.0</td></tr>\n",
              "</tbody>\n",
              "</table>\n"
            ],
            "text/latex": [
              "A data.frame: 7 × 3\n",
              "\\begin{tabular}{r|lll}\n",
              "  & Fulano & Beltrana & Sicrano\\\\\n",
              "  & <dbl> & <dbl> & <dbl>\\\\\n",
              "\\hline\n",
              "\tInglês &  4 &  0.5 & 7.0\\\\\n",
              "\tGeografia &  8 &  1.0 & 8.0\\\\\n",
              "\tPortuguês & 10 &  2.0 & 8.0\\\\\n",
              "\tHistória &  6 &  3.0 & 8.0\\\\\n",
              "\tFísica & 10 &  9.5 & 8.5\\\\\n",
              "\tMatemática &  8 & 10.0 & 7.5\\\\\n",
              "\tQuímica &  8 & 10.0 & 7.0\\\\\n",
              "\\end{tabular}\n"
            ],
            "text/markdown": [
              "\n",
              "A data.frame: 7 × 3\n",
              "\n",
              "| <!--/--> | Fulano &lt;dbl&gt; | Beltrana &lt;dbl&gt; | Sicrano &lt;dbl&gt; |\n",
              "|---|---|---|---|\n",
              "| Inglês |  4 |  0.5 | 7.0 |\n",
              "| Geografia |  8 |  1.0 | 8.0 |\n",
              "| Português | 10 |  2.0 | 8.0 |\n",
              "| História |  6 |  3.0 | 8.0 |\n",
              "| Física | 10 |  9.5 | 8.5 |\n",
              "| Matemática |  8 | 10.0 | 7.5 |\n",
              "| Química |  8 | 10.0 | 7.0 |\n",
              "\n"
            ],
            "text/plain": [
              "           Fulano Beltrana Sicrano\n",
              "Inglês      4      0.5     7.0    \n",
              "Geografia   8      1.0     8.0    \n",
              "Português  10      2.0     8.0    \n",
              "História    6      3.0     8.0    \n",
              "Física     10      9.5     8.5    \n",
              "Matemática  8     10.0     7.5    \n",
              "Química     8     10.0     7.0    "
            ]
          },
          "metadata": {},
          "output_type": "display_data"
        }
      ],
      "source": [
        "df_beltrana <- df[order(df$Beltrana), ]\n",
        "df_beltrana"
      ]
    },
    {
      "cell_type": "code",
      "execution_count": null,
      "metadata": {
        "colab": {
          "base_uri": "https://localhost:8080/",
          "height": 54
        },
        "id": "_Hz7MhoFrpKq",
        "outputId": "8d6fbf92-ed03-434a-aeaa-4c0b878497c1"
      },
      "outputs": [
        {
          "data": {
            "text/html": [
              "7"
            ],
            "text/latex": [
              "7"
            ],
            "text/markdown": [
              "7"
            ],
            "text/plain": [
              "[1] 7"
            ]
          },
          "metadata": {},
          "output_type": "display_data"
        }
      ],
      "source": [
        "n = nrow(df_fulano)\n",
        "n"
      ]
    },
    {
      "cell_type": "code",
      "execution_count": null,
      "metadata": {
        "colab": {
          "base_uri": "https://localhost:8080/",
          "height": 54
        },
        "id": "trC12MHxjQMY",
        "outputId": "c49d978b-82a9-4e89-a3b0-e66c2dddae1d"
      },
      "outputs": [
        {
          "data": {
            "text/html": [
              "4"
            ],
            "text/latex": [
              "4"
            ],
            "text/markdown": [
              "4"
            ],
            "text/plain": [
              "[1] 4"
            ]
          },
          "metadata": {},
          "output_type": "display_data"
        }
      ],
      "source": [
        "elemento_md <- (n + 1) / 2\n",
        "elemento_md"
      ]
    },
    {
      "cell_type": "code",
      "execution_count": null,
      "metadata": {
        "colab": {
          "base_uri": "https://localhost:8080/",
          "height": 149
        },
        "id": "NKccffcLjQMZ",
        "outputId": "57717d3a-b119-4f96-a873-51efa9ea5d05"
      },
      "outputs": [
        {
          "data": {
            "text/html": [
              "<table class=\"dataframe\">\n",
              "<caption>A data.frame: 1 × 3</caption>\n",
              "<thead>\n",
              "\t<tr><th></th><th scope=col>Fulano</th><th scope=col>Beltrana</th><th scope=col>Sicrano</th></tr>\n",
              "\t<tr><th></th><th scope=col>&lt;dbl&gt;</th><th scope=col>&lt;dbl&gt;</th><th scope=col>&lt;dbl&gt;</th></tr>\n",
              "</thead>\n",
              "<tbody>\n",
              "\t<tr><th scope=row>Geografia</th><td>8</td><td>1</td><td>8</td></tr>\n",
              "</tbody>\n",
              "</table>\n"
            ],
            "text/latex": [
              "A data.frame: 1 × 3\n",
              "\\begin{tabular}{r|lll}\n",
              "  & Fulano & Beltrana & Sicrano\\\\\n",
              "  & <dbl> & <dbl> & <dbl>\\\\\n",
              "\\hline\n",
              "\tGeografia & 8 & 1 & 8\\\\\n",
              "\\end{tabular}\n"
            ],
            "text/markdown": [
              "\n",
              "A data.frame: 1 × 3\n",
              "\n",
              "| <!--/--> | Fulano &lt;dbl&gt; | Beltrana &lt;dbl&gt; | Sicrano &lt;dbl&gt; |\n",
              "|---|---|---|---|\n",
              "| Geografia | 8 | 1 | 8 |\n",
              "\n"
            ],
            "text/plain": [
              "          Fulano Beltrana Sicrano\n",
              "Geografia 8      1        8      "
            ]
          },
          "metadata": {},
          "output_type": "display_data"
        }
      ],
      "source": [
        "df_fulano[elemento_md, ]"
      ]
    },
    {
      "cell_type": "code",
      "execution_count": null,
      "metadata": {
        "colab": {
          "base_uri": "https://localhost:8080/",
          "height": 54
        },
        "id": "ody5mfXLjQMb",
        "outputId": "6c82ab74-7977-4280-a0a5-5625f4bad647"
      },
      "outputs": [
        {
          "data": {
            "text/html": [
              "8"
            ],
            "text/latex": [
              "8"
            ],
            "text/markdown": [
              "8"
            ],
            "text/plain": [
              "[1] 8"
            ]
          },
          "metadata": {},
          "output_type": "display_data"
        }
      ],
      "source": [
        "# mais rápido\n",
        "median(df$Fulano)"
      ]
    },
    {
      "cell_type": "markdown",
      "metadata": {
        "id": "hQHyjfLkjQMe"
      },
      "source": [
        "### Exemplo 2 - n par\n",
        "\n",
        "<img src='https://caelum-online-public.s3.amazonaws.com/1177-estatistica-parte1/01/img003.png' width='50%' style=\"float:left\">"
      ]
    },
    {
      "cell_type": "markdown",
      "metadata": {
        "id": "viBct9RZrpKr"
      },
      "source": [
        "### Obtendo uma amostra aleatória dos dados"
      ]
    },
    {
      "cell_type": "code",
      "execution_count": null,
      "metadata": {
        "colab": {
          "base_uri": "https://localhost:8080/",
          "height": 338
        },
        "id": "Ltzy6EwxrpKr",
        "outputId": "7e7cbf7e-60c6-409d-e715-f14c26b000f4"
      },
      "outputs": [
        {
          "data": {
            "text/html": [
              "<table class=\"dataframe\">\n",
              "<caption>A data.frame: 7 × 3</caption>\n",
              "<thead>\n",
              "\t<tr><th></th><th scope=col>Fulano</th><th scope=col>Beltrana</th><th scope=col>Sicrano</th></tr>\n",
              "\t<tr><th></th><th scope=col>&lt;dbl&gt;</th><th scope=col>&lt;dbl&gt;</th><th scope=col>&lt;dbl&gt;</th></tr>\n",
              "</thead>\n",
              "<tbody>\n",
              "\t<tr><th scope=row>Matemática</th><td> 8</td><td>10.0</td><td>7.5</td></tr>\n",
              "\t<tr><th scope=row>Português</th><td>10</td><td> 2.0</td><td>8.0</td></tr>\n",
              "\t<tr><th scope=row>Inglês</th><td> 4</td><td> 0.5</td><td>7.0</td></tr>\n",
              "\t<tr><th scope=row>Geografia</th><td> 8</td><td> 1.0</td><td>8.0</td></tr>\n",
              "\t<tr><th scope=row>História</th><td> 6</td><td> 3.0</td><td>8.0</td></tr>\n",
              "\t<tr><th scope=row>Física</th><td>10</td><td> 9.5</td><td>8.5</td></tr>\n",
              "\t<tr><th scope=row>Química</th><td> 8</td><td>10.0</td><td>7.0</td></tr>\n",
              "</tbody>\n",
              "</table>\n"
            ],
            "text/latex": [
              "A data.frame: 7 × 3\n",
              "\\begin{tabular}{r|lll}\n",
              "  & Fulano & Beltrana & Sicrano\\\\\n",
              "  & <dbl> & <dbl> & <dbl>\\\\\n",
              "\\hline\n",
              "\tMatemática &  8 & 10.0 & 7.5\\\\\n",
              "\tPortuguês & 10 &  2.0 & 8.0\\\\\n",
              "\tInglês &  4 &  0.5 & 7.0\\\\\n",
              "\tGeografia &  8 &  1.0 & 8.0\\\\\n",
              "\tHistória &  6 &  3.0 & 8.0\\\\\n",
              "\tFísica & 10 &  9.5 & 8.5\\\\\n",
              "\tQuímica &  8 & 10.0 & 7.0\\\\\n",
              "\\end{tabular}\n"
            ],
            "text/markdown": [
              "\n",
              "A data.frame: 7 × 3\n",
              "\n",
              "| <!--/--> | Fulano &lt;dbl&gt; | Beltrana &lt;dbl&gt; | Sicrano &lt;dbl&gt; |\n",
              "|---|---|---|---|\n",
              "| Matemática |  8 | 10.0 | 7.5 |\n",
              "| Português | 10 |  2.0 | 8.0 |\n",
              "| Inglês |  4 |  0.5 | 7.0 |\n",
              "| Geografia |  8 |  1.0 | 8.0 |\n",
              "| História |  6 |  3.0 | 8.0 |\n",
              "| Física | 10 |  9.5 | 8.5 |\n",
              "| Química |  8 | 10.0 | 7.0 |\n",
              "\n"
            ],
            "text/plain": [
              "           Fulano Beltrana Sicrano\n",
              "Matemática  8     10.0     7.5    \n",
              "Português  10      2.0     8.0    \n",
              "Inglês      4      0.5     7.0    \n",
              "Geografia   8      1.0     8.0    \n",
              "História    6      3.0     8.0    \n",
              "Física     10      9.5     8.5    \n",
              "Química     8     10.0     7.0    "
            ]
          },
          "metadata": {},
          "output_type": "display_data"
        }
      ],
      "source": [
        "df"
      ]
    },
    {
      "cell_type": "code",
      "execution_count": null,
      "metadata": {
        "colab": {
          "base_uri": "https://localhost:8080/",
          "height": 141
        },
        "id": "_dHN4rparpKr",
        "outputId": "3c2622ab-4806-41dd-cad7-6677b0604f39"
      },
      "outputs": [
        {
          "data": {
            "text/html": [
              "<style>\n",
              ".list-inline {list-style: none; margin:0; padding: 0}\n",
              ".list-inline>li {display: inline-block}\n",
              ".list-inline>li:not(:last-child)::after {content: \"\\00b7\"; padding: 0 .5ex}\n",
              "</style>\n",
              "<ol class=list-inline><li>1</li><li>7</li><li>6</li><li>2</li><li>3</li><li>5</li></ol>\n"
            ],
            "text/latex": [
              "\\begin{enumerate*}\n",
              "\\item 1\n",
              "\\item 7\n",
              "\\item 6\n",
              "\\item 2\n",
              "\\item 3\n",
              "\\item 5\n",
              "\\end{enumerate*}\n"
            ],
            "text/markdown": [
              "1. 1\n",
              "2. 7\n",
              "3. 6\n",
              "4. 2\n",
              "5. 3\n",
              "6. 5\n",
              "\n",
              "\n"
            ],
            "text/plain": [
              "[1] 1 7 6 2 3 5"
            ]
          },
          "metadata": {},
          "output_type": "display_data"
        }
      ],
      "source": [
        "set.seed(101)\n",
        "sample(nrow(df), 6)"
      ]
    },
    {
      "cell_type": "code",
      "execution_count": null,
      "metadata": {
        "colab": {
          "base_uri": "https://localhost:8080/",
          "height": 306
        },
        "id": "7NiGsKVerpKr",
        "outputId": "8fc3d31c-f205-49bf-c617-d5c5e03d39c7"
      },
      "outputs": [
        {
          "data": {
            "text/html": [
              "<table class=\"dataframe\">\n",
              "<caption>A data.frame: 6 × 3</caption>\n",
              "<thead>\n",
              "\t<tr><th></th><th scope=col>Fulano</th><th scope=col>Beltrana</th><th scope=col>Sicrano</th></tr>\n",
              "\t<tr><th></th><th scope=col>&lt;dbl&gt;</th><th scope=col>&lt;dbl&gt;</th><th scope=col>&lt;dbl&gt;</th></tr>\n",
              "</thead>\n",
              "<tbody>\n",
              "\t<tr><th scope=row>Matemática</th><td> 8</td><td>10.0</td><td>7.5</td></tr>\n",
              "\t<tr><th scope=row>Química</th><td> 8</td><td>10.0</td><td>7.0</td></tr>\n",
              "\t<tr><th scope=row>Física</th><td>10</td><td> 9.5</td><td>8.5</td></tr>\n",
              "\t<tr><th scope=row>Português</th><td>10</td><td> 2.0</td><td>8.0</td></tr>\n",
              "\t<tr><th scope=row>Inglês</th><td> 4</td><td> 0.5</td><td>7.0</td></tr>\n",
              "\t<tr><th scope=row>História</th><td> 6</td><td> 3.0</td><td>8.0</td></tr>\n",
              "</tbody>\n",
              "</table>\n"
            ],
            "text/latex": [
              "A data.frame: 6 × 3\n",
              "\\begin{tabular}{r|lll}\n",
              "  & Fulano & Beltrana & Sicrano\\\\\n",
              "  & <dbl> & <dbl> & <dbl>\\\\\n",
              "\\hline\n",
              "\tMatemática &  8 & 10.0 & 7.5\\\\\n",
              "\tQuímica &  8 & 10.0 & 7.0\\\\\n",
              "\tFísica & 10 &  9.5 & 8.5\\\\\n",
              "\tPortuguês & 10 &  2.0 & 8.0\\\\\n",
              "\tInglês &  4 &  0.5 & 7.0\\\\\n",
              "\tHistória &  6 &  3.0 & 8.0\\\\\n",
              "\\end{tabular}\n"
            ],
            "text/markdown": [
              "\n",
              "A data.frame: 6 × 3\n",
              "\n",
              "| <!--/--> | Fulano &lt;dbl&gt; | Beltrana &lt;dbl&gt; | Sicrano &lt;dbl&gt; |\n",
              "|---|---|---|---|\n",
              "| Matemática |  8 | 10.0 | 7.5 |\n",
              "| Química |  8 | 10.0 | 7.0 |\n",
              "| Física | 10 |  9.5 | 8.5 |\n",
              "| Português | 10 |  2.0 | 8.0 |\n",
              "| Inglês |  4 |  0.5 | 7.0 |\n",
              "| História |  6 |  3.0 | 8.0 |\n",
              "\n"
            ],
            "text/plain": [
              "           Fulano Beltrana Sicrano\n",
              "Matemática  8     10.0     7.5    \n",
              "Química     8     10.0     7.0    \n",
              "Física     10      9.5     8.5    \n",
              "Português  10      2.0     8.0    \n",
              "Inglês      4      0.5     7.0    \n",
              "História    6      3.0     8.0    "
            ]
          },
          "metadata": {},
          "output_type": "display_data"
        }
      ],
      "source": [
        "set.seed(101)\n",
        "df_beltrana <- df[sample(nrow(df), 6), ]\n",
        "df_beltrana"
      ]
    },
    {
      "cell_type": "code",
      "execution_count": null,
      "metadata": {
        "colab": {
          "base_uri": "https://localhost:8080/",
          "height": 54
        },
        "id": "NObpRNxxrpKs",
        "outputId": "ae5e6cf4-652c-4ecf-fdd0-7ac3ab0fa5a0"
      },
      "outputs": [
        {
          "data": {
            "text/html": [
              "6"
            ],
            "text/latex": [
              "6"
            ],
            "text/markdown": [
              "6"
            ],
            "text/plain": [
              "[1] 6"
            ]
          },
          "metadata": {},
          "output_type": "display_data"
        }
      ],
      "source": [
        "n <- nrow(df_beltrana)\n",
        "n"
      ]
    },
    {
      "cell_type": "code",
      "execution_count": null,
      "metadata": {
        "colab": {
          "base_uri": "https://localhost:8080/",
          "height": 306
        },
        "id": "6wB1UztBjQMf",
        "outputId": "78ae450a-7105-4a1e-eefa-15e7307407bf"
      },
      "outputs": [
        {
          "data": {
            "text/html": [
              "<table class=\"dataframe\">\n",
              "<caption>A data.frame: 6 × 3</caption>\n",
              "<thead>\n",
              "\t<tr><th></th><th scope=col>Fulano</th><th scope=col>Beltrana</th><th scope=col>Sicrano</th></tr>\n",
              "\t<tr><th></th><th scope=col>&lt;dbl&gt;</th><th scope=col>&lt;dbl&gt;</th><th scope=col>&lt;dbl&gt;</th></tr>\n",
              "</thead>\n",
              "<tbody>\n",
              "\t<tr><th scope=row>Inglês</th><td> 4</td><td> 0.5</td><td>7.0</td></tr>\n",
              "\t<tr><th scope=row>Português</th><td>10</td><td> 2.0</td><td>8.0</td></tr>\n",
              "\t<tr><th scope=row>História</th><td> 6</td><td> 3.0</td><td>8.0</td></tr>\n",
              "\t<tr><th scope=row>Física</th><td>10</td><td> 9.5</td><td>8.5</td></tr>\n",
              "\t<tr><th scope=row>Matemática</th><td> 8</td><td>10.0</td><td>7.5</td></tr>\n",
              "\t<tr><th scope=row>Química</th><td> 8</td><td>10.0</td><td>7.0</td></tr>\n",
              "</tbody>\n",
              "</table>\n"
            ],
            "text/latex": [
              "A data.frame: 6 × 3\n",
              "\\begin{tabular}{r|lll}\n",
              "  & Fulano & Beltrana & Sicrano\\\\\n",
              "  & <dbl> & <dbl> & <dbl>\\\\\n",
              "\\hline\n",
              "\tInglês &  4 &  0.5 & 7.0\\\\\n",
              "\tPortuguês & 10 &  2.0 & 8.0\\\\\n",
              "\tHistória &  6 &  3.0 & 8.0\\\\\n",
              "\tFísica & 10 &  9.5 & 8.5\\\\\n",
              "\tMatemática &  8 & 10.0 & 7.5\\\\\n",
              "\tQuímica &  8 & 10.0 & 7.0\\\\\n",
              "\\end{tabular}\n"
            ],
            "text/markdown": [
              "\n",
              "A data.frame: 6 × 3\n",
              "\n",
              "| <!--/--> | Fulano &lt;dbl&gt; | Beltrana &lt;dbl&gt; | Sicrano &lt;dbl&gt; |\n",
              "|---|---|---|---|\n",
              "| Inglês |  4 |  0.5 | 7.0 |\n",
              "| Português | 10 |  2.0 | 8.0 |\n",
              "| História |  6 |  3.0 | 8.0 |\n",
              "| Física | 10 |  9.5 | 8.5 |\n",
              "| Matemática |  8 | 10.0 | 7.5 |\n",
              "| Química |  8 | 10.0 | 7.0 |\n",
              "\n"
            ],
            "text/plain": [
              "           Fulano Beltrana Sicrano\n",
              "Inglês      4      0.5     7.0    \n",
              "Português  10      2.0     8.0    \n",
              "História    6      3.0     8.0    \n",
              "Física     10      9.5     8.5    \n",
              "Matemática  8     10.0     7.5    \n",
              "Química     8     10.0     7.0    "
            ]
          },
          "metadata": {},
          "output_type": "display_data"
        }
      ],
      "source": [
        "df_beltrana <- df_beltrana[order(df_beltrana$Beltrana), ]\n",
        "df_beltrana "
      ]
    },
    {
      "cell_type": "code",
      "execution_count": null,
      "metadata": {
        "colab": {
          "base_uri": "https://localhost:8080/",
          "height": 54
        },
        "id": "tEBVXl7CjQMh",
        "outputId": "139ba6c0-6f51-4a7f-b182-f4ebfb646224"
      },
      "outputs": [
        {
          "data": {
            "text/html": [
              "3"
            ],
            "text/latex": [
              "3"
            ],
            "text/markdown": [
              "3"
            ],
            "text/plain": [
              "[1] 3"
            ]
          },
          "metadata": {},
          "output_type": "display_data"
        }
      ],
      "source": [
        "elemento_md = n / 2\n",
        "elemento_md"
      ]
    },
    {
      "cell_type": "code",
      "execution_count": null,
      "metadata": {
        "colab": {
          "base_uri": "https://localhost:8080/",
          "height": 54
        },
        "id": "Apk7f2Z-rpKs",
        "outputId": "54767f78-a315-4bec-b269-b4d6b641c5f0"
      },
      "outputs": [
        {
          "data": {
            "text/html": [
              "6.25"
            ],
            "text/latex": [
              "6.25"
            ],
            "text/markdown": [
              "6.25"
            ],
            "text/plain": [
              "[1] 6.25"
            ]
          },
          "metadata": {},
          "output_type": "display_data"
        }
      ],
      "source": [
        "mean(df_beltrana[c(elemento_md, elemento_md + 1), ]$Beltrana)"
      ]
    },
    {
      "cell_type": "code",
      "execution_count": null,
      "metadata": {
        "colab": {
          "base_uri": "https://localhost:8080/",
          "height": 54
        },
        "id": "IevBBtrRjQMj",
        "outputId": "aafa031f-3945-4ae3-99e2-c96fcb7721ba"
      },
      "outputs": [
        {
          "data": {
            "text/html": [
              "6.25"
            ],
            "text/latex": [
              "6.25"
            ],
            "text/markdown": [
              "6.25"
            ],
            "text/plain": [
              "[1] 6.25"
            ]
          },
          "metadata": {},
          "output_type": "display_data"
        }
      ],
      "source": [
        "median(df_beltrana$Beltrana)"
      ]
    },
    {
      "cell_type": "markdown",
      "metadata": {
        "id": "nK27TxrkjQMl"
      },
      "source": [
        "### Obtendo a mediana em nosso dataset"
      ]
    },
    {
      "cell_type": "code",
      "execution_count": null,
      "metadata": {
        "colab": {
          "base_uri": "https://localhost:8080/",
          "height": 54
        },
        "id": "dJznpnjUjQMl",
        "outputId": "83292510-b236-4515-8fba-5396e2058d6e"
      },
      "outputs": [
        {
          "data": {
            "text/html": [
              "1200"
            ],
            "text/latex": [
              "1200"
            ],
            "text/markdown": [
              "1200"
            ],
            "text/plain": [
              "[1] 1200"
            ]
          },
          "metadata": {},
          "output_type": "display_data"
        }
      ],
      "source": [
        "median(dados$Renda)"
      ]
    },
    {
      "cell_type": "markdown",
      "metadata": {
        "id": "CmCu6BXQjQMo"
      },
      "source": [
        "## <font color=green>3.3 Moda</font>\n",
        "***\n",
        "\n",
        "Pode-se definir a moda como sendo o valor mais frequente de um conjunto de dados. A moda é bastante utilizada para dados qualitativos."
      ]
    },
    {
      "cell_type": "markdown",
      "metadata": {
        "id": "Y4tMU0qsrpKu"
      },
      "source": [
        "### <font color=red>Documentações:\n",
        "\n",
        "- [**function**](https://www.rdocumentation.org/packages/base/versions/3.6.1/topics/function)"
      ]
    },
    {
      "cell_type": "code",
      "execution_count": null,
      "metadata": {
        "colab": {
          "base_uri": "https://localhost:8080/",
          "height": 318
        },
        "id": "BHibMzw8X7Id",
        "outputId": "661d5dd6-5189-412c-b5ed-c837347cdff7"
      },
      "outputs": [
        {
          "data": {
            "text/html": [
              "<table class=\"dataframe\">\n",
              "<caption>A data.frame: 7 × 3</caption>\n",
              "<thead>\n",
              "\t<tr><th></th><th scope=col>Fulano</th><th scope=col>Beltrana</th><th scope=col>Sicrano</th></tr>\n",
              "\t<tr><th></th><th scope=col>&lt;dbl&gt;</th><th scope=col>&lt;dbl&gt;</th><th scope=col>&lt;dbl&gt;</th></tr>\n",
              "</thead>\n",
              "<tbody>\n",
              "\t<tr><th scope=row>Matemática</th><td> 8</td><td>10.0</td><td>7.5</td></tr>\n",
              "\t<tr><th scope=row>Português</th><td>10</td><td> 2.0</td><td>8.0</td></tr>\n",
              "\t<tr><th scope=row>Inglês</th><td> 4</td><td> 0.5</td><td>7.0</td></tr>\n",
              "\t<tr><th scope=row>Geografia</th><td> 8</td><td> 1.0</td><td>8.0</td></tr>\n",
              "\t<tr><th scope=row>História</th><td> 6</td><td> 3.0</td><td>8.0</td></tr>\n",
              "\t<tr><th scope=row>Física</th><td>10</td><td> 9.5</td><td>8.5</td></tr>\n",
              "\t<tr><th scope=row>Química</th><td> 8</td><td>10.0</td><td>7.0</td></tr>\n",
              "</tbody>\n",
              "</table>\n"
            ],
            "text/latex": [
              "A data.frame: 7 × 3\n",
              "\\begin{tabular}{r|lll}\n",
              "  & Fulano & Beltrana & Sicrano\\\\\n",
              "  & <dbl> & <dbl> & <dbl>\\\\\n",
              "\\hline\n",
              "\tMatemática &  8 & 10.0 & 7.5\\\\\n",
              "\tPortuguês & 10 &  2.0 & 8.0\\\\\n",
              "\tInglês &  4 &  0.5 & 7.0\\\\\n",
              "\tGeografia &  8 &  1.0 & 8.0\\\\\n",
              "\tHistória &  6 &  3.0 & 8.0\\\\\n",
              "\tFísica & 10 &  9.5 & 8.5\\\\\n",
              "\tQuímica &  8 & 10.0 & 7.0\\\\\n",
              "\\end{tabular}\n"
            ],
            "text/markdown": [
              "\n",
              "A data.frame: 7 × 3\n",
              "\n",
              "| <!--/--> | Fulano &lt;dbl&gt; | Beltrana &lt;dbl&gt; | Sicrano &lt;dbl&gt; |\n",
              "|---|---|---|---|\n",
              "| Matemática |  8 | 10.0 | 7.5 |\n",
              "| Português | 10 |  2.0 | 8.0 |\n",
              "| Inglês |  4 |  0.5 | 7.0 |\n",
              "| Geografia |  8 |  1.0 | 8.0 |\n",
              "| História |  6 |  3.0 | 8.0 |\n",
              "| Física | 10 |  9.5 | 8.5 |\n",
              "| Química |  8 | 10.0 | 7.0 |\n",
              "\n"
            ],
            "text/plain": [
              "           Fulano Beltrana Sicrano\n",
              "Matemática  8     10.0     7.5    \n",
              "Português  10      2.0     8.0    \n",
              "Inglês      4      0.5     7.0    \n",
              "Geografia   8      1.0     8.0    \n",
              "História    6      3.0     8.0    \n",
              "Física     10      9.5     8.5    \n",
              "Química     8     10.0     7.0    "
            ]
          },
          "metadata": {},
          "output_type": "display_data"
        }
      ],
      "source": [
        "df"
      ]
    },
    {
      "cell_type": "code",
      "execution_count": null,
      "metadata": {
        "colab": {
          "base_uri": "https://localhost:8080/",
          "height": 34
        },
        "id": "mxx7gjKNrpKu",
        "outputId": "c66e2e3e-1a02-4549-b9ad-860b7412555e"
      },
      "outputs": [
        {
          "data": {
            "text/html": [
              "<style>\n",
              ".list-inline {list-style: none; margin:0; padding: 0}\n",
              ".list-inline>li {display: inline-block}\n",
              ".list-inline>li:not(:last-child)::after {content: \"\\00b7\"; padding: 0 .5ex}\n",
              "</style>\n",
              "<ol class=list-inline><li>1</li><li>2</li><li>2</li><li>3</li><li>4</li><li>4</li><li>5</li><li>6</li><li>7</li><li>7</li></ol>\n"
            ],
            "text/latex": [
              "\\begin{enumerate*}\n",
              "\\item 1\n",
              "\\item 2\n",
              "\\item 2\n",
              "\\item 3\n",
              "\\item 4\n",
              "\\item 4\n",
              "\\item 5\n",
              "\\item 6\n",
              "\\item 7\n",
              "\\item 7\n",
              "\\end{enumerate*}\n"
            ],
            "text/markdown": [
              "1. 1\n",
              "2. 2\n",
              "3. 2\n",
              "4. 3\n",
              "5. 4\n",
              "6. 4\n",
              "7. 5\n",
              "8. 6\n",
              "9. 7\n",
              "10. 7\n",
              "\n",
              "\n"
            ],
            "text/plain": [
              " [1] 1 2 2 3 4 4 5 6 7 7"
            ]
          },
          "metadata": {},
          "output_type": "display_data"
        }
      ],
      "source": [
        "exemplo_moda <- c(1, 2, 2, 3, 4 ,4, 5, 6, 7, 7)\n",
        "exemplo_moda"
      ]
    },
    {
      "cell_type": "code",
      "execution_count": null,
      "metadata": {
        "colab": {
          "base_uri": "https://localhost:8080/",
          "height": 69
        },
        "id": "c0ZJTTxCrpKu",
        "outputId": "898ba228-929c-4efb-fc1b-cbbfe7b081da"
      },
      "outputs": [
        {
          "data": {
            "text/plain": [
              "exemplo_moda\n",
              "1 2 3 4 5 6 7 \n",
              "1 2 1 2 1 1 2 "
            ]
          },
          "metadata": {},
          "output_type": "display_data"
        }
      ],
      "source": [
        "freq <- table(exemplo_moda)\n",
        "freq"
      ]
    },
    {
      "cell_type": "code",
      "execution_count": null,
      "metadata": {
        "colab": {
          "base_uri": "https://localhost:8080/",
          "height": 34
        },
        "id": "z5vywZ0drpKv",
        "outputId": "e713c6f4-d806-4fa0-ac5e-c428a8c47b1a"
      },
      "outputs": [
        {
          "data": {
            "text/html": [
              "2"
            ],
            "text/latex": [
              "2"
            ],
            "text/markdown": [
              "2"
            ],
            "text/plain": [
              "[1] 2"
            ]
          },
          "metadata": {},
          "output_type": "display_data"
        }
      ],
      "source": [
        "max(freq)"
      ]
    },
    {
      "cell_type": "code",
      "execution_count": null,
      "metadata": {
        "id": "rd1AO7oBrpKv"
      },
      "outputs": [],
      "source": [
        "# dentro de freq quais são os com o máximo\n",
        "freq[freq == max(freq)]"
      ]
    },
    {
      "cell_type": "code",
      "execution_count": null,
      "metadata": {
        "id": "N-FqQ8BZrpKv"
      },
      "outputs": [],
      "source": [
        "# Pegar somente os nomes\n",
        "names(freq)[freq == max(freq)]"
      ]
    },
    {
      "cell_type": "code",
      "execution_count": null,
      "metadata": {
        "id": "IDAXw5itrpKv"
      },
      "outputs": [],
      "source": [
        "Moda <- function(x) {\n",
        "  freq <- table(x)\n",
        "  return(names(freq)[freq == max(freq)])  \n",
        "}"
      ]
    },
    {
      "cell_type": "code",
      "execution_count": null,
      "metadata": {
        "id": "aABBt-byrpKv"
      },
      "outputs": [],
      "source": [
        "Moda(exemplo_moda)"
      ]
    },
    {
      "cell_type": "code",
      "execution_count": null,
      "metadata": {
        "colab": {
          "base_uri": "https://localhost:8080/",
          "height": 34
        },
        "id": "HYRHwLxTrpKv",
        "outputId": "96ddec46-c91f-4afc-8b0d-27ac03a32b07"
      },
      "outputs": [
        {
          "data": {
            "text/html": [
              "'8'"
            ],
            "text/latex": [
              "'8'"
            ],
            "text/markdown": [
              "'8'"
            ],
            "text/plain": [
              "[1] \"8\""
            ]
          },
          "metadata": {},
          "output_type": "display_data"
        }
      ],
      "source": [
        "# Valor mais frequente de notas do Fulano\n",
        "Moda(df$Fulano)"
      ]
    },
    {
      "cell_type": "code",
      "execution_count": null,
      "metadata": {
        "id": "3zyVlzqHrpKv"
      },
      "outputs": [],
      "source": [
        "Moda(df$Beltrana)"
      ]
    },
    {
      "cell_type": "code",
      "execution_count": null,
      "metadata": {
        "id": "vqxKxOj4-mTF"
      },
      "outputs": [],
      "source": [
        "Moda(df$Sicrano)"
      ]
    },
    {
      "cell_type": "markdown",
      "metadata": {
        "id": "YwhBwz-JjQMr"
      },
      "source": [
        "### Obtendo a moda em nosso dataset"
      ]
    },
    {
      "cell_type": "code",
      "execution_count": null,
      "metadata": {
        "id": "qq3D9diZrpKw"
      },
      "outputs": [],
      "source": [
        "# Salário mais comum dentro do data set\n",
        "Moda(dados$Renda)"
      ]
    },
    {
      "cell_type": "code",
      "execution_count": null,
      "metadata": {
        "id": "pszc4mFFrpKw"
      },
      "outputs": [],
      "source": [
        "Moda(dados$Altura)"
      ]
    },
    {
      "cell_type": "markdown",
      "metadata": {
        "id": "_-0gjQWFjQMu"
      },
      "source": [
        "## <font color=green>3.4 Relação entre média, mediana e moda</font>\n",
        "***"
      ]
    },
    {
      "cell_type": "markdown",
      "metadata": {
        "id": "0S7pa_jLjQMu"
      },
      "source": [
        "<img src='https://caelum-online-public.s3.amazonaws.com/1177-estatistica-parte1/01/img004.png' width='80%'>"
      ]
    },
    {
      "cell_type": "markdown",
      "metadata": {
        "id": "3o1WhP86rpKw"
      },
      "source": [
        "### <font color=red>Documentações:\n",
        "    \n",
        "- [**as.numeric**](https://www.rdocumentation.org/packages/base/versions/3.6.1/topics/numeric)"
      ]
    },
    {
      "cell_type": "markdown",
      "metadata": {
        "id": "b7ZchyFsjQMu"
      },
      "source": [
        "### Avaliando a variável RENDA"
      ]
    },
    {
      "cell_type": "code",
      "execution_count": null,
      "metadata": {
        "id": "NTQby3CFrpKx"
      },
      "outputs": [],
      "source": [
        "ggplot(dados[dados$Renda < 20000, ], aes(x = Renda, y = ..density..)) + \n",
        "    geom_histogram(binwidth = 700) + \n",
        "    geom_density(color = 'green')"
      ]
    },
    {
      "cell_type": "code",
      "execution_count": null,
      "metadata": {
        "colab": {
          "base_uri": "https://localhost:8080/",
          "height": 34
        },
        "id": "yXoNLbf7rpKx",
        "outputId": "f9bb2c69-6e8a-4225-9417-ead77b27f602"
      },
      "outputs": [
        {
          "data": {
            "text/html": [
              "788"
            ],
            "text/latex": [
              "788"
            ],
            "text/markdown": [
              "788"
            ],
            "text/plain": [
              "[1] 788"
            ]
          },
          "metadata": {},
          "output_type": "display_data"
        }
      ],
      "source": [
        "moda <- as.numeric(Moda(dados$Renda))\n",
        "moda"
      ]
    },
    {
      "cell_type": "code",
      "execution_count": null,
      "metadata": {
        "colab": {
          "base_uri": "https://localhost:8080/",
          "height": 34
        },
        "id": "hCZS9gymrpKx",
        "outputId": "cec27e81-27cb-4c4e-d700-4d29a1749a8d"
      },
      "outputs": [
        {
          "data": {
            "text/html": [
              "1200"
            ],
            "text/latex": [
              "1200"
            ],
            "text/markdown": [
              "1200"
            ],
            "text/plain": [
              "[1] 1200"
            ]
          },
          "metadata": {},
          "output_type": "display_data"
        }
      ],
      "source": [
        "mediana <- median(dados$Renda)\n",
        "mediana"
      ]
    },
    {
      "cell_type": "code",
      "execution_count": null,
      "metadata": {
        "colab": {
          "base_uri": "https://localhost:8080/",
          "height": 34
        },
        "id": "zgovMbWyrpKx",
        "outputId": "28e7cfc7-26ce-4d70-f67b-1757094586e9"
      },
      "outputs": [
        {
          "data": {
            "text/html": [
              "2000.38319885476"
            ],
            "text/latex": [
              "2000.38319885476"
            ],
            "text/markdown": [
              "2000.38319885476"
            ],
            "text/plain": [
              "[1] 2000.383"
            ]
          },
          "metadata": {},
          "output_type": "display_data"
        }
      ],
      "source": [
        "media <- mean(dados$Renda)\n",
        "media"
      ]
    },
    {
      "cell_type": "code",
      "execution_count": null,
      "metadata": {
        "id": "nX6lnCBujQM0"
      },
      "outputs": [],
      "source": [
        "moda < mediana\n",
        "mediana < media"
      ]
    },
    {
      "cell_type": "markdown",
      "metadata": {
        "id": "FnLQAxSijQM1"
      },
      "source": [
        "***"
      ]
    },
    {
      "cell_type": "markdown",
      "metadata": {
        "id": "WazchssNjQM1"
      },
      "source": [
        "### Avaliando a variável ALTURA"
      ]
    },
    {
      "cell_type": "code",
      "execution_count": null,
      "metadata": {
        "id": "41uJsCk9jQM2"
      },
      "outputs": [],
      "source": [
        "ggplot(dados, aes(x = Altura, y = ..density..)) + \n",
        "    geom_histogram() + \n",
        "    geom_density(color = 'green')"
      ]
    },
    {
      "cell_type": "code",
      "execution_count": null,
      "metadata": {
        "id": "EkgerGuXjQM3"
      },
      "outputs": [],
      "source": [
        "moda <- as.numeric(Moda(dados$Altura))\n",
        "moda\n",
        "# Normal vários valores em dados contínuos"
      ]
    },
    {
      "cell_type": "code",
      "execution_count": null,
      "metadata": {
        "colab": {
          "base_uri": "https://localhost:8080/",
          "height": 34
        },
        "id": "Jj6MFUXbjQM4",
        "outputId": "ba606422-7d8d-401f-a75c-796bc75d79c7"
      },
      "outputs": [
        {
          "data": {
            "text/html": [
              "1.6993247325"
            ],
            "text/latex": [
              "1.6993247325"
            ],
            "text/markdown": [
              "1.6993247325"
            ],
            "text/plain": [
              "[1] 1.699325"
            ]
          },
          "metadata": {},
          "output_type": "display_data"
        }
      ],
      "source": [
        "mediana <- median(dados$Altura)\n",
        "mediana"
      ]
    },
    {
      "cell_type": "code",
      "execution_count": null,
      "metadata": {
        "colab": {
          "base_uri": "https://localhost:8080/",
          "height": 34
        },
        "id": "84X-3AzvjQM5",
        "outputId": "0364051f-db98-4c24-843b-efa1b40dbc63"
      },
      "outputs": [
        {
          "data": {
            "text/html": [
              "1.69951245405757"
            ],
            "text/latex": [
              "1.69951245405757"
            ],
            "text/markdown": [
              "1.69951245405757"
            ],
            "text/plain": [
              "[1] 1.699512"
            ]
          },
          "metadata": {},
          "output_type": "display_data"
        }
      ],
      "source": [
        "media <- mean(dados$Altura)\n",
        "media"
      ]
    },
    {
      "cell_type": "markdown",
      "metadata": {
        "id": "PJIMB8i8jQM6"
      },
      "source": [
        "***"
      ]
    },
    {
      "cell_type": "markdown",
      "metadata": {
        "id": "eS4I2H7jjQM7"
      },
      "source": [
        "### Avaliando a variável ANOS DE ESTUDO"
      ]
    },
    {
      "cell_type": "code",
      "execution_count": null,
      "metadata": {
        "id": "NPCcjXqPjQM8"
      },
      "outputs": [],
      "source": [
        "ggplot(dados, aes(x = Anos.de.Estudo, y = ..density..)) + \n",
        "    geom_histogram() + \n",
        "    geom_density(color = 'green')"
      ]
    },
    {
      "cell_type": "code",
      "execution_count": null,
      "metadata": {
        "colab": {
          "base_uri": "https://localhost:8080/",
          "height": 34
        },
        "id": "PjfvPYUajQM9",
        "outputId": "652450a7-d1d2-4a3e-dec2-6db2a2bf1806"
      },
      "outputs": [
        {
          "data": {
            "text/html": [
              "12"
            ],
            "text/latex": [
              "12"
            ],
            "text/markdown": [
              "12"
            ],
            "text/plain": [
              "[1] 12"
            ]
          },
          "metadata": {},
          "output_type": "display_data"
        }
      ],
      "source": [
        "moda <- as.numeric(Moda(dados$Anos.de.Estudo))\n",
        "moda"
      ]
    },
    {
      "cell_type": "code",
      "execution_count": null,
      "metadata": {
        "colab": {
          "base_uri": "https://localhost:8080/",
          "height": 34
        },
        "id": "VF_Bj8x2jQM-",
        "outputId": "9afcbcd2-ad32-452b-9425-f7c8448755e5"
      },
      "outputs": [
        {
          "data": {
            "text/html": [
              "11"
            ],
            "text/latex": [
              "11"
            ],
            "text/markdown": [
              "11"
            ],
            "text/plain": [
              "[1] 11"
            ]
          },
          "metadata": {},
          "output_type": "display_data"
        }
      ],
      "source": [
        "mediana <- median(dados$Anos.de.Estudo)\n",
        "mediana"
      ]
    },
    {
      "cell_type": "code",
      "execution_count": null,
      "metadata": {
        "colab": {
          "base_uri": "https://localhost:8080/",
          "height": 34
        },
        "id": "ohqUZ5RsjQNA",
        "outputId": "fd3e3716-b118-4f73-b531-59ab54a6ac6a"
      },
      "outputs": [
        {
          "data": {
            "text/html": [
              "9.46966423737637"
            ],
            "text/latex": [
              "9.46966423737637"
            ],
            "text/markdown": [
              "9.46966423737637"
            ],
            "text/plain": [
              "[1] 9.469664"
            ]
          },
          "metadata": {},
          "output_type": "display_data"
        }
      ],
      "source": [
        "media = mean(dados$Anos.de.Estudo)\n",
        "media"
      ]
    },
    {
      "cell_type": "code",
      "execution_count": null,
      "metadata": {
        "colab": {
          "base_uri": "https://localhost:8080/",
          "height": 52
        },
        "id": "AwM8UvApjQNC",
        "outputId": "b426bbe4-7ac7-4033-d06d-9573be524428"
      },
      "outputs": [
        {
          "data": {
            "text/html": [
              "TRUE"
            ],
            "text/latex": [
              "TRUE"
            ],
            "text/markdown": [
              "TRUE"
            ],
            "text/plain": [
              "[1] TRUE"
            ]
          },
          "metadata": {},
          "output_type": "display_data"
        },
        {
          "data": {
            "text/html": [
              "TRUE"
            ],
            "text/latex": [
              "TRUE"
            ],
            "text/markdown": [
              "TRUE"
            ],
            "text/plain": [
              "[1] TRUE"
            ]
          },
          "metadata": {},
          "output_type": "display_data"
        }
      ],
      "source": [
        "moda > mediana\n",
        "mediana > media"
      ]
    },
    {
      "cell_type": "markdown",
      "metadata": {
        "id": "vcaIo45UjQND"
      },
      "source": [
        "# <font color=green>4 MEDIDAS SEPARATRIZES</font>\n",
        "***"
      ]
    },
    {
      "cell_type": "markdown",
      "metadata": {
        "id": "f4XrApNxjQNE"
      },
      "source": [
        "## <font color=green>4.1 Quartis, decis e percentis</font>\n",
        "***\n",
        "\n",
        "Há uma série de medidas de posição semelhantes na sua concepção à mediana, embora não sejam medidas de tendência central. Como se sabe, a mediana divide a distribuição em duas partes iguais quanto ao número de elementos de cada parte. Já os quartis permitem dividir a distribuição em quatro partes iguais quanto ao número de elementos de cada uma; os decis em dez partes e os centis em cem partes iguais."
      ]
    },
    {
      "cell_type": "markdown",
      "metadata": {
        "id": "83PMrDpMrpK1"
      },
      "source": [
        "### <font color=red>Documentações:\n",
        "\n",
        "- [**quantile**](https://www.rdocumentation.org/packages/stats/versions/3.6.1/topics/quantile)\n",
        "- [**for**](https://www.rdocumentation.org/packages/base/versions/3.6.1/topics/Control)\n",
        "- [**length**](https://www.rdocumentation.org/packages/base/versions/3.6.1/topics/length)"
      ]
    },
    {
      "cell_type": "code",
      "execution_count": null,
      "metadata": {
        "colab": {
          "base_uri": "https://localhost:8080/",
          "height": 34
        },
        "id": "VmbdUO-ujQNE",
        "outputId": "a74fe2b1-61b5-4af3-989a-f09a3bb517c4"
      },
      "outputs": [
        {
          "data": {
            "text/html": [
              "<style>\n",
              ".dl-inline {width: auto; margin:0; padding: 0}\n",
              ".dl-inline>dt, .dl-inline>dd {float: none; width: auto; display: inline-block}\n",
              ".dl-inline>dt::after {content: \":\\0020\"; padding-right: .5ex}\n",
              ".dl-inline>dt:not(:first-of-type) {padding-left: .5ex}\n",
              "</style><dl class=dl-inline><dt>25%</dt><dd>788</dd><dt>50%</dt><dd>1200</dd><dt>75%</dt><dd>2000</dd></dl>\n"
            ],
            "text/latex": [
              "\\begin{description*}\n",
              "\\item[25\\textbackslash{}\\%] 788\n",
              "\\item[50\\textbackslash{}\\%] 1200\n",
              "\\item[75\\textbackslash{}\\%] 2000\n",
              "\\end{description*}\n"
            ],
            "text/markdown": [
              "25%\n",
              ":   78850%\n",
              ":   120075%\n",
              ":   2000\n",
              "\n"
            ],
            "text/plain": [
              " 25%  50%  75% \n",
              " 788 1200 2000 "
            ]
          },
          "metadata": {},
          "output_type": "display_data"
        }
      ],
      "source": [
        "# Para dividir em n partes\n",
        "quantile(dados$Renda, c(0.25, 0.5, 0.75))"
      ]
    },
    {
      "cell_type": "code",
      "execution_count": null,
      "metadata": {
        "colab": {
          "base_uri": "https://localhost:8080/",
          "height": 34
        },
        "id": "kMKpq0mlrpK1",
        "outputId": "3b687af3-a142-4a32-9e45-3aea8d23cf2f"
      },
      "outputs": [
        {
          "data": {
            "text/html": [
              "<style>\n",
              ".list-inline {list-style: none; margin:0; padding: 0}\n",
              ".list-inline>li {display: inline-block}\n",
              ".list-inline>li:not(:last-child)::after {content: \"\\00b7\"; padding: 0 .5ex}\n",
              "</style>\n",
              "<ol class=list-inline><li>0.1</li><li>0.2</li><li>0.3</li><li>0.4</li><li>0.5</li><li>0.6</li><li>0.7</li><li>0.8</li><li>0.9</li></ol>\n"
            ],
            "text/latex": [
              "\\begin{enumerate*}\n",
              "\\item 0.1\n",
              "\\item 0.2\n",
              "\\item 0.3\n",
              "\\item 0.4\n",
              "\\item 0.5\n",
              "\\item 0.6\n",
              "\\item 0.7\n",
              "\\item 0.8\n",
              "\\item 0.9\n",
              "\\end{enumerate*}\n"
            ],
            "text/markdown": [
              "1. 0.1\n",
              "2. 0.2\n",
              "3. 0.3\n",
              "4. 0.4\n",
              "5. 0.5\n",
              "6. 0.6\n",
              "7. 0.7\n",
              "8. 0.8\n",
              "9. 0.9\n",
              "\n",
              "\n"
            ],
            "text/plain": [
              "[1] 0.1 0.2 0.3 0.4 0.5 0.6 0.7 0.8 0.9"
            ]
          },
          "metadata": {},
          "output_type": "display_data"
        }
      ],
      "source": [
        "# decis\n",
        "decis <- c()\n",
        "for(i in 1:9)(\n",
        "  decis <- c(decis, i / 10)\n",
        ")\n",
        "decis"
      ]
    },
    {
      "cell_type": "code",
      "execution_count": null,
      "metadata": {
        "id": "EpRKboV5jQNG"
      },
      "outputs": [],
      "source": [
        "quantile(dados$Renda, decis)"
      ]
    },
    {
      "cell_type": "code",
      "execution_count": null,
      "metadata": {
        "id": "xNlfw_hzrpK1"
      },
      "outputs": [],
      "source": [
        "centis <- c()\n",
        "for(i in 1:9)(\n",
        "  centis <- c(centis, i / 100)\n",
        ")\n",
        "quantile(dados$Renda, centis)"
      ]
    },
    {
      "cell_type": "code",
      "execution_count": null,
      "metadata": {
        "colab": {
          "base_uri": "https://localhost:8080/",
          "height": 292
        },
        "id": "Qfv35-sMrpK2",
        "outputId": "e22c78b7-eff3-4261-81f8-398a8fbb74a6"
      },
      "outputs": [
        {
          "name": "stderr",
          "output_type": "stream",
          "text": [
            "`stat_bin()` using `bins = 30`. Pick better value with `binwidth`.\n",
            "\n"
          ]
        },
        {
          "data": {
            "image/png": "[encoded data removed]",
            "text/plain": [
              "plot without title"
            ]
          },
          "metadata": {
            "image/png": {
              "height": 240,
              "width": 480
            }
          },
          "output_type": "display_data"
        }
      ],
      "source": [
        "ggplot(data = dados, aes(x = Idade)) + \n",
        "    geom_histogram(\n",
        "        aes(y = cumsum(..count..) / sum(..count..)), \n",
        "        bins = 10\n",
        "    ) + \n",
        "    geom_freqpoly(\n",
        "        aes(y = cumsum(..count..) / sum(..count..)), \n",
        "        color = 'green'\n",
        "    )"
      ]
    },
    {
      "cell_type": "code",
      "execution_count": null,
      "metadata": {
        "colab": {
          "base_uri": "https://localhost:8080/",
          "height": 34
        },
        "id": "y5ZLjL9nrpK2",
        "outputId": "52c773f9-6186-459c-c0cb-c71dafa3d8d6"
      },
      "outputs": [
        {
          "data": {
            "text/html": [
              "<style>\n",
              ".dl-inline {width: auto; margin:0; padding: 0}\n",
              ".dl-inline>dt, .dl-inline>dd {float: none; width: auto; display: inline-block}\n",
              ".dl-inline>dt::after {content: \":\\0020\"; padding-right: .5ex}\n",
              ".dl-inline>dt:not(:first-of-type) {padding-left: .5ex}\n",
              "</style><dl class=dl-inline><dt>10%</dt><dd>28</dd><dt>20%</dt><dd>33</dd><dt>30%</dt><dd>36</dd><dt>40%</dt><dd>40</dd><dt>50%</dt><dd>43</dd><dt>60%</dt><dd>47</dd><dt>70%</dt><dd>51</dd><dt>80%</dt><dd>55</dd><dt>90%</dt><dd>61</dd></dl>\n"
            ],
            "text/latex": [
              "\\begin{description*}\n",
              "\\item[10\\textbackslash{}\\%] 28\n",
              "\\item[20\\textbackslash{}\\%] 33\n",
              "\\item[30\\textbackslash{}\\%] 36\n",
              "\\item[40\\textbackslash{}\\%] 40\n",
              "\\item[50\\textbackslash{}\\%] 43\n",
              "\\item[60\\textbackslash{}\\%] 47\n",
              "\\item[70\\textbackslash{}\\%] 51\n",
              "\\item[80\\textbackslash{}\\%] 55\n",
              "\\item[90\\textbackslash{}\\%] 61\n",
              "\\end{description*}\n"
            ],
            "text/markdown": [
              "10%\n",
              ":   2820%\n",
              ":   3330%\n",
              ":   3640%\n",
              ":   4050%\n",
              ":   4360%\n",
              ":   4770%\n",
              ":   5180%\n",
              ":   5590%\n",
              ":   61\n",
              "\n"
            ],
            "text/plain": [
              "10% 20% 30% 40% 50% 60% 70% 80% 90% \n",
              " 28  33  36  40  43  47  51  55  61 "
            ]
          },
          "metadata": {},
          "output_type": "display_data"
        }
      ],
      "source": [
        "decis <- c()\n",
        "for(i in 1:9)(\n",
        "  decis <- c(decis, i / 10)\n",
        ")\n",
        "quantile(dados$Idade, decis)"
      ]
    },
    {
      "cell_type": "code",
      "execution_count": null,
      "metadata": {
        "id": "SRY7wFejFYAy"
      },
      "outputs": [],
      "source": []
    },
    {
      "cell_type": "markdown",
      "metadata": {
        "id": "D1gLqjfCrpK2"
      },
      "source": [
        "### Classificação percentual"
      ]
    },
    {
      "cell_type": "code",
      "execution_count": null,
      "metadata": {
        "colab": {
          "base_uri": "https://localhost:8080/",
          "height": 34
        },
        "id": "CYNFJdmxrpK2",
        "outputId": "68427b12-72a0-4cc4-f6b8-3272735c9293"
      },
      "outputs": [
        {
          "data": {
            "text/html": [
              "42.0757418011452"
            ],
            "text/latex": [
              "42.0757418011452"
            ],
            "text/markdown": [
              "42.0757418011452"
            ],
            "text/plain": [
              "[1] 42.07574"
            ]
          },
          "metadata": {},
          "output_type": "display_data"
        }
      ],
      "source": [
        "# Porcentagem de pessoas com 40 ou menos anos de idade\n",
        "length(dados$Idade[dados$Idade <= 40]) / length(dados$Idade) * 100"
      ]
    },
    {
      "cell_type": "markdown",
      "metadata": {
        "id": "6gIeZO_CjQNJ"
      },
      "source": [
        "## <font color=green>4.2 Box-plot</font>\n",
        "***\n",
        "\n",
        "O box plot dá uma idéia da posição, dispersão, assimetria, caudas e dados discrepantes (outliers). A posição central é dada pela mediana e a dispersão por $IIQ$. As posições relativas de $Q1$, $Mediana$ e $Q3$ dão uma noção da simetria da distribuição. Os comprimentos das cauda são dados pelas linhas que vão do retângulo aos valores remotos e pelos valores atípicos."
      ]
    },
    {
      "cell_type": "markdown",
      "metadata": {
        "id": "2vXDLKGlrpK3"
      },
      "source": [
        "#### <font color=red>Documentações:\n",
        "\n",
        "- [**geom_boxplot**](https://www.rdocumentation.org/packages/ggplot2/versions/3.2.1/topics/geom_boxplot)\n",
        "- [**factor**](https://www.rdocumentation.org/packages/base/versions/3.6.1/topics/factor)"
      ]
    },
    {
      "cell_type": "markdown",
      "metadata": {
        "id": "VeiTE_gvjQNK"
      },
      "source": [
        "<img src='https://caelum-online-public.s3.amazonaws.com/1177-estatistica-parte1/01/img005.png' width='65%'>"
      ]
    },
    {
      "cell_type": "code",
      "execution_count": null,
      "metadata": {
        "id": "o9DT29EbrpK3"
      },
      "outputs": [],
      "source": [
        "sexo = c(\n",
        "    'Masculino', \n",
        "    'Feminino'\n",
        ")\n",
        "cor = c(\n",
        "    'Indígena', \n",
        "    'Branca', \n",
        "    'Preta', \n",
        "    'Amarela', \n",
        "    'Parda'\n",
        ")\n",
        "anos_de_estudo = c(\n",
        "    'Sem instrução e menos de 1 ano', \n",
        "    '1 ano', \n",
        "    '2 anos', \n",
        "    '3 anos', \n",
        "    '4 anos', \n",
        "    '5 anos', \n",
        "    '6 anos', \n",
        "    '7 anos', \n",
        "    '8 anos', \n",
        "    '9 anos', \n",
        "    '10 anos', \n",
        "    '11 anos', \n",
        "    '12 anos', \n",
        "    '13 anos', \n",
        "    '14 anos', \n",
        "    '15 anos ou mais', \n",
        "    'Não determinados'\n",
        ")"
      ]
    },
    {
      "cell_type": "code",
      "execution_count": null,
      "metadata": {
        "colab": {
          "base_uri": "https://localhost:8080/",
          "height": 257
        },
        "id": "fjsARbKWrpK3",
        "outputId": "ac5bebed-cc18-4a7a-df33-619c352148e0"
      },
      "outputs": [
        {
          "data": {
            "image/png": "[encoded data removed]",
            "text/plain": [
              "plot without title"
            ]
          },
          "metadata": {
            "image/png": {
              "height": 240,
              "width": 480
            }
          },
          "output_type": "display_data"
        }
      ],
      "source": [
        "ggplot(data = dados, aes(x = \"\", y = Altura)) + \n",
        "    stat_boxplot(geom ='errorbar', width = 0.4) + \n",
        "    geom_boxplot(fill = '#3274A1') + \n",
        "    coord_flip() +\n",
        "    ylab(\"Metros\") + \n",
        "    xlab(\"\") + \n",
        "    ggtitle('Box-plot Alturas') +\n",
        "    formatos"
      ]
    },
    {
      "cell_type": "code",
      "execution_count": null,
      "metadata": {
        "colab": {
          "base_uri": "https://localhost:8080/",
          "height": 257
        },
        "id": "G4bstvrSrpK4",
        "outputId": "2eeba717-6f16-4f22-d722-d6be4cf42076"
      },
      "outputs": [
        {
          "data": {
            "image/png": "[encoded data removed]",
            "text/plain": [
              "plot without title"
            ]
          },
          "metadata": {
            "image/png": {
              "height": 240,
              "width": 480
            }
          },
          "output_type": "display_data"
        }
      ],
      "source": [
        "ggplot(data = dados, aes(x = Sexo, y = Altura, group = Sexo)) + \n",
        "    stat_boxplot(geom ='errorbar', width = 0.4) + \n",
        "    geom_boxplot(fill = c('#3274A1', \"orange\")) + \n",
        "    coord_flip() +\n",
        "    ylab(\"Metros\") + \n",
        "    xlab(\"Sexo\") + \n",
        "    ggtitle('Box-plot Alturas X Sexo') +\n",
        "    formatos"
      ]
    },
    {
      "cell_type": "code",
      "execution_count": null,
      "metadata": {
        "id": "qWrQWbUIrpK4"
      },
      "outputs": [],
      "source": [
        "dados$Cat.Sexo <- factor(dados$Sexo)\n",
        "levels(dados$Cat.Sexo) <- sexo"
      ]
    },
    {
      "cell_type": "code",
      "execution_count": null,
      "metadata": {
        "id": "cR4Yib87rpK4"
      },
      "outputs": [],
      "source": [
        "head(dados)"
      ]
    },
    {
      "cell_type": "code",
      "execution_count": null,
      "metadata": {
        "id": "IG_SkugCrpK4"
      },
      "outputs": [],
      "source": [
        "ggplot(data = dados, aes(x = Cat.Sexo, y = Altura)) + \n",
        "    stat_boxplot(geom ='errorbar', width = 0.4) + \n",
        "    geom_boxplot(fill = c('#3274A1', \"orange\")) + \n",
        "    coord_flip() +\n",
        "    ylab(\"Metros\") + \n",
        "    xlab(\"Sexo\") + \n",
        "    ggtitle('Box-plot Alturas X Sexo') +\n",
        "    formatos"
      ]
    },
    {
      "cell_type": "code",
      "execution_count": null,
      "metadata": {
        "id": "EUg5uQrbrpK4"
      },
      "outputs": [],
      "source": [
        "ggplot(data = dados[dados$Renda < 10000, ], aes(x = \"#\", y = Renda)) + \n",
        "    stat_boxplot(geom ='errorbar', width = 0.4) + \n",
        "    geom_boxplot(fill = '#3274A1') + \n",
        "    coord_flip() +\n",
        "    ylab(\"R$\") + \n",
        "    xlab(\"\") + \n",
        "    ggtitle('Box-plot Renda < 10.000') +\n",
        "    formatos"
      ]
    },
    {
      "cell_type": "code",
      "execution_count": null,
      "metadata": {
        "colab": {
          "base_uri": "https://localhost:8080/",
          "height": 257
        },
        "id": "aEDd1pQArpK5",
        "outputId": "c96b7ef1-eb22-46c1-e388-ac5bd89b817c"
      },
      "outputs": [
        {
          "data": {
            "image/png": "[encoded data removed]",
            "text/plain": [
              "plot without title"
            ]
          },
          "metadata": {
            "image/png": {
              "height": 240,
              "width": 480
            }
          },
          "output_type": "display_data"
        }
      ],
      "source": [
        "ggplot(data = dados[dados$Renda < 10000, ], aes(x = Cat.Sexo, y = Renda)) + \n",
        "    stat_boxplot(geom ='errorbar', width = 0.4) + \n",
        "    geom_boxplot(fill = c('#3274A1', \"orange\")) + \n",
        "    coord_flip() +\n",
        "    ylab(\"R$\") + \n",
        "    xlab(\"Sexo\") + \n",
        "    ggtitle('Box-plot Renda X Sexo') +\n",
        "    formatos"
      ]
    },
    {
      "cell_type": "code",
      "execution_count": null,
      "metadata": {
        "id": "Pxklko7prpK5"
      },
      "outputs": [],
      "source": [
        "dados$Cat.Anos.de.Estudo <- factor(dados$Anos.de.Estudo, order = TRUE)\n",
        "levels(dados$Cat.Anos.de.Estudo) <- anos_de_estudo"
      ]
    },
    {
      "cell_type": "code",
      "execution_count": null,
      "metadata": {
        "id": "3aHVxmj5rpK5"
      },
      "outputs": [],
      "source": [
        "head(dados)"
      ]
    },
    {
      "cell_type": "code",
      "execution_count": null,
      "metadata": {
        "colab": {
          "base_uri": "https://localhost:8080/",
          "height": 257
        },
        "id": "yHT7LCkmrpK5",
        "outputId": "b4c05667-f8c6-4e9e-f3f8-9f46438fefa9"
      },
      "outputs": [
        {
          "data": {
            "image/png": "[encoded data removed]",
            "text/plain": [
              "plot without title"
            ]
          },
          "metadata": {
            "image/png": {
              "height": 240,
              "width": 480
            }
          },
          "output_type": "display_data"
        }
      ],
      "source": [
        "ggplot(data = dados, aes(x = \"\", y = Anos.de.Estudo)) + \n",
        "    stat_boxplot(geom ='errorbar', width = 0.4) + \n",
        "    geom_boxplot(fill = '#3274A1') + \n",
        "    coord_flip() +\n",
        "    ylab(\"Anos\") + \n",
        "    xlab(\"\") + \n",
        "    ggtitle('Box-plot Anos de Estudo') +\n",
        "    formatos"
      ]
    },
    {
      "cell_type": "code",
      "execution_count": null,
      "metadata": {
        "colab": {
          "base_uri": "https://localhost:8080/",
          "height": 257
        },
        "id": "HDrG78HprpK5",
        "outputId": "ac46496c-2be8-4b51-e45c-c66e60c39234"
      },
      "outputs": [
        {
          "data": {
            "image/png": "[encoded data removed]",
            "text/plain": [
              "plot without title"
            ]
          },
          "metadata": {
            "image/png": {
              "height": 240,
              "width": 480
            }
          },
          "output_type": "display_data"
        }
      ],
      "source": [
        "ggplot(data = dados, aes(x = Cat.Sexo, y = Anos.de.Estudo)) + \n",
        "    stat_boxplot(geom ='errorbar', width = 0.4) + \n",
        "    geom_boxplot(fill = c('#3274A1', \"orange\")) + \n",
        "    coord_flip() +\n",
        "    ylab(\"Anos\") + \n",
        "    xlab(\"Sexo\") + \n",
        "    ggtitle('Box-plot Anos de Estudo X Sexo') +\n",
        "    formatos"
      ]
    },
    {
      "cell_type": "markdown",
      "metadata": {
        "id": "amloMZwVjQNN"
      },
      "source": [
        "<img src='https://caelum-online-public.s3.amazonaws.com/1177-estatistica-parte1/01/img006.png' width='80%'>"
      ]
    },
    {
      "cell_type": "markdown",
      "metadata": {
        "id": "aJ6v_NI9jQNN"
      },
      "source": [
        "# <font color=green>5 MEDIDAS DE DISPERSÃO</font>\n",
        "***\n",
        "\n",
        "Embora as medidas de posição forneçam uma sumarização bastante importante dos dados, elas podem não ser suficientes para caracterizar conjuntos distintos, especialmente quando as observações de determinada distribuição apresentarem dados muito dispersos."
      ]
    },
    {
      "cell_type": "markdown",
      "metadata": {
        "id": "D6xVxAQ7jQNO"
      },
      "source": [
        "## <font color=green>5.1 Desvio médio absoluto</font>\n",
        "***\n",
        "\n",
        "\n",
        "# $$DM = \\frac 1n\\sum_{i=1}^{n}|X_i-\\bar{X}|$$"
      ]
    },
    {
      "cell_type": "markdown",
      "metadata": {
        "id": "EkpqjMYRrpK6"
      },
      "source": [
        "### <font color=red>Documentações:\n",
        "\n",
        "- [**sum**](https://www.rdocumentation.org/packages/base/versions/3.6.1/topics/sum)\n",
        "- [**abs**](https://www.rdocumentation.org/packages/base/versions/3.6.1/topics/MathFun)\n",
        "- [**DescTools**](https://www.rdocumentation.org/packages/DescTools/versions/0.99.30)\n",
        "- [**MeanAD**](https://www.rdocumentation.org/packages/DescTools/versions/0.99.30/topics/MeanAD)"
      ]
    },
    {
      "cell_type": "code",
      "execution_count": null,
      "metadata": {
        "colab": {
          "base_uri": "https://localhost:8080/",
          "height": 318
        },
        "id": "0sL31blV7nz3",
        "outputId": "fb7012dd-67dd-4cf1-c7ea-c98fa78592cd"
      },
      "outputs": [
        {
          "data": {
            "text/html": [
              "<table class=\"dataframe\">\n",
              "<caption>A data.frame: 7 × 3</caption>\n",
              "<thead>\n",
              "\t<tr><th></th><th scope=col>Fulano</th><th scope=col>Beltrana</th><th scope=col>Sicrano</th></tr>\n",
              "\t<tr><th></th><th scope=col>&lt;dbl&gt;</th><th scope=col>&lt;dbl&gt;</th><th scope=col>&lt;dbl&gt;</th></tr>\n",
              "</thead>\n",
              "<tbody>\n",
              "\t<tr><th scope=row>Matemática</th><td> 8</td><td>10.0</td><td>7.5</td></tr>\n",
              "\t<tr><th scope=row>Português</th><td>10</td><td> 2.0</td><td>8.0</td></tr>\n",
              "\t<tr><th scope=row>Inglês</th><td> 4</td><td> 0.5</td><td>7.0</td></tr>\n",
              "\t<tr><th scope=row>Geografia</th><td> 8</td><td> 1.0</td><td>8.0</td></tr>\n",
              "\t<tr><th scope=row>História</th><td> 6</td><td> 3.0</td><td>8.0</td></tr>\n",
              "\t<tr><th scope=row>Física</th><td>10</td><td> 9.5</td><td>8.5</td></tr>\n",
              "\t<tr><th scope=row>Química</th><td> 8</td><td>10.0</td><td>7.0</td></tr>\n",
              "</tbody>\n",
              "</table>\n"
            ],
            "text/latex": [
              "A data.frame: 7 × 3\n",
              "\\begin{tabular}{r|lll}\n",
              "  & Fulano & Beltrana & Sicrano\\\\\n",
              "  & <dbl> & <dbl> & <dbl>\\\\\n",
              "\\hline\n",
              "\tMatemática &  8 & 10.0 & 7.5\\\\\n",
              "\tPortuguês & 10 &  2.0 & 8.0\\\\\n",
              "\tInglês &  4 &  0.5 & 7.0\\\\\n",
              "\tGeografia &  8 &  1.0 & 8.0\\\\\n",
              "\tHistória &  6 &  3.0 & 8.0\\\\\n",
              "\tFísica & 10 &  9.5 & 8.5\\\\\n",
              "\tQuímica &  8 & 10.0 & 7.0\\\\\n",
              "\\end{tabular}\n"
            ],
            "text/markdown": [
              "\n",
              "A data.frame: 7 × 3\n",
              "\n",
              "| <!--/--> | Fulano &lt;dbl&gt; | Beltrana &lt;dbl&gt; | Sicrano &lt;dbl&gt; |\n",
              "|---|---|---|---|\n",
              "| Matemática |  8 | 10.0 | 7.5 |\n",
              "| Português | 10 |  2.0 | 8.0 |\n",
              "| Inglês |  4 |  0.5 | 7.0 |\n",
              "| Geografia |  8 |  1.0 | 8.0 |\n",
              "| História |  6 |  3.0 | 8.0 |\n",
              "| Física | 10 |  9.5 | 8.5 |\n",
              "| Química |  8 | 10.0 | 7.0 |\n",
              "\n"
            ],
            "text/plain": [
              "           Fulano Beltrana Sicrano\n",
              "Matemática  8     10.0     7.5    \n",
              "Português  10      2.0     8.0    \n",
              "Inglês      4      0.5     7.0    \n",
              "Geografia   8      1.0     8.0    \n",
              "História    6      3.0     8.0    \n",
              "Física     10      9.5     8.5    \n",
              "Química     8     10.0     7.0    "
            ]
          },
          "metadata": {},
          "output_type": "display_data"
        }
      ],
      "source": [
        "df"
      ]
    },
    {
      "cell_type": "code",
      "execution_count": null,
      "metadata": {
        "colab": {
          "base_uri": "https://localhost:8080/",
          "height": 139
        },
        "id": "H96jrKpprpK7",
        "outputId": "06f98ea1-7119-4dde-b736-d27689a2fe6f"
      },
      "outputs": [
        {
          "data": {
            "text/plain": [
              "     Fulano          Beltrana         Sicrano     \n",
              " Min.   : 4.000   Min.   : 0.500   Min.   :7.000  \n",
              " 1st Qu.: 7.000   1st Qu.: 1.500   1st Qu.:7.250  \n",
              " Median : 8.000   Median : 3.000   Median :8.000  \n",
              " Mean   : 7.714   Mean   : 5.143   Mean   :7.714  \n",
              " 3rd Qu.: 9.000   3rd Qu.: 9.750   3rd Qu.:8.000  \n",
              " Max.   :10.000   Max.   :10.000   Max.   :8.500  "
            ]
          },
          "metadata": {},
          "output_type": "display_data"
        }
      ],
      "source": [
        "summary(df)"
      ]
    },
    {
      "cell_type": "code",
      "execution_count": null,
      "metadata": {
        "id": "8_Q2tOTmjQNO"
      },
      "outputs": [],
      "source": [
        "notas_fulano <- data.frame(Fulano = df$Fulano, row.names = row.names(df))\n",
        "notas_fulano"
      ]
    },
    {
      "cell_type": "code",
      "execution_count": null,
      "metadata": {
        "id": "e0_n1XBCrpK7"
      },
      "outputs": [],
      "source": [
        "nota_media_fulano <- mean(notas_fulano$Fulano)\n",
        "nota_media_fulano"
      ]
    },
    {
      "cell_type": "code",
      "execution_count": null,
      "metadata": {
        "id": "OiWDTw0ljQNQ"
      },
      "outputs": [],
      "source": [
        "notas_fulano$Desvio <- notas_fulano$Fulano - nota_media_fulano\n",
        "notas_fulano"
      ]
    },
    {
      "cell_type": "code",
      "execution_count": null,
      "metadata": {
        "id": "qQbjktz5jQNR"
      },
      "outputs": [],
      "source": [
        "notas_fulano$Desvio.Absoluto <- abs(notas_fulano$Desvio)\n",
        "notas_fulano"
      ]
    },
    {
      "cell_type": "code",
      "execution_count": null,
      "metadata": {
        "id": "53ikr8RUi7j7"
      },
      "outputs": [],
      "source": [
        "# As notas de Sicrano\n",
        "notas_sicrano <- data.frame(Sicrano = df$Sicrano, row.names = row.names(df))\n",
        "notas_sicrano"
      ]
    },
    {
      "cell_type": "code",
      "execution_count": null,
      "metadata": {
        "id": "HdcNCcS-kbSW"
      },
      "outputs": [],
      "source": [
        "notas_sicrano$Desvio <- notas_sicrano$Sicrano - nota_media_sicrano\n",
        "notas_sicrano"
      ]
    },
    {
      "cell_type": "code",
      "execution_count": null,
      "metadata": {
        "colab": {
          "base_uri": "https://localhost:8080/",
          "height": 34
        },
        "id": "U_hr07Twiqrp",
        "outputId": "ef94bcda-05f1-48db-a73e-b865317896d8"
      },
      "outputs": [
        {
          "data": {
            "text/html": [
              "7.71428571428571"
            ],
            "text/latex": [
              "7.71428571428571"
            ],
            "text/markdown": [
              "7.71428571428571"
            ],
            "text/plain": [
              "[1] 7.714286"
            ]
          },
          "metadata": {},
          "output_type": "display_data"
        }
      ],
      "source": [
        "nota_media_sicrano <- mean(notas_sicrano$Sicrano)\n",
        "nota_media_sicrano"
      ]
    },
    {
      "cell_type": "code",
      "execution_count": null,
      "metadata": {
        "id": "Nztb02wPjvwH"
      },
      "outputs": [],
      "source": [
        "notas_sicrano$Desvio.Absoluto <- abs(notas_sicrano$Desvio)\n",
        "notas_sicrano"
      ]
    },
    {
      "cell_type": "code",
      "execution_count": null,
      "metadata": {
        "colab": {
          "base_uri": "https://localhost:8080/",
          "height": 257
        },
        "id": "0R0tHXTgrpK7",
        "outputId": "cb9d3467-e693-4638-e9f4-e1c79503391b"
      },
      "outputs": [
        {
          "data": {
            "image/png": "[encoded data removed]",
            "text/plain": [
              "plot without title"
            ]
          },
          "metadata": {
            "image/png": {
              "height": 240,
              "width": 480
            }
          },
          "output_type": "display_data"
        }
      ],
      "source": [
        "ggplot(data = notas_fulano, aes(x = row.names(notas_fulano), y = Fulano)) + \n",
        "    geom_point() + \n",
        "    geom_hline(yintercept = mean(notas_fulano$Fulano), color = 'red') + \n",
        "    geom_segment(aes(x = 1, y = 10, xend = 1, yend = mean(Fulano))) + \n",
        "    geom_segment(aes(x = 2, y = 8, xend = 2, yend = mean(Fulano))) + \n",
        "    geom_segment(aes(x = 3, y = 6, xend = 3, yend = mean(Fulano))) + \n",
        "    geom_segment(aes(x = 4, y = 4, xend = 4, yend = mean(Fulano))) + \n",
        "    geom_segment(aes(x = 5, y = 8, xend = 5, yend = mean(Fulano))) + \n",
        "    geom_segment(aes(x = 6, y = 10, xend = 6, yend = mean(Fulano))) + \n",
        "    geom_segment(aes(x = 7, y = 8, xend = 7, yend = mean(Fulano)))"
      ]
    },
    {
      "cell_type": "code",
      "execution_count": null,
      "metadata": {
        "colab": {
          "base_uri": "https://localhost:8080/",
          "height": 34
        },
        "id": "m4buiQWF01xt",
        "outputId": "5cff4367-fce6-48fd-8f59-192ca69f3133"
      },
      "outputs": [
        {
          "data": {
            "text/html": [
              "1.55102040816327"
            ],
            "text/latex": [
              "1.55102040816327"
            ],
            "text/markdown": [
              "1.55102040816327"
            ],
            "text/plain": [
              "[1] 1.55102"
            ]
          },
          "metadata": {},
          "output_type": "display_data"
        }
      ],
      "source": [
        "# Desvio médio absoluto | dispersão de Fulano\n",
        "mean(notas_fulano$Desvio.Absoluto)"
      ]
    },
    {
      "cell_type": "code",
      "execution_count": null,
      "metadata": {
        "colab": {
          "base_uri": "https://localhost:8080/",
          "height": 34
        },
        "id": "vysPDV-xkKqE",
        "outputId": "94bc8c7b-ed94-49fa-a235-38581fb1974a"
      },
      "outputs": [
        {
          "data": {
            "text/html": [
              "0.469387755102041"
            ],
            "text/latex": [
              "0.469387755102041"
            ],
            "text/markdown": [
              "0.469387755102041"
            ],
            "text/plain": [
              "[1] 0.4693878"
            ]
          },
          "metadata": {},
          "output_type": "display_data"
        }
      ],
      "source": [
        "# Desvio absoluto | dispersão de Sicrano\n",
        "mean(notas_sicrano$Desvio.Absoluto)"
      ]
    },
    {
      "cell_type": "code",
      "execution_count": null,
      "metadata": {
        "id": "o2kvFZooimtp"
      },
      "outputs": [],
      "source": [
        "mean()"
      ]
    },
    {
      "cell_type": "markdown",
      "metadata": {
        "id": "lojCc6ssrpK8"
      },
      "source": [
        "### Instalando o pacote DescTools"
      ]
    },
    {
      "cell_type": "code",
      "execution_count": null,
      "metadata": {
        "id": "Rgw2_NUKrpK8"
      },
      "outputs": [],
      "source": [
        "# deu erro\n",
        "packageurl <- \"https://cran.r-project.org/src/contrib/DescTools_0.99.47.tar.gz\"\n",
        "install.packages(packageurl, repos=NULL, type=\"source\")"
      ]
    },
    {
      "cell_type": "code",
      "execution_count": null,
      "metadata": {
        "id": "Nzh16fcGrpK8"
      },
      "outputs": [],
      "source": [
        "library(DescTools)"
      ]
    },
    {
      "cell_type": "code",
      "execution_count": null,
      "metadata": {
        "id": "1PEJ_LUn01eV"
      },
      "outputs": [],
      "source": []
    },
    {
      "cell_type": "markdown",
      "metadata": {
        "id": "jSKfnKwEjQNW"
      },
      "source": [
        "## <font color=green>5.2 Variância</font>\n",
        "***"
      ]
    },
    {
      "cell_type": "markdown",
      "metadata": {
        "id": "tHD3yNqzjQNW"
      },
      "source": [
        "### Variância\n",
        "\n",
        "A variância é construída a partir das diferenças entre cada observação e a média dos dados, ou seja, o desvio em torno da média. No cálculo da variância, os desvios em torno da média são elevados ao quadrado."
      ]
    },
    {
      "cell_type": "markdown",
      "metadata": {
        "id": "WrCn9hw0jQNX"
      },
      "source": [
        "### Variância populacional\n",
        "\n",
        "# $$\\sigma^2 = \\frac 1n\\sum_{i=1}^{n}(X_i-\\mu)^2$$"
      ]
    },
    {
      "cell_type": "markdown",
      "metadata": {
        "id": "jV5mQT_djQNX"
      },
      "source": [
        "### Variância amostral\n",
        "\n",
        "# $$S^2 = \\frac 1{n-1}\\sum_{i=1}^{n}(X_i-\\bar{X})^2$$"
      ]
    },
    {
      "cell_type": "markdown",
      "metadata": {
        "id": "QpYtw78crpK9"
      },
      "source": [
        "### <font color=red>Documentações:\n",
        "\n",
        "- [**var**](https://www.rdocumentation.org/packages/stats/versions/3.6.1/topics/cor)"
      ]
    },
    {
      "cell_type": "code",
      "execution_count": null,
      "metadata": {
        "colab": {
          "base_uri": "https://localhost:8080/",
          "height": 318
        },
        "id": "4tlbCQeujQNZ",
        "outputId": "b2797cf7-26c8-4027-e7c2-ef84838c17c4"
      },
      "outputs": [
        {
          "data": {
            "text/html": [
              "<table class=\"dataframe\">\n",
              "<caption>A data.frame: 7 × 4</caption>\n",
              "<thead>\n",
              "\t<tr><th></th><th scope=col>Fulano</th><th scope=col>Desvio</th><th scope=col>Desvio.Absoluto</th><th scope=col>Desvio2</th></tr>\n",
              "\t<tr><th></th><th scope=col>&lt;dbl&gt;</th><th scope=col>&lt;dbl&gt;</th><th scope=col>&lt;dbl&gt;</th><th scope=col>&lt;dbl&gt;</th></tr>\n",
              "</thead>\n",
              "<tbody>\n",
              "\t<tr><th scope=row>Matemática</th><td> 8</td><td> 0.2857143</td><td>0.2857143</td><td> 0.08163265</td></tr>\n",
              "\t<tr><th scope=row>Português</th><td>10</td><td> 2.2857143</td><td>2.2857143</td><td> 5.22448980</td></tr>\n",
              "\t<tr><th scope=row>Inglês</th><td> 4</td><td>-3.7142857</td><td>3.7142857</td><td>13.79591837</td></tr>\n",
              "\t<tr><th scope=row>Geografia</th><td> 8</td><td> 0.2857143</td><td>0.2857143</td><td> 0.08163265</td></tr>\n",
              "\t<tr><th scope=row>História</th><td> 6</td><td>-1.7142857</td><td>1.7142857</td><td> 2.93877551</td></tr>\n",
              "\t<tr><th scope=row>Física</th><td>10</td><td> 2.2857143</td><td>2.2857143</td><td> 5.22448980</td></tr>\n",
              "\t<tr><th scope=row>Química</th><td> 8</td><td> 0.2857143</td><td>0.2857143</td><td> 0.08163265</td></tr>\n",
              "</tbody>\n",
              "</table>\n"
            ],
            "text/latex": [
              "A data.frame: 7 × 4\n",
              "\\begin{tabular}{r|llll}\n",
              "  & Fulano & Desvio & Desvio.Absoluto & Desvio2\\\\\n",
              "  & <dbl> & <dbl> & <dbl> & <dbl>\\\\\n",
              "\\hline\n",
              "\tMatemática &  8 &  0.2857143 & 0.2857143 &  0.08163265\\\\\n",
              "\tPortuguês & 10 &  2.2857143 & 2.2857143 &  5.22448980\\\\\n",
              "\tInglês &  4 & -3.7142857 & 3.7142857 & 13.79591837\\\\\n",
              "\tGeografia &  8 &  0.2857143 & 0.2857143 &  0.08163265\\\\\n",
              "\tHistória &  6 & -1.7142857 & 1.7142857 &  2.93877551\\\\\n",
              "\tFísica & 10 &  2.2857143 & 2.2857143 &  5.22448980\\\\\n",
              "\tQuímica &  8 &  0.2857143 & 0.2857143 &  0.08163265\\\\\n",
              "\\end{tabular}\n"
            ],
            "text/markdown": [
              "\n",
              "A data.frame: 7 × 4\n",
              "\n",
              "| <!--/--> | Fulano &lt;dbl&gt; | Desvio &lt;dbl&gt; | Desvio.Absoluto &lt;dbl&gt; | Desvio2 &lt;dbl&gt; |\n",
              "|---|---|---|---|---|\n",
              "| Matemática |  8 |  0.2857143 | 0.2857143 |  0.08163265 |\n",
              "| Português | 10 |  2.2857143 | 2.2857143 |  5.22448980 |\n",
              "| Inglês |  4 | -3.7142857 | 3.7142857 | 13.79591837 |\n",
              "| Geografia |  8 |  0.2857143 | 0.2857143 |  0.08163265 |\n",
              "| História |  6 | -1.7142857 | 1.7142857 |  2.93877551 |\n",
              "| Física | 10 |  2.2857143 | 2.2857143 |  5.22448980 |\n",
              "| Química |  8 |  0.2857143 | 0.2857143 |  0.08163265 |\n",
              "\n"
            ],
            "text/plain": [
              "           Fulano Desvio     Desvio.Absoluto Desvio2    \n",
              "Matemática  8      0.2857143 0.2857143        0.08163265\n",
              "Português  10      2.2857143 2.2857143        5.22448980\n",
              "Inglês      4     -3.7142857 3.7142857       13.79591837\n",
              "Geografia   8      0.2857143 0.2857143        0.08163265\n",
              "História    6     -1.7142857 1.7142857        2.93877551\n",
              "Física     10      2.2857143 2.2857143        5.22448980\n",
              "Química     8      0.2857143 0.2857143        0.08163265"
            ]
          },
          "metadata": {},
          "output_type": "display_data"
        }
      ],
      "source": [
        "notas_fulano$Desvio2 <- notas_fulano$Desvio ^ 2\n",
        "notas_fulano"
      ]
    },
    {
      "cell_type": "code",
      "execution_count": null,
      "metadata": {
        "id": "oCcAfoIOjQNa"
      },
      "outputs": [],
      "source": [
        "# Variância amostral\n",
        "sum(notas_fulano$Desvio2) / (nrow(notas_fulano) - 1)"
      ]
    },
    {
      "cell_type": "code",
      "execution_count": null,
      "metadata": {
        "id": "EyrfPHLtjQNb"
      },
      "outputs": [],
      "source": [
        "variancia <- var(notas_fulano$Fulano)\n",
        "variancia"
      ]
    },
    {
      "cell_type": "markdown",
      "metadata": {
        "id": "wQl_CsytjQNg"
      },
      "source": [
        "## <font color=green>5.3 Desvio padrão</font>\n",
        "***\n",
        "\n",
        "Uma das restrições da variância é o fato de fornecer medidas em quadrados das unidades originais - a variância de medidas de comprimento, por exemplo, é em unidades de área. Logo, o fato de as unidades serem diferentes dificulta a comparação da dispersão com as variáveis que a definem. Um modo de eliminar essa dificuldade é considerar sua raiz quadrada."
      ]
    },
    {
      "cell_type": "markdown",
      "metadata": {
        "id": "X9w1Iqt3jQNg"
      },
      "source": [
        "### Desvio padrão populacional\n",
        "\n",
        "# $$\\sigma = \\sqrt{\\frac 1n\\sum_{i=1}^{n}(X_i-\\mu)^2} \\Longrightarrow \\sigma = \\sqrt{\\sigma^2}$$"
      ]
    },
    {
      "cell_type": "markdown",
      "metadata": {
        "id": "D3J4MvMpjQNg"
      },
      "source": [
        "### Desvio padrão amostral\n",
        "\n",
        "# $$S = \\sqrt{\\frac 1{n-1}\\sum_{i=1}^{n}(X_i-\\bar{X})^2} \\Longrightarrow S = \\sqrt{S^2}$$"
      ]
    },
    {
      "cell_type": "markdown",
      "metadata": {
        "id": "CqvElZFdrpK-"
      },
      "source": [
        "### <font color=red>Documentações:\n",
        "\n",
        "- [**sd**](https://www.rdocumentation.org/packages/stats/versions/3.6.1/topics/sd)\n",
        "- [**summary**](https://www.rdocumentation.org/packages/base/versions/3.6.1/topics/summary)"
      ]
    },
    {
      "cell_type": "code",
      "execution_count": null,
      "metadata": {
        "id": "2di6iLFaSPda"
      },
      "outputs": [],
      "source": [
        "# Desvio padrão das notas de fulano\n",
        "sqrt(variancia)"
      ]
    },
    {
      "cell_type": "code",
      "execution_count": null,
      "metadata": {
        "id": "BMTx9yKHSPON"
      },
      "outputs": [],
      "source": [
        "desvio_padrao <- sd(notas_fulano$Fulano)\n",
        "desvio_padrao "
      ]
    },
    {
      "cell_type": "code",
      "execution_count": null,
      "metadata": {
        "id": "_PeQtqbdjQNh"
      },
      "outputs": [],
      "source": [
        "df"
      ]
    },
    {
      "cell_type": "code",
      "execution_count": null,
      "metadata": {
        "colab": {
          "base_uri": "https://localhost:8080/",
          "height": 139
        },
        "id": "5LYOKy25jQNi",
        "outputId": "1f4de4c0-90f4-40f5-f218-56f102b195f7"
      },
      "outputs": [
        {
          "data": {
            "text/plain": [
              "     Fulano          Beltrana         Sicrano     \n",
              " Min.   : 4.000   Min.   : 0.500   Min.   :7.000  \n",
              " 1st Qu.: 7.000   1st Qu.: 1.500   1st Qu.:7.250  \n",
              " Median : 8.000   Median : 3.000   Median :8.000  \n",
              " Mean   : 7.714   Mean   : 5.143   Mean   :7.714  \n",
              " 3rd Qu.: 9.000   3rd Qu.: 9.750   3rd Qu.:8.000  \n",
              " Max.   :10.000   Max.   :10.000   Max.   :8.500  "
            ]
          },
          "metadata": {},
          "output_type": "display_data"
        }
      ],
      "source": [
        " summary(df)"
      ]
    },
    {
      "cell_type": "code",
      "execution_count": null,
      "metadata": {
        "id": "G8vorygCjQNk"
      },
      "outputs": [],
      "source": [
        "Moda(df$Fulano)\n",
        "Moda(df$Sicrano)"
      ]
    },
    {
      "cell_type": "code",
      "execution_count": null,
      "metadata": {
        "colab": {
          "base_uri": "https://localhost:8080/",
          "height": 52
        },
        "id": "01op3BEvjQNl",
        "outputId": "e861c102-f81a-414a-d13a-54f6c041e20c"
      },
      "outputs": [
        {
          "data": {
            "text/html": [
              "2.1380899352994"
            ],
            "text/latex": [
              "2.1380899352994"
            ],
            "text/markdown": [
              "2.1380899352994"
            ],
            "text/plain": [
              "[1] 2.13809"
            ]
          },
          "metadata": {},
          "output_type": "display_data"
        },
        {
          "data": {
            "text/html": [
              "0.566946709513841"
            ],
            "text/latex": [
              "0.566946709513841"
            ],
            "text/markdown": [
              "0.566946709513841"
            ],
            "text/plain": [
              "[1] 0.5669467"
            ]
          },
          "metadata": {},
          "output_type": "display_data"
        }
      ],
      "source": [
        "sd(df$Fulano) # Notas mais dispersas, umas muito boas outras ruins\n",
        "sd(df$Sicrano) # Notas mais constantes"
      ]
    },
    {
      "cell_type": "code",
      "execution_count": null,
      "metadata": {
        "id": "aiUvZluhUx-0"
      },
      "outputs": [],
      "source": []
    }
  ],
  "metadata": {
    "colab": {
      "collapsed_sections": [
        "oB4TCBFojQKt",
        "7mMXLTukjQK-",
        "J0L2OkaQjQK7",
        "d_LW5gMIjQK_",
        "SsN3ikjqjQLB",
        "D82ocp_djQLR",
        "jmN6g_t4rpKa",
        "xosKlLE-rpKb",
        "wxsSD-VVjQLb",
        "IQhlvrQUjQLk",
        "HJPly2uyrpKe",
        "5eO-RhaljQL6",
        "Js9iLwNkjQME",
        "rVb65YVVrpKh",
        "Wrya4suEX7H-",
        "kcHJFW-YjQMP",
        "pbJcrBa3rpKl",
        "9geu3UcKjQMS",
        "WVYFwhwprpKp",
        "e0IuYdJFjQMT",
        "hQHyjfLkjQMe",
        "viBct9RZrpKr",
        "nK27TxrkjQMl",
        "3o1WhP86rpKw",
        "WazchssNjQM1",
        "eS4I2H7jjQM7",
        "tHD3yNqzjQNW",
        "WrCn9hw0jQNX",
        "jV5mQT_djQNX",
        "X9w1Iqt3jQNg",
        "D3J4MvMpjQNg"
      ],
      "provenance": []
    },
    "gpuClass": "standard",
    "kernelspec": {
      "display_name": "Python 3.10.8 64-bit",
      "language": "python",
      "name": "python3"
    },
    "language_info": {
      "codemirror_mode": "r",
      "file_extension": ".r",
      "mimetype": "text/x-r-source",
      "name": "python",
      "pygments_lexer": "r",
      "version": "3.10.8"
    },
    "vscode": {
      "interpreter": {
        "hash": "97cc609b13305c559618ec78a438abc56230b9381f827f22d070313b9a1f3777"
      }
    }
  },
  "nbformat": 4,
  "nbformat_minor": 0
}
